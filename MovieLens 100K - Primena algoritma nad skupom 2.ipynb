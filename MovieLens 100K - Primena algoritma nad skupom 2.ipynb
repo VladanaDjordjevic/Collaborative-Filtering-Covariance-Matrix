{
 "cells": [
  {
   "cell_type": "markdown",
   "metadata": {},
   "source": [
    "# MovieLens 100K: Sistem preporuka zasnovan na uzajamnom filtriranju koristeći matricu kovarijansi"
   ]
  },
  {
   "cell_type": "markdown",
   "metadata": {},
   "source": [
    "Sistem preporuka je sistem koji preporučuje proizvode korisniku za koje smatra da su mu od značaja. Ovi sistemi su široko rasprostranjeni i korišćeni u različitim sferama života. Postoji više različitih vrsta takvih sistema, ovde će biti korišćen sistem zasnovan na **uzajamnom filtriranju**. Osnovna ideja uzajamnog filtriranja je da ako su korisnici imali slična interesovanja u prošlosti imaće slična interesovanja i u budućnosti, tj. da prethodno ponašanje korisnika ima ogroman uticaj na njegovo buduće ponašanje. "
   ]
  },
  {
   "cell_type": "markdown",
   "metadata": {},
   "source": [
    "Kako se ocenjuje sličnost među korisnicima? Konstruiše se matrica sličnosti, gde se sličnost može izračunati korišćenjem različitih metrika. Među korišćenim metrikama najpopularnije su kosinusna funkcija sličnosti, Pirsonov koeficijent korelacije, Žakardov indeks, razlika srednjih kvadrata, kombinacija razlike srednjih kvadrata i Žakardovog indeksa, itd. Međutim, ovakav pristup uzajamnom filtriranju može imati nekoliko problema:\n",
    "\n",
    "**1) Kvalitet sistema preporuka zasnovanom na uzajamnom filtriranju može umnogome zavisiti od retkosti podataka.**\n",
    "\n",
    "**2) Sistem se teško prilagođava situaciji kada se interesovanja korisnika menjaju tokom vremena.**\n",
    "\n",
    "**3) Sistem preporučuje slične proizvode korisniku ignorišiću korisnikovu potrebu za raznolikošću.**"
   ]
  },
  {
   "cell_type": "markdown",
   "metadata": {},
   "source": [
    "Zbog navedenih problema preporučen je novi pristup uzajamnom filtriranju koji se ne zasniva na matrici sličnosti među korisnicima, nego na matrici kovarijansi. Ovaj rad je zasnovan na naučnom radu koji se može pronaći na sledećoj adresi: https://www.hindawi.com/journals/mpe/2018/9740402/.\n",
    "\n",
    "U njemu je predložen algoritam CFCM (Collaborative Filtering Covariance Matrix) kojim se rešavaju prethodno navedeni problemi i poboljšava se kvalitet preporuka. Naš zadatak je da implementiramo navedeni algoritam i da evaluiramo njegove performanse."
   ]
  },
  {
   "cell_type": "code",
   "execution_count": 1,
   "metadata": {},
   "outputs": [],
   "source": [
    "import pandas as pd\n",
    "import numpy as np\n",
    "from matplotlib import pyplot as plt"
   ]
  },
  {
   "cell_type": "markdown",
   "metadata": {},
   "source": [
    "Koristićemo dostupan skup podataka pod imenom MovieLens u veličini od 100 000. Skup podataka se može naći na: https://grouplens.org/datasets/movielens/100k/."
   ]
  },
  {
   "cell_type": "markdown",
   "metadata": {},
   "source": [
    "U naučnom radu na kome se zasniva ovaj rad korišćen je skup podataka MovieLens 1M, koji se sastoji od jednog miliona podataka. Mi smo istraživanje odradile na ovom skupu od 100 000 zbog hardverskih ograničenja, ali i zbog već dostupnih trening i test podataka."
   ]
  },
  {
   "cell_type": "code",
   "execution_count": 2,
   "metadata": {},
   "outputs": [],
   "source": [
    "header = ['user', 'item', 'rating', 'timestamp']"
   ]
  },
  {
   "cell_type": "markdown",
   "metadata": {},
   "source": [
    "Učitavamo ceo skup podataka."
   ]
  },
  {
   "cell_type": "code",
   "execution_count": 3,
   "metadata": {},
   "outputs": [],
   "source": [
    "data = pd.read_csv('ml-100k/u.data', sep = '\\\\t', names = header, engine = 'python')"
   ]
  },
  {
   "cell_type": "code",
   "execution_count": 4,
   "metadata": {},
   "outputs": [
    {
     "data": {
      "text/html": [
       "<div>\n",
       "<style scoped>\n",
       "    .dataframe tbody tr th:only-of-type {\n",
       "        vertical-align: middle;\n",
       "    }\n",
       "\n",
       "    .dataframe tbody tr th {\n",
       "        vertical-align: top;\n",
       "    }\n",
       "\n",
       "    .dataframe thead th {\n",
       "        text-align: right;\n",
       "    }\n",
       "</style>\n",
       "<table border=\"1\" class=\"dataframe\">\n",
       "  <thead>\n",
       "    <tr style=\"text-align: right;\">\n",
       "      <th></th>\n",
       "      <th>user</th>\n",
       "      <th>item</th>\n",
       "      <th>rating</th>\n",
       "      <th>timestamp</th>\n",
       "    </tr>\n",
       "  </thead>\n",
       "  <tbody>\n",
       "    <tr>\n",
       "      <th>0</th>\n",
       "      <td>196</td>\n",
       "      <td>242</td>\n",
       "      <td>3</td>\n",
       "      <td>881250949</td>\n",
       "    </tr>\n",
       "    <tr>\n",
       "      <th>1</th>\n",
       "      <td>186</td>\n",
       "      <td>302</td>\n",
       "      <td>3</td>\n",
       "      <td>891717742</td>\n",
       "    </tr>\n",
       "    <tr>\n",
       "      <th>2</th>\n",
       "      <td>22</td>\n",
       "      <td>377</td>\n",
       "      <td>1</td>\n",
       "      <td>878887116</td>\n",
       "    </tr>\n",
       "    <tr>\n",
       "      <th>3</th>\n",
       "      <td>244</td>\n",
       "      <td>51</td>\n",
       "      <td>2</td>\n",
       "      <td>880606923</td>\n",
       "    </tr>\n",
       "    <tr>\n",
       "      <th>4</th>\n",
       "      <td>166</td>\n",
       "      <td>346</td>\n",
       "      <td>1</td>\n",
       "      <td>886397596</td>\n",
       "    </tr>\n",
       "  </tbody>\n",
       "</table>\n",
       "</div>"
      ],
      "text/plain": [
       "   user  item  rating  timestamp\n",
       "0   196   242       3  881250949\n",
       "1   186   302       3  891717742\n",
       "2    22   377       1  878887116\n",
       "3   244    51       2  880606923\n",
       "4   166   346       1  886397596"
      ]
     },
     "execution_count": 4,
     "metadata": {},
     "output_type": "execute_result"
    }
   ],
   "source": [
    "data.head()"
   ]
  },
  {
   "cell_type": "code",
   "execution_count": 5,
   "metadata": {},
   "outputs": [
    {
     "name": "stdout",
     "output_type": "stream",
     "text": [
      "<class 'pandas.core.frame.DataFrame'>\n",
      "RangeIndex: 100000 entries, 0 to 99999\n",
      "Data columns (total 4 columns):\n",
      " #   Column     Non-Null Count   Dtype\n",
      "---  ------     --------------   -----\n",
      " 0   user       100000 non-null  int64\n",
      " 1   item       100000 non-null  int64\n",
      " 2   rating     100000 non-null  int64\n",
      " 3   timestamp  100000 non-null  int64\n",
      "dtypes: int64(4)\n",
      "memory usage: 3.1 MB\n"
     ]
    }
   ],
   "source": [
    "data.info()"
   ]
  },
  {
   "cell_type": "markdown",
   "metadata": {},
   "source": [
    "Proveravamo koliko različitih korisnika i filmova imamo."
   ]
  },
  {
   "cell_type": "code",
   "execution_count": 6,
   "metadata": {},
   "outputs": [
    {
     "data": {
      "text/plain": [
       "943"
      ]
     },
     "execution_count": 6,
     "metadata": {},
     "output_type": "execute_result"
    }
   ],
   "source": [
    "number_of_users = data['user'].unique().shape[0]\n",
    "number_of_users"
   ]
  },
  {
   "cell_type": "code",
   "execution_count": 7,
   "metadata": {},
   "outputs": [
    {
     "data": {
      "text/plain": [
       "1682"
      ]
     },
     "execution_count": 7,
     "metadata": {},
     "output_type": "execute_result"
    }
   ],
   "source": [
    "number_of_items = data['item'].unique().shape[0]\n",
    "number_of_items"
   ]
  },
  {
   "cell_type": "markdown",
   "metadata": {},
   "source": [
    "Formiramo USER-ITEM matricu podataka. Redovi predstavljaju korisnike, a kolone filmove, dok polja matrice odgovaraju ocenama koje je odgovarajući korisnik dao odgovarajućem filmu."
   ]
  },
  {
   "cell_type": "code",
   "execution_count": 8,
   "metadata": {},
   "outputs": [],
   "source": [
    "ui_matrix = pd.pivot_table(data, index = 'user', columns = 'item', values = 'rating')"
   ]
  },
  {
   "cell_type": "code",
   "execution_count": 9,
   "metadata": {},
   "outputs": [
    {
     "data": {
      "text/html": [
       "<div>\n",
       "<style scoped>\n",
       "    .dataframe tbody tr th:only-of-type {\n",
       "        vertical-align: middle;\n",
       "    }\n",
       "\n",
       "    .dataframe tbody tr th {\n",
       "        vertical-align: top;\n",
       "    }\n",
       "\n",
       "    .dataframe thead th {\n",
       "        text-align: right;\n",
       "    }\n",
       "</style>\n",
       "<table border=\"1\" class=\"dataframe\">\n",
       "  <thead>\n",
       "    <tr style=\"text-align: right;\">\n",
       "      <th>item</th>\n",
       "      <th>1</th>\n",
       "      <th>2</th>\n",
       "      <th>3</th>\n",
       "      <th>4</th>\n",
       "      <th>5</th>\n",
       "      <th>6</th>\n",
       "      <th>7</th>\n",
       "      <th>8</th>\n",
       "      <th>9</th>\n",
       "      <th>10</th>\n",
       "      <th>...</th>\n",
       "      <th>1673</th>\n",
       "      <th>1674</th>\n",
       "      <th>1675</th>\n",
       "      <th>1676</th>\n",
       "      <th>1677</th>\n",
       "      <th>1678</th>\n",
       "      <th>1679</th>\n",
       "      <th>1680</th>\n",
       "      <th>1681</th>\n",
       "      <th>1682</th>\n",
       "    </tr>\n",
       "    <tr>\n",
       "      <th>user</th>\n",
       "      <th></th>\n",
       "      <th></th>\n",
       "      <th></th>\n",
       "      <th></th>\n",
       "      <th></th>\n",
       "      <th></th>\n",
       "      <th></th>\n",
       "      <th></th>\n",
       "      <th></th>\n",
       "      <th></th>\n",
       "      <th></th>\n",
       "      <th></th>\n",
       "      <th></th>\n",
       "      <th></th>\n",
       "      <th></th>\n",
       "      <th></th>\n",
       "      <th></th>\n",
       "      <th></th>\n",
       "      <th></th>\n",
       "      <th></th>\n",
       "      <th></th>\n",
       "    </tr>\n",
       "  </thead>\n",
       "  <tbody>\n",
       "    <tr>\n",
       "      <th>1</th>\n",
       "      <td>5.0</td>\n",
       "      <td>3.0</td>\n",
       "      <td>4.0</td>\n",
       "      <td>3.0</td>\n",
       "      <td>3.0</td>\n",
       "      <td>5.0</td>\n",
       "      <td>4.0</td>\n",
       "      <td>1.0</td>\n",
       "      <td>5.0</td>\n",
       "      <td>3.0</td>\n",
       "      <td>...</td>\n",
       "      <td>NaN</td>\n",
       "      <td>NaN</td>\n",
       "      <td>NaN</td>\n",
       "      <td>NaN</td>\n",
       "      <td>NaN</td>\n",
       "      <td>NaN</td>\n",
       "      <td>NaN</td>\n",
       "      <td>NaN</td>\n",
       "      <td>NaN</td>\n",
       "      <td>NaN</td>\n",
       "    </tr>\n",
       "    <tr>\n",
       "      <th>2</th>\n",
       "      <td>4.0</td>\n",
       "      <td>NaN</td>\n",
       "      <td>NaN</td>\n",
       "      <td>NaN</td>\n",
       "      <td>NaN</td>\n",
       "      <td>NaN</td>\n",
       "      <td>NaN</td>\n",
       "      <td>NaN</td>\n",
       "      <td>NaN</td>\n",
       "      <td>2.0</td>\n",
       "      <td>...</td>\n",
       "      <td>NaN</td>\n",
       "      <td>NaN</td>\n",
       "      <td>NaN</td>\n",
       "      <td>NaN</td>\n",
       "      <td>NaN</td>\n",
       "      <td>NaN</td>\n",
       "      <td>NaN</td>\n",
       "      <td>NaN</td>\n",
       "      <td>NaN</td>\n",
       "      <td>NaN</td>\n",
       "    </tr>\n",
       "    <tr>\n",
       "      <th>3</th>\n",
       "      <td>NaN</td>\n",
       "      <td>NaN</td>\n",
       "      <td>NaN</td>\n",
       "      <td>NaN</td>\n",
       "      <td>NaN</td>\n",
       "      <td>NaN</td>\n",
       "      <td>NaN</td>\n",
       "      <td>NaN</td>\n",
       "      <td>NaN</td>\n",
       "      <td>NaN</td>\n",
       "      <td>...</td>\n",
       "      <td>NaN</td>\n",
       "      <td>NaN</td>\n",
       "      <td>NaN</td>\n",
       "      <td>NaN</td>\n",
       "      <td>NaN</td>\n",
       "      <td>NaN</td>\n",
       "      <td>NaN</td>\n",
       "      <td>NaN</td>\n",
       "      <td>NaN</td>\n",
       "      <td>NaN</td>\n",
       "    </tr>\n",
       "    <tr>\n",
       "      <th>4</th>\n",
       "      <td>NaN</td>\n",
       "      <td>NaN</td>\n",
       "      <td>NaN</td>\n",
       "      <td>NaN</td>\n",
       "      <td>NaN</td>\n",
       "      <td>NaN</td>\n",
       "      <td>NaN</td>\n",
       "      <td>NaN</td>\n",
       "      <td>NaN</td>\n",
       "      <td>NaN</td>\n",
       "      <td>...</td>\n",
       "      <td>NaN</td>\n",
       "      <td>NaN</td>\n",
       "      <td>NaN</td>\n",
       "      <td>NaN</td>\n",
       "      <td>NaN</td>\n",
       "      <td>NaN</td>\n",
       "      <td>NaN</td>\n",
       "      <td>NaN</td>\n",
       "      <td>NaN</td>\n",
       "      <td>NaN</td>\n",
       "    </tr>\n",
       "    <tr>\n",
       "      <th>5</th>\n",
       "      <td>4.0</td>\n",
       "      <td>3.0</td>\n",
       "      <td>NaN</td>\n",
       "      <td>NaN</td>\n",
       "      <td>NaN</td>\n",
       "      <td>NaN</td>\n",
       "      <td>NaN</td>\n",
       "      <td>NaN</td>\n",
       "      <td>NaN</td>\n",
       "      <td>NaN</td>\n",
       "      <td>...</td>\n",
       "      <td>NaN</td>\n",
       "      <td>NaN</td>\n",
       "      <td>NaN</td>\n",
       "      <td>NaN</td>\n",
       "      <td>NaN</td>\n",
       "      <td>NaN</td>\n",
       "      <td>NaN</td>\n",
       "      <td>NaN</td>\n",
       "      <td>NaN</td>\n",
       "      <td>NaN</td>\n",
       "    </tr>\n",
       "    <tr>\n",
       "      <th>...</th>\n",
       "      <td>...</td>\n",
       "      <td>...</td>\n",
       "      <td>...</td>\n",
       "      <td>...</td>\n",
       "      <td>...</td>\n",
       "      <td>...</td>\n",
       "      <td>...</td>\n",
       "      <td>...</td>\n",
       "      <td>...</td>\n",
       "      <td>...</td>\n",
       "      <td>...</td>\n",
       "      <td>...</td>\n",
       "      <td>...</td>\n",
       "      <td>...</td>\n",
       "      <td>...</td>\n",
       "      <td>...</td>\n",
       "      <td>...</td>\n",
       "      <td>...</td>\n",
       "      <td>...</td>\n",
       "      <td>...</td>\n",
       "      <td>...</td>\n",
       "    </tr>\n",
       "    <tr>\n",
       "      <th>939</th>\n",
       "      <td>NaN</td>\n",
       "      <td>NaN</td>\n",
       "      <td>NaN</td>\n",
       "      <td>NaN</td>\n",
       "      <td>NaN</td>\n",
       "      <td>NaN</td>\n",
       "      <td>NaN</td>\n",
       "      <td>NaN</td>\n",
       "      <td>5.0</td>\n",
       "      <td>NaN</td>\n",
       "      <td>...</td>\n",
       "      <td>NaN</td>\n",
       "      <td>NaN</td>\n",
       "      <td>NaN</td>\n",
       "      <td>NaN</td>\n",
       "      <td>NaN</td>\n",
       "      <td>NaN</td>\n",
       "      <td>NaN</td>\n",
       "      <td>NaN</td>\n",
       "      <td>NaN</td>\n",
       "      <td>NaN</td>\n",
       "    </tr>\n",
       "    <tr>\n",
       "      <th>940</th>\n",
       "      <td>NaN</td>\n",
       "      <td>NaN</td>\n",
       "      <td>NaN</td>\n",
       "      <td>2.0</td>\n",
       "      <td>NaN</td>\n",
       "      <td>NaN</td>\n",
       "      <td>4.0</td>\n",
       "      <td>5.0</td>\n",
       "      <td>3.0</td>\n",
       "      <td>NaN</td>\n",
       "      <td>...</td>\n",
       "      <td>NaN</td>\n",
       "      <td>NaN</td>\n",
       "      <td>NaN</td>\n",
       "      <td>NaN</td>\n",
       "      <td>NaN</td>\n",
       "      <td>NaN</td>\n",
       "      <td>NaN</td>\n",
       "      <td>NaN</td>\n",
       "      <td>NaN</td>\n",
       "      <td>NaN</td>\n",
       "    </tr>\n",
       "    <tr>\n",
       "      <th>941</th>\n",
       "      <td>5.0</td>\n",
       "      <td>NaN</td>\n",
       "      <td>NaN</td>\n",
       "      <td>NaN</td>\n",
       "      <td>NaN</td>\n",
       "      <td>NaN</td>\n",
       "      <td>4.0</td>\n",
       "      <td>NaN</td>\n",
       "      <td>NaN</td>\n",
       "      <td>NaN</td>\n",
       "      <td>...</td>\n",
       "      <td>NaN</td>\n",
       "      <td>NaN</td>\n",
       "      <td>NaN</td>\n",
       "      <td>NaN</td>\n",
       "      <td>NaN</td>\n",
       "      <td>NaN</td>\n",
       "      <td>NaN</td>\n",
       "      <td>NaN</td>\n",
       "      <td>NaN</td>\n",
       "      <td>NaN</td>\n",
       "    </tr>\n",
       "    <tr>\n",
       "      <th>942</th>\n",
       "      <td>NaN</td>\n",
       "      <td>NaN</td>\n",
       "      <td>NaN</td>\n",
       "      <td>NaN</td>\n",
       "      <td>NaN</td>\n",
       "      <td>NaN</td>\n",
       "      <td>NaN</td>\n",
       "      <td>NaN</td>\n",
       "      <td>NaN</td>\n",
       "      <td>NaN</td>\n",
       "      <td>...</td>\n",
       "      <td>NaN</td>\n",
       "      <td>NaN</td>\n",
       "      <td>NaN</td>\n",
       "      <td>NaN</td>\n",
       "      <td>NaN</td>\n",
       "      <td>NaN</td>\n",
       "      <td>NaN</td>\n",
       "      <td>NaN</td>\n",
       "      <td>NaN</td>\n",
       "      <td>NaN</td>\n",
       "    </tr>\n",
       "    <tr>\n",
       "      <th>943</th>\n",
       "      <td>NaN</td>\n",
       "      <td>5.0</td>\n",
       "      <td>NaN</td>\n",
       "      <td>NaN</td>\n",
       "      <td>NaN</td>\n",
       "      <td>NaN</td>\n",
       "      <td>NaN</td>\n",
       "      <td>NaN</td>\n",
       "      <td>3.0</td>\n",
       "      <td>NaN</td>\n",
       "      <td>...</td>\n",
       "      <td>NaN</td>\n",
       "      <td>NaN</td>\n",
       "      <td>NaN</td>\n",
       "      <td>NaN</td>\n",
       "      <td>NaN</td>\n",
       "      <td>NaN</td>\n",
       "      <td>NaN</td>\n",
       "      <td>NaN</td>\n",
       "      <td>NaN</td>\n",
       "      <td>NaN</td>\n",
       "    </tr>\n",
       "  </tbody>\n",
       "</table>\n",
       "<p>943 rows × 1682 columns</p>\n",
       "</div>"
      ],
      "text/plain": [
       "item  1     2     3     4     5     6     7     8     9     10    ...  1673  \\\n",
       "user                                                              ...         \n",
       "1      5.0   3.0   4.0   3.0   3.0   5.0   4.0   1.0   5.0   3.0  ...   NaN   \n",
       "2      4.0   NaN   NaN   NaN   NaN   NaN   NaN   NaN   NaN   2.0  ...   NaN   \n",
       "3      NaN   NaN   NaN   NaN   NaN   NaN   NaN   NaN   NaN   NaN  ...   NaN   \n",
       "4      NaN   NaN   NaN   NaN   NaN   NaN   NaN   NaN   NaN   NaN  ...   NaN   \n",
       "5      4.0   3.0   NaN   NaN   NaN   NaN   NaN   NaN   NaN   NaN  ...   NaN   \n",
       "...    ...   ...   ...   ...   ...   ...   ...   ...   ...   ...  ...   ...   \n",
       "939    NaN   NaN   NaN   NaN   NaN   NaN   NaN   NaN   5.0   NaN  ...   NaN   \n",
       "940    NaN   NaN   NaN   2.0   NaN   NaN   4.0   5.0   3.0   NaN  ...   NaN   \n",
       "941    5.0   NaN   NaN   NaN   NaN   NaN   4.0   NaN   NaN   NaN  ...   NaN   \n",
       "942    NaN   NaN   NaN   NaN   NaN   NaN   NaN   NaN   NaN   NaN  ...   NaN   \n",
       "943    NaN   5.0   NaN   NaN   NaN   NaN   NaN   NaN   3.0   NaN  ...   NaN   \n",
       "\n",
       "item  1674  1675  1676  1677  1678  1679  1680  1681  1682  \n",
       "user                                                        \n",
       "1      NaN   NaN   NaN   NaN   NaN   NaN   NaN   NaN   NaN  \n",
       "2      NaN   NaN   NaN   NaN   NaN   NaN   NaN   NaN   NaN  \n",
       "3      NaN   NaN   NaN   NaN   NaN   NaN   NaN   NaN   NaN  \n",
       "4      NaN   NaN   NaN   NaN   NaN   NaN   NaN   NaN   NaN  \n",
       "5      NaN   NaN   NaN   NaN   NaN   NaN   NaN   NaN   NaN  \n",
       "...    ...   ...   ...   ...   ...   ...   ...   ...   ...  \n",
       "939    NaN   NaN   NaN   NaN   NaN   NaN   NaN   NaN   NaN  \n",
       "940    NaN   NaN   NaN   NaN   NaN   NaN   NaN   NaN   NaN  \n",
       "941    NaN   NaN   NaN   NaN   NaN   NaN   NaN   NaN   NaN  \n",
       "942    NaN   NaN   NaN   NaN   NaN   NaN   NaN   NaN   NaN  \n",
       "943    NaN   NaN   NaN   NaN   NaN   NaN   NaN   NaN   NaN  \n",
       "\n",
       "[943 rows x 1682 columns]"
      ]
     },
     "execution_count": 9,
     "metadata": {},
     "output_type": "execute_result"
    }
   ],
   "source": [
    "ui_matrix"
   ]
  },
  {
   "cell_type": "code",
   "execution_count": 10,
   "metadata": {
    "scrolled": true
   },
   "outputs": [
    {
     "data": {
      "text/html": [
       "<div>\n",
       "<style scoped>\n",
       "    .dataframe tbody tr th:only-of-type {\n",
       "        vertical-align: middle;\n",
       "    }\n",
       "\n",
       "    .dataframe tbody tr th {\n",
       "        vertical-align: top;\n",
       "    }\n",
       "\n",
       "    .dataframe thead th {\n",
       "        text-align: right;\n",
       "    }\n",
       "</style>\n",
       "<table border=\"1\" class=\"dataframe\">\n",
       "  <thead>\n",
       "    <tr style=\"text-align: right;\">\n",
       "      <th>item</th>\n",
       "      <th>1</th>\n",
       "      <th>2</th>\n",
       "      <th>3</th>\n",
       "      <th>4</th>\n",
       "      <th>5</th>\n",
       "      <th>6</th>\n",
       "      <th>7</th>\n",
       "      <th>8</th>\n",
       "      <th>9</th>\n",
       "      <th>10</th>\n",
       "      <th>...</th>\n",
       "      <th>1673</th>\n",
       "      <th>1674</th>\n",
       "      <th>1675</th>\n",
       "      <th>1676</th>\n",
       "      <th>1677</th>\n",
       "      <th>1678</th>\n",
       "      <th>1679</th>\n",
       "      <th>1680</th>\n",
       "      <th>1681</th>\n",
       "      <th>1682</th>\n",
       "    </tr>\n",
       "  </thead>\n",
       "  <tbody>\n",
       "    <tr>\n",
       "      <th>count</th>\n",
       "      <td>452.000000</td>\n",
       "      <td>131.000000</td>\n",
       "      <td>90.000000</td>\n",
       "      <td>209.000000</td>\n",
       "      <td>86.000000</td>\n",
       "      <td>26.000000</td>\n",
       "      <td>392.000000</td>\n",
       "      <td>219.000000</td>\n",
       "      <td>299.000000</td>\n",
       "      <td>89.000000</td>\n",
       "      <td>...</td>\n",
       "      <td>1.0</td>\n",
       "      <td>1.0</td>\n",
       "      <td>1.0</td>\n",
       "      <td>1.0</td>\n",
       "      <td>1.0</td>\n",
       "      <td>1.0</td>\n",
       "      <td>1.0</td>\n",
       "      <td>1.0</td>\n",
       "      <td>1.0</td>\n",
       "      <td>1.0</td>\n",
       "    </tr>\n",
       "    <tr>\n",
       "      <th>mean</th>\n",
       "      <td>3.878319</td>\n",
       "      <td>3.206107</td>\n",
       "      <td>3.033333</td>\n",
       "      <td>3.550239</td>\n",
       "      <td>3.302326</td>\n",
       "      <td>3.576923</td>\n",
       "      <td>3.798469</td>\n",
       "      <td>3.995434</td>\n",
       "      <td>3.896321</td>\n",
       "      <td>3.831461</td>\n",
       "      <td>...</td>\n",
       "      <td>3.0</td>\n",
       "      <td>4.0</td>\n",
       "      <td>3.0</td>\n",
       "      <td>2.0</td>\n",
       "      <td>3.0</td>\n",
       "      <td>1.0</td>\n",
       "      <td>3.0</td>\n",
       "      <td>2.0</td>\n",
       "      <td>3.0</td>\n",
       "      <td>3.0</td>\n",
       "    </tr>\n",
       "    <tr>\n",
       "      <th>std</th>\n",
       "      <td>0.927897</td>\n",
       "      <td>0.966497</td>\n",
       "      <td>1.212760</td>\n",
       "      <td>0.965069</td>\n",
       "      <td>0.946446</td>\n",
       "      <td>1.301478</td>\n",
       "      <td>0.982037</td>\n",
       "      <td>1.002281</td>\n",
       "      <td>1.042368</td>\n",
       "      <td>1.013948</td>\n",
       "      <td>...</td>\n",
       "      <td>NaN</td>\n",
       "      <td>NaN</td>\n",
       "      <td>NaN</td>\n",
       "      <td>NaN</td>\n",
       "      <td>NaN</td>\n",
       "      <td>NaN</td>\n",
       "      <td>NaN</td>\n",
       "      <td>NaN</td>\n",
       "      <td>NaN</td>\n",
       "      <td>NaN</td>\n",
       "    </tr>\n",
       "    <tr>\n",
       "      <th>min</th>\n",
       "      <td>1.000000</td>\n",
       "      <td>1.000000</td>\n",
       "      <td>1.000000</td>\n",
       "      <td>1.000000</td>\n",
       "      <td>1.000000</td>\n",
       "      <td>1.000000</td>\n",
       "      <td>1.000000</td>\n",
       "      <td>1.000000</td>\n",
       "      <td>1.000000</td>\n",
       "      <td>1.000000</td>\n",
       "      <td>...</td>\n",
       "      <td>3.0</td>\n",
       "      <td>4.0</td>\n",
       "      <td>3.0</td>\n",
       "      <td>2.0</td>\n",
       "      <td>3.0</td>\n",
       "      <td>1.0</td>\n",
       "      <td>3.0</td>\n",
       "      <td>2.0</td>\n",
       "      <td>3.0</td>\n",
       "      <td>3.0</td>\n",
       "    </tr>\n",
       "    <tr>\n",
       "      <th>25%</th>\n",
       "      <td>3.000000</td>\n",
       "      <td>3.000000</td>\n",
       "      <td>2.000000</td>\n",
       "      <td>3.000000</td>\n",
       "      <td>3.000000</td>\n",
       "      <td>3.000000</td>\n",
       "      <td>3.000000</td>\n",
       "      <td>3.000000</td>\n",
       "      <td>3.000000</td>\n",
       "      <td>3.000000</td>\n",
       "      <td>...</td>\n",
       "      <td>3.0</td>\n",
       "      <td>4.0</td>\n",
       "      <td>3.0</td>\n",
       "      <td>2.0</td>\n",
       "      <td>3.0</td>\n",
       "      <td>1.0</td>\n",
       "      <td>3.0</td>\n",
       "      <td>2.0</td>\n",
       "      <td>3.0</td>\n",
       "      <td>3.0</td>\n",
       "    </tr>\n",
       "    <tr>\n",
       "      <th>50%</th>\n",
       "      <td>4.000000</td>\n",
       "      <td>3.000000</td>\n",
       "      <td>3.000000</td>\n",
       "      <td>4.000000</td>\n",
       "      <td>3.000000</td>\n",
       "      <td>4.000000</td>\n",
       "      <td>4.000000</td>\n",
       "      <td>4.000000</td>\n",
       "      <td>4.000000</td>\n",
       "      <td>4.000000</td>\n",
       "      <td>...</td>\n",
       "      <td>3.0</td>\n",
       "      <td>4.0</td>\n",
       "      <td>3.0</td>\n",
       "      <td>2.0</td>\n",
       "      <td>3.0</td>\n",
       "      <td>1.0</td>\n",
       "      <td>3.0</td>\n",
       "      <td>2.0</td>\n",
       "      <td>3.0</td>\n",
       "      <td>3.0</td>\n",
       "    </tr>\n",
       "    <tr>\n",
       "      <th>75%</th>\n",
       "      <td>5.000000</td>\n",
       "      <td>4.000000</td>\n",
       "      <td>4.000000</td>\n",
       "      <td>4.000000</td>\n",
       "      <td>4.000000</td>\n",
       "      <td>5.000000</td>\n",
       "      <td>5.000000</td>\n",
       "      <td>5.000000</td>\n",
       "      <td>5.000000</td>\n",
       "      <td>5.000000</td>\n",
       "      <td>...</td>\n",
       "      <td>3.0</td>\n",
       "      <td>4.0</td>\n",
       "      <td>3.0</td>\n",
       "      <td>2.0</td>\n",
       "      <td>3.0</td>\n",
       "      <td>1.0</td>\n",
       "      <td>3.0</td>\n",
       "      <td>2.0</td>\n",
       "      <td>3.0</td>\n",
       "      <td>3.0</td>\n",
       "    </tr>\n",
       "    <tr>\n",
       "      <th>max</th>\n",
       "      <td>5.000000</td>\n",
       "      <td>5.000000</td>\n",
       "      <td>5.000000</td>\n",
       "      <td>5.000000</td>\n",
       "      <td>5.000000</td>\n",
       "      <td>5.000000</td>\n",
       "      <td>5.000000</td>\n",
       "      <td>5.000000</td>\n",
       "      <td>5.000000</td>\n",
       "      <td>5.000000</td>\n",
       "      <td>...</td>\n",
       "      <td>3.0</td>\n",
       "      <td>4.0</td>\n",
       "      <td>3.0</td>\n",
       "      <td>2.0</td>\n",
       "      <td>3.0</td>\n",
       "      <td>1.0</td>\n",
       "      <td>3.0</td>\n",
       "      <td>2.0</td>\n",
       "      <td>3.0</td>\n",
       "      <td>3.0</td>\n",
       "    </tr>\n",
       "  </tbody>\n",
       "</table>\n",
       "<p>8 rows × 1682 columns</p>\n",
       "</div>"
      ],
      "text/plain": [
       "item         1           2          3           4          5          6     \\\n",
       "count  452.000000  131.000000  90.000000  209.000000  86.000000  26.000000   \n",
       "mean     3.878319    3.206107   3.033333    3.550239   3.302326   3.576923   \n",
       "std      0.927897    0.966497   1.212760    0.965069   0.946446   1.301478   \n",
       "min      1.000000    1.000000   1.000000    1.000000   1.000000   1.000000   \n",
       "25%      3.000000    3.000000   2.000000    3.000000   3.000000   3.000000   \n",
       "50%      4.000000    3.000000   3.000000    4.000000   3.000000   4.000000   \n",
       "75%      5.000000    4.000000   4.000000    4.000000   4.000000   5.000000   \n",
       "max      5.000000    5.000000   5.000000    5.000000   5.000000   5.000000   \n",
       "\n",
       "item         7           8           9          10    ...  1673  1674  1675  \\\n",
       "count  392.000000  219.000000  299.000000  89.000000  ...   1.0   1.0   1.0   \n",
       "mean     3.798469    3.995434    3.896321   3.831461  ...   3.0   4.0   3.0   \n",
       "std      0.982037    1.002281    1.042368   1.013948  ...   NaN   NaN   NaN   \n",
       "min      1.000000    1.000000    1.000000   1.000000  ...   3.0   4.0   3.0   \n",
       "25%      3.000000    3.000000    3.000000   3.000000  ...   3.0   4.0   3.0   \n",
       "50%      4.000000    4.000000    4.000000   4.000000  ...   3.0   4.0   3.0   \n",
       "75%      5.000000    5.000000    5.000000   5.000000  ...   3.0   4.0   3.0   \n",
       "max      5.000000    5.000000    5.000000   5.000000  ...   3.0   4.0   3.0   \n",
       "\n",
       "item   1676  1677  1678  1679  1680  1681  1682  \n",
       "count   1.0   1.0   1.0   1.0   1.0   1.0   1.0  \n",
       "mean    2.0   3.0   1.0   3.0   2.0   3.0   3.0  \n",
       "std     NaN   NaN   NaN   NaN   NaN   NaN   NaN  \n",
       "min     2.0   3.0   1.0   3.0   2.0   3.0   3.0  \n",
       "25%     2.0   3.0   1.0   3.0   2.0   3.0   3.0  \n",
       "50%     2.0   3.0   1.0   3.0   2.0   3.0   3.0  \n",
       "75%     2.0   3.0   1.0   3.0   2.0   3.0   3.0  \n",
       "max     2.0   3.0   1.0   3.0   2.0   3.0   3.0  \n",
       "\n",
       "[8 rows x 1682 columns]"
      ]
     },
     "execution_count": 10,
     "metadata": {},
     "output_type": "execute_result"
    }
   ],
   "source": [
    "ui_matrix.describe()"
   ]
  },
  {
   "cell_type": "markdown",
   "metadata": {},
   "source": [
    "Možemo videti da je USER-ITEM matrica veoma retka što potpada pod jedan od navedenih problema."
   ]
  },
  {
   "cell_type": "markdown",
   "metadata": {},
   "source": [
    "Učitavamo dostupne trening podatke."
   ]
  },
  {
   "cell_type": "code",
   "execution_count": 11,
   "metadata": {},
   "outputs": [],
   "source": [
    "train_data = pd.read_csv('ml-100k/u2.base', sep = '\\\\t', names = header, engine = 'python')"
   ]
  },
  {
   "cell_type": "code",
   "execution_count": 12,
   "metadata": {},
   "outputs": [
    {
     "data": {
      "text/html": [
       "<div>\n",
       "<style scoped>\n",
       "    .dataframe tbody tr th:only-of-type {\n",
       "        vertical-align: middle;\n",
       "    }\n",
       "\n",
       "    .dataframe tbody tr th {\n",
       "        vertical-align: top;\n",
       "    }\n",
       "\n",
       "    .dataframe thead th {\n",
       "        text-align: right;\n",
       "    }\n",
       "</style>\n",
       "<table border=\"1\" class=\"dataframe\">\n",
       "  <thead>\n",
       "    <tr style=\"text-align: right;\">\n",
       "      <th></th>\n",
       "      <th>user</th>\n",
       "      <th>item</th>\n",
       "      <th>rating</th>\n",
       "      <th>timestamp</th>\n",
       "    </tr>\n",
       "  </thead>\n",
       "  <tbody>\n",
       "    <tr>\n",
       "      <th>0</th>\n",
       "      <td>1</td>\n",
       "      <td>3</td>\n",
       "      <td>4</td>\n",
       "      <td>878542960</td>\n",
       "    </tr>\n",
       "    <tr>\n",
       "      <th>1</th>\n",
       "      <td>1</td>\n",
       "      <td>4</td>\n",
       "      <td>3</td>\n",
       "      <td>876893119</td>\n",
       "    </tr>\n",
       "    <tr>\n",
       "      <th>2</th>\n",
       "      <td>1</td>\n",
       "      <td>5</td>\n",
       "      <td>3</td>\n",
       "      <td>889751712</td>\n",
       "    </tr>\n",
       "    <tr>\n",
       "      <th>3</th>\n",
       "      <td>1</td>\n",
       "      <td>6</td>\n",
       "      <td>5</td>\n",
       "      <td>887431973</td>\n",
       "    </tr>\n",
       "    <tr>\n",
       "      <th>4</th>\n",
       "      <td>1</td>\n",
       "      <td>7</td>\n",
       "      <td>4</td>\n",
       "      <td>875071561</td>\n",
       "    </tr>\n",
       "  </tbody>\n",
       "</table>\n",
       "</div>"
      ],
      "text/plain": [
       "   user  item  rating  timestamp\n",
       "0     1     3       4  878542960\n",
       "1     1     4       3  876893119\n",
       "2     1     5       3  889751712\n",
       "3     1     6       5  887431973\n",
       "4     1     7       4  875071561"
      ]
     },
     "execution_count": 12,
     "metadata": {},
     "output_type": "execute_result"
    }
   ],
   "source": [
    "train_data.head()"
   ]
  },
  {
   "cell_type": "code",
   "execution_count": 13,
   "metadata": {
    "scrolled": true
   },
   "outputs": [
    {
     "data": {
      "text/plain": [
       "(80000, 4)"
      ]
     },
     "execution_count": 13,
     "metadata": {},
     "output_type": "execute_result"
    }
   ],
   "source": [
    "train_data.shape"
   ]
  },
  {
   "cell_type": "markdown",
   "metadata": {},
   "source": [
    "Učitavamo dostupne test podatke koji odgovaraju učitanim trening podacima."
   ]
  },
  {
   "cell_type": "code",
   "execution_count": 14,
   "metadata": {},
   "outputs": [],
   "source": [
    "test_data = pd.read_csv('ml-100k/u2.test', sep = '\\\\t', names = header, engine = 'python')"
   ]
  },
  {
   "cell_type": "code",
   "execution_count": 15,
   "metadata": {},
   "outputs": [
    {
     "data": {
      "text/html": [
       "<div>\n",
       "<style scoped>\n",
       "    .dataframe tbody tr th:only-of-type {\n",
       "        vertical-align: middle;\n",
       "    }\n",
       "\n",
       "    .dataframe tbody tr th {\n",
       "        vertical-align: top;\n",
       "    }\n",
       "\n",
       "    .dataframe thead th {\n",
       "        text-align: right;\n",
       "    }\n",
       "</style>\n",
       "<table border=\"1\" class=\"dataframe\">\n",
       "  <thead>\n",
       "    <tr style=\"text-align: right;\">\n",
       "      <th></th>\n",
       "      <th>user</th>\n",
       "      <th>item</th>\n",
       "      <th>rating</th>\n",
       "      <th>timestamp</th>\n",
       "    </tr>\n",
       "  </thead>\n",
       "  <tbody>\n",
       "    <tr>\n",
       "      <th>0</th>\n",
       "      <td>1</td>\n",
       "      <td>1</td>\n",
       "      <td>5</td>\n",
       "      <td>874965758</td>\n",
       "    </tr>\n",
       "    <tr>\n",
       "      <th>1</th>\n",
       "      <td>1</td>\n",
       "      <td>2</td>\n",
       "      <td>3</td>\n",
       "      <td>876893171</td>\n",
       "    </tr>\n",
       "    <tr>\n",
       "      <th>2</th>\n",
       "      <td>1</td>\n",
       "      <td>8</td>\n",
       "      <td>1</td>\n",
       "      <td>875072484</td>\n",
       "    </tr>\n",
       "    <tr>\n",
       "      <th>3</th>\n",
       "      <td>1</td>\n",
       "      <td>9</td>\n",
       "      <td>5</td>\n",
       "      <td>878543541</td>\n",
       "    </tr>\n",
       "    <tr>\n",
       "      <th>4</th>\n",
       "      <td>1</td>\n",
       "      <td>21</td>\n",
       "      <td>1</td>\n",
       "      <td>878542772</td>\n",
       "    </tr>\n",
       "  </tbody>\n",
       "</table>\n",
       "</div>"
      ],
      "text/plain": [
       "   user  item  rating  timestamp\n",
       "0     1     1       5  874965758\n",
       "1     1     2       3  876893171\n",
       "2     1     8       1  875072484\n",
       "3     1     9       5  878543541\n",
       "4     1    21       1  878542772"
      ]
     },
     "execution_count": 15,
     "metadata": {},
     "output_type": "execute_result"
    }
   ],
   "source": [
    "test_data.head()"
   ]
  },
  {
   "cell_type": "markdown",
   "metadata": {},
   "source": [
    "### Vizualiazacija podataka"
   ]
  },
  {
   "cell_type": "code",
   "execution_count": 16,
   "metadata": {},
   "outputs": [],
   "source": [
    "genres = pd.read_csv('ml-100k/u.genre', sep = '|', names=['genre', 'id'], engine = 'python')"
   ]
  },
  {
   "cell_type": "code",
   "execution_count": 17,
   "metadata": {},
   "outputs": [],
   "source": [
    "movies_header = ['item', 'title', 'date1', 'date2', 'url'] + [g for g in genres['genre']]"
   ]
  },
  {
   "cell_type": "code",
   "execution_count": 18,
   "metadata": {},
   "outputs": [
    {
     "data": {
      "text/plain": [
       "['item',\n",
       " 'title',\n",
       " 'date1',\n",
       " 'date2',\n",
       " 'url',\n",
       " 'unknown',\n",
       " 'Action',\n",
       " 'Adventure',\n",
       " 'Animation',\n",
       " \"Children's\",\n",
       " 'Comedy',\n",
       " 'Crime',\n",
       " 'Documentary',\n",
       " 'Drama',\n",
       " 'Fantasy',\n",
       " 'Film-Noir',\n",
       " 'Horror',\n",
       " 'Musical',\n",
       " 'Mystery',\n",
       " 'Romance',\n",
       " 'Sci-Fi',\n",
       " 'Thriller',\n",
       " 'War',\n",
       " 'Western']"
      ]
     },
     "execution_count": 18,
     "metadata": {},
     "output_type": "execute_result"
    }
   ],
   "source": [
    "movies_header"
   ]
  },
  {
   "cell_type": "code",
   "execution_count": 19,
   "metadata": {},
   "outputs": [],
   "source": [
    "movies = pd.read_csv('ml-100k/u.item', sep = '|', names = movies_header, engine = 'python')"
   ]
  },
  {
   "cell_type": "code",
   "execution_count": 20,
   "metadata": {},
   "outputs": [
    {
     "data": {
      "text/html": [
       "<div>\n",
       "<style scoped>\n",
       "    .dataframe tbody tr th:only-of-type {\n",
       "        vertical-align: middle;\n",
       "    }\n",
       "\n",
       "    .dataframe tbody tr th {\n",
       "        vertical-align: top;\n",
       "    }\n",
       "\n",
       "    .dataframe thead th {\n",
       "        text-align: right;\n",
       "    }\n",
       "</style>\n",
       "<table border=\"1\" class=\"dataframe\">\n",
       "  <thead>\n",
       "    <tr style=\"text-align: right;\">\n",
       "      <th></th>\n",
       "      <th>item</th>\n",
       "      <th>title</th>\n",
       "      <th>date1</th>\n",
       "      <th>date2</th>\n",
       "      <th>url</th>\n",
       "      <th>unknown</th>\n",
       "      <th>Action</th>\n",
       "      <th>Adventure</th>\n",
       "      <th>Animation</th>\n",
       "      <th>Children's</th>\n",
       "      <th>...</th>\n",
       "      <th>Fantasy</th>\n",
       "      <th>Film-Noir</th>\n",
       "      <th>Horror</th>\n",
       "      <th>Musical</th>\n",
       "      <th>Mystery</th>\n",
       "      <th>Romance</th>\n",
       "      <th>Sci-Fi</th>\n",
       "      <th>Thriller</th>\n",
       "      <th>War</th>\n",
       "      <th>Western</th>\n",
       "    </tr>\n",
       "  </thead>\n",
       "  <tbody>\n",
       "    <tr>\n",
       "      <th>0</th>\n",
       "      <td>1</td>\n",
       "      <td>Toy Story (1995)</td>\n",
       "      <td>01-Jan-1995</td>\n",
       "      <td>NaN</td>\n",
       "      <td>http://us.imdb.com/M/title-exact?Toy%20Story%2...</td>\n",
       "      <td>0</td>\n",
       "      <td>0</td>\n",
       "      <td>0</td>\n",
       "      <td>1</td>\n",
       "      <td>1</td>\n",
       "      <td>...</td>\n",
       "      <td>0</td>\n",
       "      <td>0</td>\n",
       "      <td>0</td>\n",
       "      <td>0</td>\n",
       "      <td>0</td>\n",
       "      <td>0</td>\n",
       "      <td>0</td>\n",
       "      <td>0</td>\n",
       "      <td>0</td>\n",
       "      <td>0</td>\n",
       "    </tr>\n",
       "    <tr>\n",
       "      <th>1</th>\n",
       "      <td>2</td>\n",
       "      <td>GoldenEye (1995)</td>\n",
       "      <td>01-Jan-1995</td>\n",
       "      <td>NaN</td>\n",
       "      <td>http://us.imdb.com/M/title-exact?GoldenEye%20(...</td>\n",
       "      <td>0</td>\n",
       "      <td>1</td>\n",
       "      <td>1</td>\n",
       "      <td>0</td>\n",
       "      <td>0</td>\n",
       "      <td>...</td>\n",
       "      <td>0</td>\n",
       "      <td>0</td>\n",
       "      <td>0</td>\n",
       "      <td>0</td>\n",
       "      <td>0</td>\n",
       "      <td>0</td>\n",
       "      <td>0</td>\n",
       "      <td>1</td>\n",
       "      <td>0</td>\n",
       "      <td>0</td>\n",
       "    </tr>\n",
       "    <tr>\n",
       "      <th>2</th>\n",
       "      <td>3</td>\n",
       "      <td>Four Rooms (1995)</td>\n",
       "      <td>01-Jan-1995</td>\n",
       "      <td>NaN</td>\n",
       "      <td>http://us.imdb.com/M/title-exact?Four%20Rooms%...</td>\n",
       "      <td>0</td>\n",
       "      <td>0</td>\n",
       "      <td>0</td>\n",
       "      <td>0</td>\n",
       "      <td>0</td>\n",
       "      <td>...</td>\n",
       "      <td>0</td>\n",
       "      <td>0</td>\n",
       "      <td>0</td>\n",
       "      <td>0</td>\n",
       "      <td>0</td>\n",
       "      <td>0</td>\n",
       "      <td>0</td>\n",
       "      <td>1</td>\n",
       "      <td>0</td>\n",
       "      <td>0</td>\n",
       "    </tr>\n",
       "    <tr>\n",
       "      <th>3</th>\n",
       "      <td>4</td>\n",
       "      <td>Get Shorty (1995)</td>\n",
       "      <td>01-Jan-1995</td>\n",
       "      <td>NaN</td>\n",
       "      <td>http://us.imdb.com/M/title-exact?Get%20Shorty%...</td>\n",
       "      <td>0</td>\n",
       "      <td>1</td>\n",
       "      <td>0</td>\n",
       "      <td>0</td>\n",
       "      <td>0</td>\n",
       "      <td>...</td>\n",
       "      <td>0</td>\n",
       "      <td>0</td>\n",
       "      <td>0</td>\n",
       "      <td>0</td>\n",
       "      <td>0</td>\n",
       "      <td>0</td>\n",
       "      <td>0</td>\n",
       "      <td>0</td>\n",
       "      <td>0</td>\n",
       "      <td>0</td>\n",
       "    </tr>\n",
       "    <tr>\n",
       "      <th>4</th>\n",
       "      <td>5</td>\n",
       "      <td>Copycat (1995)</td>\n",
       "      <td>01-Jan-1995</td>\n",
       "      <td>NaN</td>\n",
       "      <td>http://us.imdb.com/M/title-exact?Copycat%20(1995)</td>\n",
       "      <td>0</td>\n",
       "      <td>0</td>\n",
       "      <td>0</td>\n",
       "      <td>0</td>\n",
       "      <td>0</td>\n",
       "      <td>...</td>\n",
       "      <td>0</td>\n",
       "      <td>0</td>\n",
       "      <td>0</td>\n",
       "      <td>0</td>\n",
       "      <td>0</td>\n",
       "      <td>0</td>\n",
       "      <td>0</td>\n",
       "      <td>1</td>\n",
       "      <td>0</td>\n",
       "      <td>0</td>\n",
       "    </tr>\n",
       "  </tbody>\n",
       "</table>\n",
       "<p>5 rows × 24 columns</p>\n",
       "</div>"
      ],
      "text/plain": [
       "   item              title        date1  date2  \\\n",
       "0     1   Toy Story (1995)  01-Jan-1995    NaN   \n",
       "1     2   GoldenEye (1995)  01-Jan-1995    NaN   \n",
       "2     3  Four Rooms (1995)  01-Jan-1995    NaN   \n",
       "3     4  Get Shorty (1995)  01-Jan-1995    NaN   \n",
       "4     5     Copycat (1995)  01-Jan-1995    NaN   \n",
       "\n",
       "                                                 url  unknown  Action  \\\n",
       "0  http://us.imdb.com/M/title-exact?Toy%20Story%2...        0       0   \n",
       "1  http://us.imdb.com/M/title-exact?GoldenEye%20(...        0       1   \n",
       "2  http://us.imdb.com/M/title-exact?Four%20Rooms%...        0       0   \n",
       "3  http://us.imdb.com/M/title-exact?Get%20Shorty%...        0       1   \n",
       "4  http://us.imdb.com/M/title-exact?Copycat%20(1995)        0       0   \n",
       "\n",
       "   Adventure  Animation  Children's  ...  Fantasy  Film-Noir  Horror  Musical  \\\n",
       "0          0          1           1  ...        0          0       0        0   \n",
       "1          1          0           0  ...        0          0       0        0   \n",
       "2          0          0           0  ...        0          0       0        0   \n",
       "3          0          0           0  ...        0          0       0        0   \n",
       "4          0          0           0  ...        0          0       0        0   \n",
       "\n",
       "   Mystery  Romance  Sci-Fi  Thriller  War  Western  \n",
       "0        0        0       0         0    0        0  \n",
       "1        0        0       0         1    0        0  \n",
       "2        0        0       0         1    0        0  \n",
       "3        0        0       0         0    0        0  \n",
       "4        0        0       0         1    0        0  \n",
       "\n",
       "[5 rows x 24 columns]"
      ]
     },
     "execution_count": 20,
     "metadata": {},
     "output_type": "execute_result"
    }
   ],
   "source": [
    "movies.head()"
   ]
  },
  {
   "cell_type": "code",
   "execution_count": 21,
   "metadata": {},
   "outputs": [
    {
     "data": {
      "text/html": [
       "<div>\n",
       "<style scoped>\n",
       "    .dataframe tbody tr th:only-of-type {\n",
       "        vertical-align: middle;\n",
       "    }\n",
       "\n",
       "    .dataframe tbody tr th {\n",
       "        vertical-align: top;\n",
       "    }\n",
       "\n",
       "    .dataframe thead th {\n",
       "        text-align: right;\n",
       "    }\n",
       "</style>\n",
       "<table border=\"1\" class=\"dataframe\">\n",
       "  <thead>\n",
       "    <tr style=\"text-align: right;\">\n",
       "      <th></th>\n",
       "      <th>item</th>\n",
       "      <th>title</th>\n",
       "      <th>unknown</th>\n",
       "      <th>Action</th>\n",
       "      <th>Adventure</th>\n",
       "      <th>Animation</th>\n",
       "      <th>Children's</th>\n",
       "      <th>Comedy</th>\n",
       "      <th>Crime</th>\n",
       "      <th>Documentary</th>\n",
       "      <th>...</th>\n",
       "      <th>Fantasy</th>\n",
       "      <th>Film-Noir</th>\n",
       "      <th>Horror</th>\n",
       "      <th>Musical</th>\n",
       "      <th>Mystery</th>\n",
       "      <th>Romance</th>\n",
       "      <th>Sci-Fi</th>\n",
       "      <th>Thriller</th>\n",
       "      <th>War</th>\n",
       "      <th>Western</th>\n",
       "    </tr>\n",
       "  </thead>\n",
       "  <tbody>\n",
       "    <tr>\n",
       "      <th>0</th>\n",
       "      <td>1</td>\n",
       "      <td>Toy Story (1995)</td>\n",
       "      <td>0</td>\n",
       "      <td>0</td>\n",
       "      <td>0</td>\n",
       "      <td>1</td>\n",
       "      <td>1</td>\n",
       "      <td>1</td>\n",
       "      <td>0</td>\n",
       "      <td>0</td>\n",
       "      <td>...</td>\n",
       "      <td>0</td>\n",
       "      <td>0</td>\n",
       "      <td>0</td>\n",
       "      <td>0</td>\n",
       "      <td>0</td>\n",
       "      <td>0</td>\n",
       "      <td>0</td>\n",
       "      <td>0</td>\n",
       "      <td>0</td>\n",
       "      <td>0</td>\n",
       "    </tr>\n",
       "    <tr>\n",
       "      <th>1</th>\n",
       "      <td>2</td>\n",
       "      <td>GoldenEye (1995)</td>\n",
       "      <td>0</td>\n",
       "      <td>1</td>\n",
       "      <td>1</td>\n",
       "      <td>0</td>\n",
       "      <td>0</td>\n",
       "      <td>0</td>\n",
       "      <td>0</td>\n",
       "      <td>0</td>\n",
       "      <td>...</td>\n",
       "      <td>0</td>\n",
       "      <td>0</td>\n",
       "      <td>0</td>\n",
       "      <td>0</td>\n",
       "      <td>0</td>\n",
       "      <td>0</td>\n",
       "      <td>0</td>\n",
       "      <td>1</td>\n",
       "      <td>0</td>\n",
       "      <td>0</td>\n",
       "    </tr>\n",
       "    <tr>\n",
       "      <th>2</th>\n",
       "      <td>3</td>\n",
       "      <td>Four Rooms (1995)</td>\n",
       "      <td>0</td>\n",
       "      <td>0</td>\n",
       "      <td>0</td>\n",
       "      <td>0</td>\n",
       "      <td>0</td>\n",
       "      <td>0</td>\n",
       "      <td>0</td>\n",
       "      <td>0</td>\n",
       "      <td>...</td>\n",
       "      <td>0</td>\n",
       "      <td>0</td>\n",
       "      <td>0</td>\n",
       "      <td>0</td>\n",
       "      <td>0</td>\n",
       "      <td>0</td>\n",
       "      <td>0</td>\n",
       "      <td>1</td>\n",
       "      <td>0</td>\n",
       "      <td>0</td>\n",
       "    </tr>\n",
       "    <tr>\n",
       "      <th>3</th>\n",
       "      <td>4</td>\n",
       "      <td>Get Shorty (1995)</td>\n",
       "      <td>0</td>\n",
       "      <td>1</td>\n",
       "      <td>0</td>\n",
       "      <td>0</td>\n",
       "      <td>0</td>\n",
       "      <td>1</td>\n",
       "      <td>0</td>\n",
       "      <td>0</td>\n",
       "      <td>...</td>\n",
       "      <td>0</td>\n",
       "      <td>0</td>\n",
       "      <td>0</td>\n",
       "      <td>0</td>\n",
       "      <td>0</td>\n",
       "      <td>0</td>\n",
       "      <td>0</td>\n",
       "      <td>0</td>\n",
       "      <td>0</td>\n",
       "      <td>0</td>\n",
       "    </tr>\n",
       "    <tr>\n",
       "      <th>4</th>\n",
       "      <td>5</td>\n",
       "      <td>Copycat (1995)</td>\n",
       "      <td>0</td>\n",
       "      <td>0</td>\n",
       "      <td>0</td>\n",
       "      <td>0</td>\n",
       "      <td>0</td>\n",
       "      <td>0</td>\n",
       "      <td>1</td>\n",
       "      <td>0</td>\n",
       "      <td>...</td>\n",
       "      <td>0</td>\n",
       "      <td>0</td>\n",
       "      <td>0</td>\n",
       "      <td>0</td>\n",
       "      <td>0</td>\n",
       "      <td>0</td>\n",
       "      <td>0</td>\n",
       "      <td>1</td>\n",
       "      <td>0</td>\n",
       "      <td>0</td>\n",
       "    </tr>\n",
       "  </tbody>\n",
       "</table>\n",
       "<p>5 rows × 21 columns</p>\n",
       "</div>"
      ],
      "text/plain": [
       "   item              title  unknown  Action  Adventure  Animation  Children's  \\\n",
       "0     1   Toy Story (1995)        0       0          0          1           1   \n",
       "1     2   GoldenEye (1995)        0       1          1          0           0   \n",
       "2     3  Four Rooms (1995)        0       0          0          0           0   \n",
       "3     4  Get Shorty (1995)        0       1          0          0           0   \n",
       "4     5     Copycat (1995)        0       0          0          0           0   \n",
       "\n",
       "   Comedy  Crime  Documentary  ...  Fantasy  Film-Noir  Horror  Musical  \\\n",
       "0       1      0            0  ...        0          0       0        0   \n",
       "1       0      0            0  ...        0          0       0        0   \n",
       "2       0      0            0  ...        0          0       0        0   \n",
       "3       1      0            0  ...        0          0       0        0   \n",
       "4       0      1            0  ...        0          0       0        0   \n",
       "\n",
       "   Mystery  Romance  Sci-Fi  Thriller  War  Western  \n",
       "0        0        0       0         0    0        0  \n",
       "1        0        0       0         1    0        0  \n",
       "2        0        0       0         1    0        0  \n",
       "3        0        0       0         0    0        0  \n",
       "4        0        0       0         1    0        0  \n",
       "\n",
       "[5 rows x 21 columns]"
      ]
     },
     "execution_count": 21,
     "metadata": {},
     "output_type": "execute_result"
    }
   ],
   "source": [
    "del movies['date1']\n",
    "del movies['date2']\n",
    "del movies['url']\n",
    "movies.head()"
   ]
  },
  {
   "cell_type": "code",
   "execution_count": 22,
   "metadata": {},
   "outputs": [],
   "source": [
    "train_data_movies = pd.merge(train_data, movies, on = 'item')"
   ]
  },
  {
   "cell_type": "code",
   "execution_count": 23,
   "metadata": {},
   "outputs": [
    {
     "data": {
      "text/html": [
       "<div>\n",
       "<style scoped>\n",
       "    .dataframe tbody tr th:only-of-type {\n",
       "        vertical-align: middle;\n",
       "    }\n",
       "\n",
       "    .dataframe tbody tr th {\n",
       "        vertical-align: top;\n",
       "    }\n",
       "\n",
       "    .dataframe thead th {\n",
       "        text-align: right;\n",
       "    }\n",
       "</style>\n",
       "<table border=\"1\" class=\"dataframe\">\n",
       "  <thead>\n",
       "    <tr style=\"text-align: right;\">\n",
       "      <th></th>\n",
       "      <th>user</th>\n",
       "      <th>item</th>\n",
       "      <th>rating</th>\n",
       "      <th>timestamp</th>\n",
       "      <th>title</th>\n",
       "      <th>unknown</th>\n",
       "      <th>Action</th>\n",
       "      <th>Adventure</th>\n",
       "      <th>Animation</th>\n",
       "      <th>Children's</th>\n",
       "      <th>...</th>\n",
       "      <th>Fantasy</th>\n",
       "      <th>Film-Noir</th>\n",
       "      <th>Horror</th>\n",
       "      <th>Musical</th>\n",
       "      <th>Mystery</th>\n",
       "      <th>Romance</th>\n",
       "      <th>Sci-Fi</th>\n",
       "      <th>Thriller</th>\n",
       "      <th>War</th>\n",
       "      <th>Western</th>\n",
       "    </tr>\n",
       "  </thead>\n",
       "  <tbody>\n",
       "    <tr>\n",
       "      <th>0</th>\n",
       "      <td>1</td>\n",
       "      <td>3</td>\n",
       "      <td>4</td>\n",
       "      <td>878542960</td>\n",
       "      <td>Four Rooms (1995)</td>\n",
       "      <td>0</td>\n",
       "      <td>0</td>\n",
       "      <td>0</td>\n",
       "      <td>0</td>\n",
       "      <td>0</td>\n",
       "      <td>...</td>\n",
       "      <td>0</td>\n",
       "      <td>0</td>\n",
       "      <td>0</td>\n",
       "      <td>0</td>\n",
       "      <td>0</td>\n",
       "      <td>0</td>\n",
       "      <td>0</td>\n",
       "      <td>1</td>\n",
       "      <td>0</td>\n",
       "      <td>0</td>\n",
       "    </tr>\n",
       "    <tr>\n",
       "      <th>1</th>\n",
       "      <td>49</td>\n",
       "      <td>3</td>\n",
       "      <td>3</td>\n",
       "      <td>888068877</td>\n",
       "      <td>Four Rooms (1995)</td>\n",
       "      <td>0</td>\n",
       "      <td>0</td>\n",
       "      <td>0</td>\n",
       "      <td>0</td>\n",
       "      <td>0</td>\n",
       "      <td>...</td>\n",
       "      <td>0</td>\n",
       "      <td>0</td>\n",
       "      <td>0</td>\n",
       "      <td>0</td>\n",
       "      <td>0</td>\n",
       "      <td>0</td>\n",
       "      <td>0</td>\n",
       "      <td>1</td>\n",
       "      <td>0</td>\n",
       "      <td>0</td>\n",
       "    </tr>\n",
       "    <tr>\n",
       "      <th>2</th>\n",
       "      <td>62</td>\n",
       "      <td>3</td>\n",
       "      <td>3</td>\n",
       "      <td>879372325</td>\n",
       "      <td>Four Rooms (1995)</td>\n",
       "      <td>0</td>\n",
       "      <td>0</td>\n",
       "      <td>0</td>\n",
       "      <td>0</td>\n",
       "      <td>0</td>\n",
       "      <td>...</td>\n",
       "      <td>0</td>\n",
       "      <td>0</td>\n",
       "      <td>0</td>\n",
       "      <td>0</td>\n",
       "      <td>0</td>\n",
       "      <td>0</td>\n",
       "      <td>0</td>\n",
       "      <td>1</td>\n",
       "      <td>0</td>\n",
       "      <td>0</td>\n",
       "    </tr>\n",
       "    <tr>\n",
       "      <th>3</th>\n",
       "      <td>63</td>\n",
       "      <td>3</td>\n",
       "      <td>2</td>\n",
       "      <td>875748068</td>\n",
       "      <td>Four Rooms (1995)</td>\n",
       "      <td>0</td>\n",
       "      <td>0</td>\n",
       "      <td>0</td>\n",
       "      <td>0</td>\n",
       "      <td>0</td>\n",
       "      <td>...</td>\n",
       "      <td>0</td>\n",
       "      <td>0</td>\n",
       "      <td>0</td>\n",
       "      <td>0</td>\n",
       "      <td>0</td>\n",
       "      <td>0</td>\n",
       "      <td>0</td>\n",
       "      <td>1</td>\n",
       "      <td>0</td>\n",
       "      <td>0</td>\n",
       "    </tr>\n",
       "    <tr>\n",
       "      <th>4</th>\n",
       "      <td>81</td>\n",
       "      <td>3</td>\n",
       "      <td>4</td>\n",
       "      <td>876592546</td>\n",
       "      <td>Four Rooms (1995)</td>\n",
       "      <td>0</td>\n",
       "      <td>0</td>\n",
       "      <td>0</td>\n",
       "      <td>0</td>\n",
       "      <td>0</td>\n",
       "      <td>...</td>\n",
       "      <td>0</td>\n",
       "      <td>0</td>\n",
       "      <td>0</td>\n",
       "      <td>0</td>\n",
       "      <td>0</td>\n",
       "      <td>0</td>\n",
       "      <td>0</td>\n",
       "      <td>1</td>\n",
       "      <td>0</td>\n",
       "      <td>0</td>\n",
       "    </tr>\n",
       "  </tbody>\n",
       "</table>\n",
       "<p>5 rows × 24 columns</p>\n",
       "</div>"
      ],
      "text/plain": [
       "   user  item  rating  timestamp              title  unknown  Action  \\\n",
       "0     1     3       4  878542960  Four Rooms (1995)        0       0   \n",
       "1    49     3       3  888068877  Four Rooms (1995)        0       0   \n",
       "2    62     3       3  879372325  Four Rooms (1995)        0       0   \n",
       "3    63     3       2  875748068  Four Rooms (1995)        0       0   \n",
       "4    81     3       4  876592546  Four Rooms (1995)        0       0   \n",
       "\n",
       "   Adventure  Animation  Children's  ...  Fantasy  Film-Noir  Horror  Musical  \\\n",
       "0          0          0           0  ...        0          0       0        0   \n",
       "1          0          0           0  ...        0          0       0        0   \n",
       "2          0          0           0  ...        0          0       0        0   \n",
       "3          0          0           0  ...        0          0       0        0   \n",
       "4          0          0           0  ...        0          0       0        0   \n",
       "\n",
       "   Mystery  Romance  Sci-Fi  Thriller  War  Western  \n",
       "0        0        0       0         1    0        0  \n",
       "1        0        0       0         1    0        0  \n",
       "2        0        0       0         1    0        0  \n",
       "3        0        0       0         1    0        0  \n",
       "4        0        0       0         1    0        0  \n",
       "\n",
       "[5 rows x 24 columns]"
      ]
     },
     "execution_count": 23,
     "metadata": {},
     "output_type": "execute_result"
    }
   ],
   "source": [
    "train_data_movies.head()"
   ]
  },
  {
   "cell_type": "code",
   "execution_count": 24,
   "metadata": {},
   "outputs": [
    {
     "data": {
      "text/plain": [
       "title\n",
       "Prefontaine (1997)                            5.0\n",
       "They Made Me a Criminal (1939)                5.0\n",
       "Santa with Muscles (1996)                     5.0\n",
       "Marlene Dietrich: Shadow and Light (1996)     5.0\n",
       "Saint of Fort Washington, The (1993)          5.0\n",
       "Someone Else's America (1995)                 5.0\n",
       "Star Kid (1997)                               5.0\n",
       "Visitors, The (Visiteurs, Les) (1993)         5.0\n",
       "Golden Earrings (1947)                        5.0\n",
       "Aiqing wansui (1994)                          5.0\n",
       "Name: rating, dtype: float64"
      ]
     },
     "execution_count": 24,
     "metadata": {},
     "output_type": "execute_result"
    }
   ],
   "source": [
    "train_data_movies.groupby('title')['rating'].mean().sort_values(ascending=False).head(10)"
   ]
  },
  {
   "cell_type": "code",
   "execution_count": 25,
   "metadata": {},
   "outputs": [
    {
     "data": {
      "text/plain": [
       "title\n",
       "Star Wars (1977)                 461\n",
       "Fargo (1996)                     414\n",
       "Contact (1997)                   409\n",
       "Return of the Jedi (1983)        406\n",
       "Liar Liar (1997)                 402\n",
       "English Patient, The (1996)      397\n",
       "Scream (1996)                    360\n",
       "Toy Story (1995)                 358\n",
       "Independence Day (ID4) (1996)    351\n",
       "Air Force One (1997)             345\n",
       "Name: rating, dtype: int64"
      ]
     },
     "execution_count": 25,
     "metadata": {},
     "output_type": "execute_result"
    }
   ],
   "source": [
    "train_data_movies.groupby('title')['rating'].count().sort_values(ascending=False).head(10)"
   ]
  },
  {
   "cell_type": "code",
   "execution_count": 26,
   "metadata": {},
   "outputs": [
    {
     "data": {
      "text/html": [
       "<div>\n",
       "<style scoped>\n",
       "    .dataframe tbody tr th:only-of-type {\n",
       "        vertical-align: middle;\n",
       "    }\n",
       "\n",
       "    .dataframe tbody tr th {\n",
       "        vertical-align: top;\n",
       "    }\n",
       "\n",
       "    .dataframe thead th {\n",
       "        text-align: right;\n",
       "    }\n",
       "</style>\n",
       "<table border=\"1\" class=\"dataframe\">\n",
       "  <thead>\n",
       "    <tr style=\"text-align: right;\">\n",
       "      <th></th>\n",
       "      <th>title</th>\n",
       "      <th>rating</th>\n",
       "      <th>count</th>\n",
       "      <th>item</th>\n",
       "      <th>unknown</th>\n",
       "      <th>Action</th>\n",
       "      <th>Adventure</th>\n",
       "      <th>Animation</th>\n",
       "      <th>Children's</th>\n",
       "      <th>Comedy</th>\n",
       "      <th>...</th>\n",
       "      <th>Fantasy</th>\n",
       "      <th>Film-Noir</th>\n",
       "      <th>Horror</th>\n",
       "      <th>Musical</th>\n",
       "      <th>Mystery</th>\n",
       "      <th>Romance</th>\n",
       "      <th>Sci-Fi</th>\n",
       "      <th>Thriller</th>\n",
       "      <th>War</th>\n",
       "      <th>Western</th>\n",
       "    </tr>\n",
       "  </thead>\n",
       "  <tbody>\n",
       "    <tr>\n",
       "      <th>1386</th>\n",
       "      <td>Star Wars (1977)</td>\n",
       "      <td>4.364425</td>\n",
       "      <td>461</td>\n",
       "      <td>50</td>\n",
       "      <td>0</td>\n",
       "      <td>1</td>\n",
       "      <td>1</td>\n",
       "      <td>0</td>\n",
       "      <td>0</td>\n",
       "      <td>0</td>\n",
       "      <td>...</td>\n",
       "      <td>0</td>\n",
       "      <td>0</td>\n",
       "      <td>0</td>\n",
       "      <td>0</td>\n",
       "      <td>0</td>\n",
       "      <td>1</td>\n",
       "      <td>1</td>\n",
       "      <td>0</td>\n",
       "      <td>1</td>\n",
       "      <td>0</td>\n",
       "    </tr>\n",
       "    <tr>\n",
       "      <th>494</th>\n",
       "      <td>Fargo (1996)</td>\n",
       "      <td>4.166667</td>\n",
       "      <td>414</td>\n",
       "      <td>100</td>\n",
       "      <td>0</td>\n",
       "      <td>0</td>\n",
       "      <td>0</td>\n",
       "      <td>0</td>\n",
       "      <td>0</td>\n",
       "      <td>0</td>\n",
       "      <td>...</td>\n",
       "      <td>0</td>\n",
       "      <td>0</td>\n",
       "      <td>0</td>\n",
       "      <td>0</td>\n",
       "      <td>0</td>\n",
       "      <td>0</td>\n",
       "      <td>0</td>\n",
       "      <td>1</td>\n",
       "      <td>0</td>\n",
       "      <td>0</td>\n",
       "    </tr>\n",
       "    <tr>\n",
       "      <th>330</th>\n",
       "      <td>Contact (1997)</td>\n",
       "      <td>3.767726</td>\n",
       "      <td>409</td>\n",
       "      <td>258</td>\n",
       "      <td>0</td>\n",
       "      <td>0</td>\n",
       "      <td>0</td>\n",
       "      <td>0</td>\n",
       "      <td>0</td>\n",
       "      <td>0</td>\n",
       "      <td>...</td>\n",
       "      <td>0</td>\n",
       "      <td>0</td>\n",
       "      <td>0</td>\n",
       "      <td>0</td>\n",
       "      <td>0</td>\n",
       "      <td>0</td>\n",
       "      <td>1</td>\n",
       "      <td>0</td>\n",
       "      <td>0</td>\n",
       "      <td>0</td>\n",
       "    </tr>\n",
       "    <tr>\n",
       "      <th>1221</th>\n",
       "      <td>Return of the Jedi (1983)</td>\n",
       "      <td>3.985222</td>\n",
       "      <td>406</td>\n",
       "      <td>181</td>\n",
       "      <td>0</td>\n",
       "      <td>1</td>\n",
       "      <td>1</td>\n",
       "      <td>0</td>\n",
       "      <td>0</td>\n",
       "      <td>0</td>\n",
       "      <td>...</td>\n",
       "      <td>0</td>\n",
       "      <td>0</td>\n",
       "      <td>0</td>\n",
       "      <td>0</td>\n",
       "      <td>0</td>\n",
       "      <td>1</td>\n",
       "      <td>1</td>\n",
       "      <td>0</td>\n",
       "      <td>1</td>\n",
       "      <td>0</td>\n",
       "    </tr>\n",
       "    <tr>\n",
       "      <th>853</th>\n",
       "      <td>Liar Liar (1997)</td>\n",
       "      <td>3.196517</td>\n",
       "      <td>402</td>\n",
       "      <td>294</td>\n",
       "      <td>0</td>\n",
       "      <td>0</td>\n",
       "      <td>0</td>\n",
       "      <td>0</td>\n",
       "      <td>0</td>\n",
       "      <td>1</td>\n",
       "      <td>...</td>\n",
       "      <td>0</td>\n",
       "      <td>0</td>\n",
       "      <td>0</td>\n",
       "      <td>0</td>\n",
       "      <td>0</td>\n",
       "      <td>0</td>\n",
       "      <td>0</td>\n",
       "      <td>0</td>\n",
       "      <td>0</td>\n",
       "      <td>0</td>\n",
       "    </tr>\n",
       "    <tr>\n",
       "      <th>456</th>\n",
       "      <td>English Patient, The (1996)</td>\n",
       "      <td>3.672544</td>\n",
       "      <td>397</td>\n",
       "      <td>286</td>\n",
       "      <td>0</td>\n",
       "      <td>0</td>\n",
       "      <td>0</td>\n",
       "      <td>0</td>\n",
       "      <td>0</td>\n",
       "      <td>0</td>\n",
       "      <td>...</td>\n",
       "      <td>0</td>\n",
       "      <td>0</td>\n",
       "      <td>0</td>\n",
       "      <td>0</td>\n",
       "      <td>0</td>\n",
       "      <td>1</td>\n",
       "      <td>0</td>\n",
       "      <td>0</td>\n",
       "      <td>1</td>\n",
       "      <td>0</td>\n",
       "    </tr>\n",
       "    <tr>\n",
       "      <th>1271</th>\n",
       "      <td>Scream (1996)</td>\n",
       "      <td>3.372222</td>\n",
       "      <td>360</td>\n",
       "      <td>288</td>\n",
       "      <td>0</td>\n",
       "      <td>0</td>\n",
       "      <td>0</td>\n",
       "      <td>0</td>\n",
       "      <td>0</td>\n",
       "      <td>0</td>\n",
       "      <td>...</td>\n",
       "      <td>0</td>\n",
       "      <td>0</td>\n",
       "      <td>1</td>\n",
       "      <td>0</td>\n",
       "      <td>0</td>\n",
       "      <td>0</td>\n",
       "      <td>0</td>\n",
       "      <td>1</td>\n",
       "      <td>0</td>\n",
       "      <td>0</td>\n",
       "    </tr>\n",
       "    <tr>\n",
       "      <th>1509</th>\n",
       "      <td>Toy Story (1995)</td>\n",
       "      <td>3.888268</td>\n",
       "      <td>358</td>\n",
       "      <td>1</td>\n",
       "      <td>0</td>\n",
       "      <td>0</td>\n",
       "      <td>0</td>\n",
       "      <td>1</td>\n",
       "      <td>1</td>\n",
       "      <td>1</td>\n",
       "      <td>...</td>\n",
       "      <td>0</td>\n",
       "      <td>0</td>\n",
       "      <td>0</td>\n",
       "      <td>0</td>\n",
       "      <td>0</td>\n",
       "      <td>0</td>\n",
       "      <td>0</td>\n",
       "      <td>0</td>\n",
       "      <td>0</td>\n",
       "      <td>0</td>\n",
       "    </tr>\n",
       "    <tr>\n",
       "      <th>738</th>\n",
       "      <td>Independence Day (ID4) (1996)</td>\n",
       "      <td>3.441595</td>\n",
       "      <td>351</td>\n",
       "      <td>121</td>\n",
       "      <td>0</td>\n",
       "      <td>1</td>\n",
       "      <td>0</td>\n",
       "      <td>0</td>\n",
       "      <td>0</td>\n",
       "      <td>0</td>\n",
       "      <td>...</td>\n",
       "      <td>0</td>\n",
       "      <td>0</td>\n",
       "      <td>0</td>\n",
       "      <td>0</td>\n",
       "      <td>0</td>\n",
       "      <td>0</td>\n",
       "      <td>1</td>\n",
       "      <td>0</td>\n",
       "      <td>1</td>\n",
       "      <td>0</td>\n",
       "    </tr>\n",
       "    <tr>\n",
       "      <th>32</th>\n",
       "      <td>Air Force One (1997)</td>\n",
       "      <td>3.582609</td>\n",
       "      <td>345</td>\n",
       "      <td>300</td>\n",
       "      <td>0</td>\n",
       "      <td>1</td>\n",
       "      <td>0</td>\n",
       "      <td>0</td>\n",
       "      <td>0</td>\n",
       "      <td>0</td>\n",
       "      <td>...</td>\n",
       "      <td>0</td>\n",
       "      <td>0</td>\n",
       "      <td>0</td>\n",
       "      <td>0</td>\n",
       "      <td>0</td>\n",
       "      <td>0</td>\n",
       "      <td>0</td>\n",
       "      <td>1</td>\n",
       "      <td>0</td>\n",
       "      <td>0</td>\n",
       "    </tr>\n",
       "  </tbody>\n",
       "</table>\n",
       "<p>10 rows × 23 columns</p>\n",
       "</div>"
      ],
      "text/plain": [
       "                              title    rating  count  item  unknown  Action  \\\n",
       "1386               Star Wars (1977)  4.364425    461    50        0       1   \n",
       "494                    Fargo (1996)  4.166667    414   100        0       0   \n",
       "330                  Contact (1997)  3.767726    409   258        0       0   \n",
       "1221      Return of the Jedi (1983)  3.985222    406   181        0       1   \n",
       "853                Liar Liar (1997)  3.196517    402   294        0       0   \n",
       "456     English Patient, The (1996)  3.672544    397   286        0       0   \n",
       "1271                  Scream (1996)  3.372222    360   288        0       0   \n",
       "1509               Toy Story (1995)  3.888268    358     1        0       0   \n",
       "738   Independence Day (ID4) (1996)  3.441595    351   121        0       1   \n",
       "32             Air Force One (1997)  3.582609    345   300        0       1   \n",
       "\n",
       "      Adventure  Animation  Children's  Comedy  ...  Fantasy  Film-Noir  \\\n",
       "1386          1          0           0       0  ...        0          0   \n",
       "494           0          0           0       0  ...        0          0   \n",
       "330           0          0           0       0  ...        0          0   \n",
       "1221          1          0           0       0  ...        0          0   \n",
       "853           0          0           0       1  ...        0          0   \n",
       "456           0          0           0       0  ...        0          0   \n",
       "1271          0          0           0       0  ...        0          0   \n",
       "1509          0          1           1       1  ...        0          0   \n",
       "738           0          0           0       0  ...        0          0   \n",
       "32            0          0           0       0  ...        0          0   \n",
       "\n",
       "      Horror  Musical  Mystery  Romance  Sci-Fi  Thriller  War  Western  \n",
       "1386       0        0        0        1       1         0    1        0  \n",
       "494        0        0        0        0       0         1    0        0  \n",
       "330        0        0        0        0       1         0    0        0  \n",
       "1221       0        0        0        1       1         0    1        0  \n",
       "853        0        0        0        0       0         0    0        0  \n",
       "456        0        0        0        1       0         0    1        0  \n",
       "1271       1        0        0        0       0         1    0        0  \n",
       "1509       0        0        0        0       0         0    0        0  \n",
       "738        0        0        0        0       1         0    1        0  \n",
       "32         0        0        0        0       0         1    0        0  \n",
       "\n",
       "[10 rows x 23 columns]"
      ]
     },
     "execution_count": 26,
     "metadata": {},
     "output_type": "execute_result"
    }
   ],
   "source": [
    "ratings = pd.DataFrame(train_data_movies.groupby('title')['rating'].mean())\n",
    "ratings['count'] = pd.DataFrame(train_data_movies.groupby('title')['rating'].count())\n",
    "ratings = pd.merge(ratings, movies, on='title')\n",
    "ratings.sort_values(by='count', ascending=False).head(10)"
   ]
  },
  {
   "cell_type": "code",
   "execution_count": 27,
   "metadata": {},
   "outputs": [
    {
     "data": {
      "image/png": "[encoded data removed]",
      "text/plain": [
       "<Figure size 1080x432 with 1 Axes>"
      ]
     },
     "metadata": {
      "needs_background": "light"
     },
     "output_type": "display_data"
    }
   ],
   "source": [
    "plt.figure(figsize=(15, 6))\n",
    "ratings['rating'].hist(bins=80, rwidth=0.8, color='orange')\n",
    "plt.xlabel('Ocena')\n",
    "plt.ylabel('Broj ocena')\n",
    "plt.title('Prosečne ocene filmova')\n",
    "plt.show()"
   ]
  },
  {
   "cell_type": "code",
   "execution_count": 28,
   "metadata": {},
   "outputs": [
    {
     "data": {
      "image/png": "[encoded data removed]",
      "text/plain": [
       "<Figure size 1080x720 with 1 Axes>"
      ]
     },
     "metadata": {
      "needs_background": "light"
     },
     "output_type": "display_data"
    }
   ],
   "source": [
    "plt.figure(figsize=(15, 10))\n",
    "plt.scatter(x = ratings['rating'], y = ratings['count'])\n",
    "plt.xlabel('Ocena')\n",
    "plt.ylabel('Broj ocena')\n",
    "plt.show()"
   ]
  },
  {
   "cell_type": "code",
   "execution_count": 29,
   "metadata": {},
   "outputs": [],
   "source": [
    "number_of_ratings_for_genre = {}\n",
    "for x in genres['genre']:\n",
    "    number_of_ratings_for_genre[x] = len(np.where(np.array(train_data_movies[x]) == 1)[0])"
   ]
  },
  {
   "cell_type": "code",
   "execution_count": 30,
   "metadata": {},
   "outputs": [
    {
     "data": {
      "text/plain": [
       "{'unknown': 10,\n",
       " 'Action': 20593,\n",
       " 'Adventure': 11062,\n",
       " 'Animation': 2904,\n",
       " \"Children's\": 5737,\n",
       " 'Comedy': 23885,\n",
       " 'Crime': 6425,\n",
       " 'Documentary': 593,\n",
       " 'Drama': 31920,\n",
       " 'Fantasy': 1084,\n",
       " 'Film-Noir': 1370,\n",
       " 'Horror': 4242,\n",
       " 'Musical': 3966,\n",
       " 'Mystery': 4198,\n",
       " 'Romance': 15671,\n",
       " 'Sci-Fi': 10193,\n",
       " 'Thriller': 17459,\n",
       " 'War': 7548,\n",
       " 'Western': 1478}"
      ]
     },
     "execution_count": 30,
     "metadata": {},
     "output_type": "execute_result"
    }
   ],
   "source": [
    "number_of_ratings_for_genre"
   ]
  },
  {
   "cell_type": "code",
   "execution_count": 31,
   "metadata": {},
   "outputs": [],
   "source": [
    "average_ratings_for_genres = []\n",
    "\n",
    "for x in genres['genre']:\n",
    "    average_ratings_for_genres.append(ratings[ratings[x].apply(lambda y: y == 1)].mean().rating)"
   ]
  },
  {
   "cell_type": "code",
   "execution_count": 32,
   "metadata": {},
   "outputs": [
    {
     "data": {
      "image/png": "[encoded data removed]",
      "text/plain": [
       "<Figure size 720x432 with 1 Axes>"
      ]
     },
     "metadata": {
      "needs_background": "light"
     },
     "output_type": "display_data"
    }
   ],
   "source": [
    "plt.figure(figsize=(10, 6))\n",
    "plt.scatter(x = average_ratings_for_genres, y = [g for g in genres['genre']], color='green', marker='x')\n",
    "plt.ylabel('Žanr')\n",
    "plt.xlabel('Prosečna ocena')\n",
    "plt.title('Prosečna ocena za svaki žanr')\n",
    "plt.show()"
   ]
  },
  {
   "cell_type": "code",
   "execution_count": 33,
   "metadata": {},
   "outputs": [
    {
     "data": {
      "image/png": "[encoded data removed]",
      "text/plain": [
       "<Figure size 720x432 with 1 Axes>"
      ]
     },
     "metadata": {
      "needs_background": "light"
     },
     "output_type": "display_data"
    }
   ],
   "source": [
    "plt.figure(figsize=(10, 6))\n",
    "plt.barh([g for g in genres['genre']], list(number_of_ratings_for_genre.values()), color='red')\n",
    "plt.title('Broj filmova za svaki žanr')\n",
    "plt.show()"
   ]
  },
  {
   "cell_type": "markdown",
   "metadata": {},
   "source": [
    "### Rad sa podacima"
   ]
  },
  {
   "cell_type": "markdown",
   "metadata": {},
   "source": [
    "Formiramo USER-ITEM matricu nad trening podacima (na drugačiji način nego nad svim podacima, zbog toga što u trening podacima se ne nalaze svi filmovi, a nama je potrebno da ih imamo u toj matrici pa ih dodajemo ovde sa svim vrednostima 0 u matrici)."
   ]
  },
  {
   "cell_type": "code",
   "execution_count": 34,
   "metadata": {},
   "outputs": [
    {
     "data": {
      "text/plain": [
       "(943, 1682)"
      ]
     },
     "execution_count": 34,
     "metadata": {},
     "output_type": "execute_result"
    }
   ],
   "source": [
    "ui_matrix_train = np.zeros((number_of_users, number_of_items))\n",
    "for row in train_data.itertuples():\n",
    "    ui_matrix_train[row[1]-1, row[2]-2] = row[3]\n",
    "    \n",
    "ui_matrix_train.shape"
   ]
  },
  {
   "cell_type": "code",
   "execution_count": 35,
   "metadata": {},
   "outputs": [
    {
     "data": {
      "text/plain": [
       "array([[0., 4., 3., ..., 0., 0., 0.],\n",
       "       [0., 0., 0., ..., 0., 0., 0.],\n",
       "       [0., 0., 0., ..., 0., 0., 0.],\n",
       "       ...,\n",
       "       [0., 0., 0., ..., 0., 0., 5.],\n",
       "       [0., 0., 0., ..., 0., 0., 0.],\n",
       "       [5., 0., 0., ..., 0., 0., 0.]])"
      ]
     },
     "execution_count": 35,
     "metadata": {},
     "output_type": "execute_result"
    }
   ],
   "source": [
    "ui_matrix_train"
   ]
  },
  {
   "cell_type": "markdown",
   "metadata": {},
   "source": [
    "Ukupno svih filmova imamo 1682, a u trening skupu ih imamo 1650."
   ]
  },
  {
   "cell_type": "code",
   "execution_count": 36,
   "metadata": {},
   "outputs": [
    {
     "data": {
      "text/plain": [
       "1682"
      ]
     },
     "execution_count": 36,
     "metadata": {},
     "output_type": "execute_result"
    }
   ],
   "source": [
    "number_of_items"
   ]
  },
  {
   "cell_type": "code",
   "execution_count": 37,
   "metadata": {},
   "outputs": [
    {
     "data": {
      "text/plain": [
       "1648"
      ]
     },
     "execution_count": 37,
     "metadata": {},
     "output_type": "execute_result"
    }
   ],
   "source": [
    "train_data['item'].unique().shape[0]"
   ]
  },
  {
   "cell_type": "markdown",
   "metadata": {},
   "source": [
    "Broj različitih korisnika u trening skupu."
   ]
  },
  {
   "cell_type": "code",
   "execution_count": 38,
   "metadata": {},
   "outputs": [
    {
     "data": {
      "text/plain": [
       "943"
      ]
     },
     "execution_count": 38,
     "metadata": {},
     "output_type": "execute_result"
    }
   ],
   "source": [
    "train_data['user'].unique().shape[0]"
   ]
  },
  {
   "cell_type": "markdown",
   "metadata": {},
   "source": [
    "Broj različitih korisnika u test skupu."
   ]
  },
  {
   "cell_type": "code",
   "execution_count": 39,
   "metadata": {},
   "outputs": [
    {
     "data": {
      "text/plain": [
       "653"
      ]
     },
     "execution_count": 39,
     "metadata": {},
     "output_type": "execute_result"
    }
   ],
   "source": [
    "test_data['user'].unique().shape[0]"
   ]
  },
  {
   "cell_type": "markdown",
   "metadata": {},
   "source": [
    "Računamo vrednost kovarijanse između dva korisnika na osnovu sledeće formule:\n",
    "\n",
    "\\begin{align}\n",
    " cov(u_{i}, u_{j}) = \\frac{1}{|I|}\\sum_{k \\in (I_{i} \\cap I_{j})} r_{ik} \\bullet r_{jk} - \\frac{1}{|I|^2} \\sum_{k \\in I} r_{ik} \\bullet \\sum_{k \\in I} r_{jk}\n",
    "\\end{align}"
   ]
  },
  {
   "cell_type": "code",
   "execution_count": 40,
   "metadata": {},
   "outputs": [],
   "source": [
    "def calculate_covariance_between_users(ui_matrix, i, j):\n",
    "    if (i != j):\n",
    "        ratings_i = ui_matrix[i,:]\n",
    "        ratings_j = ui_matrix[j,:]\n",
    "    \n",
    "        common_items = (ratings_i != 0) & (ratings_j != 0)\n",
    "    \n",
    "        part1 = np.sum(ratings_i[common_items]*ratings_j[common_items])*(1/number_of_items)\n",
    "        part2 = np.sum(ratings_i)*np.sum(ratings_j)*(1/(number_of_items**2))\n",
    "    \n",
    "        return part1 - part2\n",
    "    else:\n",
    "        return float('inf')"
   ]
  },
  {
   "cell_type": "code",
   "execution_count": 41,
   "metadata": {},
   "outputs": [
    {
     "data": {
      "text/plain": [
       "0.0176726081995699"
      ]
     },
     "execution_count": 41,
     "metadata": {},
     "output_type": "execute_result"
    }
   ],
   "source": [
    "calculate_covariance_between_users(ui_matrix_train, 1, 2)"
   ]
  },
  {
   "cell_type": "code",
   "execution_count": 42,
   "metadata": {},
   "outputs": [
    {
     "data": {
      "text/plain": [
       "0.0176726081995699"
      ]
     },
     "execution_count": 42,
     "metadata": {},
     "output_type": "execute_result"
    }
   ],
   "source": [
    "calculate_covariance_between_users(ui_matrix_train, 2, 1)"
   ]
  },
  {
   "cell_type": "code",
   "execution_count": 43,
   "metadata": {},
   "outputs": [
    {
     "data": {
      "text/plain": [
       "-0.00226783979776072"
      ]
     },
     "execution_count": 43,
     "metadata": {},
     "output_type": "execute_result"
    }
   ],
   "source": [
    "calculate_covariance_between_users(ui_matrix_train, 100, 99)"
   ]
  },
  {
   "cell_type": "markdown",
   "metadata": {},
   "source": [
    "Formiramo matricu kovarijanse za svaka dva korisnika koristeći prethodno definisanu funkciju koja računa kovarijansu između dva korisnika. S obzirom na to da je matrica simetrična, dovoljno je računati samo pola matrice."
   ]
  },
  {
   "cell_type": "code",
   "execution_count": 44,
   "metadata": {},
   "outputs": [],
   "source": [
    "covariance_matrix = np.zeros((number_of_users, number_of_users))\n",
    "for i in range(number_of_users):\n",
    "    for j in range(i, number_of_users):\n",
    "        covariance_matrix[i, j] = calculate_covariance_between_users(ui_matrix_train, i, j)\n",
    "        covariance_matrix[j, i] = covariance_matrix[i, j]"
   ]
  },
  {
   "cell_type": "code",
   "execution_count": 45,
   "metadata": {},
   "outputs": [
    {
     "data": {
      "text/plain": [
       "array([[        inf,  0.04729167, -0.02086017, ...,  0.03691602,\n",
       "         0.11552763,  0.41747481],\n",
       "       [ 0.04729167,         inf,  0.01767261, ...,  0.0230354 ,\n",
       "         0.07238071,  0.03677534],\n",
       "       [-0.02086017,  0.01767261,         inf, ...,  0.00636664,\n",
       "         0.03921779, -0.01311926],\n",
       "       ...,\n",
       "       [ 0.03691602,  0.0230354 ,  0.00636664, ...,         inf,\n",
       "         0.03458279,  0.03369842],\n",
       "       [ 0.11552763,  0.07238071,  0.03921779, ...,  0.03458279,\n",
       "                inf,  0.12853484],\n",
       "       [ 0.41747481,  0.03677534, -0.01311926, ...,  0.03369842,\n",
       "         0.12853484,         inf]])"
      ]
     },
     "execution_count": 45,
     "metadata": {},
     "output_type": "execute_result"
    }
   ],
   "source": [
    "covariance_matrix"
   ]
  },
  {
   "cell_type": "code",
   "execution_count": 46,
   "metadata": {},
   "outputs": [
    {
     "data": {
      "text/plain": [
       "0.027783158320384672"
      ]
     },
     "execution_count": 46,
     "metadata": {},
     "output_type": "execute_result"
    }
   ],
   "source": [
    "covariance_matrix[10, 20]"
   ]
  },
  {
   "cell_type": "code",
   "execution_count": 47,
   "metadata": {},
   "outputs": [
    {
     "data": {
      "text/plain": [
       "0.027783158320384672"
      ]
     },
     "execution_count": 47,
     "metadata": {},
     "output_type": "execute_result"
    }
   ],
   "source": [
    "covariance_matrix[20, 10]"
   ]
  },
  {
   "cell_type": "code",
   "execution_count": 48,
   "metadata": {},
   "outputs": [
    {
     "data": {
      "text/plain": [
       "0.4174748084566106"
      ]
     },
     "execution_count": 48,
     "metadata": {},
     "output_type": "execute_result"
    }
   ],
   "source": [
    "covariance_matrix[942, 0]"
   ]
  },
  {
   "cell_type": "code",
   "execution_count": 49,
   "metadata": {},
   "outputs": [
    {
     "data": {
      "text/plain": [
       "0.4174748084566106"
      ]
     },
     "execution_count": 49,
     "metadata": {},
     "output_type": "execute_result"
    }
   ],
   "source": [
    "covariance_matrix[0, 942]"
   ]
  },
  {
   "cell_type": "markdown",
   "metadata": {},
   "source": [
    "Definišemo funkciju koja vraća K najličnijih korisnika korisniku koji se prosleđuje kao argument."
   ]
  },
  {
   "cell_type": "code",
   "execution_count": 50,
   "metadata": {},
   "outputs": [],
   "source": [
    "def GetKSimilarUser(user_i, K):\n",
    "    user_values = covariance_matrix[user_i,:]\n",
    "    values = user_values.argsort()[-K-1:]\n",
    "    \n",
    "    return values[0:K]"
   ]
  },
  {
   "cell_type": "code",
   "execution_count": 51,
   "metadata": {},
   "outputs": [
    {
     "name": "stdout",
     "output_type": "stream",
     "text": [
      "[885 803 275  58 681 822 888 757 915 863]\n",
      "0.6379366899436008\n",
      "0.6414706460374306\n",
      "0.6510269609957003\n",
      "0.6519148683479408\n",
      "0.6679389097119814\n",
      "0.6795997630361906\n",
      "0.7031080998924047\n",
      "0.7261109799358387\n",
      "0.7988013250744754\n",
      "0.8654841569333829\n"
     ]
    }
   ],
   "source": [
    "print(GetKSimilarUser(0, 10))\n",
    "for i in GetKSimilarUser(0,10):\n",
    "    print(covariance_matrix[0, i])"
   ]
  },
  {
   "cell_type": "markdown",
   "metadata": {},
   "source": [
    "Definišemo funkciju koja vraća K najrazličitijih korisnika korisniku koji se prosleđuje kao argument."
   ]
  },
  {
   "cell_type": "code",
   "execution_count": 52,
   "metadata": {},
   "outputs": [],
   "source": [
    "def GetKDSimilarUser(user_i, K):\n",
    "    user_values = covariance_matrix[user_i,:]\n",
    "    \n",
    "    return user_values.argsort()[:K]"
   ]
  },
  {
   "cell_type": "markdown",
   "metadata": {},
   "source": [
    "Formiramo niz koji za svakog korisnika iz trening skupa sadrži prosek ocena koje je dao filmovima koje je gledao."
   ]
  },
  {
   "cell_type": "code",
   "execution_count": 53,
   "metadata": {},
   "outputs": [
    {
     "data": {
      "text/plain": [
       "array([3.63302752, 3.80487805, 2.63157895, 4.38888889, 2.84732824,\n",
       "       3.64516129, 4.02903226, 3.73913043, 4.5       , 4.20422535,\n",
       "       3.41044776, 4.45      , 3.06004141, 4.09876543, 2.76923077,\n",
       "       4.29906542, 2.95454545, 3.90196078, 3.61538462, 3.25714286,\n",
       "       2.73282443, 3.50537634, 3.59259259, 4.26086957, 4.06153846,\n",
       "       2.84615385, 3.26315789, 3.74193548, 3.57142857, 3.72727273,\n",
       "       4.        , 3.28571429, 3.76470588, 4.0625    , 3.1875    ,\n",
       "       3.75      , 3.75      , 3.625     , 3.66666667, 2.88461538,\n",
       "       3.70731707, 3.72222222, 3.73529412, 3.73913043, 3.60526316,\n",
       "       4.16666667, 3.7       , 3.68085106, 2.71751412, 3.23529412,\n",
       "       3.44444444, 4.22222222, 3.68421053, 3.89361702, 3.23529412,\n",
       "       3.65333333, 3.43589744, 3.86440678, 3.85053381, 4.1048951 ,\n",
       "       2.8125    , 3.31073446, 3.15789474, 3.57241379, 3.96610169,\n",
       "       3.37037037, 3.76923077, 2.84      , 3.97777778, 3.45544554,\n",
       "       3.68965517, 3.82857143, 3.66      , 3.59375   , 3.32692308,\n",
       "       3.71666667, 3.75      , 3.625     , 3.93181818, 3.875     ,\n",
       "       3.18604651, 3.06060606, 3.39473684, 4.02173913, 3.50236967,\n",
       "       3.42105263, 3.75159236, 4.        , 4.05172414, 4.23555556,\n",
       "       3.88      , 3.21854305, 3.4375    , 3.67003367, 3.34848485,\n",
       "       4.30769231, 4.08888889, 3.36842105, 3.54285714, 3.13636364,\n",
       "       2.76923077, 2.6746988 , 3.80952381, 2.53846154, 3.25      ,\n",
       "       3.80769231, 3.0625    , 3.69565217, 3.36781609, 3.02197802,\n",
       "       3.61904762, 3.7027027 , 3.76923077, 3.60606061, 3.95833333,\n",
       "       2.96226415, 3.97101449, 4.68181818, 4.02877698, 3.55555556,\n",
       "       3.57142857, 4.0625    , 3.7027027 , 3.4       , 3.41726619,\n",
       "       3.52941176, 4.11111111, 3.73134328, 2.52      , 3.97735849,\n",
       "       4.04166667, 3.73333333, 3.05      , 3.54545455, 3.33333333,\n",
       "       4.22727273, 4.46875   , 4.25714286, 4.11111111, 3.33333333,\n",
       "       3.49333333, 3.42307692, 3.8125    , 3.67785235, 3.2987013 ,\n",
       "       3.65217391, 4.375     , 3.98181818, 2.96428571, 3.82142857,\n",
       "       3.96818182, 4.2972973 , 2.94736842, 4.        , 2.63157895,\n",
       "       3.67741935, 3.73529412, 3.78195489, 3.37209302, 3.82954545,\n",
       "       2.61363636, 3.61764706, 3.5       , 4.21276596, 3.96      ,\n",
       "       3.66666667, 3.33333333, 3.41071429, 3.88461538, 3.84615385,\n",
       "       3.40909091, 3.29166667, 4.15151515, 3.40601504, 3.71428571,\n",
       "       3.70833333, 3.57831325, 3.72864322, 3.15151515, 4.10638298,\n",
       "       1.48245614, 3.76190476, 3.25      , 3.66489362, 4.02631579,\n",
       "       3.42253521, 4.02380952, 3.71590909, 3.96503497, 3.19512195,\n",
       "       3.63636364, 3.48387097, 3.1547619 , 3.        , 3.39393939,\n",
       "       3.72413793, 3.41304348, 3.2919708 , 2.90625   , 4.05031447,\n",
       "       2.996633  , 2.92307692, 3.33333333, 3.29411765, 3.0625    ,\n",
       "       2.38297872, 3.24561404, 3.73076923, 3.11111111, 4.08421053,\n",
       "       3.13793103, 3.63157895, 4.22222222, 3.87777778, 3.74242424,\n",
       "       3.75490196, 2.89473684, 3.61538462, 3.55      , 3.75      ,\n",
       "       3.58878505, 3.02341137, 3.03529412, 2.97345133, 4.47826087,\n",
       "       3.84848485, 3.65      , 3.38888889, 2.43478261, 3.83      ,\n",
       "       3.64705882, 3.94594595, 4.4375    , 3.1253406 , 4.02816901,\n",
       "       3.47826087, 4.15625   , 3.2173913 , 4.23577236, 3.76190476,\n",
       "       3.55555556, 4.5625    , 3.6557377 , 3.5989011 , 3.29411765,\n",
       "       2.89781022, 4.09090909, 3.6       , 4.12389381, 3.81052632,\n",
       "       3.80769231, 4.3125    , 4.        , 2.91304348, 2.55737705,\n",
       "       3.88961039, 4.        , 3.9047619 , 3.85714286, 4.        ,\n",
       "       4.04761905, 3.1557377 , 4.01075269, 4.31707317, 3.59459459,\n",
       "       3.        , 3.95652174, 2.9437751 , 3.02880658, 4.37254902,\n",
       "       3.58737864, 4.28571429, 3.61111111, 4.02040816, 3.13333333,\n",
       "       3.48730964, 3.54054054, 4.35714286, 3.30267062, 3.56315789,\n",
       "       3.27777778, 3.5625    , 4.10810811, 3.42424242, 3.85185185,\n",
       "       3.6559633 , 4.1       , 3.98148148, 3.22727273, 3.36666667,\n",
       "       3.67699115, 4.29      , 3.04482759, 3.47933884, 4.25      ,\n",
       "       4.15      , 3.44666667, 3.94680851, 3.45754717, 3.625     ,\n",
       "       3.45192308, 2.38888889, 3.33870968, 3.33333333, 3.40116279,\n",
       "       3.82142857, 3.84090909, 3.73883162, 3.35714286, 4.        ,\n",
       "       3.81278539, 4.33962264, 3.578125  , 3.57923497, 3.97014925,\n",
       "       3.52727273, 3.35714286, 3.76923077, 3.64285714, 3.74107143,\n",
       "       3.68478261, 4.11111111, 3.66197183, 4.35555556, 3.43809524,\n",
       "       3.39285714, 3.28061224, 3.45116279, 3.4375    , 4.54285714,\n",
       "       3.60784314, 4.15107914, 3.88888889, 3.49145299, 3.63636364,\n",
       "       2.94382022, 3.90909091, 3.92727273, 3.98809524, 4.        ,\n",
       "       4.        , 3.46527778, 4.02409639, 3.65306122, 3.64285714,\n",
       "       3.225     , 3.51724138, 3.92105263, 3.1       , 4.35135135,\n",
       "       4.29166667, 3.74074074, 3.16666667, 3.79754601, 4.11111111,\n",
       "       3.6       , 4.        , 3.81481481, 3.78947368, 3.97183099,\n",
       "       3.69620253, 3.52941176, 3.13551402, 3.61538462, 3.23076923,\n",
       "       4.4       , 4.14285714, 3.06451613, 3.92307692, 3.79591837,\n",
       "       4.125     , 4.30769231, 3.78846154, 3.23076923, 3.5       ,\n",
       "       3.66666667, 3.96      , 3.42023346, 4.02173913, 3.3047619 ,\n",
       "       3.85714286, 3.55263158, 4.3877551 , 4.        , 3.25280899,\n",
       "       3.46666667, 3.37980769, 4.17948718, 3.70899471, 3.63636364,\n",
       "       3.8       , 4.06578947, 3.34259259, 3.97777778, 3.87804878,\n",
       "       3.64705882, 3.54054054, 3.83870968, 2.93658537, 3.53846154,\n",
       "       3.13402062, 4.02325581, 3.96428571, 3.16666667, 1.82515991,\n",
       "       3.57589286, 3.50694444, 3.82352941, 3.51079137, 3.1875    ,\n",
       "       3.69444444, 3.87878788, 3.64705882, 3.94117647, 4.14285714,\n",
       "       3.84532374, 3.24757282, 2.69230769, 4.15      , 4.16      ,\n",
       "       3.75757576, 3.45614035, 3.69047619, 3.16129032, 2.90756303,\n",
       "       3.85964912, 4.42105263, 3.9375    , 3.37837838, 3.47058824,\n",
       "       3.7       , 3.79487179, 3.47368421, 3.73076923, 3.32735426,\n",
       "       3.7311828 , 3.57432432, 3.94444444, 3.625     , 4.375     ,\n",
       "       3.7       , 3.11363636, 3.29411765, 3.84615385, 1.88235294,\n",
       "       2.84615385, 3.57647059, 3.31578947, 3.76923077, 3.89968652,\n",
       "       2.83050847, 3.45528455, 3.17391304, 2.85826772, 3.61616162,\n",
       "       3.44859813, 4.03846154, 3.65137615, 3.45      , 3.38461538,\n",
       "       3.08333333, 4.04545455, 3.08108108, 4.13793103, 3.47368421,\n",
       "       3.70909091, 3.45454545, 4.1097561 , 4.47619048, 3.65517241,\n",
       "       3.41176471, 4.36986301, 4.        , 4.1005291 , 3.41666667,\n",
       "       3.29166667, 4.42307692, 3.38709677, 3.48648649, 3.72222222,\n",
       "       4.17857143, 3.3125    , 3.06666667, 3.95061728, 3.2       ,\n",
       "       3.28333333, 3.625     , 3.34782609, 3.75      , 3.02702703,\n",
       "       3.57142857, 3.38461538, 3.63157895, 3.96153846, 3.96923077,\n",
       "       2.89333333, 3.19594595, 3.26666667, 3.86363636, 3.31007752,\n",
       "       3.73469388, 3.24      , 4.06603774, 3.62068966, 3.38888889,\n",
       "       3.75657895, 4.75      , 3.91836735, 2.45      , 3.11764706,\n",
       "       3.77777778, 4.33333333, 4.29411765, 3.82352941, 2.96153846,\n",
       "       4.15384615, 3.15384615, 3.66666667, 4.03225806, 3.33333333,\n",
       "       3.15238095, 4.5       , 4.33333333, 3.51141553, 3.29411765,\n",
       "       3.18367347, 3.83146067, 3.71428571, 3.625     , 4.03703704,\n",
       "       3.13636364, 4.1744186 , 3.39873418, 3.92307692, 3.95744681,\n",
       "       3.97247706, 2.90112994, 3.47272727, 3.85      , 3.7755102 ,\n",
       "       3.58585859, 3.44318182, 3.51388889, 2.86956522, 3.49565217,\n",
       "       3.85714286, 3.6       , 3.62608696, 3.73684211, 3.82142857,\n",
       "       3.83549784, 3.08928571, 4.18461538, 3.51764706, 4.        ,\n",
       "       4.06451613, 3.80487805, 4.        , 3.54545455, 3.52777778,\n",
       "       3.        , 3.47457627, 3.65217391, 3.48275862, 4.44444444,\n",
       "       3.38888889, 3.95867769, 3.41935484, 3.41176471, 2.66666667,\n",
       "       3.47368421, 3.3125    , 3.8       , 3.57894737, 3.22222222,\n",
       "       3.48      , 3.81208054, 2.63636364, 3.42857143, 3.59459459,\n",
       "       4.04      , 3.25925926, 4.63157895, 3.5       , 3.71929825,\n",
       "       3.34532374, 3.0125    , 3.73015873, 3.58064516, 3.39473684,\n",
       "       3.66176471, 3.84981685, 3.62307692, 3.5       , 3.2278481 ,\n",
       "       3.73333333, 3.63636364, 3.65217391, 3.86486486, 3.64179104,\n",
       "       3.06837607, 3.76923077, 3.76470588, 3.36363636, 3.72151899,\n",
       "       3.95121951, 3.80645161, 3.68148148, 2.45833333, 3.68181818,\n",
       "       3.82051282, 3.38095238, 4.30769231, 3.09677419, 3.93181818,\n",
       "       3.55263158, 2.65217391, 3.27322404, 3.55555556, 3.83516484,\n",
       "       3.55474453, 3.42424242, 3.69230769, 3.50393701, 3.42105263,\n",
       "       2.26666667, 3.33962264, 4.69565217, 4.06956522, 3.30526316,\n",
       "       3.        , 3.68571429, 3.35294118, 3.38983051, 3.29032258,\n",
       "       4.38888889, 2.4742268 , 3.55932203, 2.87121212, 4.2       ,\n",
       "       4.125     , 3.61591696, 3.73979592, 3.94285714, 3.97457627,\n",
       "       2.94736842, 3.83636364, 3.24210526, 3.73913043, 3.14900662,\n",
       "       3.26315789, 3.13636364, 2.69454545, 3.69503546, 2.9103139 ,\n",
       "       2.54166667, 3.24137931, 3.72857143, 3.79057592, 2.58482143,\n",
       "       3.91735537, 3.86956522, 3.53164557, 3.74698795, 3.47887324,\n",
       "       3.66530612, 3.95744681, 3.52173913, 3.38      , 3.84782609,\n",
       "       3.58064516, 3.24137931, 3.88571429, 3.65853659, 3.70588235,\n",
       "       3.58441558, 3.59183673, 3.42857143, 3.66129032, 4.        ,\n",
       "       3.22727273, 3.13784461, 3.22666667, 3.48837209, 2.05      ,\n",
       "       4.56338028, 3.47619048, 4.83333333, 3.83333333, 3.14782609,\n",
       "       4.21875   , 3.275     , 3.13636364, 4.15286624, 3.28947368,\n",
       "       3.93103448, 3.71428571, 2.84251969, 3.14765101, 3.66666667,\n",
       "       4.21212121, 2.4516129 , 3.53191489, 3.77777778, 3.71052632,\n",
       "       3.31034483, 3.49576271, 3.2       , 3.57246377, 3.69767442,\n",
       "       3.85972851, 3.7654321 , 2.96666667, 3.52272727, 3.38323353,\n",
       "       3.88847584, 3.70967742, 3.69230769, 3.10447761, 3.96666667,\n",
       "       3.53571429, 3.61904762, 3.27272727, 2.16470588, 3.8       ,\n",
       "       3.        , 3.03726708, 3.57692308, 2.85714286, 3.23684211,\n",
       "       3.38554217, 3.7       , 3.02803738, 3.609375  , 3.32075472,\n",
       "       3.        , 3.96969697, 3.67567568, 3.6       , 3.4       ,\n",
       "       3.46153846, 3.46153846, 3.68571429, 3.85185185, 3.1       ,\n",
       "       3.64179104, 4.05460751, 3.72222222, 3.62295082, 3.09090909,\n",
       "       3.54166667, 3.20547945, 3.59649123, 3.38235294, 3.10526316,\n",
       "       3.19266055, 3.36746988, 3.8767507 , 4.0625    , 3.24390244,\n",
       "       2.84848485, 3.04761905, 3.78294574, 3.68807339, 4.08695652,\n",
       "       3.35428571, 4.43243243, 3.265625  , 3.06896552, 4.296875  ,\n",
       "       3.71428571, 4.        , 3.27950311, 2.05803571, 3.78571429,\n",
       "       3.46666667, 4.05555556, 2.95384615, 3.91891892, 3.87272727,\n",
       "       3.78571429, 2.7887931 , 3.86666667, 3.84615385, 3.7037037 ,\n",
       "       3.87179487, 3.14035088, 3.34136546, 3.66666667, 3.01731602,\n",
       "       3.8       , 3.12765957, 3.50909091, 4.30769231, 3.13207547,\n",
       "       3.60055866, 2.65384615, 3.32635983, 4.        , 3.75      ,\n",
       "       4.03846154, 3.49333333, 3.09090909, 3.66566265, 3.34798535,\n",
       "       3.64285714, 3.89215686, 4.13043478, 3.45      , 4.42307692,\n",
       "       4.14285714, 3.5       , 2.79310345, 2.97142857, 3.7431694 ,\n",
       "       3.84      , 3.36111111, 3.47619048, 4.07142857, 3.        ,\n",
       "       4.33870968, 3.12      , 4.00540541, 2.6       , 3.6137931 ,\n",
       "       3.82608696, 3.25      , 3.11538462, 3.546875  , 3.74528302,\n",
       "       3.52054795, 2.96      , 3.05617978, 3.92592593, 4.14705882,\n",
       "       3.86      , 3.04347826, 4.11827957, 3.19298246, 4.13705584,\n",
       "       3.90322581, 3.74074074, 2.73529412, 3.50617284, 3.12903226,\n",
       "       3.74074074, 3.03424658, 4.28666667, 4.86956522, 4.52941176,\n",
       "       3.45933014, 3.46938776, 2.97560976, 3.21198157, 3.34782609,\n",
       "       3.42307692, 3.27272727, 3.42857143, 3.84615385, 3.23943662,\n",
       "       4.        , 4.36363636, 3.12149533, 3.82312925, 2.28787879,\n",
       "       2.7       , 4.26315789, 2.95192308, 2.87234043, 3.4535316 ,\n",
       "       3.49565217, 3.38028169, 2.9       , 3.82352941, 4.19101124,\n",
       "       4.19047619, 3.82716049, 3.26865672, 3.68965517, 3.42663043,\n",
       "       3.32046332, 4.05109489, 3.92537313, 3.72093023, 3.31372549,\n",
       "       3.3625    , 3.92397661, 4.3       , 3.43558282, 3.85714286,\n",
       "       4.12765957, 4.        , 3.42372881, 3.63673469, 3.75      ,\n",
       "       2.98066298, 3.96216216, 3.5       , 3.52592593, 2.55555556,\n",
       "       3.85483871, 3.44897959, 3.85294118, 3.74468085, 3.275     ,\n",
       "       3.80487805, 4.57142857, 3.55405405, 4.34615385, 3.16666667,\n",
       "       3.80612245, 3.81132075, 3.52272727, 3.08695652, 3.11538462,\n",
       "       3.3659306 , 3.54285714, 3.34951456, 3.47004608, 3.23076923,\n",
       "       3.27272727, 3.37007874, 4.14864865, 3.75609756, 3.125     ,\n",
       "       3.3       , 3.69166667, 4.6875    , 3.69387755, 2.96825397,\n",
       "       3.72131148, 3.96680498, 2.64673913, 3.70114943, 3.92307692,\n",
       "       3.74647887, 3.375     , 3.26851852, 4.26530612, 3.45794393,\n",
       "       4.04545455, 4.26582278, 3.41071429])"
      ]
     },
     "execution_count": 53,
     "metadata": {},
     "output_type": "execute_result"
    }
   ],
   "source": [
    "train_users = train_data['user'].unique()\n",
    "average_ratings = np.zeros(number_of_users)\n",
    "\n",
    "for user in train_users:\n",
    "    average_ratings[user-1] = ui_matrix_train[user-1, ui_matrix_train[user-1, :] != 0].mean()\n",
    "    \n",
    "average_ratings\n",
    "    "
   ]
  },
  {
   "cell_type": "markdown",
   "metadata": {},
   "source": [
    "Predloženi algoritam"
   ]
  },
  {
   "cell_type": "code",
   "execution_count": 54,
   "metadata": {},
   "outputs": [],
   "source": [
    "def CFCM(UI, user_u, alpha, K, N):\n",
    "    Nus = GetKSimilarUser(user_u-1, K)\n",
    "    Nud = GetKDSimilarUser(user_u-1, K)\n",
    "    \n",
    "    # pronalazimo iteme koje korisnik nije ocenio i nad njima primenjujemo algoritam\n",
    "    unrated_items = np.where(UI[user_u-1, :] == 0)[0]\n",
    "    number_of_unrated_items = unrated_items.shape[0]\n",
    "    # rečnik predvidjenih ocena za sve iteme\n",
    "    all_predicted_ratings = {}\n",
    "    # drugo, krace ime za matricu kovarijansi\n",
    "    COV = covariance_matrix\n",
    "    \n",
    "    \n",
    "    for item_i in unrated_items:\n",
    "        \n",
    "        # za racunanje dela iznad razlomacke crte u prvom delu gde se posmatraju slicni\n",
    "        similar = np.zeros(K)\n",
    "        # za racunanje dela ispod razlomacke crte u prvom delu gde se posmatraju slicni\n",
    "        divide_s = np.zeros(K)\n",
    "        # za racunanje dela iznad razlomacke crte u drugom delu gde se posmatraju razliciti\n",
    "        disimilar = np.zeros(K)\n",
    "        # za racunanje dela ispod razlomacke crte u drugom delu gde se posmatraju razliciti\n",
    "        divide_ds = np.zeros(K)\n",
    "    \n",
    "        for i in range(K):\n",
    "            if alpha != 0:\n",
    "                similar[i] = COV[user_u-1, Nus[i]]*(UI[Nus[i],item_i] - average_ratings[Nus[i]])\n",
    "                divide_s[i] = np.abs(COV[user_u-1, Nus[i]])\n",
    "            if alpha != 1:\n",
    "                disimilar[i] = np.abs(COV[user_u-1, Nud[i]])*(UI[Nud[i],item_i] - average_ratings[Nud[i]])\n",
    "                divide_ds[i] = np.abs(COV[user_u-1, Nud[i]])\n",
    "        \n",
    "        # formula iz algoritma\n",
    "        if (alpha != 0 and alpha != 1):\n",
    "            rui = average_ratings[user_u-1] + alpha * (np.sum(similar)/np.sum(divide_s)) + (1-alpha) * (np.sum(disimilar)/np.sum(divide_ds))\n",
    "        elif (alpha == 0):\n",
    "            rui = average_ratings[user_u-1] + (1-alpha) * (np.sum(disimilar)/np.sum(divide_ds))\n",
    "        elif (alpha == 1):\n",
    "            rui = average_ratings[user_u-1] + alpha * (np.sum(similar)/np.sum(divide_s))\n",
    "        \n",
    "        # za svaki element stavljamo u niz\n",
    "        all_predicted_ratings[item_i+1] = rui\n",
    "        #print(rui) \n",
    "        \n",
    "    # uzimamo prvih N najboljih predloga za usera u     \n",
    "    sorted_ratings = sorted(all_predicted_ratings.items(), key=lambda x: x[1], reverse=True)\n",
    "    sorted_i = [rating[0] for rating in sorted_ratings[:N]]\n",
    "    sorted_r = [rating[1] for rating in sorted_ratings[:N]]\n",
    "    \n",
    "    # rezultat je lista parova itema i njihovih ocena\n",
    "    Result = list(zip(sorted_i, sorted_r))\n",
    "    return Result"
   ]
  },
  {
   "cell_type": "code",
   "execution_count": 55,
   "metadata": {},
   "outputs": [
    {
     "data": {
      "text/plain": [
       "[(180, 4.523469504241303),\n",
       " (194, 4.051320619784957),\n",
       " (167, 4.036353115493646),\n",
       " (97, 3.964419680871499),\n",
       " (422, 3.8668083858506375)]"
      ]
     },
     "execution_count": 55,
     "metadata": {},
     "output_type": "execute_result"
    }
   ],
   "source": [
    "CFCM(ui_matrix_train, 200, 0.8, 10, 5)"
   ]
  },
  {
   "cell_type": "code",
   "execution_count": 56,
   "metadata": {},
   "outputs": [
    {
     "data": {
      "text/plain": [
       "[(172, 3.8285237217298667),\n",
       " (180, 3.4844098110462283),\n",
       " (317, 3.4079642947974307),\n",
       " (473, 3.2728623765735794),\n",
       " (567, 3.0366727508615536)]"
      ]
     },
     "execution_count": 56,
     "metadata": {},
     "output_type": "execute_result"
    }
   ],
   "source": [
    "CFCM(ui_matrix_train, 1, 0.8, 10, 5)"
   ]
  },
  {
   "cell_type": "markdown",
   "metadata": {},
   "source": [
    "Definišemo funkciju koja primenjuje naš algoritam za dato alfa, K i N."
   ]
  },
  {
   "cell_type": "code",
   "execution_count": 57,
   "metadata": {},
   "outputs": [],
   "source": [
    "def recommendToTestUsers(alpha, K, N):\n",
    "    users = test_data['user'].unique()\n",
    "    \n",
    "    R = {}\n",
    "    \n",
    "    for user in users:\n",
    "        R[user] = CFCM(ui_matrix_train, user, alpha = alpha, K = K, N = N)\n",
    "        \n",
    "    return R"
   ]
  },
  {
   "cell_type": "markdown",
   "metadata": {},
   "source": [
    "Za svakog test korisnika vraćamo filmove koje je gledao i ocene koje im je dao."
   ]
  },
  {
   "cell_type": "code",
   "execution_count": 58,
   "metadata": {},
   "outputs": [],
   "source": [
    "def getTestItems():\n",
    "    test_users = test_data['user'].unique()\n",
    "    T = {}\n",
    "    for test_user in test_users:\n",
    "        T[test_user] = list(zip(np.array(test_data[test_data['user'] == test_user]['item']), np.array(test_data[test_data['user'] == test_user]['rating'])))\n",
    "\n",
    "    return T"
   ]
  },
  {
   "cell_type": "code",
   "execution_count": 59,
   "metadata": {
    "scrolled": true
   },
   "outputs": [
    {
     "data": {
      "text/html": [
       "<div>\n",
       "<style scoped>\n",
       "    .dataframe tbody tr th:only-of-type {\n",
       "        vertical-align: middle;\n",
       "    }\n",
       "\n",
       "    .dataframe tbody tr th {\n",
       "        vertical-align: top;\n",
       "    }\n",
       "\n",
       "    .dataframe thead th {\n",
       "        text-align: right;\n",
       "    }\n",
       "</style>\n",
       "<table border=\"1\" class=\"dataframe\">\n",
       "  <thead>\n",
       "    <tr style=\"text-align: right;\">\n",
       "      <th></th>\n",
       "      <th>user</th>\n",
       "      <th>item</th>\n",
       "      <th>rating</th>\n",
       "      <th>timestamp</th>\n",
       "    </tr>\n",
       "  </thead>\n",
       "  <tbody>\n",
       "    <tr>\n",
       "      <th>0</th>\n",
       "      <td>1</td>\n",
       "      <td>1</td>\n",
       "      <td>5</td>\n",
       "      <td>874965758</td>\n",
       "    </tr>\n",
       "    <tr>\n",
       "      <th>1</th>\n",
       "      <td>1</td>\n",
       "      <td>2</td>\n",
       "      <td>3</td>\n",
       "      <td>876893171</td>\n",
       "    </tr>\n",
       "    <tr>\n",
       "      <th>2</th>\n",
       "      <td>1</td>\n",
       "      <td>8</td>\n",
       "      <td>1</td>\n",
       "      <td>875072484</td>\n",
       "    </tr>\n",
       "    <tr>\n",
       "      <th>3</th>\n",
       "      <td>1</td>\n",
       "      <td>9</td>\n",
       "      <td>5</td>\n",
       "      <td>878543541</td>\n",
       "    </tr>\n",
       "    <tr>\n",
       "      <th>4</th>\n",
       "      <td>1</td>\n",
       "      <td>21</td>\n",
       "      <td>1</td>\n",
       "      <td>878542772</td>\n",
       "    </tr>\n",
       "    <tr>\n",
       "      <th>...</th>\n",
       "      <td>...</td>\n",
       "      <td>...</td>\n",
       "      <td>...</td>\n",
       "      <td>...</td>\n",
       "    </tr>\n",
       "    <tr>\n",
       "      <th>19995</th>\n",
       "      <td>655</td>\n",
       "      <td>693</td>\n",
       "      <td>3</td>\n",
       "      <td>888984506</td>\n",
       "    </tr>\n",
       "    <tr>\n",
       "      <th>19996</th>\n",
       "      <td>655</td>\n",
       "      <td>736</td>\n",
       "      <td>3</td>\n",
       "      <td>888685734</td>\n",
       "    </tr>\n",
       "    <tr>\n",
       "      <th>19997</th>\n",
       "      <td>655</td>\n",
       "      <td>918</td>\n",
       "      <td>2</td>\n",
       "      <td>892436609</td>\n",
       "    </tr>\n",
       "    <tr>\n",
       "      <th>19998</th>\n",
       "      <td>655</td>\n",
       "      <td>1403</td>\n",
       "      <td>3</td>\n",
       "      <td>888813372</td>\n",
       "    </tr>\n",
       "    <tr>\n",
       "      <th>19999</th>\n",
       "      <td>658</td>\n",
       "      <td>276</td>\n",
       "      <td>4</td>\n",
       "      <td>875145572</td>\n",
       "    </tr>\n",
       "  </tbody>\n",
       "</table>\n",
       "<p>20000 rows × 4 columns</p>\n",
       "</div>"
      ],
      "text/plain": [
       "       user  item  rating  timestamp\n",
       "0         1     1       5  874965758\n",
       "1         1     2       3  876893171\n",
       "2         1     8       1  875072484\n",
       "3         1     9       5  878543541\n",
       "4         1    21       1  878542772\n",
       "...     ...   ...     ...        ...\n",
       "19995   655   693       3  888984506\n",
       "19996   655   736       3  888685734\n",
       "19997   655   918       2  892436609\n",
       "19998   655  1403       3  888813372\n",
       "19999   658   276       4  875145572\n",
       "\n",
       "[20000 rows x 4 columns]"
      ]
     },
     "execution_count": 59,
     "metadata": {},
     "output_type": "execute_result"
    }
   ],
   "source": [
    "test_data"
   ]
  },
  {
   "cell_type": "markdown",
   "metadata": {},
   "source": [
    "Definišemo funkciju za računanje metrike F1."
   ]
  },
  {
   "cell_type": "code",
   "execution_count": 60,
   "metadata": {},
   "outputs": [],
   "source": [
    "def getF1(R, T):\n",
    "    test_users = test_data['user'].unique()\n",
    "    number_of_test_users = test_data['user'].unique().shape[0]\n",
    "    \n",
    "    A = np.zeros(number_of_test_users)\n",
    "    B = np.zeros(number_of_test_users)\n",
    "    C = np.zeros(number_of_test_users)\n",
    "    i = 0\n",
    "    for test_user in test_users:\n",
    "        A[i] = len(set([t[0] for t in T[test_user]]) & set([r[0] for r in R[test_user]]))\n",
    "        B[i] = len(T[test_user])\n",
    "        C[i] = len(R[test_user])\n",
    "        i = i + 1\n",
    "        \n",
    "    Recall = np.sum(A)/np.sum(B)\n",
    "    Precision = np.sum(A)/np.sum(C)\n",
    "    \n",
    "    return 2 / (1/Precision + 1/Recall)"
   ]
  },
  {
   "cell_type": "markdown",
   "metadata": {},
   "source": [
    "Definišemo funkcije za računanje metrike MAE. Prilikom primene algoritma će se računati metrika NMAE (u funkciji applyAlgorithm), normalizacijom rezultata funkcije getMAE."
   ]
  },
  {
   "cell_type": "code",
   "execution_count": 61,
   "metadata": {},
   "outputs": [],
   "source": [
    "def getRating(X, item):\n",
    "    for x in X:        \n",
    "        if (x[0] == item):\n",
    "            return x[1]\n",
    "    return inf"
   ]
  },
  {
   "cell_type": "code",
   "execution_count": 62,
   "metadata": {},
   "outputs": [],
   "source": [
    "def getMAE(R, T):\n",
    "    S = 0\n",
    "    Num = 0\n",
    "    for test_user in T:\n",
    "        test_items = [x[0] for x in T[test_user]]\n",
    "        \n",
    "        recommended_items = [y[0] for y in R[test_user]]\n",
    "        \n",
    "        A = set(test_items) & set(recommended_items)\n",
    "        Num += len(A)\n",
    "        if (len(A)):\n",
    "            for item in A:\n",
    "                S += abs(getRating(T[test_user], item) - getRating(R[test_user], item))\n",
    "\n",
    "    return S/Num          "
   ]
  },
  {
   "cell_type": "markdown",
   "metadata": {},
   "source": [
    "Definišemo funkcije za računanje diverziteta."
   ]
  },
  {
   "cell_type": "code",
   "execution_count": 63,
   "metadata": {},
   "outputs": [],
   "source": [
    "def findUsersForItem(item):\n",
    "    x = np.array([u != 0 for u in ui_matrix_train[:, item - 1]])\n",
    "    return set(np.where(x == True)[0])"
   ]
  },
  {
   "cell_type": "code",
   "execution_count": 64,
   "metadata": {},
   "outputs": [],
   "source": [
    "def jaccard_similarity(items_of_user):\n",
    "    S = 0\n",
    "    \n",
    "    for i in range(len(items_of_user)):\n",
    "        for j in range(len(items_of_user)):\n",
    "            if (i < j):\n",
    "                users_i = findUsersForItem(items_of_user[i])\n",
    "                users_j = findUsersForItem(items_of_user[j])\n",
    "                \n",
    "                S += len(users_i & users_j)/len(users_i | users_j)\n",
    "                \n",
    "    return S"
   ]
  },
  {
   "cell_type": "code",
   "execution_count": 65,
   "metadata": {},
   "outputs": [],
   "source": [
    "def getDiversity(R):\n",
    "    number_of_test_users = test_data['user'].unique().shape[0]    \n",
    "    result = np.zeros(number_of_test_users)\n",
    "    i = 0\n",
    "\n",
    "    for r in R:\n",
    "        items_of_user = [x[0] for x in R[r]]\n",
    "        result[i] = 1 - (jaccard_similarity(items_of_user))/((1/2) * len(R[r]) * (len(R[r]) - 1))\n",
    "        i = i + 1\n",
    "        \n",
    "    Diversity = np.sum(result) / number_of_test_users\n",
    "        \n",
    "    return Diversity"
   ]
  },
  {
   "cell_type": "markdown",
   "metadata": {},
   "source": [
    "Primenjujemo algoritam za različite vrednosti parametara i pamtimo evaluacije za svaku od tih kombinacija parametara."
   ]
  },
  {
   "cell_type": "code",
   "execution_count": 66,
   "metadata": {},
   "outputs": [],
   "source": [
    "def applyAlgorithm(k):\n",
    "    T = getTestItems()\n",
    "    alphas = [0, 0.1, 0.2, 0.3, 0.4, 0.5, 0.6, 0.7, 0.8, 0.9, 1]\n",
    "\n",
    "    F1s = []\n",
    "    MAEs = []\n",
    "    NMAEs = []\n",
    "    Ds = []\n",
    "\n",
    "    print(k)\n",
    "    for alpha in alphas:\n",
    "        print(alpha)\n",
    "\n",
    "        R = recommendToTestUsers(alpha = alpha, K = k, N = 20)\n",
    "\n",
    "        F1 = getF1(R, T)\n",
    "        F1s.append(F1)\n",
    "\n",
    "        MAE = getMAE(R, T)\n",
    "        MAEs.append(MAE)\n",
    "        NMAEs.append(MAE * (1/(5-1)))\n",
    "\n",
    "        diversity = getDiversity(R)\n",
    "        Ds.append(diversity)\n",
    "\n",
    "    evaluations = list(zip(alphas, F1s, MAEs, NMAEs, Ds))\n",
    "    \n",
    "    return evaluations   "
   ]
  },
  {
   "cell_type": "code",
   "execution_count": 67,
   "metadata": {},
   "outputs": [
    {
     "name": "stdout",
     "output_type": "stream",
     "text": [
      "5\n",
      "0\n",
      "0.1\n",
      "0.2\n",
      "0.3\n",
      "0.4\n",
      "0.5\n",
      "0.6\n",
      "0.7\n",
      "0.8\n",
      "0.9\n",
      "1\n",
      "[(0, 0.015789473684210527, 1.4493807214491736, 0.3623451803622934, 0.7923176114418583), (0.1, 0.01645493042952208, 1.4545470657168353, 0.36363676642920884, 0.7864179045593979), (0.2, 0.017362371445856017, 1.47853590997247, 0.3696339774931175, 0.7790538431357243), (0.3, 0.019540229885057474, 1.5830147298723027, 0.3957536824680757, 0.7698914008190412), (0.4, 0.023956442831215976, 1.6571589112783767, 0.41428972781959417, 0.7615902804128296), (0.5, 0.03163944343617665, 1.5435306230978525, 0.3858826557744631, 0.7596723725242841), (0.6, 0.04035087719298246, 1.3525546055566224, 0.3381386513891556, 0.7617192936564154), (0.7, 0.044646098003629765, 1.1682989998307713, 0.29207474995769284, 0.7635739886905998), (0.8, 0.04627949183303085, 0.9820900719746567, 0.24552251799366417, 0.76548891020018), (0.9, 0.04670296430732002, 0.8665168465060495, 0.21662921162651239, 0.7675394928766237), (1, 0.04767090139140955, 0.846931600918683, 0.21173290022967076, 0.7693440776845906)]\n",
      "Wall time: 27min 47s\n"
     ]
    }
   ],
   "source": [
    "%%time\n",
    "evaluations = {}\n",
    "evaluations[5] = applyAlgorithm(5)\n",
    "print(evaluations[5])"
   ]
  },
  {
   "cell_type": "code",
   "execution_count": 68,
   "metadata": {},
   "outputs": [
    {
     "name": "stdout",
     "output_type": "stream",
     "text": [
      "15\n",
      "0\n",
      "0.1\n",
      "0.2\n",
      "0.3\n",
      "0.4\n",
      "0.5\n",
      "0.6\n",
      "0.7\n",
      "0.8\n",
      "0.9\n",
      "1\n",
      "[(0, 0.01427707199032063, 1.8105994112166617, 0.4526498528041654, 0.7635158145719543), (0.1, 0.016091954022988506, 1.9058109882922516, 0.4764527470730629, 0.7565085354998436), (0.2, 0.017846339987900785, 1.9352640791786653, 0.4838160197946663, 0.7480938089496734), (0.3, 0.021415607985480943, 2.0275269147314035, 0.5068817286828509, 0.7379511544908492), (0.4, 0.026436781609195405, 2.0170237332682124, 0.5042559333170531, 0.7289513839903417), (0.5, 0.034845735027223226, 1.857523902195788, 0.464380975548947, 0.7243777456071879), (0.6, 0.04113732607380521, 1.6315288225863342, 0.40788220564658356, 0.7273803270651964), (0.7, 0.04603750756200847, 1.4431401019220595, 0.3607850254805149, 0.7296016320657669), (0.8, 0.04779189352692075, 1.2258238713840697, 0.3064559678460174, 0.7311435020532974), (0.9, 0.04930429522081065, 1.052871782285552, 0.263217945571388, 0.7331733726101921), (1, 0.04972776769509982, 0.9354755708941621, 0.23386889272354053, 0.7350265437508275)]\n",
      "Wall time: 41min 44s\n"
     ]
    }
   ],
   "source": [
    "%%time\n",
    "evaluations[15] = applyAlgorithm(15)\n",
    "print(evaluations[15])"
   ]
  },
  {
   "cell_type": "code",
   "execution_count": 69,
   "metadata": {},
   "outputs": [
    {
     "name": "stdout",
     "output_type": "stream",
     "text": [
      "25\n",
      "0\n",
      "0.1\n",
      "0.2\n",
      "0.3\n",
      "0.4\n",
      "0.5\n",
      "0.6\n",
      "0.7\n",
      "0.8\n",
      "0.9\n",
      "1\n",
      "[(0, 0.01482153660012099, 1.9323355650235168, 0.4830838912558792, 0.7543531758530121), (0.1, 0.016999395039322445, 2.038096709121698, 0.5095241772804245, 0.7471486485280465), (0.2, 0.018148820326678767, 2.1067389755083292, 0.5266847438770823, 0.7393013893883137), (0.3, 0.021294615849969754, 2.195230622377213, 0.5488076555943032, 0.7284813440909914), (0.4, 0.028070175438596492, 2.1702329221703285, 0.5425582305425821, 0.719626367040574), (0.5, 0.03502722323049002, 1.990006336527445, 0.49750158413186124, 0.7143370918873789), (0.6, 0.04077434966727163, 1.7515716858348516, 0.4378929214587129, 0.7142240169740086), (0.7, 0.045372050816696916, 1.5562779249753118, 0.38906948124382795, 0.7177315876275306), (0.8, 0.04888082274652148, 1.366396785502915, 0.3415991963757288, 0.7203866556421259), (0.9, 0.0499697519661222, 1.1748505178239756, 0.2937126294559939, 0.7223538992555073), (1, 0.05057471264367816, 1.0255772887922932, 0.2563943221980733, 0.7243803308873852)]\n",
      "Wall time: 56min 18s\n"
     ]
    }
   ],
   "source": [
    "%%time\n",
    "evaluations[25] = applyAlgorithm(25)\n",
    "print(evaluations[25])"
   ]
  },
  {
   "cell_type": "code",
   "execution_count": 70,
   "metadata": {
    "scrolled": true
   },
   "outputs": [
    {
     "data": {
      "image/png": "[encoded data removed]",
      "text/plain": [
       "<Figure size 720x360 with 1 Axes>"
      ]
     },
     "metadata": {
      "needs_background": "light"
     },
     "output_type": "display_data"
    }
   ],
   "source": [
    "plt.figure(figsize = (10, 5))\n",
    "plt.title('Evaluacija rada algoritma kroz F1 meru, N = 20')\n",
    "plt.plot([element[0] for element in evaluations[5]], [element[1] for element in evaluations[5]], label = 'K = 5')\n",
    "plt.scatter([element[0] for element in evaluations[5]], [element[1] for element in evaluations[5]])\n",
    "plt.plot([element[0] for element in evaluations[15]], [element[1] for element in evaluations[15]], label = 'K = 15')\n",
    "plt.scatter([element[0] for element in evaluations[15]], [element[1] for element in evaluations[15]])\n",
    "plt.plot([element[0] for element in evaluations[25]], [element[1] for element in evaluations[25]], label = 'K = 25')\n",
    "plt.scatter([element[0] for element in evaluations[25]], [element[1] for element in evaluations[25]])\n",
    "plt.legend(loc = 'best')\n",
    "plt.xlabel('alpha')\n",
    "plt.ylabel('F1')\n",
    "plt.show()"
   ]
  },
  {
   "cell_type": "code",
   "execution_count": 71,
   "metadata": {},
   "outputs": [
    {
     "data": {
      "image/png": "[encoded data removed]",
      "text/plain": [
       "<Figure size 720x360 with 1 Axes>"
      ]
     },
     "metadata": {
      "needs_background": "light"
     },
     "output_type": "display_data"
    }
   ],
   "source": [
    "plt.figure(figsize = (10, 5))\n",
    "plt.title('Evaluacija rada algoritma kroz MAE meru, N = 20')\n",
    "plt.plot([element[0] for element in evaluations[5]], [element[2] for element in evaluations[5]], label = 'K = 5')\n",
    "plt.scatter([element[0] for element in evaluations[5]], [element[2] for element in evaluations[5]])\n",
    "plt.plot([element[0] for element in evaluations[15]], [element[2] for element in evaluations[15]], label = 'K = 15')\n",
    "plt.scatter([element[0] for element in evaluations[15]], [element[2] for element in evaluations[15]])\n",
    "plt.plot([element[0] for element in evaluations[25]], [element[2] for element in evaluations[25]], label = 'K = 25')\n",
    "plt.scatter([element[0] for element in evaluations[25]], [element[2] for element in evaluations[25]])\n",
    "plt.legend(loc = 'best')\n",
    "plt.xlabel('alpha')\n",
    "plt.ylabel('MAE')\n",
    "plt.show()"
   ]
  },
  {
   "cell_type": "code",
   "execution_count": 72,
   "metadata": {},
   "outputs": [
    {
     "data": {
      "image/png": "[encoded data removed]",
      "text/plain": [
       "<Figure size 720x360 with 1 Axes>"
      ]
     },
     "metadata": {
      "needs_background": "light"
     },
     "output_type": "display_data"
    }
   ],
   "source": [
    "plt.figure(figsize = (10, 5))\n",
    "plt.title('Evaluacija rada algoritma kroz NMAE meru, N = 20')\n",
    "plt.plot([element[0] for element in evaluations[5]], [element[3] for element in evaluations[5]], label = 'K = 5')\n",
    "plt.scatter([element[0] for element in evaluations[5]], [element[3] for element in evaluations[5]])\n",
    "plt.plot([element[0] for element in evaluations[15]], [element[3] for element in evaluations[15]], label = 'K = 15')\n",
    "plt.scatter([element[0] for element in evaluations[15]], [element[3] for element in evaluations[15]])\n",
    "plt.plot([element[0] for element in evaluations[25]], [element[3] for element in evaluations[25]], label = 'K = 25')\n",
    "plt.scatter([element[0] for element in evaluations[25]], [element[3] for element in evaluations[25]])\n",
    "plt.legend(loc = 'best')\n",
    "plt.xlabel('alpha')\n",
    "plt.ylabel('NMAE')\n",
    "plt.show()"
   ]
  },
  {
   "cell_type": "code",
   "execution_count": 73,
   "metadata": {},
   "outputs": [
    {
     "data": {
      "image/png": "[encoded data removed]",
      "text/plain": [
       "<Figure size 720x360 with 1 Axes>"
      ]
     },
     "metadata": {
      "needs_background": "light"
     },
     "output_type": "display_data"
    }
   ],
   "source": [
    "plt.figure(figsize = (10, 5))\n",
    "plt.title('Evaluacija rada algoritma kroz Diversity meru, N = 20')\n",
    "plt.plot([element[0] for element in evaluations[5]], [element[4] for element in evaluations[5]], label = 'K = 5')\n",
    "plt.scatter([element[0] for element in evaluations[5]], [element[4] for element in evaluations[5]])\n",
    "plt.plot([element[0] for element in evaluations[15]], [element[4] for element in evaluations[15]], label = 'K = 15')\n",
    "plt.scatter([element[0] for element in evaluations[15]], [element[4] for element in evaluations[15]])\n",
    "plt.plot([element[0] for element in evaluations[25]], [element[4] for element in evaluations[25]], label = 'K = 25')\n",
    "plt.scatter([element[0] for element in evaluations[25]], [element[4] for element in evaluations[25]])\n",
    "plt.legend(loc = 'best')\n",
    "plt.xlabel('alpha')\n",
    "plt.ylabel('Diversity')\n",
    "plt.show()"
   ]
  },
  {
   "cell_type": "markdown",
   "metadata": {},
   "source": [
    "Nakon izvršavanja algoritma nad ovim test i trening podacima, primećujemo da smo dobili veoma slične rezultate kao i za prvu podelu, samo u drugim opsezima."
   ]
  }
 ],
 "metadata": {
  "kernelspec": {
   "display_name": "Python 3",
   "language": "python",
   "name": "python3"
  },
  "language_info": {
   "codemirror_mode": {
    "name": "ipython",
    "version": 3
   },
   "file_extension": ".py",
   "mimetype": "text/x-python",
   "name": "python",
   "nbconvert_exporter": "python",
   "pygments_lexer": "ipython3",
   "version": "3.8.5"
  }
 },
 "nbformat": 4,
 "nbformat_minor": 4
}
