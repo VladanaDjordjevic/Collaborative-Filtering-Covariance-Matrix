{
 "cells": [
  {
   "cell_type": "markdown",
   "metadata": {},
   "source": [
    "# MovieLens 100K: Sistem preporuka zasnovan na uzajamnom filtriranju koristeći matricu kovarijansi"
   ]
  },
  {
   "cell_type": "markdown",
   "metadata": {},
   "source": [
    "Sistem preporuka je sistem koji preporučuje proizvode korisniku za koje smatra da su mu od značaja. Ovi sistemi su široko rasprostranjeni i korišćeni u različitim sferama života. Postoji više različitih vrsta takvih sistema, ovde će biti korišćen sistem zasnovan na **uzajamnom filtriranju**. Osnovna ideja uzajamnog filtriranja je da ako su korisnici imali slična interesovanja u prošlosti imaće slična interesovanja i u budućnosti, tj. da prethodno ponašanje korisnika ima ogroman uticaj na njegovo buduće ponašanje. "
   ]
  },
  {
   "cell_type": "markdown",
   "metadata": {},
   "source": [
    "Kako se ocenjuje sličnost među korisnicima? Konstruiše se matrica sličnosti, gde se sličnost može izračunati korišćenjem različitih metrika. Među korišćenim metrikama najpopularnije su kosinusna funkcija sličnosti, Pirsonov koeficijent korelacije, Žakardov indeks, razlika srednjih kvadrata, kombinacija razlike srednjih kvadrata i Žakardovog indeksa, itd. Međutim, ovakav pristup uzajamnom filtriranju može imati nekoliko problema:\n",
    "\n",
    "**1) Kvalitet sistema preporuka zasnovanom na uzajamnom filtriranju može umnogome zavisiti od retkosti podataka.**\n",
    "\n",
    "**2) Sistem se teško prilagođava situaciji kada se interesovanja korisnika menjaju tokom vremena.**\n",
    "\n",
    "**3) Sistem preporučuje slične proizvode korisniku ignorišiću korisnikovu potrebu za raznolikošću.**"
   ]
  },
  {
   "cell_type": "markdown",
   "metadata": {},
   "source": [
    "Zbog navedenih problema preporučen je novi pristup uzajamnom filtriranju koji se ne zasniva na matrici sličnosti među korisnicima, nego na matrici kovarijansi. Ovaj rad je zasnovan na naučnom radu koji se može pronaći na sledećoj adresi: https://www.hindawi.com/journals/mpe/2018/9740402/.\n",
    "\n",
    "U njemu je predložen algoritam CFCM (Collaborative Filtering Covariance Matrix) kojim se rešavaju prethodno navedeni problemi i poboljšava se kvalitet preporuka. Naš zadatak je da implementiramo navedeni algoritam i da evaluiramo njegove performanse."
   ]
  },
  {
   "cell_type": "code",
   "execution_count": 1,
   "metadata": {},
   "outputs": [],
   "source": [
    "import pandas as pd\n",
    "import numpy as np\n",
    "from matplotlib import pyplot as plt"
   ]
  },
  {
   "cell_type": "markdown",
   "metadata": {},
   "source": [
    "Koristićemo dostupan skup podataka pod imenom MovieLens u veličini od 100 000. Skup podataka se može naći na: https://grouplens.org/datasets/movielens/100k/."
   ]
  },
  {
   "cell_type": "markdown",
   "metadata": {},
   "source": [
    "U naučnom radu na kome se zasniva ovaj rad korišćen je skup podataka MovieLens 1M, koji se sastoji od jednog miliona podataka. Mi smo istraživanje odradile na ovom skupu od 100 000 zbog hardverskih ograničenja, ali i zbog već dostupnih trening i test podataka."
   ]
  },
  {
   "cell_type": "code",
   "execution_count": 2,
   "metadata": {},
   "outputs": [],
   "source": [
    "header = ['user', 'item', 'rating', 'timestamp']"
   ]
  },
  {
   "cell_type": "markdown",
   "metadata": {},
   "source": [
    "Učitavamo ceo skup podataka."
   ]
  },
  {
   "cell_type": "code",
   "execution_count": 3,
   "metadata": {},
   "outputs": [],
   "source": [
    "data = pd.read_csv('ml-100k/u.data', sep = '\\\\t', names = header, engine = 'python')"
   ]
  },
  {
   "cell_type": "code",
   "execution_count": 4,
   "metadata": {},
   "outputs": [
    {
     "data": {
      "text/html": [
       "<div>\n",
       "<style scoped>\n",
       "    .dataframe tbody tr th:only-of-type {\n",
       "        vertical-align: middle;\n",
       "    }\n",
       "\n",
       "    .dataframe tbody tr th {\n",
       "        vertical-align: top;\n",
       "    }\n",
       "\n",
       "    .dataframe thead th {\n",
       "        text-align: right;\n",
       "    }\n",
       "</style>\n",
       "<table border=\"1\" class=\"dataframe\">\n",
       "  <thead>\n",
       "    <tr style=\"text-align: right;\">\n",
       "      <th></th>\n",
       "      <th>user</th>\n",
       "      <th>item</th>\n",
       "      <th>rating</th>\n",
       "      <th>timestamp</th>\n",
       "    </tr>\n",
       "  </thead>\n",
       "  <tbody>\n",
       "    <tr>\n",
       "      <th>0</th>\n",
       "      <td>196</td>\n",
       "      <td>242</td>\n",
       "      <td>3</td>\n",
       "      <td>881250949</td>\n",
       "    </tr>\n",
       "    <tr>\n",
       "      <th>1</th>\n",
       "      <td>186</td>\n",
       "      <td>302</td>\n",
       "      <td>3</td>\n",
       "      <td>891717742</td>\n",
       "    </tr>\n",
       "    <tr>\n",
       "      <th>2</th>\n",
       "      <td>22</td>\n",
       "      <td>377</td>\n",
       "      <td>1</td>\n",
       "      <td>878887116</td>\n",
       "    </tr>\n",
       "    <tr>\n",
       "      <th>3</th>\n",
       "      <td>244</td>\n",
       "      <td>51</td>\n",
       "      <td>2</td>\n",
       "      <td>880606923</td>\n",
       "    </tr>\n",
       "    <tr>\n",
       "      <th>4</th>\n",
       "      <td>166</td>\n",
       "      <td>346</td>\n",
       "      <td>1</td>\n",
       "      <td>886397596</td>\n",
       "    </tr>\n",
       "  </tbody>\n",
       "</table>\n",
       "</div>"
      ],
      "text/plain": [
       "   user  item  rating  timestamp\n",
       "0   196   242       3  881250949\n",
       "1   186   302       3  891717742\n",
       "2    22   377       1  878887116\n",
       "3   244    51       2  880606923\n",
       "4   166   346       1  886397596"
      ]
     },
     "execution_count": 4,
     "metadata": {},
     "output_type": "execute_result"
    }
   ],
   "source": [
    "data.head()"
   ]
  },
  {
   "cell_type": "code",
   "execution_count": 5,
   "metadata": {},
   "outputs": [
    {
     "name": "stdout",
     "output_type": "stream",
     "text": [
      "<class 'pandas.core.frame.DataFrame'>\n",
      "RangeIndex: 100000 entries, 0 to 99999\n",
      "Data columns (total 4 columns):\n",
      " #   Column     Non-Null Count   Dtype\n",
      "---  ------     --------------   -----\n",
      " 0   user       100000 non-null  int64\n",
      " 1   item       100000 non-null  int64\n",
      " 2   rating     100000 non-null  int64\n",
      " 3   timestamp  100000 non-null  int64\n",
      "dtypes: int64(4)\n",
      "memory usage: 3.1 MB\n"
     ]
    }
   ],
   "source": [
    "data.info()"
   ]
  },
  {
   "cell_type": "markdown",
   "metadata": {},
   "source": [
    "Proveravamo koliko različitih korisnika i filmova imamo."
   ]
  },
  {
   "cell_type": "code",
   "execution_count": 6,
   "metadata": {},
   "outputs": [
    {
     "data": {
      "text/plain": [
       "943"
      ]
     },
     "execution_count": 6,
     "metadata": {},
     "output_type": "execute_result"
    }
   ],
   "source": [
    "number_of_users = data['user'].unique().shape[0]\n",
    "number_of_users"
   ]
  },
  {
   "cell_type": "code",
   "execution_count": 7,
   "metadata": {},
   "outputs": [
    {
     "data": {
      "text/plain": [
       "1682"
      ]
     },
     "execution_count": 7,
     "metadata": {},
     "output_type": "execute_result"
    }
   ],
   "source": [
    "number_of_items = data['item'].unique().shape[0]\n",
    "number_of_items"
   ]
  },
  {
   "cell_type": "markdown",
   "metadata": {},
   "source": [
    "Formiramo USER-ITEM matricu podataka. Redovi predstavljaju korisnike, a kolone filmove, dok polja matrice odgovaraju ocenama koje je odgovarajući korisnik dao odgovarajućem filmu."
   ]
  },
  {
   "cell_type": "code",
   "execution_count": 8,
   "metadata": {},
   "outputs": [],
   "source": [
    "ui_matrix = pd.pivot_table(data, index = 'user', columns = 'item', values = 'rating')"
   ]
  },
  {
   "cell_type": "code",
   "execution_count": 9,
   "metadata": {},
   "outputs": [
    {
     "data": {
      "text/html": [
       "<div>\n",
       "<style scoped>\n",
       "    .dataframe tbody tr th:only-of-type {\n",
       "        vertical-align: middle;\n",
       "    }\n",
       "\n",
       "    .dataframe tbody tr th {\n",
       "        vertical-align: top;\n",
       "    }\n",
       "\n",
       "    .dataframe thead th {\n",
       "        text-align: right;\n",
       "    }\n",
       "</style>\n",
       "<table border=\"1\" class=\"dataframe\">\n",
       "  <thead>\n",
       "    <tr style=\"text-align: right;\">\n",
       "      <th>item</th>\n",
       "      <th>1</th>\n",
       "      <th>2</th>\n",
       "      <th>3</th>\n",
       "      <th>4</th>\n",
       "      <th>5</th>\n",
       "      <th>6</th>\n",
       "      <th>7</th>\n",
       "      <th>8</th>\n",
       "      <th>9</th>\n",
       "      <th>10</th>\n",
       "      <th>...</th>\n",
       "      <th>1673</th>\n",
       "      <th>1674</th>\n",
       "      <th>1675</th>\n",
       "      <th>1676</th>\n",
       "      <th>1677</th>\n",
       "      <th>1678</th>\n",
       "      <th>1679</th>\n",
       "      <th>1680</th>\n",
       "      <th>1681</th>\n",
       "      <th>1682</th>\n",
       "    </tr>\n",
       "    <tr>\n",
       "      <th>user</th>\n",
       "      <th></th>\n",
       "      <th></th>\n",
       "      <th></th>\n",
       "      <th></th>\n",
       "      <th></th>\n",
       "      <th></th>\n",
       "      <th></th>\n",
       "      <th></th>\n",
       "      <th></th>\n",
       "      <th></th>\n",
       "      <th></th>\n",
       "      <th></th>\n",
       "      <th></th>\n",
       "      <th></th>\n",
       "      <th></th>\n",
       "      <th></th>\n",
       "      <th></th>\n",
       "      <th></th>\n",
       "      <th></th>\n",
       "      <th></th>\n",
       "      <th></th>\n",
       "    </tr>\n",
       "  </thead>\n",
       "  <tbody>\n",
       "    <tr>\n",
       "      <th>1</th>\n",
       "      <td>5.0</td>\n",
       "      <td>3.0</td>\n",
       "      <td>4.0</td>\n",
       "      <td>3.0</td>\n",
       "      <td>3.0</td>\n",
       "      <td>5.0</td>\n",
       "      <td>4.0</td>\n",
       "      <td>1.0</td>\n",
       "      <td>5.0</td>\n",
       "      <td>3.0</td>\n",
       "      <td>...</td>\n",
       "      <td>NaN</td>\n",
       "      <td>NaN</td>\n",
       "      <td>NaN</td>\n",
       "      <td>NaN</td>\n",
       "      <td>NaN</td>\n",
       "      <td>NaN</td>\n",
       "      <td>NaN</td>\n",
       "      <td>NaN</td>\n",
       "      <td>NaN</td>\n",
       "      <td>NaN</td>\n",
       "    </tr>\n",
       "    <tr>\n",
       "      <th>2</th>\n",
       "      <td>4.0</td>\n",
       "      <td>NaN</td>\n",
       "      <td>NaN</td>\n",
       "      <td>NaN</td>\n",
       "      <td>NaN</td>\n",
       "      <td>NaN</td>\n",
       "      <td>NaN</td>\n",
       "      <td>NaN</td>\n",
       "      <td>NaN</td>\n",
       "      <td>2.0</td>\n",
       "      <td>...</td>\n",
       "      <td>NaN</td>\n",
       "      <td>NaN</td>\n",
       "      <td>NaN</td>\n",
       "      <td>NaN</td>\n",
       "      <td>NaN</td>\n",
       "      <td>NaN</td>\n",
       "      <td>NaN</td>\n",
       "      <td>NaN</td>\n",
       "      <td>NaN</td>\n",
       "      <td>NaN</td>\n",
       "    </tr>\n",
       "    <tr>\n",
       "      <th>3</th>\n",
       "      <td>NaN</td>\n",
       "      <td>NaN</td>\n",
       "      <td>NaN</td>\n",
       "      <td>NaN</td>\n",
       "      <td>NaN</td>\n",
       "      <td>NaN</td>\n",
       "      <td>NaN</td>\n",
       "      <td>NaN</td>\n",
       "      <td>NaN</td>\n",
       "      <td>NaN</td>\n",
       "      <td>...</td>\n",
       "      <td>NaN</td>\n",
       "      <td>NaN</td>\n",
       "      <td>NaN</td>\n",
       "      <td>NaN</td>\n",
       "      <td>NaN</td>\n",
       "      <td>NaN</td>\n",
       "      <td>NaN</td>\n",
       "      <td>NaN</td>\n",
       "      <td>NaN</td>\n",
       "      <td>NaN</td>\n",
       "    </tr>\n",
       "    <tr>\n",
       "      <th>4</th>\n",
       "      <td>NaN</td>\n",
       "      <td>NaN</td>\n",
       "      <td>NaN</td>\n",
       "      <td>NaN</td>\n",
       "      <td>NaN</td>\n",
       "      <td>NaN</td>\n",
       "      <td>NaN</td>\n",
       "      <td>NaN</td>\n",
       "      <td>NaN</td>\n",
       "      <td>NaN</td>\n",
       "      <td>...</td>\n",
       "      <td>NaN</td>\n",
       "      <td>NaN</td>\n",
       "      <td>NaN</td>\n",
       "      <td>NaN</td>\n",
       "      <td>NaN</td>\n",
       "      <td>NaN</td>\n",
       "      <td>NaN</td>\n",
       "      <td>NaN</td>\n",
       "      <td>NaN</td>\n",
       "      <td>NaN</td>\n",
       "    </tr>\n",
       "    <tr>\n",
       "      <th>5</th>\n",
       "      <td>4.0</td>\n",
       "      <td>3.0</td>\n",
       "      <td>NaN</td>\n",
       "      <td>NaN</td>\n",
       "      <td>NaN</td>\n",
       "      <td>NaN</td>\n",
       "      <td>NaN</td>\n",
       "      <td>NaN</td>\n",
       "      <td>NaN</td>\n",
       "      <td>NaN</td>\n",
       "      <td>...</td>\n",
       "      <td>NaN</td>\n",
       "      <td>NaN</td>\n",
       "      <td>NaN</td>\n",
       "      <td>NaN</td>\n",
       "      <td>NaN</td>\n",
       "      <td>NaN</td>\n",
       "      <td>NaN</td>\n",
       "      <td>NaN</td>\n",
       "      <td>NaN</td>\n",
       "      <td>NaN</td>\n",
       "    </tr>\n",
       "    <tr>\n",
       "      <th>...</th>\n",
       "      <td>...</td>\n",
       "      <td>...</td>\n",
       "      <td>...</td>\n",
       "      <td>...</td>\n",
       "      <td>...</td>\n",
       "      <td>...</td>\n",
       "      <td>...</td>\n",
       "      <td>...</td>\n",
       "      <td>...</td>\n",
       "      <td>...</td>\n",
       "      <td>...</td>\n",
       "      <td>...</td>\n",
       "      <td>...</td>\n",
       "      <td>...</td>\n",
       "      <td>...</td>\n",
       "      <td>...</td>\n",
       "      <td>...</td>\n",
       "      <td>...</td>\n",
       "      <td>...</td>\n",
       "      <td>...</td>\n",
       "      <td>...</td>\n",
       "    </tr>\n",
       "    <tr>\n",
       "      <th>939</th>\n",
       "      <td>NaN</td>\n",
       "      <td>NaN</td>\n",
       "      <td>NaN</td>\n",
       "      <td>NaN</td>\n",
       "      <td>NaN</td>\n",
       "      <td>NaN</td>\n",
       "      <td>NaN</td>\n",
       "      <td>NaN</td>\n",
       "      <td>5.0</td>\n",
       "      <td>NaN</td>\n",
       "      <td>...</td>\n",
       "      <td>NaN</td>\n",
       "      <td>NaN</td>\n",
       "      <td>NaN</td>\n",
       "      <td>NaN</td>\n",
       "      <td>NaN</td>\n",
       "      <td>NaN</td>\n",
       "      <td>NaN</td>\n",
       "      <td>NaN</td>\n",
       "      <td>NaN</td>\n",
       "      <td>NaN</td>\n",
       "    </tr>\n",
       "    <tr>\n",
       "      <th>940</th>\n",
       "      <td>NaN</td>\n",
       "      <td>NaN</td>\n",
       "      <td>NaN</td>\n",
       "      <td>2.0</td>\n",
       "      <td>NaN</td>\n",
       "      <td>NaN</td>\n",
       "      <td>4.0</td>\n",
       "      <td>5.0</td>\n",
       "      <td>3.0</td>\n",
       "      <td>NaN</td>\n",
       "      <td>...</td>\n",
       "      <td>NaN</td>\n",
       "      <td>NaN</td>\n",
       "      <td>NaN</td>\n",
       "      <td>NaN</td>\n",
       "      <td>NaN</td>\n",
       "      <td>NaN</td>\n",
       "      <td>NaN</td>\n",
       "      <td>NaN</td>\n",
       "      <td>NaN</td>\n",
       "      <td>NaN</td>\n",
       "    </tr>\n",
       "    <tr>\n",
       "      <th>941</th>\n",
       "      <td>5.0</td>\n",
       "      <td>NaN</td>\n",
       "      <td>NaN</td>\n",
       "      <td>NaN</td>\n",
       "      <td>NaN</td>\n",
       "      <td>NaN</td>\n",
       "      <td>4.0</td>\n",
       "      <td>NaN</td>\n",
       "      <td>NaN</td>\n",
       "      <td>NaN</td>\n",
       "      <td>...</td>\n",
       "      <td>NaN</td>\n",
       "      <td>NaN</td>\n",
       "      <td>NaN</td>\n",
       "      <td>NaN</td>\n",
       "      <td>NaN</td>\n",
       "      <td>NaN</td>\n",
       "      <td>NaN</td>\n",
       "      <td>NaN</td>\n",
       "      <td>NaN</td>\n",
       "      <td>NaN</td>\n",
       "    </tr>\n",
       "    <tr>\n",
       "      <th>942</th>\n",
       "      <td>NaN</td>\n",
       "      <td>NaN</td>\n",
       "      <td>NaN</td>\n",
       "      <td>NaN</td>\n",
       "      <td>NaN</td>\n",
       "      <td>NaN</td>\n",
       "      <td>NaN</td>\n",
       "      <td>NaN</td>\n",
       "      <td>NaN</td>\n",
       "      <td>NaN</td>\n",
       "      <td>...</td>\n",
       "      <td>NaN</td>\n",
       "      <td>NaN</td>\n",
       "      <td>NaN</td>\n",
       "      <td>NaN</td>\n",
       "      <td>NaN</td>\n",
       "      <td>NaN</td>\n",
       "      <td>NaN</td>\n",
       "      <td>NaN</td>\n",
       "      <td>NaN</td>\n",
       "      <td>NaN</td>\n",
       "    </tr>\n",
       "    <tr>\n",
       "      <th>943</th>\n",
       "      <td>NaN</td>\n",
       "      <td>5.0</td>\n",
       "      <td>NaN</td>\n",
       "      <td>NaN</td>\n",
       "      <td>NaN</td>\n",
       "      <td>NaN</td>\n",
       "      <td>NaN</td>\n",
       "      <td>NaN</td>\n",
       "      <td>3.0</td>\n",
       "      <td>NaN</td>\n",
       "      <td>...</td>\n",
       "      <td>NaN</td>\n",
       "      <td>NaN</td>\n",
       "      <td>NaN</td>\n",
       "      <td>NaN</td>\n",
       "      <td>NaN</td>\n",
       "      <td>NaN</td>\n",
       "      <td>NaN</td>\n",
       "      <td>NaN</td>\n",
       "      <td>NaN</td>\n",
       "      <td>NaN</td>\n",
       "    </tr>\n",
       "  </tbody>\n",
       "</table>\n",
       "<p>943 rows × 1682 columns</p>\n",
       "</div>"
      ],
      "text/plain": [
       "item  1     2     3     4     5     6     7     8     9     10    ...  1673  \\\n",
       "user                                                              ...         \n",
       "1      5.0   3.0   4.0   3.0   3.0   5.0   4.0   1.0   5.0   3.0  ...   NaN   \n",
       "2      4.0   NaN   NaN   NaN   NaN   NaN   NaN   NaN   NaN   2.0  ...   NaN   \n",
       "3      NaN   NaN   NaN   NaN   NaN   NaN   NaN   NaN   NaN   NaN  ...   NaN   \n",
       "4      NaN   NaN   NaN   NaN   NaN   NaN   NaN   NaN   NaN   NaN  ...   NaN   \n",
       "5      4.0   3.0   NaN   NaN   NaN   NaN   NaN   NaN   NaN   NaN  ...   NaN   \n",
       "...    ...   ...   ...   ...   ...   ...   ...   ...   ...   ...  ...   ...   \n",
       "939    NaN   NaN   NaN   NaN   NaN   NaN   NaN   NaN   5.0   NaN  ...   NaN   \n",
       "940    NaN   NaN   NaN   2.0   NaN   NaN   4.0   5.0   3.0   NaN  ...   NaN   \n",
       "941    5.0   NaN   NaN   NaN   NaN   NaN   4.0   NaN   NaN   NaN  ...   NaN   \n",
       "942    NaN   NaN   NaN   NaN   NaN   NaN   NaN   NaN   NaN   NaN  ...   NaN   \n",
       "943    NaN   5.0   NaN   NaN   NaN   NaN   NaN   NaN   3.0   NaN  ...   NaN   \n",
       "\n",
       "item  1674  1675  1676  1677  1678  1679  1680  1681  1682  \n",
       "user                                                        \n",
       "1      NaN   NaN   NaN   NaN   NaN   NaN   NaN   NaN   NaN  \n",
       "2      NaN   NaN   NaN   NaN   NaN   NaN   NaN   NaN   NaN  \n",
       "3      NaN   NaN   NaN   NaN   NaN   NaN   NaN   NaN   NaN  \n",
       "4      NaN   NaN   NaN   NaN   NaN   NaN   NaN   NaN   NaN  \n",
       "5      NaN   NaN   NaN   NaN   NaN   NaN   NaN   NaN   NaN  \n",
       "...    ...   ...   ...   ...   ...   ...   ...   ...   ...  \n",
       "939    NaN   NaN   NaN   NaN   NaN   NaN   NaN   NaN   NaN  \n",
       "940    NaN   NaN   NaN   NaN   NaN   NaN   NaN   NaN   NaN  \n",
       "941    NaN   NaN   NaN   NaN   NaN   NaN   NaN   NaN   NaN  \n",
       "942    NaN   NaN   NaN   NaN   NaN   NaN   NaN   NaN   NaN  \n",
       "943    NaN   NaN   NaN   NaN   NaN   NaN   NaN   NaN   NaN  \n",
       "\n",
       "[943 rows x 1682 columns]"
      ]
     },
     "execution_count": 9,
     "metadata": {},
     "output_type": "execute_result"
    }
   ],
   "source": [
    "ui_matrix"
   ]
  },
  {
   "cell_type": "code",
   "execution_count": 10,
   "metadata": {
    "scrolled": true
   },
   "outputs": [
    {
     "data": {
      "text/html": [
       "<div>\n",
       "<style scoped>\n",
       "    .dataframe tbody tr th:only-of-type {\n",
       "        vertical-align: middle;\n",
       "    }\n",
       "\n",
       "    .dataframe tbody tr th {\n",
       "        vertical-align: top;\n",
       "    }\n",
       "\n",
       "    .dataframe thead th {\n",
       "        text-align: right;\n",
       "    }\n",
       "</style>\n",
       "<table border=\"1\" class=\"dataframe\">\n",
       "  <thead>\n",
       "    <tr style=\"text-align: right;\">\n",
       "      <th>item</th>\n",
       "      <th>1</th>\n",
       "      <th>2</th>\n",
       "      <th>3</th>\n",
       "      <th>4</th>\n",
       "      <th>5</th>\n",
       "      <th>6</th>\n",
       "      <th>7</th>\n",
       "      <th>8</th>\n",
       "      <th>9</th>\n",
       "      <th>10</th>\n",
       "      <th>...</th>\n",
       "      <th>1673</th>\n",
       "      <th>1674</th>\n",
       "      <th>1675</th>\n",
       "      <th>1676</th>\n",
       "      <th>1677</th>\n",
       "      <th>1678</th>\n",
       "      <th>1679</th>\n",
       "      <th>1680</th>\n",
       "      <th>1681</th>\n",
       "      <th>1682</th>\n",
       "    </tr>\n",
       "  </thead>\n",
       "  <tbody>\n",
       "    <tr>\n",
       "      <th>count</th>\n",
       "      <td>452.000000</td>\n",
       "      <td>131.000000</td>\n",
       "      <td>90.000000</td>\n",
       "      <td>209.000000</td>\n",
       "      <td>86.000000</td>\n",
       "      <td>26.000000</td>\n",
       "      <td>392.000000</td>\n",
       "      <td>219.000000</td>\n",
       "      <td>299.000000</td>\n",
       "      <td>89.000000</td>\n",
       "      <td>...</td>\n",
       "      <td>1.0</td>\n",
       "      <td>1.0</td>\n",
       "      <td>1.0</td>\n",
       "      <td>1.0</td>\n",
       "      <td>1.0</td>\n",
       "      <td>1.0</td>\n",
       "      <td>1.0</td>\n",
       "      <td>1.0</td>\n",
       "      <td>1.0</td>\n",
       "      <td>1.0</td>\n",
       "    </tr>\n",
       "    <tr>\n",
       "      <th>mean</th>\n",
       "      <td>3.878319</td>\n",
       "      <td>3.206107</td>\n",
       "      <td>3.033333</td>\n",
       "      <td>3.550239</td>\n",
       "      <td>3.302326</td>\n",
       "      <td>3.576923</td>\n",
       "      <td>3.798469</td>\n",
       "      <td>3.995434</td>\n",
       "      <td>3.896321</td>\n",
       "      <td>3.831461</td>\n",
       "      <td>...</td>\n",
       "      <td>3.0</td>\n",
       "      <td>4.0</td>\n",
       "      <td>3.0</td>\n",
       "      <td>2.0</td>\n",
       "      <td>3.0</td>\n",
       "      <td>1.0</td>\n",
       "      <td>3.0</td>\n",
       "      <td>2.0</td>\n",
       "      <td>3.0</td>\n",
       "      <td>3.0</td>\n",
       "    </tr>\n",
       "    <tr>\n",
       "      <th>std</th>\n",
       "      <td>0.927897</td>\n",
       "      <td>0.966497</td>\n",
       "      <td>1.212760</td>\n",
       "      <td>0.965069</td>\n",
       "      <td>0.946446</td>\n",
       "      <td>1.301478</td>\n",
       "      <td>0.982037</td>\n",
       "      <td>1.002281</td>\n",
       "      <td>1.042368</td>\n",
       "      <td>1.013948</td>\n",
       "      <td>...</td>\n",
       "      <td>NaN</td>\n",
       "      <td>NaN</td>\n",
       "      <td>NaN</td>\n",
       "      <td>NaN</td>\n",
       "      <td>NaN</td>\n",
       "      <td>NaN</td>\n",
       "      <td>NaN</td>\n",
       "      <td>NaN</td>\n",
       "      <td>NaN</td>\n",
       "      <td>NaN</td>\n",
       "    </tr>\n",
       "    <tr>\n",
       "      <th>min</th>\n",
       "      <td>1.000000</td>\n",
       "      <td>1.000000</td>\n",
       "      <td>1.000000</td>\n",
       "      <td>1.000000</td>\n",
       "      <td>1.000000</td>\n",
       "      <td>1.000000</td>\n",
       "      <td>1.000000</td>\n",
       "      <td>1.000000</td>\n",
       "      <td>1.000000</td>\n",
       "      <td>1.000000</td>\n",
       "      <td>...</td>\n",
       "      <td>3.0</td>\n",
       "      <td>4.0</td>\n",
       "      <td>3.0</td>\n",
       "      <td>2.0</td>\n",
       "      <td>3.0</td>\n",
       "      <td>1.0</td>\n",
       "      <td>3.0</td>\n",
       "      <td>2.0</td>\n",
       "      <td>3.0</td>\n",
       "      <td>3.0</td>\n",
       "    </tr>\n",
       "    <tr>\n",
       "      <th>25%</th>\n",
       "      <td>3.000000</td>\n",
       "      <td>3.000000</td>\n",
       "      <td>2.000000</td>\n",
       "      <td>3.000000</td>\n",
       "      <td>3.000000</td>\n",
       "      <td>3.000000</td>\n",
       "      <td>3.000000</td>\n",
       "      <td>3.000000</td>\n",
       "      <td>3.000000</td>\n",
       "      <td>3.000000</td>\n",
       "      <td>...</td>\n",
       "      <td>3.0</td>\n",
       "      <td>4.0</td>\n",
       "      <td>3.0</td>\n",
       "      <td>2.0</td>\n",
       "      <td>3.0</td>\n",
       "      <td>1.0</td>\n",
       "      <td>3.0</td>\n",
       "      <td>2.0</td>\n",
       "      <td>3.0</td>\n",
       "      <td>3.0</td>\n",
       "    </tr>\n",
       "    <tr>\n",
       "      <th>50%</th>\n",
       "      <td>4.000000</td>\n",
       "      <td>3.000000</td>\n",
       "      <td>3.000000</td>\n",
       "      <td>4.000000</td>\n",
       "      <td>3.000000</td>\n",
       "      <td>4.000000</td>\n",
       "      <td>4.000000</td>\n",
       "      <td>4.000000</td>\n",
       "      <td>4.000000</td>\n",
       "      <td>4.000000</td>\n",
       "      <td>...</td>\n",
       "      <td>3.0</td>\n",
       "      <td>4.0</td>\n",
       "      <td>3.0</td>\n",
       "      <td>2.0</td>\n",
       "      <td>3.0</td>\n",
       "      <td>1.0</td>\n",
       "      <td>3.0</td>\n",
       "      <td>2.0</td>\n",
       "      <td>3.0</td>\n",
       "      <td>3.0</td>\n",
       "    </tr>\n",
       "    <tr>\n",
       "      <th>75%</th>\n",
       "      <td>5.000000</td>\n",
       "      <td>4.000000</td>\n",
       "      <td>4.000000</td>\n",
       "      <td>4.000000</td>\n",
       "      <td>4.000000</td>\n",
       "      <td>5.000000</td>\n",
       "      <td>5.000000</td>\n",
       "      <td>5.000000</td>\n",
       "      <td>5.000000</td>\n",
       "      <td>5.000000</td>\n",
       "      <td>...</td>\n",
       "      <td>3.0</td>\n",
       "      <td>4.0</td>\n",
       "      <td>3.0</td>\n",
       "      <td>2.0</td>\n",
       "      <td>3.0</td>\n",
       "      <td>1.0</td>\n",
       "      <td>3.0</td>\n",
       "      <td>2.0</td>\n",
       "      <td>3.0</td>\n",
       "      <td>3.0</td>\n",
       "    </tr>\n",
       "    <tr>\n",
       "      <th>max</th>\n",
       "      <td>5.000000</td>\n",
       "      <td>5.000000</td>\n",
       "      <td>5.000000</td>\n",
       "      <td>5.000000</td>\n",
       "      <td>5.000000</td>\n",
       "      <td>5.000000</td>\n",
       "      <td>5.000000</td>\n",
       "      <td>5.000000</td>\n",
       "      <td>5.000000</td>\n",
       "      <td>5.000000</td>\n",
       "      <td>...</td>\n",
       "      <td>3.0</td>\n",
       "      <td>4.0</td>\n",
       "      <td>3.0</td>\n",
       "      <td>2.0</td>\n",
       "      <td>3.0</td>\n",
       "      <td>1.0</td>\n",
       "      <td>3.0</td>\n",
       "      <td>2.0</td>\n",
       "      <td>3.0</td>\n",
       "      <td>3.0</td>\n",
       "    </tr>\n",
       "  </tbody>\n",
       "</table>\n",
       "<p>8 rows × 1682 columns</p>\n",
       "</div>"
      ],
      "text/plain": [
       "item         1           2          3           4          5          6     \\\n",
       "count  452.000000  131.000000  90.000000  209.000000  86.000000  26.000000   \n",
       "mean     3.878319    3.206107   3.033333    3.550239   3.302326   3.576923   \n",
       "std      0.927897    0.966497   1.212760    0.965069   0.946446   1.301478   \n",
       "min      1.000000    1.000000   1.000000    1.000000   1.000000   1.000000   \n",
       "25%      3.000000    3.000000   2.000000    3.000000   3.000000   3.000000   \n",
       "50%      4.000000    3.000000   3.000000    4.000000   3.000000   4.000000   \n",
       "75%      5.000000    4.000000   4.000000    4.000000   4.000000   5.000000   \n",
       "max      5.000000    5.000000   5.000000    5.000000   5.000000   5.000000   \n",
       "\n",
       "item         7           8           9          10    ...  1673  1674  1675  \\\n",
       "count  392.000000  219.000000  299.000000  89.000000  ...   1.0   1.0   1.0   \n",
       "mean     3.798469    3.995434    3.896321   3.831461  ...   3.0   4.0   3.0   \n",
       "std      0.982037    1.002281    1.042368   1.013948  ...   NaN   NaN   NaN   \n",
       "min      1.000000    1.000000    1.000000   1.000000  ...   3.0   4.0   3.0   \n",
       "25%      3.000000    3.000000    3.000000   3.000000  ...   3.0   4.0   3.0   \n",
       "50%      4.000000    4.000000    4.000000   4.000000  ...   3.0   4.0   3.0   \n",
       "75%      5.000000    5.000000    5.000000   5.000000  ...   3.0   4.0   3.0   \n",
       "max      5.000000    5.000000    5.000000   5.000000  ...   3.0   4.0   3.0   \n",
       "\n",
       "item   1676  1677  1678  1679  1680  1681  1682  \n",
       "count   1.0   1.0   1.0   1.0   1.0   1.0   1.0  \n",
       "mean    2.0   3.0   1.0   3.0   2.0   3.0   3.0  \n",
       "std     NaN   NaN   NaN   NaN   NaN   NaN   NaN  \n",
       "min     2.0   3.0   1.0   3.0   2.0   3.0   3.0  \n",
       "25%     2.0   3.0   1.0   3.0   2.0   3.0   3.0  \n",
       "50%     2.0   3.0   1.0   3.0   2.0   3.0   3.0  \n",
       "75%     2.0   3.0   1.0   3.0   2.0   3.0   3.0  \n",
       "max     2.0   3.0   1.0   3.0   2.0   3.0   3.0  \n",
       "\n",
       "[8 rows x 1682 columns]"
      ]
     },
     "execution_count": 10,
     "metadata": {},
     "output_type": "execute_result"
    }
   ],
   "source": [
    "ui_matrix.describe()"
   ]
  },
  {
   "cell_type": "markdown",
   "metadata": {},
   "source": [
    "Možemo videti da je USER-ITEM matrica veoma retka što potpada pod jedan od navedenih problema."
   ]
  },
  {
   "cell_type": "markdown",
   "metadata": {},
   "source": [
    "Učitavamo dostupne trening podatke."
   ]
  },
  {
   "cell_type": "code",
   "execution_count": 11,
   "metadata": {},
   "outputs": [],
   "source": [
    "train_data = pd.read_csv('ml-100k/u1.base', sep = '\\\\t', names = header, engine = 'python')"
   ]
  },
  {
   "cell_type": "code",
   "execution_count": 12,
   "metadata": {},
   "outputs": [
    {
     "data": {
      "text/html": [
       "<div>\n",
       "<style scoped>\n",
       "    .dataframe tbody tr th:only-of-type {\n",
       "        vertical-align: middle;\n",
       "    }\n",
       "\n",
       "    .dataframe tbody tr th {\n",
       "        vertical-align: top;\n",
       "    }\n",
       "\n",
       "    .dataframe thead th {\n",
       "        text-align: right;\n",
       "    }\n",
       "</style>\n",
       "<table border=\"1\" class=\"dataframe\">\n",
       "  <thead>\n",
       "    <tr style=\"text-align: right;\">\n",
       "      <th></th>\n",
       "      <th>user</th>\n",
       "      <th>item</th>\n",
       "      <th>rating</th>\n",
       "      <th>timestamp</th>\n",
       "    </tr>\n",
       "  </thead>\n",
       "  <tbody>\n",
       "    <tr>\n",
       "      <th>0</th>\n",
       "      <td>1</td>\n",
       "      <td>1</td>\n",
       "      <td>5</td>\n",
       "      <td>874965758</td>\n",
       "    </tr>\n",
       "    <tr>\n",
       "      <th>1</th>\n",
       "      <td>1</td>\n",
       "      <td>2</td>\n",
       "      <td>3</td>\n",
       "      <td>876893171</td>\n",
       "    </tr>\n",
       "    <tr>\n",
       "      <th>2</th>\n",
       "      <td>1</td>\n",
       "      <td>3</td>\n",
       "      <td>4</td>\n",
       "      <td>878542960</td>\n",
       "    </tr>\n",
       "    <tr>\n",
       "      <th>3</th>\n",
       "      <td>1</td>\n",
       "      <td>4</td>\n",
       "      <td>3</td>\n",
       "      <td>876893119</td>\n",
       "    </tr>\n",
       "    <tr>\n",
       "      <th>4</th>\n",
       "      <td>1</td>\n",
       "      <td>5</td>\n",
       "      <td>3</td>\n",
       "      <td>889751712</td>\n",
       "    </tr>\n",
       "  </tbody>\n",
       "</table>\n",
       "</div>"
      ],
      "text/plain": [
       "   user  item  rating  timestamp\n",
       "0     1     1       5  874965758\n",
       "1     1     2       3  876893171\n",
       "2     1     3       4  878542960\n",
       "3     1     4       3  876893119\n",
       "4     1     5       3  889751712"
      ]
     },
     "execution_count": 12,
     "metadata": {},
     "output_type": "execute_result"
    }
   ],
   "source": [
    "train_data.head()"
   ]
  },
  {
   "cell_type": "code",
   "execution_count": 13,
   "metadata": {
    "scrolled": true
   },
   "outputs": [
    {
     "data": {
      "text/plain": [
       "(80000, 4)"
      ]
     },
     "execution_count": 13,
     "metadata": {},
     "output_type": "execute_result"
    }
   ],
   "source": [
    "train_data.shape"
   ]
  },
  {
   "cell_type": "markdown",
   "metadata": {},
   "source": [
    "Učitavamo dostupne test podatke koji odgovaraju učitanim trening podacima."
   ]
  },
  {
   "cell_type": "code",
   "execution_count": 14,
   "metadata": {},
   "outputs": [],
   "source": [
    "test_data = pd.read_csv('ml-100k/u1.test', sep = '\\\\t', names = header, engine = 'python')"
   ]
  },
  {
   "cell_type": "code",
   "execution_count": 15,
   "metadata": {},
   "outputs": [
    {
     "data": {
      "text/html": [
       "<div>\n",
       "<style scoped>\n",
       "    .dataframe tbody tr th:only-of-type {\n",
       "        vertical-align: middle;\n",
       "    }\n",
       "\n",
       "    .dataframe tbody tr th {\n",
       "        vertical-align: top;\n",
       "    }\n",
       "\n",
       "    .dataframe thead th {\n",
       "        text-align: right;\n",
       "    }\n",
       "</style>\n",
       "<table border=\"1\" class=\"dataframe\">\n",
       "  <thead>\n",
       "    <tr style=\"text-align: right;\">\n",
       "      <th></th>\n",
       "      <th>user</th>\n",
       "      <th>item</th>\n",
       "      <th>rating</th>\n",
       "      <th>timestamp</th>\n",
       "    </tr>\n",
       "  </thead>\n",
       "  <tbody>\n",
       "    <tr>\n",
       "      <th>0</th>\n",
       "      <td>1</td>\n",
       "      <td>6</td>\n",
       "      <td>5</td>\n",
       "      <td>887431973</td>\n",
       "    </tr>\n",
       "    <tr>\n",
       "      <th>1</th>\n",
       "      <td>1</td>\n",
       "      <td>10</td>\n",
       "      <td>3</td>\n",
       "      <td>875693118</td>\n",
       "    </tr>\n",
       "    <tr>\n",
       "      <th>2</th>\n",
       "      <td>1</td>\n",
       "      <td>12</td>\n",
       "      <td>5</td>\n",
       "      <td>878542960</td>\n",
       "    </tr>\n",
       "    <tr>\n",
       "      <th>3</th>\n",
       "      <td>1</td>\n",
       "      <td>14</td>\n",
       "      <td>5</td>\n",
       "      <td>874965706</td>\n",
       "    </tr>\n",
       "    <tr>\n",
       "      <th>4</th>\n",
       "      <td>1</td>\n",
       "      <td>17</td>\n",
       "      <td>3</td>\n",
       "      <td>875073198</td>\n",
       "    </tr>\n",
       "  </tbody>\n",
       "</table>\n",
       "</div>"
      ],
      "text/plain": [
       "   user  item  rating  timestamp\n",
       "0     1     6       5  887431973\n",
       "1     1    10       3  875693118\n",
       "2     1    12       5  878542960\n",
       "3     1    14       5  874965706\n",
       "4     1    17       3  875073198"
      ]
     },
     "execution_count": 15,
     "metadata": {},
     "output_type": "execute_result"
    }
   ],
   "source": [
    "test_data.head()"
   ]
  },
  {
   "cell_type": "markdown",
   "metadata": {},
   "source": [
    "### Vizualiazacija podataka"
   ]
  },
  {
   "cell_type": "code",
   "execution_count": 16,
   "metadata": {},
   "outputs": [],
   "source": [
    "genres = pd.read_csv('ml-100k/u.genre', sep = '|', names=['genre', 'id'], engine = 'python')"
   ]
  },
  {
   "cell_type": "code",
   "execution_count": 17,
   "metadata": {},
   "outputs": [],
   "source": [
    "movies_header = ['item', 'title', 'date1', 'date2', 'url'] + [g for g in genres['genre']]"
   ]
  },
  {
   "cell_type": "code",
   "execution_count": 18,
   "metadata": {},
   "outputs": [
    {
     "data": {
      "text/plain": [
       "['item',\n",
       " 'title',\n",
       " 'date1',\n",
       " 'date2',\n",
       " 'url',\n",
       " 'unknown',\n",
       " 'Action',\n",
       " 'Adventure',\n",
       " 'Animation',\n",
       " \"Children's\",\n",
       " 'Comedy',\n",
       " 'Crime',\n",
       " 'Documentary',\n",
       " 'Drama',\n",
       " 'Fantasy',\n",
       " 'Film-Noir',\n",
       " 'Horror',\n",
       " 'Musical',\n",
       " 'Mystery',\n",
       " 'Romance',\n",
       " 'Sci-Fi',\n",
       " 'Thriller',\n",
       " 'War',\n",
       " 'Western']"
      ]
     },
     "execution_count": 18,
     "metadata": {},
     "output_type": "execute_result"
    }
   ],
   "source": [
    "movies_header"
   ]
  },
  {
   "cell_type": "code",
   "execution_count": 19,
   "metadata": {},
   "outputs": [],
   "source": [
    "movies = pd.read_csv('ml-100k/u.item', sep = '|', names = movies_header, engine = 'python')"
   ]
  },
  {
   "cell_type": "code",
   "execution_count": 20,
   "metadata": {},
   "outputs": [
    {
     "data": {
      "text/html": [
       "<div>\n",
       "<style scoped>\n",
       "    .dataframe tbody tr th:only-of-type {\n",
       "        vertical-align: middle;\n",
       "    }\n",
       "\n",
       "    .dataframe tbody tr th {\n",
       "        vertical-align: top;\n",
       "    }\n",
       "\n",
       "    .dataframe thead th {\n",
       "        text-align: right;\n",
       "    }\n",
       "</style>\n",
       "<table border=\"1\" class=\"dataframe\">\n",
       "  <thead>\n",
       "    <tr style=\"text-align: right;\">\n",
       "      <th></th>\n",
       "      <th>item</th>\n",
       "      <th>title</th>\n",
       "      <th>date1</th>\n",
       "      <th>date2</th>\n",
       "      <th>url</th>\n",
       "      <th>unknown</th>\n",
       "      <th>Action</th>\n",
       "      <th>Adventure</th>\n",
       "      <th>Animation</th>\n",
       "      <th>Children's</th>\n",
       "      <th>...</th>\n",
       "      <th>Fantasy</th>\n",
       "      <th>Film-Noir</th>\n",
       "      <th>Horror</th>\n",
       "      <th>Musical</th>\n",
       "      <th>Mystery</th>\n",
       "      <th>Romance</th>\n",
       "      <th>Sci-Fi</th>\n",
       "      <th>Thriller</th>\n",
       "      <th>War</th>\n",
       "      <th>Western</th>\n",
       "    </tr>\n",
       "  </thead>\n",
       "  <tbody>\n",
       "    <tr>\n",
       "      <th>0</th>\n",
       "      <td>1</td>\n",
       "      <td>Toy Story (1995)</td>\n",
       "      <td>01-Jan-1995</td>\n",
       "      <td>NaN</td>\n",
       "      <td>http://us.imdb.com/M/title-exact?Toy%20Story%2...</td>\n",
       "      <td>0</td>\n",
       "      <td>0</td>\n",
       "      <td>0</td>\n",
       "      <td>1</td>\n",
       "      <td>1</td>\n",
       "      <td>...</td>\n",
       "      <td>0</td>\n",
       "      <td>0</td>\n",
       "      <td>0</td>\n",
       "      <td>0</td>\n",
       "      <td>0</td>\n",
       "      <td>0</td>\n",
       "      <td>0</td>\n",
       "      <td>0</td>\n",
       "      <td>0</td>\n",
       "      <td>0</td>\n",
       "    </tr>\n",
       "    <tr>\n",
       "      <th>1</th>\n",
       "      <td>2</td>\n",
       "      <td>GoldenEye (1995)</td>\n",
       "      <td>01-Jan-1995</td>\n",
       "      <td>NaN</td>\n",
       "      <td>http://us.imdb.com/M/title-exact?GoldenEye%20(...</td>\n",
       "      <td>0</td>\n",
       "      <td>1</td>\n",
       "      <td>1</td>\n",
       "      <td>0</td>\n",
       "      <td>0</td>\n",
       "      <td>...</td>\n",
       "      <td>0</td>\n",
       "      <td>0</td>\n",
       "      <td>0</td>\n",
       "      <td>0</td>\n",
       "      <td>0</td>\n",
       "      <td>0</td>\n",
       "      <td>0</td>\n",
       "      <td>1</td>\n",
       "      <td>0</td>\n",
       "      <td>0</td>\n",
       "    </tr>\n",
       "    <tr>\n",
       "      <th>2</th>\n",
       "      <td>3</td>\n",
       "      <td>Four Rooms (1995)</td>\n",
       "      <td>01-Jan-1995</td>\n",
       "      <td>NaN</td>\n",
       "      <td>http://us.imdb.com/M/title-exact?Four%20Rooms%...</td>\n",
       "      <td>0</td>\n",
       "      <td>0</td>\n",
       "      <td>0</td>\n",
       "      <td>0</td>\n",
       "      <td>0</td>\n",
       "      <td>...</td>\n",
       "      <td>0</td>\n",
       "      <td>0</td>\n",
       "      <td>0</td>\n",
       "      <td>0</td>\n",
       "      <td>0</td>\n",
       "      <td>0</td>\n",
       "      <td>0</td>\n",
       "      <td>1</td>\n",
       "      <td>0</td>\n",
       "      <td>0</td>\n",
       "    </tr>\n",
       "    <tr>\n",
       "      <th>3</th>\n",
       "      <td>4</td>\n",
       "      <td>Get Shorty (1995)</td>\n",
       "      <td>01-Jan-1995</td>\n",
       "      <td>NaN</td>\n",
       "      <td>http://us.imdb.com/M/title-exact?Get%20Shorty%...</td>\n",
       "      <td>0</td>\n",
       "      <td>1</td>\n",
       "      <td>0</td>\n",
       "      <td>0</td>\n",
       "      <td>0</td>\n",
       "      <td>...</td>\n",
       "      <td>0</td>\n",
       "      <td>0</td>\n",
       "      <td>0</td>\n",
       "      <td>0</td>\n",
       "      <td>0</td>\n",
       "      <td>0</td>\n",
       "      <td>0</td>\n",
       "      <td>0</td>\n",
       "      <td>0</td>\n",
       "      <td>0</td>\n",
       "    </tr>\n",
       "    <tr>\n",
       "      <th>4</th>\n",
       "      <td>5</td>\n",
       "      <td>Copycat (1995)</td>\n",
       "      <td>01-Jan-1995</td>\n",
       "      <td>NaN</td>\n",
       "      <td>http://us.imdb.com/M/title-exact?Copycat%20(1995)</td>\n",
       "      <td>0</td>\n",
       "      <td>0</td>\n",
       "      <td>0</td>\n",
       "      <td>0</td>\n",
       "      <td>0</td>\n",
       "      <td>...</td>\n",
       "      <td>0</td>\n",
       "      <td>0</td>\n",
       "      <td>0</td>\n",
       "      <td>0</td>\n",
       "      <td>0</td>\n",
       "      <td>0</td>\n",
       "      <td>0</td>\n",
       "      <td>1</td>\n",
       "      <td>0</td>\n",
       "      <td>0</td>\n",
       "    </tr>\n",
       "  </tbody>\n",
       "</table>\n",
       "<p>5 rows × 24 columns</p>\n",
       "</div>"
      ],
      "text/plain": [
       "   item              title        date1  date2  \\\n",
       "0     1   Toy Story (1995)  01-Jan-1995    NaN   \n",
       "1     2   GoldenEye (1995)  01-Jan-1995    NaN   \n",
       "2     3  Four Rooms (1995)  01-Jan-1995    NaN   \n",
       "3     4  Get Shorty (1995)  01-Jan-1995    NaN   \n",
       "4     5     Copycat (1995)  01-Jan-1995    NaN   \n",
       "\n",
       "                                                 url  unknown  Action  \\\n",
       "0  http://us.imdb.com/M/title-exact?Toy%20Story%2...        0       0   \n",
       "1  http://us.imdb.com/M/title-exact?GoldenEye%20(...        0       1   \n",
       "2  http://us.imdb.com/M/title-exact?Four%20Rooms%...        0       0   \n",
       "3  http://us.imdb.com/M/title-exact?Get%20Shorty%...        0       1   \n",
       "4  http://us.imdb.com/M/title-exact?Copycat%20(1995)        0       0   \n",
       "\n",
       "   Adventure  Animation  Children's  ...  Fantasy  Film-Noir  Horror  Musical  \\\n",
       "0          0          1           1  ...        0          0       0        0   \n",
       "1          1          0           0  ...        0          0       0        0   \n",
       "2          0          0           0  ...        0          0       0        0   \n",
       "3          0          0           0  ...        0          0       0        0   \n",
       "4          0          0           0  ...        0          0       0        0   \n",
       "\n",
       "   Mystery  Romance  Sci-Fi  Thriller  War  Western  \n",
       "0        0        0       0         0    0        0  \n",
       "1        0        0       0         1    0        0  \n",
       "2        0        0       0         1    0        0  \n",
       "3        0        0       0         0    0        0  \n",
       "4        0        0       0         1    0        0  \n",
       "\n",
       "[5 rows x 24 columns]"
      ]
     },
     "execution_count": 20,
     "metadata": {},
     "output_type": "execute_result"
    }
   ],
   "source": [
    "movies.head()"
   ]
  },
  {
   "cell_type": "code",
   "execution_count": 21,
   "metadata": {},
   "outputs": [
    {
     "data": {
      "text/html": [
       "<div>\n",
       "<style scoped>\n",
       "    .dataframe tbody tr th:only-of-type {\n",
       "        vertical-align: middle;\n",
       "    }\n",
       "\n",
       "    .dataframe tbody tr th {\n",
       "        vertical-align: top;\n",
       "    }\n",
       "\n",
       "    .dataframe thead th {\n",
       "        text-align: right;\n",
       "    }\n",
       "</style>\n",
       "<table border=\"1\" class=\"dataframe\">\n",
       "  <thead>\n",
       "    <tr style=\"text-align: right;\">\n",
       "      <th></th>\n",
       "      <th>item</th>\n",
       "      <th>title</th>\n",
       "      <th>unknown</th>\n",
       "      <th>Action</th>\n",
       "      <th>Adventure</th>\n",
       "      <th>Animation</th>\n",
       "      <th>Children's</th>\n",
       "      <th>Comedy</th>\n",
       "      <th>Crime</th>\n",
       "      <th>Documentary</th>\n",
       "      <th>...</th>\n",
       "      <th>Fantasy</th>\n",
       "      <th>Film-Noir</th>\n",
       "      <th>Horror</th>\n",
       "      <th>Musical</th>\n",
       "      <th>Mystery</th>\n",
       "      <th>Romance</th>\n",
       "      <th>Sci-Fi</th>\n",
       "      <th>Thriller</th>\n",
       "      <th>War</th>\n",
       "      <th>Western</th>\n",
       "    </tr>\n",
       "  </thead>\n",
       "  <tbody>\n",
       "    <tr>\n",
       "      <th>0</th>\n",
       "      <td>1</td>\n",
       "      <td>Toy Story (1995)</td>\n",
       "      <td>0</td>\n",
       "      <td>0</td>\n",
       "      <td>0</td>\n",
       "      <td>1</td>\n",
       "      <td>1</td>\n",
       "      <td>1</td>\n",
       "      <td>0</td>\n",
       "      <td>0</td>\n",
       "      <td>...</td>\n",
       "      <td>0</td>\n",
       "      <td>0</td>\n",
       "      <td>0</td>\n",
       "      <td>0</td>\n",
       "      <td>0</td>\n",
       "      <td>0</td>\n",
       "      <td>0</td>\n",
       "      <td>0</td>\n",
       "      <td>0</td>\n",
       "      <td>0</td>\n",
       "    </tr>\n",
       "    <tr>\n",
       "      <th>1</th>\n",
       "      <td>2</td>\n",
       "      <td>GoldenEye (1995)</td>\n",
       "      <td>0</td>\n",
       "      <td>1</td>\n",
       "      <td>1</td>\n",
       "      <td>0</td>\n",
       "      <td>0</td>\n",
       "      <td>0</td>\n",
       "      <td>0</td>\n",
       "      <td>0</td>\n",
       "      <td>...</td>\n",
       "      <td>0</td>\n",
       "      <td>0</td>\n",
       "      <td>0</td>\n",
       "      <td>0</td>\n",
       "      <td>0</td>\n",
       "      <td>0</td>\n",
       "      <td>0</td>\n",
       "      <td>1</td>\n",
       "      <td>0</td>\n",
       "      <td>0</td>\n",
       "    </tr>\n",
       "    <tr>\n",
       "      <th>2</th>\n",
       "      <td>3</td>\n",
       "      <td>Four Rooms (1995)</td>\n",
       "      <td>0</td>\n",
       "      <td>0</td>\n",
       "      <td>0</td>\n",
       "      <td>0</td>\n",
       "      <td>0</td>\n",
       "      <td>0</td>\n",
       "      <td>0</td>\n",
       "      <td>0</td>\n",
       "      <td>...</td>\n",
       "      <td>0</td>\n",
       "      <td>0</td>\n",
       "      <td>0</td>\n",
       "      <td>0</td>\n",
       "      <td>0</td>\n",
       "      <td>0</td>\n",
       "      <td>0</td>\n",
       "      <td>1</td>\n",
       "      <td>0</td>\n",
       "      <td>0</td>\n",
       "    </tr>\n",
       "    <tr>\n",
       "      <th>3</th>\n",
       "      <td>4</td>\n",
       "      <td>Get Shorty (1995)</td>\n",
       "      <td>0</td>\n",
       "      <td>1</td>\n",
       "      <td>0</td>\n",
       "      <td>0</td>\n",
       "      <td>0</td>\n",
       "      <td>1</td>\n",
       "      <td>0</td>\n",
       "      <td>0</td>\n",
       "      <td>...</td>\n",
       "      <td>0</td>\n",
       "      <td>0</td>\n",
       "      <td>0</td>\n",
       "      <td>0</td>\n",
       "      <td>0</td>\n",
       "      <td>0</td>\n",
       "      <td>0</td>\n",
       "      <td>0</td>\n",
       "      <td>0</td>\n",
       "      <td>0</td>\n",
       "    </tr>\n",
       "    <tr>\n",
       "      <th>4</th>\n",
       "      <td>5</td>\n",
       "      <td>Copycat (1995)</td>\n",
       "      <td>0</td>\n",
       "      <td>0</td>\n",
       "      <td>0</td>\n",
       "      <td>0</td>\n",
       "      <td>0</td>\n",
       "      <td>0</td>\n",
       "      <td>1</td>\n",
       "      <td>0</td>\n",
       "      <td>...</td>\n",
       "      <td>0</td>\n",
       "      <td>0</td>\n",
       "      <td>0</td>\n",
       "      <td>0</td>\n",
       "      <td>0</td>\n",
       "      <td>0</td>\n",
       "      <td>0</td>\n",
       "      <td>1</td>\n",
       "      <td>0</td>\n",
       "      <td>0</td>\n",
       "    </tr>\n",
       "  </tbody>\n",
       "</table>\n",
       "<p>5 rows × 21 columns</p>\n",
       "</div>"
      ],
      "text/plain": [
       "   item              title  unknown  Action  Adventure  Animation  Children's  \\\n",
       "0     1   Toy Story (1995)        0       0          0          1           1   \n",
       "1     2   GoldenEye (1995)        0       1          1          0           0   \n",
       "2     3  Four Rooms (1995)        0       0          0          0           0   \n",
       "3     4  Get Shorty (1995)        0       1          0          0           0   \n",
       "4     5     Copycat (1995)        0       0          0          0           0   \n",
       "\n",
       "   Comedy  Crime  Documentary  ...  Fantasy  Film-Noir  Horror  Musical  \\\n",
       "0       1      0            0  ...        0          0       0        0   \n",
       "1       0      0            0  ...        0          0       0        0   \n",
       "2       0      0            0  ...        0          0       0        0   \n",
       "3       1      0            0  ...        0          0       0        0   \n",
       "4       0      1            0  ...        0          0       0        0   \n",
       "\n",
       "   Mystery  Romance  Sci-Fi  Thriller  War  Western  \n",
       "0        0        0       0         0    0        0  \n",
       "1        0        0       0         1    0        0  \n",
       "2        0        0       0         1    0        0  \n",
       "3        0        0       0         0    0        0  \n",
       "4        0        0       0         1    0        0  \n",
       "\n",
       "[5 rows x 21 columns]"
      ]
     },
     "execution_count": 21,
     "metadata": {},
     "output_type": "execute_result"
    }
   ],
   "source": [
    "del movies['date1']\n",
    "del movies['date2']\n",
    "del movies['url']\n",
    "movies.head()"
   ]
  },
  {
   "cell_type": "code",
   "execution_count": 22,
   "metadata": {},
   "outputs": [],
   "source": [
    "train_data_movies = pd.merge(train_data, movies, on = 'item')"
   ]
  },
  {
   "cell_type": "code",
   "execution_count": 23,
   "metadata": {},
   "outputs": [
    {
     "data": {
      "text/html": [
       "<div>\n",
       "<style scoped>\n",
       "    .dataframe tbody tr th:only-of-type {\n",
       "        vertical-align: middle;\n",
       "    }\n",
       "\n",
       "    .dataframe tbody tr th {\n",
       "        vertical-align: top;\n",
       "    }\n",
       "\n",
       "    .dataframe thead th {\n",
       "        text-align: right;\n",
       "    }\n",
       "</style>\n",
       "<table border=\"1\" class=\"dataframe\">\n",
       "  <thead>\n",
       "    <tr style=\"text-align: right;\">\n",
       "      <th></th>\n",
       "      <th>user</th>\n",
       "      <th>item</th>\n",
       "      <th>rating</th>\n",
       "      <th>timestamp</th>\n",
       "      <th>title</th>\n",
       "      <th>unknown</th>\n",
       "      <th>Action</th>\n",
       "      <th>Adventure</th>\n",
       "      <th>Animation</th>\n",
       "      <th>Children's</th>\n",
       "      <th>...</th>\n",
       "      <th>Fantasy</th>\n",
       "      <th>Film-Noir</th>\n",
       "      <th>Horror</th>\n",
       "      <th>Musical</th>\n",
       "      <th>Mystery</th>\n",
       "      <th>Romance</th>\n",
       "      <th>Sci-Fi</th>\n",
       "      <th>Thriller</th>\n",
       "      <th>War</th>\n",
       "      <th>Western</th>\n",
       "    </tr>\n",
       "  </thead>\n",
       "  <tbody>\n",
       "    <tr>\n",
       "      <th>0</th>\n",
       "      <td>1</td>\n",
       "      <td>1</td>\n",
       "      <td>5</td>\n",
       "      <td>874965758</td>\n",
       "      <td>Toy Story (1995)</td>\n",
       "      <td>0</td>\n",
       "      <td>0</td>\n",
       "      <td>0</td>\n",
       "      <td>1</td>\n",
       "      <td>1</td>\n",
       "      <td>...</td>\n",
       "      <td>0</td>\n",
       "      <td>0</td>\n",
       "      <td>0</td>\n",
       "      <td>0</td>\n",
       "      <td>0</td>\n",
       "      <td>0</td>\n",
       "      <td>0</td>\n",
       "      <td>0</td>\n",
       "      <td>0</td>\n",
       "      <td>0</td>\n",
       "    </tr>\n",
       "    <tr>\n",
       "      <th>1</th>\n",
       "      <td>2</td>\n",
       "      <td>1</td>\n",
       "      <td>4</td>\n",
       "      <td>888550871</td>\n",
       "      <td>Toy Story (1995)</td>\n",
       "      <td>0</td>\n",
       "      <td>0</td>\n",
       "      <td>0</td>\n",
       "      <td>1</td>\n",
       "      <td>1</td>\n",
       "      <td>...</td>\n",
       "      <td>0</td>\n",
       "      <td>0</td>\n",
       "      <td>0</td>\n",
       "      <td>0</td>\n",
       "      <td>0</td>\n",
       "      <td>0</td>\n",
       "      <td>0</td>\n",
       "      <td>0</td>\n",
       "      <td>0</td>\n",
       "      <td>0</td>\n",
       "    </tr>\n",
       "    <tr>\n",
       "      <th>2</th>\n",
       "      <td>6</td>\n",
       "      <td>1</td>\n",
       "      <td>4</td>\n",
       "      <td>883599478</td>\n",
       "      <td>Toy Story (1995)</td>\n",
       "      <td>0</td>\n",
       "      <td>0</td>\n",
       "      <td>0</td>\n",
       "      <td>1</td>\n",
       "      <td>1</td>\n",
       "      <td>...</td>\n",
       "      <td>0</td>\n",
       "      <td>0</td>\n",
       "      <td>0</td>\n",
       "      <td>0</td>\n",
       "      <td>0</td>\n",
       "      <td>0</td>\n",
       "      <td>0</td>\n",
       "      <td>0</td>\n",
       "      <td>0</td>\n",
       "      <td>0</td>\n",
       "    </tr>\n",
       "    <tr>\n",
       "      <th>3</th>\n",
       "      <td>13</td>\n",
       "      <td>1</td>\n",
       "      <td>3</td>\n",
       "      <td>882140487</td>\n",
       "      <td>Toy Story (1995)</td>\n",
       "      <td>0</td>\n",
       "      <td>0</td>\n",
       "      <td>0</td>\n",
       "      <td>1</td>\n",
       "      <td>1</td>\n",
       "      <td>...</td>\n",
       "      <td>0</td>\n",
       "      <td>0</td>\n",
       "      <td>0</td>\n",
       "      <td>0</td>\n",
       "      <td>0</td>\n",
       "      <td>0</td>\n",
       "      <td>0</td>\n",
       "      <td>0</td>\n",
       "      <td>0</td>\n",
       "      <td>0</td>\n",
       "    </tr>\n",
       "    <tr>\n",
       "      <th>4</th>\n",
       "      <td>16</td>\n",
       "      <td>1</td>\n",
       "      <td>5</td>\n",
       "      <td>877717833</td>\n",
       "      <td>Toy Story (1995)</td>\n",
       "      <td>0</td>\n",
       "      <td>0</td>\n",
       "      <td>0</td>\n",
       "      <td>1</td>\n",
       "      <td>1</td>\n",
       "      <td>...</td>\n",
       "      <td>0</td>\n",
       "      <td>0</td>\n",
       "      <td>0</td>\n",
       "      <td>0</td>\n",
       "      <td>0</td>\n",
       "      <td>0</td>\n",
       "      <td>0</td>\n",
       "      <td>0</td>\n",
       "      <td>0</td>\n",
       "      <td>0</td>\n",
       "    </tr>\n",
       "  </tbody>\n",
       "</table>\n",
       "<p>5 rows × 24 columns</p>\n",
       "</div>"
      ],
      "text/plain": [
       "   user  item  rating  timestamp             title  unknown  Action  \\\n",
       "0     1     1       5  874965758  Toy Story (1995)        0       0   \n",
       "1     2     1       4  888550871  Toy Story (1995)        0       0   \n",
       "2     6     1       4  883599478  Toy Story (1995)        0       0   \n",
       "3    13     1       3  882140487  Toy Story (1995)        0       0   \n",
       "4    16     1       5  877717833  Toy Story (1995)        0       0   \n",
       "\n",
       "   Adventure  Animation  Children's  ...  Fantasy  Film-Noir  Horror  Musical  \\\n",
       "0          0          1           1  ...        0          0       0        0   \n",
       "1          0          1           1  ...        0          0       0        0   \n",
       "2          0          1           1  ...        0          0       0        0   \n",
       "3          0          1           1  ...        0          0       0        0   \n",
       "4          0          1           1  ...        0          0       0        0   \n",
       "\n",
       "   Mystery  Romance  Sci-Fi  Thriller  War  Western  \n",
       "0        0        0       0         0    0        0  \n",
       "1        0        0       0         0    0        0  \n",
       "2        0        0       0         0    0        0  \n",
       "3        0        0       0         0    0        0  \n",
       "4        0        0       0         0    0        0  \n",
       "\n",
       "[5 rows x 24 columns]"
      ]
     },
     "execution_count": 23,
     "metadata": {},
     "output_type": "execute_result"
    }
   ],
   "source": [
    "train_data_movies.head()"
   ]
  },
  {
   "cell_type": "code",
   "execution_count": 24,
   "metadata": {},
   "outputs": [
    {
     "data": {
      "text/plain": [
       "title\n",
       "Marlene Dietrich: Shadow and Light (1996)            5.000000\n",
       "Prefontaine (1997)                                   5.000000\n",
       "Someone Else's America (1995)                        5.000000\n",
       "They Made Me a Criminal (1939)                       5.000000\n",
       "Saint of Fort Washington, The (1993)                 5.000000\n",
       "Santa with Muscles (1996)                            5.000000\n",
       "Star Kid (1997)                                      5.000000\n",
       "Entertaining Angels: The Dorothy Day Story (1996)    5.000000\n",
       "Pather Panchali (1955)                               4.714286\n",
       "Faust (1994)                                         4.666667\n",
       "Name: rating, dtype: float64"
      ]
     },
     "execution_count": 24,
     "metadata": {},
     "output_type": "execute_result"
    }
   ],
   "source": [
    "train_data_movies.groupby('title')['rating'].mean().sort_values(ascending=False).head(10)"
   ]
  },
  {
   "cell_type": "code",
   "execution_count": 25,
   "metadata": {},
   "outputs": [
    {
     "data": {
      "text/plain": [
       "title\n",
       "Star Wars (1977)                 484\n",
       "Return of the Jedi (1983)        422\n",
       "Contact (1997)                   402\n",
       "Fargo (1996)                     395\n",
       "Liar Liar (1997)                 394\n",
       "Scream (1996)                    391\n",
       "English Patient, The (1996)      388\n",
       "Toy Story (1995)                 383\n",
       "Independence Day (ID4) (1996)    353\n",
       "Air Force One (1997)             352\n",
       "Name: rating, dtype: int64"
      ]
     },
     "execution_count": 25,
     "metadata": {},
     "output_type": "execute_result"
    }
   ],
   "source": [
    "train_data_movies.groupby('title')['rating'].count().sort_values(ascending=False).head(10)"
   ]
  },
  {
   "cell_type": "code",
   "execution_count": 26,
   "metadata": {},
   "outputs": [
    {
     "data": {
      "text/html": [
       "<div>\n",
       "<style scoped>\n",
       "    .dataframe tbody tr th:only-of-type {\n",
       "        vertical-align: middle;\n",
       "    }\n",
       "\n",
       "    .dataframe tbody tr th {\n",
       "        vertical-align: top;\n",
       "    }\n",
       "\n",
       "    .dataframe thead th {\n",
       "        text-align: right;\n",
       "    }\n",
       "</style>\n",
       "<table border=\"1\" class=\"dataframe\">\n",
       "  <thead>\n",
       "    <tr style=\"text-align: right;\">\n",
       "      <th></th>\n",
       "      <th>title</th>\n",
       "      <th>rating</th>\n",
       "      <th>count</th>\n",
       "      <th>item</th>\n",
       "      <th>unknown</th>\n",
       "      <th>Action</th>\n",
       "      <th>Adventure</th>\n",
       "      <th>Animation</th>\n",
       "      <th>Children's</th>\n",
       "      <th>Comedy</th>\n",
       "      <th>...</th>\n",
       "      <th>Fantasy</th>\n",
       "      <th>Film-Noir</th>\n",
       "      <th>Horror</th>\n",
       "      <th>Musical</th>\n",
       "      <th>Mystery</th>\n",
       "      <th>Romance</th>\n",
       "      <th>Sci-Fi</th>\n",
       "      <th>Thriller</th>\n",
       "      <th>War</th>\n",
       "      <th>Western</th>\n",
       "    </tr>\n",
       "  </thead>\n",
       "  <tbody>\n",
       "    <tr>\n",
       "      <th>1388</th>\n",
       "      <td>Star Wars (1977)</td>\n",
       "      <td>4.359504</td>\n",
       "      <td>484</td>\n",
       "      <td>50</td>\n",
       "      <td>0</td>\n",
       "      <td>1</td>\n",
       "      <td>1</td>\n",
       "      <td>0</td>\n",
       "      <td>0</td>\n",
       "      <td>0</td>\n",
       "      <td>...</td>\n",
       "      <td>0</td>\n",
       "      <td>0</td>\n",
       "      <td>0</td>\n",
       "      <td>0</td>\n",
       "      <td>0</td>\n",
       "      <td>1</td>\n",
       "      <td>1</td>\n",
       "      <td>0</td>\n",
       "      <td>1</td>\n",
       "      <td>0</td>\n",
       "    </tr>\n",
       "    <tr>\n",
       "      <th>1223</th>\n",
       "      <td>Return of the Jedi (1983)</td>\n",
       "      <td>4.011848</td>\n",
       "      <td>422</td>\n",
       "      <td>181</td>\n",
       "      <td>0</td>\n",
       "      <td>1</td>\n",
       "      <td>1</td>\n",
       "      <td>0</td>\n",
       "      <td>0</td>\n",
       "      <td>0</td>\n",
       "      <td>...</td>\n",
       "      <td>0</td>\n",
       "      <td>0</td>\n",
       "      <td>0</td>\n",
       "      <td>0</td>\n",
       "      <td>0</td>\n",
       "      <td>1</td>\n",
       "      <td>1</td>\n",
       "      <td>0</td>\n",
       "      <td>1</td>\n",
       "      <td>0</td>\n",
       "    </tr>\n",
       "    <tr>\n",
       "      <th>334</th>\n",
       "      <td>Contact (1997)</td>\n",
       "      <td>3.823383</td>\n",
       "      <td>402</td>\n",
       "      <td>258</td>\n",
       "      <td>0</td>\n",
       "      <td>0</td>\n",
       "      <td>0</td>\n",
       "      <td>0</td>\n",
       "      <td>0</td>\n",
       "      <td>0</td>\n",
       "      <td>...</td>\n",
       "      <td>0</td>\n",
       "      <td>0</td>\n",
       "      <td>0</td>\n",
       "      <td>0</td>\n",
       "      <td>0</td>\n",
       "      <td>0</td>\n",
       "      <td>1</td>\n",
       "      <td>0</td>\n",
       "      <td>0</td>\n",
       "      <td>0</td>\n",
       "    </tr>\n",
       "    <tr>\n",
       "      <th>497</th>\n",
       "      <td>Fargo (1996)</td>\n",
       "      <td>4.108861</td>\n",
       "      <td>395</td>\n",
       "      <td>100</td>\n",
       "      <td>0</td>\n",
       "      <td>0</td>\n",
       "      <td>0</td>\n",
       "      <td>0</td>\n",
       "      <td>0</td>\n",
       "      <td>0</td>\n",
       "      <td>...</td>\n",
       "      <td>0</td>\n",
       "      <td>0</td>\n",
       "      <td>0</td>\n",
       "      <td>0</td>\n",
       "      <td>0</td>\n",
       "      <td>0</td>\n",
       "      <td>0</td>\n",
       "      <td>1</td>\n",
       "      <td>0</td>\n",
       "      <td>0</td>\n",
       "    </tr>\n",
       "    <tr>\n",
       "      <th>855</th>\n",
       "      <td>Liar Liar (1997)</td>\n",
       "      <td>3.164975</td>\n",
       "      <td>394</td>\n",
       "      <td>294</td>\n",
       "      <td>0</td>\n",
       "      <td>0</td>\n",
       "      <td>0</td>\n",
       "      <td>0</td>\n",
       "      <td>0</td>\n",
       "      <td>1</td>\n",
       "      <td>...</td>\n",
       "      <td>0</td>\n",
       "      <td>0</td>\n",
       "      <td>0</td>\n",
       "      <td>0</td>\n",
       "      <td>0</td>\n",
       "      <td>0</td>\n",
       "      <td>0</td>\n",
       "      <td>0</td>\n",
       "      <td>0</td>\n",
       "      <td>0</td>\n",
       "    </tr>\n",
       "    <tr>\n",
       "      <th>1273</th>\n",
       "      <td>Scream (1996)</td>\n",
       "      <td>3.445013</td>\n",
       "      <td>391</td>\n",
       "      <td>288</td>\n",
       "      <td>0</td>\n",
       "      <td>0</td>\n",
       "      <td>0</td>\n",
       "      <td>0</td>\n",
       "      <td>0</td>\n",
       "      <td>0</td>\n",
       "      <td>...</td>\n",
       "      <td>0</td>\n",
       "      <td>0</td>\n",
       "      <td>1</td>\n",
       "      <td>0</td>\n",
       "      <td>0</td>\n",
       "      <td>0</td>\n",
       "      <td>0</td>\n",
       "      <td>1</td>\n",
       "      <td>0</td>\n",
       "      <td>0</td>\n",
       "    </tr>\n",
       "    <tr>\n",
       "      <th>461</th>\n",
       "      <td>English Patient, The (1996)</td>\n",
       "      <td>3.641753</td>\n",
       "      <td>388</td>\n",
       "      <td>286</td>\n",
       "      <td>0</td>\n",
       "      <td>0</td>\n",
       "      <td>0</td>\n",
       "      <td>0</td>\n",
       "      <td>0</td>\n",
       "      <td>0</td>\n",
       "      <td>...</td>\n",
       "      <td>0</td>\n",
       "      <td>0</td>\n",
       "      <td>0</td>\n",
       "      <td>0</td>\n",
       "      <td>0</td>\n",
       "      <td>1</td>\n",
       "      <td>0</td>\n",
       "      <td>0</td>\n",
       "      <td>1</td>\n",
       "      <td>0</td>\n",
       "    </tr>\n",
       "    <tr>\n",
       "      <th>1513</th>\n",
       "      <td>Toy Story (1995)</td>\n",
       "      <td>3.892950</td>\n",
       "      <td>383</td>\n",
       "      <td>1</td>\n",
       "      <td>0</td>\n",
       "      <td>0</td>\n",
       "      <td>0</td>\n",
       "      <td>1</td>\n",
       "      <td>1</td>\n",
       "      <td>1</td>\n",
       "      <td>...</td>\n",
       "      <td>0</td>\n",
       "      <td>0</td>\n",
       "      <td>0</td>\n",
       "      <td>0</td>\n",
       "      <td>0</td>\n",
       "      <td>0</td>\n",
       "      <td>0</td>\n",
       "      <td>0</td>\n",
       "      <td>0</td>\n",
       "      <td>0</td>\n",
       "    </tr>\n",
       "    <tr>\n",
       "      <th>741</th>\n",
       "      <td>Independence Day (ID4) (1996)</td>\n",
       "      <td>3.390935</td>\n",
       "      <td>353</td>\n",
       "      <td>121</td>\n",
       "      <td>0</td>\n",
       "      <td>1</td>\n",
       "      <td>0</td>\n",
       "      <td>0</td>\n",
       "      <td>0</td>\n",
       "      <td>0</td>\n",
       "      <td>...</td>\n",
       "      <td>0</td>\n",
       "      <td>0</td>\n",
       "      <td>0</td>\n",
       "      <td>0</td>\n",
       "      <td>0</td>\n",
       "      <td>0</td>\n",
       "      <td>1</td>\n",
       "      <td>0</td>\n",
       "      <td>1</td>\n",
       "      <td>0</td>\n",
       "    </tr>\n",
       "    <tr>\n",
       "      <th>31</th>\n",
       "      <td>Air Force One (1997)</td>\n",
       "      <td>3.656250</td>\n",
       "      <td>352</td>\n",
       "      <td>300</td>\n",
       "      <td>0</td>\n",
       "      <td>1</td>\n",
       "      <td>0</td>\n",
       "      <td>0</td>\n",
       "      <td>0</td>\n",
       "      <td>0</td>\n",
       "      <td>...</td>\n",
       "      <td>0</td>\n",
       "      <td>0</td>\n",
       "      <td>0</td>\n",
       "      <td>0</td>\n",
       "      <td>0</td>\n",
       "      <td>0</td>\n",
       "      <td>0</td>\n",
       "      <td>1</td>\n",
       "      <td>0</td>\n",
       "      <td>0</td>\n",
       "    </tr>\n",
       "  </tbody>\n",
       "</table>\n",
       "<p>10 rows × 23 columns</p>\n",
       "</div>"
      ],
      "text/plain": [
       "                              title    rating  count  item  unknown  Action  \\\n",
       "1388               Star Wars (1977)  4.359504    484    50        0       1   \n",
       "1223      Return of the Jedi (1983)  4.011848    422   181        0       1   \n",
       "334                  Contact (1997)  3.823383    402   258        0       0   \n",
       "497                    Fargo (1996)  4.108861    395   100        0       0   \n",
       "855                Liar Liar (1997)  3.164975    394   294        0       0   \n",
       "1273                  Scream (1996)  3.445013    391   288        0       0   \n",
       "461     English Patient, The (1996)  3.641753    388   286        0       0   \n",
       "1513               Toy Story (1995)  3.892950    383     1        0       0   \n",
       "741   Independence Day (ID4) (1996)  3.390935    353   121        0       1   \n",
       "31             Air Force One (1997)  3.656250    352   300        0       1   \n",
       "\n",
       "      Adventure  Animation  Children's  Comedy  ...  Fantasy  Film-Noir  \\\n",
       "1388          1          0           0       0  ...        0          0   \n",
       "1223          1          0           0       0  ...        0          0   \n",
       "334           0          0           0       0  ...        0          0   \n",
       "497           0          0           0       0  ...        0          0   \n",
       "855           0          0           0       1  ...        0          0   \n",
       "1273          0          0           0       0  ...        0          0   \n",
       "461           0          0           0       0  ...        0          0   \n",
       "1513          0          1           1       1  ...        0          0   \n",
       "741           0          0           0       0  ...        0          0   \n",
       "31            0          0           0       0  ...        0          0   \n",
       "\n",
       "      Horror  Musical  Mystery  Romance  Sci-Fi  Thriller  War  Western  \n",
       "1388       0        0        0        1       1         0    1        0  \n",
       "1223       0        0        0        1       1         0    1        0  \n",
       "334        0        0        0        0       1         0    0        0  \n",
       "497        0        0        0        0       0         1    0        0  \n",
       "855        0        0        0        0       0         0    0        0  \n",
       "1273       1        0        0        0       0         1    0        0  \n",
       "461        0        0        0        1       0         0    1        0  \n",
       "1513       0        0        0        0       0         0    0        0  \n",
       "741        0        0        0        0       1         0    1        0  \n",
       "31         0        0        0        0       0         1    0        0  \n",
       "\n",
       "[10 rows x 23 columns]"
      ]
     },
     "execution_count": 26,
     "metadata": {},
     "output_type": "execute_result"
    }
   ],
   "source": [
    "ratings = pd.DataFrame(train_data_movies.groupby('title')['rating'].mean())\n",
    "ratings['count'] = pd.DataFrame(train_data_movies.groupby('title')['rating'].count())\n",
    "ratings = pd.merge(ratings, movies, on='title')\n",
    "ratings.sort_values(by='count', ascending=False).head(10)"
   ]
  },
  {
   "cell_type": "code",
   "execution_count": 27,
   "metadata": {},
   "outputs": [
    {
     "data": {
      "image/png": "[encoded data removed]",
      "text/plain": [
       "<Figure size 1080x432 with 1 Axes>"
      ]
     },
     "metadata": {
      "needs_background": "light"
     },
     "output_type": "display_data"
    }
   ],
   "source": [
    "plt.figure(figsize=(15, 6))\n",
    "ratings['rating'].hist(bins=80, rwidth=0.8, color='orange')\n",
    "plt.xlabel('Ocena')\n",
    "plt.ylabel('Broj ocena')\n",
    "plt.title('Prosečne ocene filmova')\n",
    "plt.show()"
   ]
  },
  {
   "cell_type": "code",
   "execution_count": 28,
   "metadata": {},
   "outputs": [
    {
     "data": {
      "image/png": "[encoded data removed]",
      "text/plain": [
       "<Figure size 1080x720 with 1 Axes>"
      ]
     },
     "metadata": {
      "needs_background": "light"
     },
     "output_type": "display_data"
    }
   ],
   "source": [
    "plt.figure(figsize=(15, 10))\n",
    "plt.scatter(x = ratings['rating'], y = ratings['count'])\n",
    "plt.xlabel('Ocena')\n",
    "plt.ylabel('Broj ocena')\n",
    "plt.show()"
   ]
  },
  {
   "cell_type": "code",
   "execution_count": 29,
   "metadata": {},
   "outputs": [],
   "source": [
    "number_of_ratings_for_genre = {}\n",
    "for x in genres['genre']:\n",
    "    number_of_ratings_for_genre[x] = len(np.where(np.array(train_data_movies[x]) == 1)[0])"
   ]
  },
  {
   "cell_type": "code",
   "execution_count": 30,
   "metadata": {},
   "outputs": [
    {
     "data": {
      "text/plain": [
       "{'unknown': 3,\n",
       " 'Action': 20566,\n",
       " 'Adventure': 11131,\n",
       " 'Animation': 2893,\n",
       " \"Children's\": 5779,\n",
       " 'Comedy': 23896,\n",
       " 'Crime': 6446,\n",
       " 'Documentary': 570,\n",
       " 'Drama': 31989,\n",
       " 'Fantasy': 1090,\n",
       " 'Film-Noir': 1394,\n",
       " 'Horror': 4187,\n",
       " 'Musical': 3966,\n",
       " 'Mystery': 4208,\n",
       " 'Romance': 15547,\n",
       " 'Sci-Fi': 10241,\n",
       " 'Thriller': 17438,\n",
       " 'War': 7613,\n",
       " 'Western': 1480}"
      ]
     },
     "execution_count": 30,
     "metadata": {},
     "output_type": "execute_result"
    }
   ],
   "source": [
    "number_of_ratings_for_genre"
   ]
  },
  {
   "cell_type": "code",
   "execution_count": 31,
   "metadata": {},
   "outputs": [],
   "source": [
    "average_ratings_for_genres = []\n",
    "\n",
    "for x in genres['genre']:\n",
    "    average_ratings_for_genres.append(ratings[ratings[x].apply(lambda y: y == 1)].mean().rating)"
   ]
  },
  {
   "cell_type": "code",
   "execution_count": 32,
   "metadata": {},
   "outputs": [
    {
     "data": {
      "image/png": "[encoded data removed]",
      "text/plain": [
       "<Figure size 720x432 with 1 Axes>"
      ]
     },
     "metadata": {
      "needs_background": "light"
     },
     "output_type": "display_data"
    }
   ],
   "source": [
    "plt.figure(figsize=(10, 6))\n",
    "plt.scatter(x = average_ratings_for_genres, y = [g for g in genres['genre']], color='green', marker='x')\n",
    "plt.ylabel('Žanr')\n",
    "plt.xlabel('Prosečna ocena')\n",
    "plt.title('Prosečna ocena za svaki žanr')\n",
    "plt.show()"
   ]
  },
  {
   "cell_type": "code",
   "execution_count": 33,
   "metadata": {},
   "outputs": [
    {
     "data": {
      "image/png": "[encoded data removed]",
      "text/plain": [
       "<Figure size 720x432 with 1 Axes>"
      ]
     },
     "metadata": {
      "needs_background": "light"
     },
     "output_type": "display_data"
    }
   ],
   "source": [
    "plt.figure(figsize=(10, 6))\n",
    "plt.barh([g for g in genres['genre']], list(number_of_ratings_for_genre.values()), color='red')\n",
    "plt.title('Broj filmova za svaki žanr')\n",
    "plt.show()"
   ]
  },
  {
   "cell_type": "markdown",
   "metadata": {},
   "source": [
    "### Rad sa podacima"
   ]
  },
  {
   "cell_type": "markdown",
   "metadata": {},
   "source": [
    "Formiramo USER-ITEM matricu nad trening podacima (na drugačiji način nego nad svim podacima, zbog toga što u trening podacima se ne nalaze svi filmovi, a nama je potrebno da ih imamo u toj matrici pa ih dodajemo ovde sa svim vrednostima 0 u matrici)."
   ]
  },
  {
   "cell_type": "code",
   "execution_count": 34,
   "metadata": {},
   "outputs": [
    {
     "data": {
      "text/plain": [
       "(943, 1682)"
      ]
     },
     "execution_count": 34,
     "metadata": {},
     "output_type": "execute_result"
    }
   ],
   "source": [
    "ui_matrix_train = np.zeros((number_of_users, number_of_items))\n",
    "for row in train_data.itertuples():\n",
    "    ui_matrix_train[row[1]-1, row[2]-2] = row[3]\n",
    "    \n",
    "ui_matrix_train.shape"
   ]
  },
  {
   "cell_type": "code",
   "execution_count": 35,
   "metadata": {},
   "outputs": [
    {
     "data": {
      "text/plain": [
       "array([[3., 4., 3., ..., 0., 0., 5.],\n",
       "       [0., 0., 0., ..., 0., 0., 4.],\n",
       "       [0., 0., 0., ..., 0., 0., 0.],\n",
       "       ...,\n",
       "       [0., 0., 0., ..., 0., 0., 5.],\n",
       "       [0., 0., 0., ..., 0., 0., 0.],\n",
       "       [5., 0., 0., ..., 0., 0., 0.]])"
      ]
     },
     "execution_count": 35,
     "metadata": {},
     "output_type": "execute_result"
    }
   ],
   "source": [
    "ui_matrix_train"
   ]
  },
  {
   "cell_type": "markdown",
   "metadata": {},
   "source": [
    "Ukupno svih filmova imamo 1682, a u trening skupu ih imamo 1650."
   ]
  },
  {
   "cell_type": "code",
   "execution_count": 36,
   "metadata": {},
   "outputs": [
    {
     "data": {
      "text/plain": [
       "1682"
      ]
     },
     "execution_count": 36,
     "metadata": {},
     "output_type": "execute_result"
    }
   ],
   "source": [
    "number_of_items"
   ]
  },
  {
   "cell_type": "code",
   "execution_count": 37,
   "metadata": {},
   "outputs": [
    {
     "data": {
      "text/plain": [
       "1650"
      ]
     },
     "execution_count": 37,
     "metadata": {},
     "output_type": "execute_result"
    }
   ],
   "source": [
    "train_data['item'].unique().shape[0]"
   ]
  },
  {
   "cell_type": "markdown",
   "metadata": {},
   "source": [
    "Broj različitih korisnika u trening skupu."
   ]
  },
  {
   "cell_type": "code",
   "execution_count": 38,
   "metadata": {},
   "outputs": [
    {
     "data": {
      "text/plain": [
       "943"
      ]
     },
     "execution_count": 38,
     "metadata": {},
     "output_type": "execute_result"
    }
   ],
   "source": [
    "train_data['user'].unique().shape[0]"
   ]
  },
  {
   "cell_type": "markdown",
   "metadata": {},
   "source": [
    "Broj različitih korisnika u test skupu."
   ]
  },
  {
   "cell_type": "code",
   "execution_count": 39,
   "metadata": {},
   "outputs": [
    {
     "data": {
      "text/plain": [
       "459"
      ]
     },
     "execution_count": 39,
     "metadata": {},
     "output_type": "execute_result"
    }
   ],
   "source": [
    "test_data['user'].unique().shape[0]"
   ]
  },
  {
   "cell_type": "markdown",
   "metadata": {},
   "source": [
    "Računamo vrednost kovarijanse između dva korisnika na osnovu sledeće formule:\n",
    "\n",
    "\\begin{align}\n",
    " cov(u_{i}, u_{j}) = \\frac{1}{|I|}\\sum_{k \\in (I_{i} \\cap I_{j})} r_{ik} \\bullet r_{jk} - \\frac{1}{|I|^2} \\sum_{k \\in I} r_{ik} \\bullet \\sum_{k \\in I} r_{jk}\n",
    "\\end{align}"
   ]
  },
  {
   "cell_type": "code",
   "execution_count": 40,
   "metadata": {},
   "outputs": [],
   "source": [
    "def calculate_covariance_between_users(ui_matrix, i, j):\n",
    "    if (i != j):\n",
    "        ratings_i = ui_matrix[i,:]\n",
    "        ratings_j = ui_matrix[j,:]\n",
    "    \n",
    "        common_items = (ratings_i != 0) & (ratings_j != 0)\n",
    "    \n",
    "        part1 = np.sum(ratings_i[common_items]*ratings_j[common_items])*(1/number_of_items)\n",
    "        part2 = np.sum(ratings_i)*np.sum(ratings_j)*(1/(number_of_items**2))\n",
    "    \n",
    "        return part1 - part2\n",
    "    else:\n",
    "        return float('inf')"
   ]
  },
  {
   "cell_type": "code",
   "execution_count": 41,
   "metadata": {},
   "outputs": [
    {
     "data": {
      "text/plain": [
       "0.008566609310867957"
      ]
     },
     "execution_count": 41,
     "metadata": {},
     "output_type": "execute_result"
    }
   ],
   "source": [
    "calculate_covariance_between_users(ui_matrix_train, 1, 2)"
   ]
  },
  {
   "cell_type": "code",
   "execution_count": 42,
   "metadata": {},
   "outputs": [
    {
     "data": {
      "text/plain": [
       "0.008566609310867957"
      ]
     },
     "execution_count": 42,
     "metadata": {},
     "output_type": "execute_result"
    }
   ],
   "source": [
    "calculate_covariance_between_users(ui_matrix_train, 2, 1)"
   ]
  },
  {
   "cell_type": "code",
   "execution_count": 43,
   "metadata": {},
   "outputs": [
    {
     "data": {
      "text/plain": [
       "-0.004150401325640022"
      ]
     },
     "execution_count": 43,
     "metadata": {},
     "output_type": "execute_result"
    }
   ],
   "source": [
    "calculate_covariance_between_users(ui_matrix_train, 100, 99)"
   ]
  },
  {
   "cell_type": "markdown",
   "metadata": {},
   "source": [
    "Formiramo matricu kovarijanse za svaka dva korisnika koristeći prethodno definisanu funkciju koja računa kovarijansu između dva korisnika. S obzirom na to da je matrica simetrična, dovoljno je računati samo pola matrice."
   ]
  },
  {
   "cell_type": "code",
   "execution_count": 44,
   "metadata": {},
   "outputs": [],
   "source": [
    "covariance_matrix = np.zeros((number_of_users, number_of_users))\n",
    "for i in range(number_of_users):\n",
    "    for j in range(i, number_of_users):\n",
    "        covariance_matrix[i, j] = calculate_covariance_between_users(ui_matrix_train, i, j)\n",
    "        covariance_matrix[j, i] = covariance_matrix[i, j]"
   ]
  },
  {
   "cell_type": "code",
   "execution_count": 45,
   "metadata": {},
   "outputs": [
    {
     "data": {
      "text/plain": [
       "array([[        inf,  0.03810155,  0.00961923, ...,  0.06700484,\n",
       "         0.07872932,  0.21979136],\n",
       "       [ 0.03810155,         inf,  0.00856661, ...,  0.03326825,\n",
       "         0.05383221,  0.03996361],\n",
       "       [ 0.00961923,  0.00856661,         inf, ...,  0.01400433,\n",
       "         0.02209871, -0.00750055],\n",
       "       ...,\n",
       "       [ 0.06700484,  0.03326825,  0.01400433, ...,         inf,\n",
       "         0.03458279,  0.03369842],\n",
       "       [ 0.07872932,  0.05383221,  0.02209871, ...,  0.03458279,\n",
       "                inf,  0.12853484],\n",
       "       [ 0.21979136,  0.03996361, -0.00750055, ...,  0.03369842,\n",
       "         0.12853484,         inf]])"
      ]
     },
     "execution_count": 45,
     "metadata": {},
     "output_type": "execute_result"
    }
   ],
   "source": [
    "covariance_matrix"
   ]
  },
  {
   "cell_type": "code",
   "execution_count": 46,
   "metadata": {},
   "outputs": [
    {
     "data": {
      "text/plain": [
       "0.008439714908218932"
      ]
     },
     "execution_count": 46,
     "metadata": {},
     "output_type": "execute_result"
    }
   ],
   "source": [
    "covariance_matrix[10, 20]"
   ]
  },
  {
   "cell_type": "code",
   "execution_count": 47,
   "metadata": {},
   "outputs": [
    {
     "data": {
      "text/plain": [
       "0.008439714908218932"
      ]
     },
     "execution_count": 47,
     "metadata": {},
     "output_type": "execute_result"
    }
   ],
   "source": [
    "covariance_matrix[20, 10]"
   ]
  },
  {
   "cell_type": "code",
   "execution_count": 48,
   "metadata": {},
   "outputs": [
    {
     "data": {
      "text/plain": [
       "0.21979135591087556"
      ]
     },
     "execution_count": 48,
     "metadata": {},
     "output_type": "execute_result"
    }
   ],
   "source": [
    "covariance_matrix[942, 0]"
   ]
  },
  {
   "cell_type": "code",
   "execution_count": 49,
   "metadata": {},
   "outputs": [
    {
     "data": {
      "text/plain": [
       "0.21979135591087556"
      ]
     },
     "execution_count": 49,
     "metadata": {},
     "output_type": "execute_result"
    }
   ],
   "source": [
    "covariance_matrix[0, 942]"
   ]
  },
  {
   "cell_type": "markdown",
   "metadata": {},
   "source": [
    "Definišemo funkciju koja vraća K najličnijih korisnika korisniku koji se prosleđuje kao argument."
   ]
  },
  {
   "cell_type": "code",
   "execution_count": 50,
   "metadata": {},
   "outputs": [],
   "source": [
    "def GetKSimilarUser(user_i, K):\n",
    "    user_values = covariance_matrix[user_i,:]\n",
    "    values = user_values.argsort()[-K-1:]\n",
    "    \n",
    "    return values[0:K]"
   ]
  },
  {
   "cell_type": "code",
   "execution_count": 51,
   "metadata": {},
   "outputs": [
    {
     "name": "stdout",
     "output_type": "stream",
     "text": [
      "[415 888 746 605 456 513 473 822 863 591]\n",
      "0.4247661113475408\n",
      "0.43463771824776853\n",
      "0.44647318392548363\n",
      "0.44853106473947413\n",
      "0.4494610345817291\n",
      "0.45235804439819527\n",
      "0.47118436660959356\n",
      "0.4804091301759837\n",
      "0.49576618062693606\n",
      "0.5263399554066912\n"
     ]
    }
   ],
   "source": [
    "print(GetKSimilarUser(0, 10))\n",
    "for i in GetKSimilarUser(0,10):\n",
    "    print(covariance_matrix[0, i])"
   ]
  },
  {
   "cell_type": "markdown",
   "metadata": {},
   "source": [
    "Definišemo funkciju koja vraća K najrazličitijih korisnika korisniku koji se prosleđuje kao argument."
   ]
  },
  {
   "cell_type": "code",
   "execution_count": 52,
   "metadata": {},
   "outputs": [],
   "source": [
    "def GetKDSimilarUser(user_i, K):\n",
    "    user_values = covariance_matrix[user_i,:]\n",
    "    \n",
    "    return user_values.argsort()[:K]"
   ]
  },
  {
   "cell_type": "markdown",
   "metadata": {},
   "source": [
    "Formiramo niz koji za svakog korisnika iz trening skupa sadrži prosek ocena koje je dao filmovima koje je gledao."
   ]
  },
  {
   "cell_type": "code",
   "execution_count": 53,
   "metadata": {},
   "outputs": [
    {
     "data": {
      "text/plain": [
       "array([3.68148148, 3.8       , 3.        , 4.35714286, 2.95604396,\n",
       "       3.58181818, 3.89201878, 3.6       , 4.16666667, 4.21276596,\n",
       "       3.53333333, 4.28      , 3.13672922, 4.2195122 , 3.03333333,\n",
       "       4.34782609, 3.15789474, 3.93710692, 3.6       , 3.30769231,\n",
       "       2.66315789, 3.3       , 3.63636364, 4.3902439 , 4.04878049,\n",
       "       2.90909091, 3.3       , 3.64102564, 3.94117647, 3.8       ,\n",
       "       3.91304348, 3.54545455, 3.64285714, 3.8       , 3.        ,\n",
       "       4.        , 3.45945946, 3.9047619 , 3.84615385, 2.72727273,\n",
       "       3.93548387, 3.625     , 3.67857143, 3.6375    , 3.48275862,\n",
       "       4.18181818, 3.5625    , 3.72727273, 2.72897196, 3.53846154,\n",
       "       3.75      , 4.34285714, 4.        , 3.33333333, 3.8       ,\n",
       "       3.65217391, 3.62962963, 3.875     , 4.02325581, 4.13445378,\n",
       "       2.83333333, 3.31707317, 2.97916667, 3.59633028, 3.97916667,\n",
       "       3.52380952, 3.41666667, 3.16666667, 3.73684211, 3.4025974 ,\n",
       "       3.81818182, 3.76712329, 3.64705882, 3.76190476, 3.18181818,\n",
       "       3.4       , 3.46153846, 3.35714286, 4.18518519, 3.92857143,\n",
       "       3.56666667, 3.12790698, 3.3974359 , 3.74418605, 3.54716981,\n",
       "       3.63636364, 3.77876106, 4.09090909, 4.15      , 4.25      ,\n",
       "       3.9       , 3.23039216, 3.        , 3.66063348, 3.48407643,\n",
       "       4.25      , 3.97142857, 3.875     , 3.65079365, 3.02941176,\n",
       "       3.        , 2.5625    , 3.4       , 2.79365079, 3.3125    ,\n",
       "       3.71428571, 2.76923077, 3.41176471, 3.5       , 3.08536585,\n",
       "       3.5       , 3.91666667, 3.80645161, 3.62962963, 4.04081633,\n",
       "       3.05681818, 3.72222222, 4.64285714, 3.87755102, 3.57142857,\n",
       "       3.67391304, 3.97058824, 3.93103448, 3.5       , 3.44444444,\n",
       "       3.69565217, 4.18181818, 3.57843137, 2.86666667, 4.07865169,\n",
       "       4.06666667, 3.70588235, 3.27777778, 3.58333333, 3.45      ,\n",
       "       4.55      , 4.08333333, 4.2962963 , 3.93333333, 3.6       ,\n",
       "       3.44615385, 3.8       , 3.73333333, 3.66666667, 3.31891892,\n",
       "       3.68421053, 4.3       , 4.        , 3.        , 3.8       ,\n",
       "       4.08433735, 4.28571429, 3.07692308, 3.96296296, 2.63636364,\n",
       "       3.77777778, 3.7037037 , 3.83838384, 3.4057971 , 4.09090909,\n",
       "       2.52941176, 3.35      , 3.07692308, 4.06060606, 4.        ,\n",
       "       3.3       , 3.81578947, 3.25714286, 3.95652174, 3.66666667,\n",
       "       3.42105263, 3.        , 4.18518519, 3.80208333, 3.82608696,\n",
       "       3.64285714, 3.73015873, 3.71895425, 2.91304348, 3.85294118,\n",
       "       1.51834862, 4.14285714, 3.16666667, 3.71428571, 3.875     ,\n",
       "       3.33333333, 4.20588235, 3.89655172, 3.96330275, 3.38888889,\n",
       "       4.        , 3.45      , 3.27868852, 2.94444444, 3.2244898 ,\n",
       "       3.23809524, 3.19230769, 3.25471698, 3.15789474, 4.        ,\n",
       "       3.14418605, 2.84615385, 3.27272727, 3.63157895, 2.8       ,\n",
       "       1.87878788, 3.21804511, 3.72727273, 3.375     , 3.98571429,\n",
       "       3.38095238, 4.23529412, 4.23880597, 3.87301587, 3.86      ,\n",
       "       3.93150685, 3.05405405, 3.60606061, 4.125     , 3.8       ,\n",
       "       3.61445783, 3.03286385, 3.19230769, 3.09375   , 4.8       ,\n",
       "       3.64516129, 3.27777778, 2.85714286, 3.13333333, 3.92      ,\n",
       "       3.6       , 3.89361702, 4.35294118, 3.10431655, 3.89361702,\n",
       "       3.35714286, 4.11111111, 3.21428571, 4.11627907, 3.6       ,\n",
       "       3.33333333, 4.27272727, 3.55555556, 3.70940171, 3.30769231,\n",
       "       2.95495495, 3.8       , 3.19047619, 4.19101124, 3.83076923,\n",
       "       3.72727273, 4.54545455, 3.94642857, 3.15294118, 2.47826087,\n",
       "       4.06956522, 4.25806452, 3.625     , 3.81481481, 4.16666667,\n",
       "       4.1       , 3.20731707, 4.05      , 4.19047619, 3.62962963,\n",
       "       3.1875    , 3.99056604, 2.93296089, 2.8502994 , 4.29166667,\n",
       "       3.59006211, 4.38709677, 3.5       , 4.02564103, 3.0625    ,\n",
       "       3.41608392, 3.28571429, 4.16666667, 3.17355372, 3.65306122,\n",
       "       3.29411765, 3.4       , 4.07142857, 3.60714286, 3.8125    ,\n",
       "       3.83544304, 3.85714286, 3.72093023, 2.61538462, 3.41772152,\n",
       "       3.69364162, 4.14285714, 3.09767442, 3.5       , 4.29      ,\n",
       "       4.25675676, 3.40860215, 4.19230769, 3.50649351, 3.75      ,\n",
       "       3.58940397, 2.5       , 3.36594203, 3.46153846, 3.424     ,\n",
       "       3.33333333, 3.66666667, 3.83486239, 3.81818182, 3.        ,\n",
       "       3.75675676, 4.48461538, 3.64705882, 3.67142857, 3.97777778,\n",
       "       3.11363636, 3.58333333, 3.6875    , 3.25      , 3.73417722,\n",
       "       3.81944444, 4.22222222, 3.63636364, 4.39215686, 3.35526316,\n",
       "       3.22123894, 3.28      , 3.40828402, 3.2972973 , 4.44705882,\n",
       "       3.65      , 4.13793103, 3.78571429, 3.53211009, 3.61538462,\n",
       "       3.01176471, 4.04761905, 4.12195122, 4.06329114, 4.11111111,\n",
       "       3.66666667, 3.4765625 , 3.98726115, 3.69724771, 3.6641791 ,\n",
       "       3.32835821, 3.60330579, 3.77419355, 3.35714286, 4.4       ,\n",
       "       4.13333333, 3.79310345, 3.28571429, 3.71710526, 4.1       ,\n",
       "       3.46666667, 4.05769231, 3.71428571, 4.14285714, 3.97101449,\n",
       "       3.75641026, 3.27777778, 3.0861244 , 3.35714286, 3.36842105,\n",
       "       4.35294118, 4.11428571, 3.3125    , 4.        , 3.67857143,\n",
       "       4.1025641 , 4.22727273, 3.71794872, 3.31958763, 3.9375    ,\n",
       "       3.63636364, 4.        , 3.40530303, 4.01470588, 3.1637931 ,\n",
       "       3.79775281, 3.54545455, 4.42307692, 4.1875    , 3.30693069,\n",
       "       3.83333333, 3.33333333, 4.11904762, 3.70792079, 3.75      ,\n",
       "       3.75789474, 4.07407407, 3.33968254, 3.808     , 3.82608696,\n",
       "       3.30769231, 3.8375    , 3.62307692, 2.92      , 3.64705882,\n",
       "       3.11504425, 3.83333333, 3.63829787, 3.25      , 1.84879725,\n",
       "       3.47445255, 3.4787234 , 3.7826087 , 3.70322581, 3.08695652,\n",
       "       3.74      , 3.94594595, 3.675     , 3.95454545, 4.28571429,\n",
       "       3.85131894, 3.23432343, 2.86666667, 4.17241379, 4.21875   ,\n",
       "       3.81818182, 3.4125    , 3.52941176, 3.3       , 2.94382022,\n",
       "       3.81609195, 4.58333333, 3.9375    , 3.37087912, 3.50819672,\n",
       "       3.27777778, 3.66666667, 3.45945946, 3.73170732, 3.30835735,\n",
       "       3.74603175, 3.57142857, 4.06896552, 3.71428571, 4.14583333,\n",
       "       3.5       , 3.14516129, 3.375     , 3.71428571, 2.00819672,\n",
       "       2.74285714, 3.57480315, 3.37142857, 3.74626866, 3.8582996 ,\n",
       "       2.73626374, 3.43877551, 3.27516779, 2.97333333, 3.5       ,\n",
       "       3.46948357, 4.0260223 , 3.68333333, 3.38461538, 3.41791045,\n",
       "       3.        , 3.96875   , 2.86466165, 4.03773585, 3.4375    ,\n",
       "       3.46534653, 3.68181818, 3.99300699, 4.53488372, 3.57894737,\n",
       "       3.38709677, 4.22813688, 3.91428571, 4.08256881, 3.6       ,\n",
       "       3.37349398, 4.45714286, 3.4159292 , 3.42079208, 3.73333333,\n",
       "       3.98214286, 3.42307692, 3.05084746, 3.99280576, 3.03846154,\n",
       "       3.22222222, 3.64502165, 3.35714286, 3.72477064, 2.78947368,\n",
       "       3.84848485, 3.52727273, 3.75555556, 3.87234043, 3.95305164,\n",
       "       3.03100775, 3.17921147, 3.2885906 , 3.8627451 , 3.34222222,\n",
       "       3.76712329, 3.10810811, 4.01875   , 3.62151394, 3.36607143,\n",
       "       3.67355372, 4.72413793, 3.82758621, 2.51515152, 2.76666667,\n",
       "       3.75      , 4.33333333, 4.36363636, 3.84020619, 3.        ,\n",
       "       4.0952381 , 3.2972973 , 3.64383562, 4.12244898, 3.43478261,\n",
       "       3.14      , 4.33333333, 4.36      , 3.49346405, 3.2962963 ,\n",
       "       3.23529412, 3.83211679, 3.71698113, 3.60465116, 3.88888889,\n",
       "       3.23333333, 4.12043796, 3.38461538, 4.075     , 3.93577982,\n",
       "       3.87116564, 2.86530612, 3.61728395, 3.98214286, 3.71428571,\n",
       "       3.62406015, 3.48888889, 3.53299492, 2.80645161, 3.50617284,\n",
       "       3.89830508, 3.65217391, 3.67096774, 3.72      , 3.675     ,\n",
       "       3.80239521, 3.0952381 , 4.17      , 3.57017544, 4.01923077,\n",
       "       4.20454545, 3.75471698, 4.2       , 3.57894737, 3.3960396 ,\n",
       "       3.02521008, 3.54166667, 3.76666667, 3.41176471, 4.54285714,\n",
       "       3.44295302, 3.95483871, 3.37037037, 3.48571429, 2.68181818,\n",
       "       3.45      , 3.25      , 3.74509804, 3.52173913, 3.15384615,\n",
       "       3.52777778, 3.80319149, 2.66666667, 3.47297297, 3.55319149,\n",
       "       4.03571429, 3.27419355, 4.44444444, 3.54166667, 3.7375    ,\n",
       "       3.3253012 , 2.96938776, 3.74222222, 3.44186047, 3.5       ,\n",
       "       3.6547619 , 3.81388889, 3.60897436, 3.48      , 3.19791667,\n",
       "       3.6       , 3.63414634, 3.68      , 3.89361702, 3.58426966,\n",
       "       3.08108108, 3.79310345, 3.78723404, 3.2962963 , 3.75555556,\n",
       "       3.96610169, 3.83783784, 3.67484663, 2.39285714, 3.73333333,\n",
       "       3.83333333, 3.37037037, 4.32142857, 3.12820513, 3.86407767,\n",
       "       3.62790698, 2.62037037, 3.28703704, 3.50561798, 3.82727273,\n",
       "       3.5497076 , 3.39035088, 3.73333333, 3.53191489, 3.43396226,\n",
       "       2.34375   , 3.29281768, 4.7037037 , 4.08264463, 3.32407407,\n",
       "       3.1       , 3.66101695, 3.31034483, 3.37037037, 3.26470588,\n",
       "       4.45      , 2.49038462, 3.53731343, 2.95945946, 4.2293578 ,\n",
       "       4.125     , 3.62264151, 3.73786408, 4.        , 3.95901639,\n",
       "       2.94736842, 3.82758621, 3.25925926, 3.79166667, 3.15434084,\n",
       "       3.28571429, 3.13636364, 2.69257951, 3.68707483, 2.9080292 ,\n",
       "       2.54166667, 3.24137931, 3.73239437, 3.79057592, 2.58482143,\n",
       "       3.91735537, 3.86956522, 3.53164557, 3.74698795, 3.47887324,\n",
       "       3.66530612, 3.95744681, 3.52173913, 3.38      , 3.84782609,\n",
       "       3.58064516, 3.24137931, 3.88571429, 3.65853659, 3.70588235,\n",
       "       3.58441558, 3.59183673, 3.42857143, 3.66129032, 4.        ,\n",
       "       3.22727273, 3.13784461, 3.22666667, 3.48837209, 2.05      ,\n",
       "       4.56338028, 3.47619048, 4.83333333, 3.83333333, 3.14782609,\n",
       "       4.21875   , 3.275     , 3.13636364, 4.15286624, 3.28947368,\n",
       "       3.93103448, 3.71428571, 2.84251969, 3.14765101, 3.66666667,\n",
       "       4.21212121, 2.4516129 , 3.53191489, 3.77777778, 3.71052632,\n",
       "       3.31034483, 3.49576271, 3.2       , 3.57246377, 3.69767442,\n",
       "       3.85972851, 3.7654321 , 2.96666667, 3.52272727, 3.38323353,\n",
       "       3.88847584, 3.70967742, 3.69230769, 3.10447761, 3.96666667,\n",
       "       3.53571429, 3.61904762, 3.27272727, 2.16470588, 3.8       ,\n",
       "       3.        , 3.03726708, 3.57692308, 2.85714286, 3.23684211,\n",
       "       3.38554217, 3.7       , 3.02803738, 3.609375  , 3.32075472,\n",
       "       3.        , 3.96969697, 3.67567568, 3.6       , 3.4       ,\n",
       "       3.46153846, 3.46153846, 3.68571429, 3.85185185, 3.1       ,\n",
       "       3.64179104, 4.05460751, 3.72222222, 3.62295082, 3.09090909,\n",
       "       3.54166667, 3.20547945, 3.59649123, 3.38235294, 3.10526316,\n",
       "       3.19266055, 3.36746988, 3.8767507 , 4.0625    , 3.24390244,\n",
       "       2.84848485, 3.04761905, 3.78294574, 3.68807339, 4.08695652,\n",
       "       3.35428571, 4.43243243, 3.265625  , 3.06896552, 4.296875  ,\n",
       "       3.71428571, 4.        , 3.27950311, 2.05803571, 3.78571429,\n",
       "       3.46666667, 4.05555556, 2.95384615, 3.91891892, 3.87272727,\n",
       "       3.78571429, 2.7887931 , 3.86666667, 3.84615385, 3.7037037 ,\n",
       "       3.87179487, 3.14035088, 3.34136546, 3.66666667, 3.01731602,\n",
       "       3.8       , 3.12765957, 3.50909091, 4.30769231, 3.13207547,\n",
       "       3.60055866, 2.65384615, 3.32635983, 4.        , 3.75      ,\n",
       "       4.03846154, 3.49333333, 3.09090909, 3.66566265, 3.34798535,\n",
       "       3.64285714, 3.89215686, 4.13043478, 3.45      , 4.42307692,\n",
       "       4.14285714, 3.5       , 2.79310345, 2.97142857, 3.7431694 ,\n",
       "       3.84      , 3.36111111, 3.47619048, 4.07142857, 3.        ,\n",
       "       4.33870968, 3.12      , 4.00540541, 2.6       , 3.6137931 ,\n",
       "       3.82608696, 3.25      , 3.11538462, 3.546875  , 3.74528302,\n",
       "       3.52054795, 2.96      , 3.05617978, 3.92592593, 4.14705882,\n",
       "       3.86      , 3.04347826, 4.11827957, 3.19298246, 4.13705584,\n",
       "       3.90322581, 3.74074074, 2.73529412, 3.50617284, 3.12903226,\n",
       "       3.74074074, 3.03424658, 4.28666667, 4.86956522, 4.52941176,\n",
       "       3.45933014, 3.46938776, 2.97560976, 3.21198157, 3.34782609,\n",
       "       3.42307692, 3.27272727, 3.42857143, 3.84615385, 3.23943662,\n",
       "       4.        , 4.36363636, 3.12149533, 3.82312925, 2.28787879,\n",
       "       2.7       , 4.26315789, 2.95192308, 2.87234043, 3.4535316 ,\n",
       "       3.49565217, 3.38028169, 2.9       , 3.82352941, 4.19101124,\n",
       "       4.19047619, 3.82716049, 3.26865672, 3.68965517, 3.42663043,\n",
       "       3.32046332, 4.05109489, 3.92537313, 3.72093023, 3.31372549,\n",
       "       3.3625    , 3.92397661, 4.3       , 3.43558282, 3.85714286,\n",
       "       4.12765957, 4.        , 3.42372881, 3.63673469, 3.75      ,\n",
       "       2.98066298, 3.96216216, 3.5       , 3.52592593, 2.55555556,\n",
       "       3.85483871, 3.44897959, 3.85294118, 3.74468085, 3.275     ,\n",
       "       3.80487805, 4.57142857, 3.55405405, 4.34615385, 3.16666667,\n",
       "       3.80612245, 3.81132075, 3.52272727, 3.08695652, 3.11538462,\n",
       "       3.3659306 , 3.54285714, 3.34951456, 3.47004608, 3.23076923,\n",
       "       3.27272727, 3.37007874, 4.14864865, 3.75609756, 3.125     ,\n",
       "       3.3       , 3.69166667, 4.6875    , 3.69387755, 2.96825397,\n",
       "       3.72131148, 3.96680498, 2.64673913, 3.70114943, 3.92307692,\n",
       "       3.74647887, 3.375     , 3.26851852, 4.26530612, 3.45794393,\n",
       "       4.04545455, 4.26582278, 3.41071429])"
      ]
     },
     "execution_count": 53,
     "metadata": {},
     "output_type": "execute_result"
    }
   ],
   "source": [
    "train_users = train_data['user'].unique()\n",
    "average_ratings = np.zeros(number_of_users)\n",
    "\n",
    "for user in train_users:\n",
    "    average_ratings[user-1] = ui_matrix_train[user-1, ui_matrix_train[user-1, :] != 0].mean()\n",
    "    \n",
    "average_ratings\n",
    "    "
   ]
  },
  {
   "cell_type": "markdown",
   "metadata": {},
   "source": [
    "Predloženi algoritam"
   ]
  },
  {
   "cell_type": "code",
   "execution_count": 54,
   "metadata": {},
   "outputs": [],
   "source": [
    "def CFCM(UI, user_u, alpha, K, N):\n",
    "    Nus = GetKSimilarUser(user_u-1, K)\n",
    "    Nud = GetKDSimilarUser(user_u-1, K)\n",
    "    \n",
    "    # pronalazimo iteme koje korisnik nije ocenio i nad njima primenjujemo algoritam\n",
    "    unrated_items = np.where(UI[user_u-1, :] == 0)[0]\n",
    "    number_of_unrated_items = unrated_items.shape[0]\n",
    "    # rečnik predvidjenih ocena za sve iteme\n",
    "    all_predicted_ratings = {}\n",
    "    # drugo, krace ime za matricu kovarijansi\n",
    "    COV = covariance_matrix\n",
    "    \n",
    "    \n",
    "    for item_i in unrated_items:\n",
    "        \n",
    "        # za racunanje dela iznad razlomacke crte u prvom delu gde se posmatraju slicni\n",
    "        similar = np.zeros(K)\n",
    "        # za racunanje dela ispod razlomacke crte u prvom delu gde se posmatraju slicni\n",
    "        divide_s = np.zeros(K)\n",
    "        # za racunanje dela iznad razlomacke crte u drugom delu gde se posmatraju razliciti\n",
    "        disimilar = np.zeros(K)\n",
    "        # za racunanje dela ispod razlomacke crte u drugom delu gde se posmatraju razliciti\n",
    "        divide_ds = np.zeros(K)\n",
    "    \n",
    "        for i in range(K):\n",
    "            if alpha != 0:\n",
    "                similar[i] = COV[user_u-1, Nus[i]]*(UI[Nus[i],item_i] - average_ratings[Nus[i]])\n",
    "                divide_s[i] = np.abs(COV[user_u-1, Nus[i]])\n",
    "            if alpha != 1:\n",
    "                disimilar[i] = np.abs(COV[user_u-1, Nud[i]])*(UI[Nud[i],item_i] - average_ratings[Nud[i]])\n",
    "                divide_ds[i] = np.abs(COV[user_u-1, Nud[i]])\n",
    "        \n",
    "        # formula iz algoritma\n",
    "        if (alpha != 0 and alpha != 1):\n",
    "            rui = average_ratings[user_u-1] + alpha * (np.sum(similar)/np.sum(divide_s)) + (1-alpha) * (np.sum(disimilar)/np.sum(divide_ds))\n",
    "        elif (alpha == 0):\n",
    "            rui = average_ratings[user_u-1] + (1-alpha) * (np.sum(disimilar)/np.sum(divide_ds))\n",
    "        elif (alpha == 1):\n",
    "            rui = average_ratings[user_u-1] + alpha * (np.sum(similar)/np.sum(divide_s))\n",
    "        \n",
    "        # za svaki element stavljamo u niz\n",
    "        all_predicted_ratings[item_i+1] = rui\n",
    "        #print(rui) \n",
    "        \n",
    "    # uzimamo prvih N najboljih predloga za usera u     \n",
    "    sorted_ratings = sorted(all_predicted_ratings.items(), key=lambda x: x[1], reverse=True)\n",
    "    sorted_i = [rating[0] for rating in sorted_ratings[:N]]\n",
    "    sorted_r = [rating[1] for rating in sorted_ratings[:N]]\n",
    "    \n",
    "    # rezultat je lista parova itema i njihovih ocena\n",
    "    Result = list(zip(sorted_i, sorted_r))\n",
    "    return Result"
   ]
  },
  {
   "cell_type": "code",
   "execution_count": 55,
   "metadata": {},
   "outputs": [
    {
     "data": {
      "text/plain": [
       "[(173, 4.2870704319383055),\n",
       " (49, 4.132586341708102),\n",
       " (81, 4.064823508159774),\n",
       " (180, 3.9695336703784125),\n",
       " (95, 3.9000457126344017)]"
      ]
     },
     "execution_count": 55,
     "metadata": {},
     "output_type": "execute_result"
    }
   ],
   "source": [
    "CFCM(ui_matrix_train, 200, 0.8, 10, 5)"
   ]
  },
  {
   "cell_type": "code",
   "execution_count": 56,
   "metadata": {},
   "outputs": [
    {
     "data": {
      "text/plain": [
       "[(97, 3.759914892335842),\n",
       " (422, 3.686520019266224),\n",
       " (99, 3.681752439250074),\n",
       " (95, 3.522095216899382),\n",
       " (96, 3.508205710685873)]"
      ]
     },
     "execution_count": 56,
     "metadata": {},
     "output_type": "execute_result"
    }
   ],
   "source": [
    "CFCM(ui_matrix_train, 1, 0.8, 10, 5)"
   ]
  },
  {
   "cell_type": "markdown",
   "metadata": {},
   "source": [
    "Definišemo funkciju koja primenjuje naš algoritam za dato alfa, K i N."
   ]
  },
  {
   "cell_type": "code",
   "execution_count": 57,
   "metadata": {},
   "outputs": [],
   "source": [
    "def recommendToTestUsers(alpha, K, N):\n",
    "    users = test_data['user'].unique()\n",
    "    \n",
    "    R = {}\n",
    "    \n",
    "    for user in users:\n",
    "        R[user] = CFCM(ui_matrix_train, user, alpha = alpha, K = K, N = N)\n",
    "        \n",
    "    return R"
   ]
  },
  {
   "cell_type": "markdown",
   "metadata": {},
   "source": [
    "Za svakog test korisnika vraćamo filmove koje je gledao i ocene koje im je dao."
   ]
  },
  {
   "cell_type": "code",
   "execution_count": 107,
   "metadata": {},
   "outputs": [],
   "source": [
    "def getTestItems():\n",
    "    test_users = test_data['user'].unique()\n",
    "    T = {}\n",
    "    for test_user in test_users:\n",
    "        T[test_user] = list(zip(np.array(test_data[test_data['user'] == test_user]['item']), np.array(test_data[test_data['user'] == test_user]['rating'])))\n",
    "\n",
    "    return T"
   ]
  },
  {
   "cell_type": "code",
   "execution_count": 110,
   "metadata": {
    "scrolled": true
   },
   "outputs": [
    {
     "data": {
      "text/html": [
       "<div>\n",
       "<style scoped>\n",
       "    .dataframe tbody tr th:only-of-type {\n",
       "        vertical-align: middle;\n",
       "    }\n",
       "\n",
       "    .dataframe tbody tr th {\n",
       "        vertical-align: top;\n",
       "    }\n",
       "\n",
       "    .dataframe thead th {\n",
       "        text-align: right;\n",
       "    }\n",
       "</style>\n",
       "<table border=\"1\" class=\"dataframe\">\n",
       "  <thead>\n",
       "    <tr style=\"text-align: right;\">\n",
       "      <th></th>\n",
       "      <th>user</th>\n",
       "      <th>item</th>\n",
       "      <th>rating</th>\n",
       "      <th>timestamp</th>\n",
       "    </tr>\n",
       "  </thead>\n",
       "  <tbody>\n",
       "    <tr>\n",
       "      <th>0</th>\n",
       "      <td>1</td>\n",
       "      <td>6</td>\n",
       "      <td>5</td>\n",
       "      <td>887431973</td>\n",
       "    </tr>\n",
       "    <tr>\n",
       "      <th>1</th>\n",
       "      <td>1</td>\n",
       "      <td>10</td>\n",
       "      <td>3</td>\n",
       "      <td>875693118</td>\n",
       "    </tr>\n",
       "    <tr>\n",
       "      <th>2</th>\n",
       "      <td>1</td>\n",
       "      <td>12</td>\n",
       "      <td>5</td>\n",
       "      <td>878542960</td>\n",
       "    </tr>\n",
       "    <tr>\n",
       "      <th>3</th>\n",
       "      <td>1</td>\n",
       "      <td>14</td>\n",
       "      <td>5</td>\n",
       "      <td>874965706</td>\n",
       "    </tr>\n",
       "    <tr>\n",
       "      <th>4</th>\n",
       "      <td>1</td>\n",
       "      <td>17</td>\n",
       "      <td>3</td>\n",
       "      <td>875073198</td>\n",
       "    </tr>\n",
       "    <tr>\n",
       "      <th>...</th>\n",
       "      <td>...</td>\n",
       "      <td>...</td>\n",
       "      <td>...</td>\n",
       "      <td>...</td>\n",
       "    </tr>\n",
       "    <tr>\n",
       "      <th>19995</th>\n",
       "      <td>458</td>\n",
       "      <td>648</td>\n",
       "      <td>4</td>\n",
       "      <td>886395899</td>\n",
       "    </tr>\n",
       "    <tr>\n",
       "      <th>19996</th>\n",
       "      <td>458</td>\n",
       "      <td>1101</td>\n",
       "      <td>4</td>\n",
       "      <td>886397931</td>\n",
       "    </tr>\n",
       "    <tr>\n",
       "      <th>19997</th>\n",
       "      <td>459</td>\n",
       "      <td>934</td>\n",
       "      <td>3</td>\n",
       "      <td>879563639</td>\n",
       "    </tr>\n",
       "    <tr>\n",
       "      <th>19998</th>\n",
       "      <td>460</td>\n",
       "      <td>10</td>\n",
       "      <td>3</td>\n",
       "      <td>882912371</td>\n",
       "    </tr>\n",
       "    <tr>\n",
       "      <th>19999</th>\n",
       "      <td>462</td>\n",
       "      <td>682</td>\n",
       "      <td>5</td>\n",
       "      <td>886365231</td>\n",
       "    </tr>\n",
       "  </tbody>\n",
       "</table>\n",
       "<p>20000 rows × 4 columns</p>\n",
       "</div>"
      ],
      "text/plain": [
       "       user  item  rating  timestamp\n",
       "0         1     6       5  887431973\n",
       "1         1    10       3  875693118\n",
       "2         1    12       5  878542960\n",
       "3         1    14       5  874965706\n",
       "4         1    17       3  875073198\n",
       "...     ...   ...     ...        ...\n",
       "19995   458   648       4  886395899\n",
       "19996   458  1101       4  886397931\n",
       "19997   459   934       3  879563639\n",
       "19998   460    10       3  882912371\n",
       "19999   462   682       5  886365231\n",
       "\n",
       "[20000 rows x 4 columns]"
      ]
     },
     "execution_count": 110,
     "metadata": {},
     "output_type": "execute_result"
    }
   ],
   "source": [
    "test_data"
   ]
  },
  {
   "cell_type": "markdown",
   "metadata": {},
   "source": [
    "Definišemo funkciju za računanje metrike F1."
   ]
  },
  {
   "cell_type": "code",
   "execution_count": 111,
   "metadata": {},
   "outputs": [],
   "source": [
    "def getF1(R, T):\n",
    "    test_users = test_data['user'].unique()\n",
    "    number_of_test_users = test_data['user'].unique().shape[0]\n",
    "    \n",
    "    A = np.zeros(number_of_test_users)\n",
    "    B = np.zeros(number_of_test_users)\n",
    "    C = np.zeros(number_of_test_users)\n",
    "    i = 0\n",
    "    for test_user in test_users:\n",
    "        A[i] = len(set([t[0] for t in T[test_user]]) & set([r[0] for r in R[test_user]]))\n",
    "        B[i] = len(T[test_user])\n",
    "        C[i] = len(R[test_user])\n",
    "        i = i + 1\n",
    "        \n",
    "    Recall = np.sum(A)/np.sum(B)\n",
    "    Precision = np.sum(A)/np.sum(C)\n",
    "    \n",
    "    return 2 / (1/Precision + 1/Recall)"
   ]
  },
  {
   "cell_type": "markdown",
   "metadata": {},
   "source": [
    "Definišemo funkcije za računanje metrike MAE. Prilikom primene algoritma će se računati metrika NMAE (u funkciji applyAlgorithm), normalizacijom rezultata funkcije getMAE."
   ]
  },
  {
   "cell_type": "code",
   "execution_count": 113,
   "metadata": {},
   "outputs": [],
   "source": [
    "def getRating(X, item):\n",
    "    for x in X:        \n",
    "        if (x[0] == item):\n",
    "            return x[1]\n",
    "    return inf"
   ]
  },
  {
   "cell_type": "code",
   "execution_count": 44,
   "metadata": {},
   "outputs": [],
   "source": [
    "def getMAE(R, T):\n",
    "    S = 0\n",
    "    Num = 0\n",
    "    for test_user in T:\n",
    "        test_items = [x[0] for x in T[test_user]]\n",
    "        \n",
    "        recommended_items = [y[0] for y in R[test_user]]\n",
    "        \n",
    "        A = set(test_items) & set(recommended_items)\n",
    "        Num += len(A)\n",
    "        if (len(A)):\n",
    "            for item in A:\n",
    "                S += abs(getRating(T[test_user], item) - getRating(R[test_user], item))\n",
    "\n",
    "    return S/Num          "
   ]
  },
  {
   "cell_type": "markdown",
   "metadata": {},
   "source": [
    "Definišemo funkcije za računanje diverziteta."
   ]
  },
  {
   "cell_type": "code",
   "execution_count": 122,
   "metadata": {},
   "outputs": [],
   "source": [
    "def findUsersForItem(item):\n",
    "    x = np.array([u != 0 for u in ui_matrix_train[:, item - 1]])\n",
    "    return set(np.where(x == True)[0])"
   ]
  },
  {
   "cell_type": "code",
   "execution_count": 123,
   "metadata": {},
   "outputs": [],
   "source": [
    "def jaccard_similarity(items_of_user):\n",
    "    S = 0\n",
    "    \n",
    "    for i in range(len(items_of_user)):\n",
    "        for j in range(len(items_of_user)):\n",
    "            if (i < j):\n",
    "                users_i = findUsersForItem(items_of_user[i])\n",
    "                users_j = findUsersForItem(items_of_user[j])\n",
    "                \n",
    "                S += len(users_i & users_j)/len(users_i | users_j)\n",
    "                \n",
    "    return S"
   ]
  },
  {
   "cell_type": "code",
   "execution_count": 124,
   "metadata": {},
   "outputs": [],
   "source": [
    "def getDiversity(R):\n",
    "    number_of_test_users = test_data['user'].unique().shape[0]    \n",
    "    result = np.zeros(number_of_test_users)\n",
    "    i = 0\n",
    "\n",
    "    for r in R:\n",
    "        items_of_user = [x[0] for x in R[r]]\n",
    "        result[i] = 1 - (jaccard_similarity(items_of_user))/((1/2) * len(R[r]) * (len(R[r]) - 1))\n",
    "        i = i + 1\n",
    "        \n",
    "    Diversity = np.sum(result) / number_of_test_users\n",
    "        \n",
    "    return Diversity"
   ]
  },
  {
   "cell_type": "markdown",
   "metadata": {},
   "source": [
    "Primenjujemo algoritam za različite vrednosti parametara i pamtimo evaluacije za svaku od tih kombinacija parametara."
   ]
  },
  {
   "cell_type": "code",
   "execution_count": 125,
   "metadata": {},
   "outputs": [],
   "source": [
    "def applyAlgorithm(k):\n",
    "    T = getTestItems()\n",
    "    alphas = [0, 0.1, 0.2, 0.3, 0.4, 0.5, 0.6, 0.7, 0.8, 0.9, 1]\n",
    "\n",
    "    F1s = []\n",
    "    MAEs = []\n",
    "    NMAEs = []\n",
    "    Ds = []\n",
    "\n",
    "    print(k)\n",
    "    for alpha in alphas:\n",
    "        print(alpha)\n",
    "\n",
    "        R = recommendToTestUsers(alpha = alpha, K = k, N = 20)\n",
    "\n",
    "        F1 = getF1(R, T)\n",
    "        F1s.append(F1)\n",
    "\n",
    "        MAE = getMAE(R, T)\n",
    "        MAEs.append(MAE)\n",
    "        NMAEs.append(MAE * (1/(5-1)))\n",
    "\n",
    "        diversity = getDiversity(R)\n",
    "        Ds.append(diversity)\n",
    "\n",
    "    evaluations = list(zip(alphas, F1s, MAEs, NMAEs, Ds))\n",
    "    \n",
    "    return evaluations   "
   ]
  },
  {
   "cell_type": "code",
   "execution_count": 126,
   "metadata": {},
   "outputs": [
    {
     "name": "stdout",
     "output_type": "stream",
     "text": [
      "\n",
      "5\n",
      "\n",
      "0\n",
      "0.1\n",
      "0.2\n",
      "0.3\n",
      "0.4\n",
      "0.5\n",
      "0.6\n",
      "0.7\n",
      "0.8\n",
      "0.9\n",
      "1\n",
      "\n",
      "15\n",
      "\n",
      "0\n",
      "0.1\n",
      "0.2\n",
      "0.3\n",
      "0.4\n",
      "0.5\n",
      "0.6\n",
      "0.7\n",
      "0.8\n",
      "0.9\n",
      "1\n",
      "\n",
      "25\n",
      "\n",
      "0\n",
      "0.1\n",
      "0.2\n",
      "0.3\n",
      "0.4\n",
      "0.5\n",
      "0.6\n",
      "0.7\n",
      "0.8\n",
      "0.9\n",
      "1\n",
      "\n",
      "35\n",
      "\n",
      "0\n",
      "0.1\n",
      "0.2\n",
      "0.3\n",
      "0.4\n",
      "0.5\n",
      "0.6\n",
      "0.7\n",
      "0.8\n",
      "0.9\n",
      "1\n",
      "\n",
      "45\n",
      "\n",
      "0\n",
      "0.1\n",
      "0.2\n",
      "0.3\n",
      "0.4\n",
      "0.5\n",
      "0.6\n",
      "0.7\n",
      "0.8\n",
      "0.9\n",
      "1\n",
      "CPU times: user 22h 41min 52s, sys: 13.2 s, total: 22h 42min 5s\n",
      "Wall time: 22h 42min 54s\n"
     ]
    },
    {
     "data": {
      "text/plain": [
       "{5: [(0,\n",
       "   0.018437285812200138,\n",
       "   3.5052753569085704,\n",
       "   0.8763188392271426,\n",
       "   0.7776764401651871),\n",
       "  (0.1,\n",
       "   0.019191226867717612,\n",
       "   3.503952993206775,\n",
       "   0.8759882483016938,\n",
       "   0.7702305823463573),\n",
       "  (0.2,\n",
       "   0.020493488690884163,\n",
       "   3.5022872198594968,\n",
       "   0.8755718049648742,\n",
       "   0.7626155238187183),\n",
       "  (0.3,\n",
       "   0.021453050034270046,\n",
       "   3.5008274730078353,\n",
       "   0.8752068682519588,\n",
       "   0.7549036900121401),\n",
       "  (0.4,\n",
       "   0.02618231665524332,\n",
       "   3.4931927148087896,\n",
       "   0.8732981787021974,\n",
       "   0.74671962182454),\n",
       "  (0.5,\n",
       "   0.03495544893762851,\n",
       "   3.475501829669009,\n",
       "   0.8688754574172523,\n",
       "   0.7451030643789038),\n",
       "  (0.6,\n",
       "   0.045305003427004796,\n",
       "   3.4519352556814504,\n",
       "   0.8629838139203626,\n",
       "   0.7450759894500999),\n",
       "  (0.7,\n",
       "   0.050925291295407814,\n",
       "   3.4360193673721704,\n",
       "   0.8590048418430426,\n",
       "   0.7430661771429908),\n",
       "  (0.8,\n",
       "   0.0527073337902673,\n",
       "   3.4259712214123392,\n",
       "   0.8564928053530848,\n",
       "   0.7429124734988501),\n",
       "  (0.9,\n",
       "   0.054078135709389984,\n",
       "   3.419349059897934,\n",
       "   0.8548372649744835,\n",
       "   0.7448781236480191),\n",
       "  (1,\n",
       "   0.05490061686086361,\n",
       "   3.4176350769363766,\n",
       "   0.8544087692340941,\n",
       "   0.7462874769604944)],\n",
       " 15: [(0,\n",
       "   0.018505825908156272,\n",
       "   3.5101342900337213,\n",
       "   0.8775335725084303,\n",
       "   0.7488400128835339),\n",
       "  (0.1,\n",
       "   0.019465387251542156,\n",
       "   3.5089330185338783,\n",
       "   0.8772332546334696,\n",
       "   0.7408190141440582),\n",
       "  (0.2,\n",
       "   0.020904729266620976,\n",
       "   3.507490436263802,\n",
       "   0.8768726090659505,\n",
       "   0.7320754396563309),\n",
       "  (0.3,\n",
       "   0.023783413296778615,\n",
       "   3.503656126403981,\n",
       "   0.8759140316009952,\n",
       "   0.7218829084377142),\n",
       "  (0.4,\n",
       "   0.02988348183687457,\n",
       "   3.4934839992009117,\n",
       "   0.8733709998002279,\n",
       "   0.7118644578447673),\n",
       "  (0.5,\n",
       "   0.038382453735435224,\n",
       "   3.4767126492935683,\n",
       "   0.8691781623233921,\n",
       "   0.706861619885881),\n",
       "  (0.6,\n",
       "   0.04653872515421522,\n",
       "   3.4573686323749797,\n",
       "   0.8643421580937449,\n",
       "   0.7060526464341216),\n",
       "  (0.7,\n",
       "   0.05078821110349555,\n",
       "   3.4427017746022095,\n",
       "   0.8606754436505524,\n",
       "   0.7059323154151691),\n",
       "  (0.8,\n",
       "   0.05318711446196025,\n",
       "   3.4308979254966294,\n",
       "   0.8577244813741574,\n",
       "   0.7055660390200201),\n",
       "  (0.9,\n",
       "   0.054420836189170665,\n",
       "   3.423015767230816,\n",
       "   0.855753941807704,\n",
       "   0.7068233669445994),\n",
       "  (1,\n",
       "   0.054420836189170665,\n",
       "   3.41950087909454,\n",
       "   0.854875219773635,\n",
       "   0.7079526214039595)],\n",
       " 25: [(0,\n",
       "   0.01884852638793694,\n",
       "   3.5122945500396554,\n",
       "   0.8780736375099139,\n",
       "   0.739988445485952),\n",
       "  (0.1,\n",
       "   0.01973954763536669,\n",
       "   3.511269031501077,\n",
       "   0.8778172578752692,\n",
       "   0.7317155861051592),\n",
       "  (0.2,\n",
       "   0.021384509938313916,\n",
       "   3.509075288508043,\n",
       "   0.8772688221270107,\n",
       "   0.7217651235813217),\n",
       "  (0.3,\n",
       "   0.02446881425633996,\n",
       "   3.505115021896761,\n",
       "   0.8762787554741902,\n",
       "   0.711547808402397),\n",
       "  (0.4,\n",
       "   0.030843043180260456,\n",
       "   3.4949478040260322,\n",
       "   0.8737369510065081,\n",
       "   0.7010025805471509),\n",
       "  (0.5,\n",
       "   0.038862234407128174,\n",
       "   3.478839790555737,\n",
       "   0.8697099476389343,\n",
       "   0.693633763762826),\n",
       "  (0.6,\n",
       "   0.04626456477039068,\n",
       "   3.4608103242053585,\n",
       "   0.8652025810513396,\n",
       "   0.6943400156049708),\n",
       "  (0.7,\n",
       "   0.05133653187114461,\n",
       "   3.445177514472625,\n",
       "   0.8612943786181563,\n",
       "   0.6958484840315239),\n",
       "  (0.8,\n",
       "   0.053666895133653185,\n",
       "   3.4335381495498747,\n",
       "   0.8583845373874687,\n",
       "   0.6958767850372843),\n",
       "  (0.9,\n",
       "   0.053529814941740916,\n",
       "   3.4271743551899285,\n",
       "   0.8567935887974821,\n",
       "   0.696378737879087),\n",
       "  (1,\n",
       "   0.053666895133653185,\n",
       "   3.4227222782071562,\n",
       "   0.8556805695517891,\n",
       "   0.6973390701224)],\n",
       " 35: [(0,\n",
       "   0.01877998629198081,\n",
       "   3.5134681998947346,\n",
       "   0.8783670499736836,\n",
       "   0.735102313460681),\n",
       "  (0.1,\n",
       "   0.02083618917066484,\n",
       "   3.5112777954405114,\n",
       "   0.8778194488601279,\n",
       "   0.7272294704796817),\n",
       "  (0.2,\n",
       "   0.02282385195339274,\n",
       "   3.5091139646551244,\n",
       "   0.8772784911637811,\n",
       "   0.7181099645910028),\n",
       "  (0.3,\n",
       "   0.02542837559972584,\n",
       "   3.5053205955743083,\n",
       "   0.8763301488935771,\n",
       "   0.7069215253360512),\n",
       "  (0.4,\n",
       "   0.03317340644276902,\n",
       "   3.493661095522914,\n",
       "   0.8734152738807285,\n",
       "   0.6964478777814335),\n",
       "  (0.5,\n",
       "   0.039684715558601785,\n",
       "   3.479423961723284,\n",
       "   0.869855990430821,\n",
       "   0.689160451797732),\n",
       "  (0.6,\n",
       "   0.04516792323509253,\n",
       "   3.4641906611165143,\n",
       "   0.8660476652791286,\n",
       "   0.687922371658172),\n",
       "  (0.7,\n",
       "   0.0498971898560658,\n",
       "   3.4498442296882583,\n",
       "   0.8624610574220646,\n",
       "   0.6910380487143867),\n",
       "  (0.8,\n",
       "   0.0527073337902673,\n",
       "   3.437855082980837,\n",
       "   0.8594637707452093,\n",
       "   0.6906853458268187),\n",
       "  (0.9,\n",
       "   0.05325565455791638,\n",
       "   3.430059510333453,\n",
       "   0.8575148775833632,\n",
       "   0.6909166005693417),\n",
       "  (1,\n",
       "   0.05332419465387251,\n",
       "   3.424601045942779,\n",
       "   0.8561502614856947,\n",
       "   0.6925038947627885)],\n",
       " 45: [(0,\n",
       "   0.0203564084989719,\n",
       "   3.5127886597692077,\n",
       "   0.8781971649423019,\n",
       "   0.7322849634470943),\n",
       "  (0.1,\n",
       "   0.021453050034270046,\n",
       "   3.511893133670993,\n",
       "   0.8779732834177483,\n",
       "   0.7251989677301154),\n",
       "  (0.2,\n",
       "   0.02227553118574366,\n",
       "   3.51070349114605,\n",
       "   0.8776758727865125,\n",
       "   0.7158604468032301),\n",
       "  (0.3,\n",
       "   0.02625085675119945,\n",
       "   3.5055523258052723,\n",
       "   0.8763880814513181,\n",
       "   0.7048594204140757),\n",
       "  (0.4,\n",
       "   0.03283070596298835,\n",
       "   3.4950541909251878,\n",
       "   0.8737635477312969,\n",
       "   0.6943020124728302),\n",
       "  (0.5,\n",
       "   0.04043865661411926,\n",
       "   3.479196420889457,\n",
       "   0.8697991052223643,\n",
       "   0.6852261116051135),\n",
       "  (0.6,\n",
       "   0.044688142563399584,\n",
       "   3.466514930854526,\n",
       "   0.8666287327136315,\n",
       "   0.6847496780718428),\n",
       "  (0.7,\n",
       "   0.048869088416723785,\n",
       "   3.4528119275332596,\n",
       "   0.8632029818833149,\n",
       "   0.6872533097809294),\n",
       "  (0.8,\n",
       "   0.051542152159013026,\n",
       "   3.4413434486151053,\n",
       "   0.8603358621537763,\n",
       "   0.688017896008235),\n",
       "  (0.9,\n",
       "   0.052844413982179574,\n",
       "   3.432713178581147,\n",
       "   0.8581782946452867,\n",
       "   0.688232902758337),\n",
       "  (1,\n",
       "   0.05380397532556545,\n",
       "   3.426294978558277,\n",
       "   0.8565737446395693,\n",
       "   0.6888470792699414)]}"
      ]
     },
     "execution_count": 126,
     "metadata": {},
     "output_type": "execute_result"
    }
   ],
   "source": [
    "%%time\n",
    "evaluations = {}\n",
    "evaluations[5] = applyAlgorithm(5)\n",
    "print(evaluations[5])"
   ]
  },
  {
   "cell_type": "code",
   "execution_count": null,
   "metadata": {},
   "outputs": [],
   "source": [
    "%%time\n",
    "evaluations[15] = applyAlgorithm(15)\n",
    "print(evaluations[15])"
   ]
  },
  {
   "cell_type": "code",
   "execution_count": null,
   "metadata": {},
   "outputs": [],
   "source": [
    "%%time\n",
    "evaluations[25] = applyAlgorithm(25)\n",
    "print(evaluations[25])"
   ]
  },
  {
   "cell_type": "markdown",
   "metadata": {},
   "source": [
    "Primena algoritma i evaluacija su se izvršavali 22 sata i 42 minuta, što je razlog zašto je izabran ovaj skup podataka, a ne 1 milion."
   ]
  },
  {
   "cell_type": "code",
   "execution_count": 132,
   "metadata": {
    "scrolled": true
   },
   "outputs": [
    {
     "data": {
      "image/png": "[encoded data removed]",
      "text/plain": [
       "<Figure size 720x360 with 1 Axes>"
      ]
     },
     "metadata": {
      "needs_background": "light"
     },
     "output_type": "display_data"
    }
   ],
   "source": [
    "plt.figure(figsize = (10, 5))\n",
    "plt.title('Evaluacija rada algoritma kroz F1 meru, N = 20')\n",
    "plt.plot([element[0] for element in evaluations[5]], [element[1] for element in evaluations[5]], label = 'K = 5')\n",
    "plt.scatter([element[0] for element in evaluations[5]], [element[1] for element in evaluations[5]])\n",
    "plt.plot([element[0] for element in evaluations[15]], [element[1] for element in evaluations[15]], label = 'K = 15')\n",
    "plt.scatter([element[0] for element in evaluations[15]], [element[1] for element in evaluations[15]])\n",
    "plt.plot([element[0] for element in evaluations[25]], [element[1] for element in evaluations[25]], label = 'K = 25')\n",
    "plt.scatter([element[0] for element in evaluations[25]], [element[1] for element in evaluations[25]])\n",
    "plt.legend(loc = 'best')\n",
    "plt.xlabel('alpha')\n",
    "plt.ylabel('F1')\n",
    "plt.show()"
   ]
  },
  {
   "cell_type": "markdown",
   "metadata": {},
   "source": [
    "Posmatrajući F1 meru vidimo da ona raste kako raste alfa, za bilo koje K. To je očekivano s obzirom na to da povećavanje alfe dajemo više značaja korisnicima koji su najsličniji i samim tim povećavamo preciznost predikcije. Što se K vrednosti tiče, vidimo da nema velike razlike u uticaju na predikciju. Kada je alfa između 0.2 i 0.6, vidimo da je predikcija za K = 5 malo lošija od ostalih. Za alfa od 0.6 do 1, nema velikih odstupanja za različita K. Međutim, ono što primećujemo je da je vrednost za F1 na celom grafiku loša. Najmanja vrednost je negde između 0 i 0.02, a najveća nešto iznad 0.05. S obzirom na to da se F1 kreće od 0 do 1, ovi rezultati nisu dobri."
   ]
  },
  {
   "cell_type": "code",
   "execution_count": 133,
   "metadata": {},
   "outputs": [
    {
     "data": {
      "image/png": "[encoded data removed]",
      "text/plain": [
       "<Figure size 720x360 with 1 Axes>"
      ]
     },
     "metadata": {
      "needs_background": "light"
     },
     "output_type": "display_data"
    }
   ],
   "source": [
    "plt.figure(figsize = (10, 5))\n",
    "plt.title('Evaluacija rada algoritma kroz MAE meru, N = 20')\n",
    "plt.plot([element[0] for element in evaluations[5]], [element[2] for element in evaluations[5]], label = 'K = 5')\n",
    "plt.scatter([element[0] for element in evaluations[5]], [element[2] for element in evaluations[5]])\n",
    "plt.plot([element[0] for element in evaluations[15]], [element[2] for element in evaluations[15]], label = 'K = 15')\n",
    "plt.scatter([element[0] for element in evaluations[15]], [element[2] for element in evaluations[15]])\n",
    "plt.plot([element[0] for element in evaluations[25]], [element[2] for element in evaluations[25]], label = 'K = 25')\n",
    "plt.scatter([element[0] for element in evaluations[25]], [element[2] for element in evaluations[25]])\n",
    "plt.legend(loc = 'best')\n",
    "plt.xlabel('alpha')\n",
    "plt.ylabel('MAE')\n",
    "plt.show()"
   ]
  },
  {
   "cell_type": "markdown",
   "metadata": {},
   "source": [
    "MAE (Mean Absolute Error) opada za svako K kako alfa raste, što je očekivano ponašanje, s obzirom na to da MAE predstavlja grešku predikcije a ona opada kako sve više uzimamo u obzir najsličnije korisnike. MAE sporije opada za alfa od 0 do 0.4, dok za alfa od 0.4 do 0.8 brže opada da bi se ponovo usporilo od 0.8 do 1. Možemo primetiti da što je veće K i greška je veća, dok za alfa = 0.4, razlika za različite vrednosti K je najmanja na celom grafiku. Posmatrajući celokupnu MAE meru možemo videti da kreće od 3.42 do preko 3.5, što je loše. To znači da naš algoritam u proseku pogreši za oko 3.5 ocene prilikom predviđanja, a to je na skali od 1 do 5 veoma loše. Takođe, povećanje greške povećanjem vrednosti K nema smisla, jer bi predikcija trebalo da preciznija kada se uzme u obzir više suseda."
   ]
  },
  {
   "cell_type": "code",
   "execution_count": 134,
   "metadata": {},
   "outputs": [
    {
     "data": {
      "image/png": "[encoded data removed]",
      "text/plain": [
       "<Figure size 720x360 with 1 Axes>"
      ]
     },
     "metadata": {
      "needs_background": "light"
     },
     "output_type": "display_data"
    }
   ],
   "source": [
    "plt.figure(figsize = (10, 5))\n",
    "plt.title('Evaluacija rada algoritma kroz NMAE meru, N = 20')\n",
    "plt.plot([element[0] for element in evaluations[5]], [element[3] for element in evaluations[5]], label = 'K = 5')\n",
    "plt.scatter([element[0] for element in evaluations[5]], [element[3] for element in evaluations[5]])\n",
    "plt.plot([element[0] for element in evaluations[15]], [element[3] for element in evaluations[15]], label = 'K = 15')\n",
    "plt.scatter([element[0] for element in evaluations[15]], [element[3] for element in evaluations[15]])\n",
    "plt.plot([element[0] for element in evaluations[25]], [element[3] for element in evaluations[25]], label = 'K = 25')\n",
    "plt.scatter([element[0] for element in evaluations[25]], [element[3] for element in evaluations[25]])\n",
    "plt.legend(loc = 'best')\n",
    "plt.xlabel('alpha')\n",
    "plt.ylabel('NMAE')\n",
    "plt.show()"
   ]
  },
  {
   "cell_type": "markdown",
   "metadata": {},
   "source": [
    "NMAE (Normalized Mean Absolute Error) je normalizovana MAE, samim tim su rezultati slični, samo što su predstavljeni na drugoj skali - od 0 do 1. Sve što važi za MAE važi i ovde. "
   ]
  },
  {
   "cell_type": "code",
   "execution_count": 135,
   "metadata": {},
   "outputs": [
    {
     "data": {
      "image/png": "[encoded data removed]",
      "text/plain": [
       "<Figure size 720x360 with 1 Axes>"
      ]
     },
     "metadata": {
      "needs_background": "light"
     },
     "output_type": "display_data"
    }
   ],
   "source": [
    "plt.figure(figsize = (10, 5))\n",
    "plt.title('Evaluacija rada algoritma kroz Diversity meru, N = 20')\n",
    "plt.plot([element[0] for element in evaluations[5]], [element[4] for element in evaluations[5]], label = 'K = 5')\n",
    "plt.scatter([element[0] for element in evaluations[5]], [element[4] for element in evaluations[5]])\n",
    "plt.plot([element[0] for element in evaluations[15]], [element[4] for element in evaluations[15]], label = 'K = 15')\n",
    "plt.scatter([element[0] for element in evaluations[15]], [element[4] for element in evaluations[15]])\n",
    "plt.plot([element[0] for element in evaluations[25]], [element[4] for element in evaluations[25]], label = 'K = 25')\n",
    "plt.scatter([element[0] for element in evaluations[25]], [element[4] for element in evaluations[25]])\n",
    "plt.legend(loc = 'best')\n",
    "plt.xlabel('alpha')\n",
    "plt.ylabel('Diversity')\n",
    "plt.show()"
   ]
  },
  {
   "cell_type": "markdown",
   "metadata": {},
   "source": [
    "Diverzitet je mera koja opisuje različitost između itema u rezultujućem skupu predloga (izlazu našeg algoritma). Što je veći diverzitet znači da su bolje performanse predviđanja za istu preciznost. Diverzitet je najveći kad je alfa 0, za svako K. To je zato što kad je alfa 0 uzimamo u obzir samo najraličitije korisnike i samim tim je diverzitet odnosno raznolikost predloga najveća. Kako alfa raste za bilo koje K vidimo da diverzitet opada. Brže opada za alfa od 0 do 0.5, a potom dosta sporije dok u nekim momentima i oscilira. Za fiksno alfa vidimo da diverzitet opada kako K raste, pri čemu se najviše izdvaja K = 5 za koje je diverzitet ubedljivo najveći. Diverzitet se meri na skali od 0 do 1 i poželjno je da je što veći, samim tim su rezultati dobri."
   ]
  },
  {
   "cell_type": "markdown",
   "metadata": {},
   "source": [
    "Koristimo Surprise biblioteku koja pruža korišćenje algoritama za uzajamno filtriranje da bismo uporedili performanse našeg algoritma sa već dostupnim algoritmima."
   ]
  },
  {
   "cell_type": "code",
   "execution_count": 38,
   "metadata": {},
   "outputs": [],
   "source": [
    "from surprise import SVD\n",
    "from surprise import NMF\n",
    "from surprise import KNNBasic\n",
    "from surprise import KNNWithMeans\n",
    "from surprise import KNNBaseline\n",
    "from surprise import KNNWithZScore\n",
    "from surprise import NormalPredictor\n",
    "from surprise import SlopeOne\n",
    "from surprise import Dataset\n",
    "from surprise.model_selection import cross_validate\n",
    "from surprise import Reader\n",
    "from surprise import accuracy\n",
    "from surprise.model_selection import PredefinedKFold\n",
    "import os\n",
    "\n",
    "files_dir = os.path.expanduser('ml-100k/')\n",
    "\n",
    "reader = Reader('ml-100k')\n",
    "\n",
    "# ucitavamo vec postojece podele na trening i test skup da bismo tacno uporedili rezulate na nasoj podeli \n",
    "# (u1.base i u1.test)\n",
    "\n",
    "train_file = files_dir + 'u%d.base'\n",
    "test_file = files_dir + 'u%d.test'\n",
    "folds_files = [(train_file % i, test_file % i) for i in (1, 2, 3, 4, 5)]\n",
    "\n",
    "data = Dataset.load_from_folds(folds_files, reader=reader)\n",
    "pkf = PredefinedKFold()"
   ]
  },
  {
   "cell_type": "markdown",
   "metadata": {},
   "source": [
    "Učitavamo 8 različitih dostupnih algoritama zarad poređenja od kojih pravimo 14 modela sa različitim parametrima, pri čemu ćemo se najviše fokusirati na KNNWithMeans i KNNWithZScore, jer su njihove forme najsličnije našem algoritmu. KNNWithMeans koristi srednju vrednost ocena za jednog korisnika, kao i naš algoritam, ali koristi funkciju sličnosti umesto kovarijanse i uzima u obzir samo najsličnije korisnike, dok naš algoritam uzima u obzir i najrazličitije (zbog poboljšanja raznolikosti predloga). KNNWithZScore je veoma slična KNNWithMeans samo što uzima z-score normalizaciju za svakog korisnika. Surprise biblioteka nudi 4 funkcije sličnosti i za svaku od njih ćemo obučiti poseban model i primeniti ga na test skupu. Takođe, za algoritme koji koriste KNN svuda je naznačeno da želimo tačno 20 suseda da se uzme u obzir, da bi bilo što bliže našem algoritmu u kome smo takođe fiksirali da broj suseda bude 20."
   ]
  },
  {
   "cell_type": "code",
   "execution_count": 39,
   "metadata": {},
   "outputs": [],
   "source": [
    "algoSVD = SVD()\n",
    "algoNMF = NMF()\n",
    "algoKNN = KNNBasic(k = 25, min_k = 5)\n",
    "\n",
    "sim_options_cos = {'name': 'cosine',\n",
    "               'user_based': True  # compute similarities between users\n",
    "               }\n",
    "\n",
    "sim_options_msd = {'name': 'msd',\n",
    "               'user_based': True  # compute similarities between users\n",
    "               }\n",
    "\n",
    "sim_options_pear = {'name': 'pearson',\n",
    "               'user_based': True  # compute similarities between users\n",
    "               }\n",
    "\n",
    "sim_options_pear_base = {'name': 'pearson_baseline',\n",
    "               'user_based': True  # compute similarities between users\n",
    "               }\n",
    "\n",
    "algoKNNMeansCOS = KNNWithMeans(k = 25, min_k = 5, sim_options = sim_options_cos)\n",
    "algoKNNMeansMSD = KNNWithMeans(k = 25, min_k = 5, sim_options = sim_options_msd)\n",
    "algoKNNMeansPEAR = KNNWithMeans(k = 25, min_k = 5, sim_options = sim_options_pear)\n",
    "algoKNNMeansPEARBASE = KNNWithMeans(k = 25, min_k = 5, sim_options = sim_options_pear_base)\n",
    "\n",
    "algoKNNWithZScoreCOS = KNNWithZScore(k = 25, min_k = 5, sim_options = sim_options_cos)\n",
    "algoKNNWithZScoreMSD = KNNWithZScore(k = 25, min_k = 5, sim_options = sim_options_msd)\n",
    "algoKNNWithZScorePEAR = KNNWithZScore(k = 25, min_k = 5, sim_options = sim_options_pear)\n",
    "algoKNNWithZScorePEARBASE = KNNWithZScore(k = 25, min_k = 5, sim_options = sim_options_pear_base)\n",
    "\n",
    "algoKNNBaseline = KNNBaseline(k = 25, min_k = 5, sim_options = sim_options_pear_base)\n",
    "\n",
    "algoNormal = NormalPredictor()\n",
    "algoSlopeOne = SlopeOne()"
   ]
  },
  {
   "cell_type": "markdown",
   "metadata": {},
   "source": [
    "Za svaki od algoritama treniramo i predviđamo na odgovarajućim trening i test skupovima koje smo učitali, a potom evaluiramo pomoću MAE metrike. Surprise biblioteka nudi 4 metrike za evaluaciju, ali je MAE jedina od tih ponuđenih koju smo mi koristili prilikom evaluacije našeg algoritma pa je samim tim jedina koju ćemo uzeti u obzir i za Surprise."
   ]
  },
  {
   "cell_type": "code",
   "execution_count": 15,
   "metadata": {},
   "outputs": [
    {
     "name": "stdout",
     "output_type": "stream",
     "text": [
      "MAE:  0.7516\n",
      "MAE:  0.7392\n",
      "MAE:  0.7342\n",
      "MAE:  0.7339\n",
      "MAE:  0.7420\n",
      "CPU times: user 1min 37s, sys: 243 ms, total: 1min 37s\n",
      "Wall time: 1min 38s\n"
     ]
    }
   ],
   "source": [
    "%%time\n",
    "\n",
    "for trainset, testset in pkf.split(data):\n",
    "\n",
    "    algoSVD.fit(trainset)\n",
    "    predictions = algoSVD.test(testset)\n",
    "\n",
    "    accuracy.mae(predictions, verbose=True)\n"
   ]
  },
  {
   "cell_type": "code",
   "execution_count": 16,
   "metadata": {},
   "outputs": [
    {
     "name": "stdout",
     "output_type": "stream",
     "text": [
      "MAE:  0.7685\n",
      "MAE:  0.7624\n",
      "MAE:  0.7555\n",
      "MAE:  0.7554\n",
      "MAE:  0.7625\n",
      "CPU times: user 1min 26s, sys: 175 ms, total: 1min 26s\n",
      "Wall time: 1min 26s\n"
     ]
    }
   ],
   "source": [
    "%%time\n",
    "\n",
    "for trainset, testset in pkf.split(data):\n",
    "\n",
    "    algoNMF.fit(trainset)\n",
    "    predictions = algoNMF.test(testset)\n",
    "\n",
    "    accuracy.mae(predictions, verbose = True)"
   ]
  },
  {
   "cell_type": "code",
   "execution_count": 22,
   "metadata": {},
   "outputs": [
    {
     "name": "stdout",
     "output_type": "stream",
     "text": [
      "Computing the msd similarity matrix...\n",
      "Done computing similarity matrix.\n",
      "MAE:  0.8011\n",
      "Computing the msd similarity matrix...\n",
      "Done computing similarity matrix.\n",
      "MAE:  0.7870\n",
      "Computing the msd similarity matrix...\n",
      "Done computing similarity matrix.\n",
      "MAE:  0.7809\n",
      "Computing the msd similarity matrix...\n",
      "Done computing similarity matrix.\n",
      "MAE:  0.7772\n",
      "Computing the msd similarity matrix...\n",
      "Done computing similarity matrix.\n",
      "MAE:  0.7860\n",
      "CPU times: user 56.5 s, sys: 71.8 ms, total: 56.5 s\n",
      "Wall time: 56.8 s\n"
     ]
    }
   ],
   "source": [
    "%%time\n",
    "\n",
    "for trainset, testset in pkf.split(data):\n",
    "\n",
    "    algoKNN.fit(trainset)\n",
    "    predictions = algoKNN.test(testset)\n",
    "\n",
    "    accuracy.mae(predictions, verbose = True)"
   ]
  },
  {
   "cell_type": "code",
   "execution_count": 31,
   "metadata": {},
   "outputs": [
    {
     "name": "stdout",
     "output_type": "stream",
     "text": [
      "Computing the cosine similarity matrix...\n",
      "Done computing similarity matrix.\n",
      "MAE:  0.7853\n",
      "Computing the cosine similarity matrix...\n",
      "Done computing similarity matrix.\n",
      "MAE:  0.7731\n",
      "Computing the cosine similarity matrix...\n",
      "Done computing similarity matrix.\n",
      "MAE:  0.7662\n",
      "Computing the cosine similarity matrix...\n",
      "Done computing similarity matrix.\n",
      "MAE:  0.7648\n",
      "Computing the cosine similarity matrix...\n",
      "Done computing similarity matrix.\n",
      "MAE:  0.7718\n",
      "CPU times: user 1min 12s, sys: 170 ms, total: 1min 12s\n",
      "Wall time: 1min 12s\n"
     ]
    }
   ],
   "source": [
    "%%time\n",
    "\n",
    "for trainset, testset in pkf.split(data):\n",
    "\n",
    "    algoKNNMeansCOS.fit(trainset)\n",
    "    predictions = algoKNNMeansCOS.test(testset)\n",
    "\n",
    "    accuracy.mae(predictions, verbose = True)"
   ]
  },
  {
   "cell_type": "code",
   "execution_count": 32,
   "metadata": {},
   "outputs": [
    {
     "name": "stdout",
     "output_type": "stream",
     "text": [
      "Computing the msd similarity matrix...\n",
      "Done computing similarity matrix.\n",
      "MAE:  0.7780\n",
      "Computing the msd similarity matrix...\n",
      "Done computing similarity matrix.\n",
      "MAE:  0.7650\n",
      "Computing the msd similarity matrix...\n",
      "Done computing similarity matrix.\n",
      "MAE:  0.7613\n",
      "Computing the msd similarity matrix...\n",
      "Done computing similarity matrix.\n",
      "MAE:  0.7580\n",
      "Computing the msd similarity matrix...\n",
      "Done computing similarity matrix.\n",
      "MAE:  0.7642\n",
      "CPU times: user 57.7 s, sys: 112 ms, total: 57.8 s\n",
      "Wall time: 58 s\n"
     ]
    }
   ],
   "source": [
    "%%time\n",
    "\n",
    "for trainset, testset in pkf.split(data):\n",
    "\n",
    "    algoKNNMeansMSD.fit(trainset)\n",
    "    predictions = algoKNNMeansMSD.test(testset)\n",
    "\n",
    "    accuracy.mae(predictions, verbose = True)"
   ]
  },
  {
   "cell_type": "code",
   "execution_count": 33,
   "metadata": {},
   "outputs": [
    {
     "name": "stdout",
     "output_type": "stream",
     "text": [
      "Computing the pearson similarity matrix...\n",
      "Done computing similarity matrix.\n",
      "MAE:  0.7765\n",
      "Computing the pearson similarity matrix...\n",
      "Done computing similarity matrix.\n",
      "MAE:  0.7601\n",
      "Computing the pearson similarity matrix...\n",
      "Done computing similarity matrix.\n",
      "MAE:  0.7554\n",
      "Computing the pearson similarity matrix...\n",
      "Done computing similarity matrix.\n",
      "MAE:  0.7574\n",
      "Computing the pearson similarity matrix...\n",
      "Done computing similarity matrix.\n",
      "MAE:  0.7638\n",
      "CPU times: user 1min 20s, sys: 172 ms, total: 1min 20s\n",
      "Wall time: 1min 20s\n"
     ]
    }
   ],
   "source": [
    "%%time\n",
    "\n",
    "for trainset, testset in pkf.split(data):\n",
    "\n",
    "    algoKNNMeansPEAR.fit(trainset)\n",
    "    predictions = algoKNNMeansPEAR.test(testset)\n",
    "\n",
    "    accuracy.mae(predictions, verbose = True)"
   ]
  },
  {
   "cell_type": "code",
   "execution_count": 34,
   "metadata": {},
   "outputs": [
    {
     "name": "stdout",
     "output_type": "stream",
     "text": [
      "Estimating biases using als...\n",
      "Computing the pearson_baseline similarity matrix...\n",
      "Done computing similarity matrix.\n",
      "MAE:  0.7642\n",
      "Estimating biases using als...\n",
      "Computing the pearson_baseline similarity matrix...\n",
      "Done computing similarity matrix.\n",
      "MAE:  0.7501\n",
      "Estimating biases using als...\n",
      "Computing the pearson_baseline similarity matrix...\n",
      "Done computing similarity matrix.\n",
      "MAE:  0.7427\n",
      "Estimating biases using als...\n",
      "Computing the pearson_baseline similarity matrix...\n",
      "Done computing similarity matrix.\n",
      "MAE:  0.7433\n",
      "Estimating biases using als...\n",
      "Computing the pearson_baseline similarity matrix...\n",
      "Done computing similarity matrix.\n",
      "MAE:  0.7513\n",
      "CPU times: user 1min 16s, sys: 132 ms, total: 1min 17s\n",
      "Wall time: 1min 17s\n"
     ]
    }
   ],
   "source": [
    "%%time\n",
    "\n",
    "for trainset, testset in pkf.split(data):\n",
    "\n",
    "    algoKNNMeansPEARBASE.fit(trainset)\n",
    "    predictions = algoKNNMeansPEARBASE.test(testset)\n",
    "\n",
    "    accuracy.mae(predictions, verbose = True)"
   ]
  },
  {
   "cell_type": "code",
   "execution_count": 40,
   "metadata": {},
   "outputs": [
    {
     "name": "stdout",
     "output_type": "stream",
     "text": [
      "Computing the cosine similarity matrix...\n",
      "Done computing similarity matrix.\n",
      "MAE:  0.7837\n",
      "Computing the cosine similarity matrix...\n",
      "Done computing similarity matrix.\n",
      "MAE:  0.7718\n",
      "Computing the cosine similarity matrix...\n",
      "Done computing similarity matrix.\n",
      "MAE:  0.7647\n",
      "Computing the cosine similarity matrix...\n",
      "Done computing similarity matrix.\n",
      "MAE:  0.7626\n",
      "Computing the cosine similarity matrix...\n",
      "Done computing similarity matrix.\n",
      "MAE:  0.7706\n",
      "CPU times: user 1min 17s, sys: 236 ms, total: 1min 17s\n",
      "Wall time: 1min 22s\n"
     ]
    }
   ],
   "source": [
    "%%time\n",
    "\n",
    "for trainset, testset in pkf.split(data):\n",
    "\n",
    "    algoKNNWithZScoreCOS.fit(trainset)\n",
    "    predictions = algoKNNWithZScoreCOS.test(testset)\n",
    "\n",
    "    accuracy.mae(predictions, verbose = True)"
   ]
  },
  {
   "cell_type": "code",
   "execution_count": 41,
   "metadata": {},
   "outputs": [
    {
     "name": "stdout",
     "output_type": "stream",
     "text": [
      "Computing the msd similarity matrix...\n",
      "Done computing similarity matrix.\n",
      "MAE:  0.7760\n",
      "Computing the msd similarity matrix...\n",
      "Done computing similarity matrix.\n",
      "MAE:  0.7631\n",
      "Computing the msd similarity matrix...\n",
      "Done computing similarity matrix.\n",
      "MAE:  0.7599\n",
      "Computing the msd similarity matrix...\n",
      "Done computing similarity matrix.\n",
      "MAE:  0.7559\n",
      "Computing the msd similarity matrix...\n",
      "Done computing similarity matrix.\n",
      "MAE:  0.7629\n",
      "CPU times: user 1min 1s, sys: 52 ms, total: 1min 1s\n",
      "Wall time: 1min 1s\n"
     ]
    }
   ],
   "source": [
    "%%time\n",
    "\n",
    "for trainset, testset in pkf.split(data):\n",
    "\n",
    "    algoKNNWithZScoreMSD.fit(trainset)\n",
    "    predictions = algoKNNWithZScoreMSD.test(testset)\n",
    "\n",
    "    accuracy.mae(predictions, verbose = True)"
   ]
  },
  {
   "cell_type": "code",
   "execution_count": 42,
   "metadata": {},
   "outputs": [
    {
     "name": "stdout",
     "output_type": "stream",
     "text": [
      "Computing the pearson similarity matrix...\n",
      "Done computing similarity matrix.\n",
      "MAE:  0.7736\n",
      "Computing the pearson similarity matrix...\n",
      "Done computing similarity matrix.\n",
      "MAE:  0.7584\n",
      "Computing the pearson similarity matrix...\n",
      "Done computing similarity matrix.\n",
      "MAE:  0.7528\n",
      "Computing the pearson similarity matrix...\n",
      "Done computing similarity matrix.\n",
      "MAE:  0.7541\n",
      "Computing the pearson similarity matrix...\n",
      "Done computing similarity matrix.\n",
      "MAE:  0.7619\n",
      "CPU times: user 1min 24s, sys: 196 ms, total: 1min 24s\n",
      "Wall time: 1min 25s\n"
     ]
    }
   ],
   "source": [
    "%%time\n",
    "\n",
    "for trainset, testset in pkf.split(data):\n",
    "\n",
    "    algoKNNWithZScorePEAR.fit(trainset)\n",
    "    predictions = algoKNNWithZScorePEAR.test(testset)\n",
    "\n",
    "    accuracy.mae(predictions, verbose = True)"
   ]
  },
  {
   "cell_type": "code",
   "execution_count": 43,
   "metadata": {},
   "outputs": [
    {
     "name": "stdout",
     "output_type": "stream",
     "text": [
      "Estimating biases using als...\n",
      "Computing the pearson_baseline similarity matrix...\n",
      "Done computing similarity matrix.\n",
      "MAE:  0.7613\n",
      "Estimating biases using als...\n",
      "Computing the pearson_baseline similarity matrix...\n",
      "Done computing similarity matrix.\n",
      "MAE:  0.7485\n",
      "Estimating biases using als...\n",
      "Computing the pearson_baseline similarity matrix...\n",
      "Done computing similarity matrix.\n",
      "MAE:  0.7405\n",
      "Estimating biases using als...\n",
      "Computing the pearson_baseline similarity matrix...\n",
      "Done computing similarity matrix.\n",
      "MAE:  0.7406\n",
      "Estimating biases using als...\n",
      "Computing the pearson_baseline similarity matrix...\n",
      "Done computing similarity matrix.\n",
      "MAE:  0.7504\n",
      "CPU times: user 1min 17s, sys: 88.1 ms, total: 1min 17s\n",
      "Wall time: 1min 17s\n"
     ]
    }
   ],
   "source": [
    "%%time\n",
    "\n",
    "for trainset, testset in pkf.split(data):\n",
    "\n",
    "    algoKNNWithZScorePEARBASE.fit(trainset)\n",
    "    predictions = algoKNNWithZScorePEARBASE.test(testset)\n",
    "\n",
    "    accuracy.mae(predictions, verbose = True)"
   ]
  },
  {
   "cell_type": "code",
   "execution_count": 35,
   "metadata": {},
   "outputs": [
    {
     "name": "stdout",
     "output_type": "stream",
     "text": [
      "Estimating biases using als...\n",
      "Computing the pearson_baseline similarity matrix...\n",
      "Done computing similarity matrix.\n",
      "MAE:  0.7359\n",
      "Estimating biases using als...\n",
      "Computing the pearson_baseline similarity matrix...\n",
      "Done computing similarity matrix.\n",
      "MAE:  0.7253\n",
      "Estimating biases using als...\n",
      "Computing the pearson_baseline similarity matrix...\n",
      "Done computing similarity matrix.\n",
      "MAE:  0.7216\n",
      "Estimating biases using als...\n",
      "Computing the pearson_baseline similarity matrix...\n",
      "Done computing similarity matrix.\n",
      "MAE:  0.7214\n",
      "Estimating biases using als...\n",
      "Computing the pearson_baseline similarity matrix...\n",
      "Done computing similarity matrix.\n",
      "MAE:  0.7299\n",
      "CPU times: user 1min 22s, sys: 291 ms, total: 1min 23s\n",
      "Wall time: 1min 24s\n"
     ]
    }
   ],
   "source": [
    "%%time\n",
    "\n",
    "for trainset, testset in pkf.split(data):\n",
    "\n",
    "    algoKNNBaseline.fit(trainset)\n",
    "    predictions = algoKNNBaseline.test(testset)\n",
    "\n",
    "    accuracy.mae(predictions, verbose = True)"
   ]
  },
  {
   "cell_type": "code",
   "execution_count": 25,
   "metadata": {},
   "outputs": [
    {
     "name": "stdout",
     "output_type": "stream",
     "text": [
      "MAE:  1.2389\n",
      "MAE:  1.2255\n",
      "MAE:  1.2224\n",
      "MAE:  1.2204\n",
      "MAE:  1.2221\n",
      "CPU times: user 12.8 s, sys: 44 ms, total: 12.8 s\n",
      "Wall time: 12.9 s\n"
     ]
    }
   ],
   "source": [
    "%%time\n",
    "\n",
    "for trainset, testset in pkf.split(data):\n",
    "\n",
    "    algoNormal.fit(trainset)\n",
    "    predictions = algoNormal.test(testset)\n",
    "\n",
    "    accuracy.mae(predictions, verbose = True)"
   ]
  },
  {
   "cell_type": "code",
   "execution_count": 26,
   "metadata": {},
   "outputs": [
    {
     "name": "stdout",
     "output_type": "stream",
     "text": [
      "MAE:  0.7506\n",
      "MAE:  0.7423\n",
      "MAE:  0.7427\n",
      "MAE:  0.7402\n",
      "MAE:  0.7436\n",
      "CPU times: user 1min, sys: 296 ms, total: 1min\n",
      "Wall time: 1min\n"
     ]
    }
   ],
   "source": [
    "%%time\n",
    "\n",
    "for trainset, testset in pkf.split(data):\n",
    "\n",
    "    algoSlopeOne.fit(trainset)\n",
    "    predictions = algoSlopeOne.test(testset)\n",
    "\n",
    "    accuracy.mae(predictions, verbose = True)"
   ]
  },
  {
   "cell_type": "markdown",
   "metadata": {},
   "source": [
    "Ako posmatramo samo prvu vrednost za MAE od 5 koji su dati u svakom algoritmu (zato što naš algoritam je koristio prvu podelu na trening i test skup), videćemo da se vrednost uglavnom kreće od 0.75 do 0.8, izuzev algoNormal koji je otprilike 1.24. Dakle, na 13 modela vrednost MAE se kreće između 0.75 do 0.8, dok se u našem modelu može uzeti 3.5 kao vrednost MAE. Možemo zaključiti da naš model daje mnogo lošije rezultate od već dostupnih modela."
   ]
  },
  {
   "cell_type": "markdown",
   "metadata": {},
   "source": [
    "Algoritam koji je ovde implementiran je trebalo da bude poboljšanje algoritama zasnovanih na matrici sličnosti, međutim, vidimo na osnovu rezultata evaluacija da to nije slučaj."
   ]
  },
  {
   "cell_type": "code",
   "execution_count": null,
   "metadata": {},
   "outputs": [],
   "source": []
  }
 ],
 "metadata": {
  "kernelspec": {
   "display_name": "Python 3",
   "language": "python",
   "name": "python3"
  },
  "language_info": {
   "codemirror_mode": {
    "name": "ipython",
    "version": 3
   },
   "file_extension": ".py",
   "mimetype": "text/x-python",
   "name": "python",
   "nbconvert_exporter": "python",
   "pygments_lexer": "ipython3",
   "version": "3.8.5"
  }
 },
 "nbformat": 4,
 "nbformat_minor": 4
}
