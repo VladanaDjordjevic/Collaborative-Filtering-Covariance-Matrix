{
 "cells": [
  {
   "cell_type": "markdown",
   "metadata": {},
   "source": [
    "# Sistemi preporuka zasnovani na uzajamnom filtriranju koristeci matricu kovarijansi"
   ]
  },
  {
   "cell_type": "code",
   "execution_count": 7,
   "metadata": {},
   "outputs": [],
   "source": [
    "import pandas as pd\n",
    "import numpy as np\n",
    "from sklearn import model_selection"
   ]
  },
  {
   "cell_type": "code",
   "execution_count": 8,
   "metadata": {},
   "outputs": [],
   "source": [
    "header = ['user', 'item', 'rating', 'timestemp']"
   ]
  },
  {
   "cell_type": "code",
   "execution_count": 9,
   "metadata": {},
   "outputs": [],
   "source": [
    "data = pd.read_table('data/ratings.dat', sep = '::', names = header, engine = 'python')"
   ]
  },
  {
   "cell_type": "code",
   "execution_count": 10,
   "metadata": {},
   "outputs": [
    {
     "data": {
      "text/html": [
       "<div>\n",
       "<style scoped>\n",
       "    .dataframe tbody tr th:only-of-type {\n",
       "        vertical-align: middle;\n",
       "    }\n",
       "\n",
       "    .dataframe tbody tr th {\n",
       "        vertical-align: top;\n",
       "    }\n",
       "\n",
       "    .dataframe thead th {\n",
       "        text-align: right;\n",
       "    }\n",
       "</style>\n",
       "<table border=\"1\" class=\"dataframe\">\n",
       "  <thead>\n",
       "    <tr style=\"text-align: right;\">\n",
       "      <th></th>\n",
       "      <th>user</th>\n",
       "      <th>item</th>\n",
       "      <th>rating</th>\n",
       "      <th>timestemp</th>\n",
       "    </tr>\n",
       "  </thead>\n",
       "  <tbody>\n",
       "    <tr>\n",
       "      <th>0</th>\n",
       "      <td>1</td>\n",
       "      <td>1193</td>\n",
       "      <td>5</td>\n",
       "      <td>978300760</td>\n",
       "    </tr>\n",
       "    <tr>\n",
       "      <th>1</th>\n",
       "      <td>1</td>\n",
       "      <td>661</td>\n",
       "      <td>3</td>\n",
       "      <td>978302109</td>\n",
       "    </tr>\n",
       "    <tr>\n",
       "      <th>2</th>\n",
       "      <td>1</td>\n",
       "      <td>914</td>\n",
       "      <td>3</td>\n",
       "      <td>978301968</td>\n",
       "    </tr>\n",
       "    <tr>\n",
       "      <th>3</th>\n",
       "      <td>1</td>\n",
       "      <td>3408</td>\n",
       "      <td>4</td>\n",
       "      <td>978300275</td>\n",
       "    </tr>\n",
       "    <tr>\n",
       "      <th>4</th>\n",
       "      <td>1</td>\n",
       "      <td>2355</td>\n",
       "      <td>5</td>\n",
       "      <td>978824291</td>\n",
       "    </tr>\n",
       "  </tbody>\n",
       "</table>\n",
       "</div>"
      ],
      "text/plain": [
       "   user  item  rating  timestemp\n",
       "0     1  1193       5  978300760\n",
       "1     1   661       3  978302109\n",
       "2     1   914       3  978301968\n",
       "3     1  3408       4  978300275\n",
       "4     1  2355       5  978824291"
      ]
     },
     "execution_count": 10,
     "metadata": {},
     "output_type": "execute_result"
    }
   ],
   "source": [
    "data.head()"
   ]
  },
  {
   "cell_type": "code",
   "execution_count": 11,
   "metadata": {
    "scrolled": true
   },
   "outputs": [
    {
     "name": "stdout",
     "output_type": "stream",
     "text": [
      "<class 'pandas.core.frame.DataFrame'>\n",
      "RangeIndex: 1000209 entries, 0 to 1000208\n",
      "Data columns (total 4 columns):\n",
      " #   Column     Non-Null Count    Dtype\n",
      "---  ------     --------------    -----\n",
      " 0   user       1000209 non-null  int64\n",
      " 1   item       1000209 non-null  int64\n",
      " 2   rating     1000209 non-null  int64\n",
      " 3   timestemp  1000209 non-null  int64\n",
      "dtypes: int64(4)\n",
      "memory usage: 30.5 MB\n"
     ]
    }
   ],
   "source": [
    "data.info()"
   ]
  },
  {
   "cell_type": "code",
   "execution_count": 22,
   "metadata": {},
   "outputs": [
    {
     "data": {
      "text/plain": [
       "3952"
      ]
     },
     "execution_count": 22,
     "metadata": {},
     "output_type": "execute_result"
    }
   ],
   "source": [
    "data['item'].max()"
   ]
  },
  {
   "cell_type": "code",
   "execution_count": 12,
   "metadata": {},
   "outputs": [],
   "source": [
    "train_data, test_data = model_selection.train_test_split(data, test_size = 0.2, random_state = 7, stratify = data['user'])"
   ]
  },
  {
   "cell_type": "code",
   "execution_count": 13,
   "metadata": {},
   "outputs": [
    {
     "data": {
      "text/html": [
       "<div>\n",
       "<style scoped>\n",
       "    .dataframe tbody tr th:only-of-type {\n",
       "        vertical-align: middle;\n",
       "    }\n",
       "\n",
       "    .dataframe tbody tr th {\n",
       "        vertical-align: top;\n",
       "    }\n",
       "\n",
       "    .dataframe thead th {\n",
       "        text-align: right;\n",
       "    }\n",
       "</style>\n",
       "<table border=\"1\" class=\"dataframe\">\n",
       "  <thead>\n",
       "    <tr style=\"text-align: right;\">\n",
       "      <th></th>\n",
       "      <th>user</th>\n",
       "      <th>item</th>\n",
       "      <th>rating</th>\n",
       "      <th>timestemp</th>\n",
       "    </tr>\n",
       "  </thead>\n",
       "  <tbody>\n",
       "    <tr>\n",
       "      <th>943475</th>\n",
       "      <td>5689</td>\n",
       "      <td>1203</td>\n",
       "      <td>4</td>\n",
       "      <td>961829920</td>\n",
       "    </tr>\n",
       "    <tr>\n",
       "      <th>69354</th>\n",
       "      <td>464</td>\n",
       "      <td>1224</td>\n",
       "      <td>5</td>\n",
       "      <td>976227084</td>\n",
       "    </tr>\n",
       "    <tr>\n",
       "      <th>914137</th>\n",
       "      <td>5526</td>\n",
       "      <td>1892</td>\n",
       "      <td>2</td>\n",
       "      <td>963099584</td>\n",
       "    </tr>\n",
       "    <tr>\n",
       "      <th>51981</th>\n",
       "      <td>342</td>\n",
       "      <td>700</td>\n",
       "      <td>2</td>\n",
       "      <td>976339072</td>\n",
       "    </tr>\n",
       "    <tr>\n",
       "      <th>388280</th>\n",
       "      <td>2271</td>\n",
       "      <td>1080</td>\n",
       "      <td>4</td>\n",
       "      <td>974576205</td>\n",
       "    </tr>\n",
       "    <tr>\n",
       "      <th>...</th>\n",
       "      <td>...</td>\n",
       "      <td>...</td>\n",
       "      <td>...</td>\n",
       "      <td>...</td>\n",
       "    </tr>\n",
       "    <tr>\n",
       "      <th>52162</th>\n",
       "      <td>343</td>\n",
       "      <td>2643</td>\n",
       "      <td>2</td>\n",
       "      <td>988597096</td>\n",
       "    </tr>\n",
       "    <tr>\n",
       "      <th>42967</th>\n",
       "      <td>294</td>\n",
       "      <td>141</td>\n",
       "      <td>4</td>\n",
       "      <td>976542811</td>\n",
       "    </tr>\n",
       "    <tr>\n",
       "      <th>350745</th>\n",
       "      <td>2059</td>\n",
       "      <td>3148</td>\n",
       "      <td>5</td>\n",
       "      <td>974755816</td>\n",
       "    </tr>\n",
       "    <tr>\n",
       "      <th>700348</th>\n",
       "      <td>4190</td>\n",
       "      <td>435</td>\n",
       "      <td>1</td>\n",
       "      <td>965326908</td>\n",
       "    </tr>\n",
       "    <tr>\n",
       "      <th>797461</th>\n",
       "      <td>4783</td>\n",
       "      <td>736</td>\n",
       "      <td>3</td>\n",
       "      <td>963005798</td>\n",
       "    </tr>\n",
       "  </tbody>\n",
       "</table>\n",
       "<p>800167 rows × 4 columns</p>\n",
       "</div>"
      ],
      "text/plain": [
       "        user  item  rating  timestemp\n",
       "943475  5689  1203       4  961829920\n",
       "69354    464  1224       5  976227084\n",
       "914137  5526  1892       2  963099584\n",
       "51981    342   700       2  976339072\n",
       "388280  2271  1080       4  974576205\n",
       "...      ...   ...     ...        ...\n",
       "52162    343  2643       2  988597096\n",
       "42967    294   141       4  976542811\n",
       "350745  2059  3148       5  974755816\n",
       "700348  4190   435       1  965326908\n",
       "797461  4783   736       3  963005798\n",
       "\n",
       "[800167 rows x 4 columns]"
      ]
     },
     "execution_count": 13,
     "metadata": {},
     "output_type": "execute_result"
    }
   ],
   "source": [
    "train_data"
   ]
  },
  {
   "cell_type": "code",
   "execution_count": 14,
   "metadata": {},
   "outputs": [
    {
     "data": {
      "text/html": [
       "<div>\n",
       "<style scoped>\n",
       "    .dataframe tbody tr th:only-of-type {\n",
       "        vertical-align: middle;\n",
       "    }\n",
       "\n",
       "    .dataframe tbody tr th {\n",
       "        vertical-align: top;\n",
       "    }\n",
       "\n",
       "    .dataframe thead th {\n",
       "        text-align: right;\n",
       "    }\n",
       "</style>\n",
       "<table border=\"1\" class=\"dataframe\">\n",
       "  <thead>\n",
       "    <tr style=\"text-align: right;\">\n",
       "      <th></th>\n",
       "      <th>user</th>\n",
       "      <th>item</th>\n",
       "      <th>rating</th>\n",
       "      <th>timestemp</th>\n",
       "    </tr>\n",
       "  </thead>\n",
       "  <tbody>\n",
       "    <tr>\n",
       "      <th>277825</th>\n",
       "      <td>1676</td>\n",
       "      <td>110</td>\n",
       "      <td>5</td>\n",
       "      <td>974801037</td>\n",
       "    </tr>\n",
       "    <tr>\n",
       "      <th>176345</th>\n",
       "      <td>1114</td>\n",
       "      <td>2049</td>\n",
       "      <td>4</td>\n",
       "      <td>974915238</td>\n",
       "    </tr>\n",
       "    <tr>\n",
       "      <th>991738</th>\n",
       "      <td>5990</td>\n",
       "      <td>1010</td>\n",
       "      <td>3</td>\n",
       "      <td>956869994</td>\n",
       "    </tr>\n",
       "    <tr>\n",
       "      <th>518162</th>\n",
       "      <td>3197</td>\n",
       "      <td>357</td>\n",
       "      <td>3</td>\n",
       "      <td>968636483</td>\n",
       "    </tr>\n",
       "    <tr>\n",
       "      <th>827051</th>\n",
       "      <td>4964</td>\n",
       "      <td>1094</td>\n",
       "      <td>4</td>\n",
       "      <td>962659085</td>\n",
       "    </tr>\n",
       "    <tr>\n",
       "      <th>...</th>\n",
       "      <td>...</td>\n",
       "      <td>...</td>\n",
       "      <td>...</td>\n",
       "      <td>...</td>\n",
       "    </tr>\n",
       "    <tr>\n",
       "      <th>618050</th>\n",
       "      <td>3745</td>\n",
       "      <td>1377</td>\n",
       "      <td>3</td>\n",
       "      <td>966141593</td>\n",
       "    </tr>\n",
       "    <tr>\n",
       "      <th>573830</th>\n",
       "      <td>3513</td>\n",
       "      <td>2616</td>\n",
       "      <td>2</td>\n",
       "      <td>966975373</td>\n",
       "    </tr>\n",
       "    <tr>\n",
       "      <th>3520</th>\n",
       "      <td>26</td>\n",
       "      <td>2759</td>\n",
       "      <td>2</td>\n",
       "      <td>978139536</td>\n",
       "    </tr>\n",
       "    <tr>\n",
       "      <th>477810</th>\n",
       "      <td>2934</td>\n",
       "      <td>3020</td>\n",
       "      <td>3</td>\n",
       "      <td>971488893</td>\n",
       "    </tr>\n",
       "    <tr>\n",
       "      <th>392202</th>\n",
       "      <td>2304</td>\n",
       "      <td>1193</td>\n",
       "      <td>4</td>\n",
       "      <td>974510960</td>\n",
       "    </tr>\n",
       "  </tbody>\n",
       "</table>\n",
       "<p>200042 rows × 4 columns</p>\n",
       "</div>"
      ],
      "text/plain": [
       "        user  item  rating  timestemp\n",
       "277825  1676   110       5  974801037\n",
       "176345  1114  2049       4  974915238\n",
       "991738  5990  1010       3  956869994\n",
       "518162  3197   357       3  968636483\n",
       "827051  4964  1094       4  962659085\n",
       "...      ...   ...     ...        ...\n",
       "618050  3745  1377       3  966141593\n",
       "573830  3513  2616       2  966975373\n",
       "3520      26  2759       2  978139536\n",
       "477810  2934  3020       3  971488893\n",
       "392202  2304  1193       4  974510960\n",
       "\n",
       "[200042 rows x 4 columns]"
      ]
     },
     "execution_count": 14,
     "metadata": {},
     "output_type": "execute_result"
    }
   ],
   "source": [
    "test_data"
   ]
  },
  {
   "cell_type": "code",
   "execution_count": 15,
   "metadata": {},
   "outputs": [],
   "source": [
    "number_of_users = train_data['user'].unique().shape[0]"
   ]
  },
  {
   "cell_type": "code",
   "execution_count": 16,
   "metadata": {},
   "outputs": [
    {
     "data": {
      "text/plain": [
       "6040"
      ]
     },
     "execution_count": 16,
     "metadata": {},
     "output_type": "execute_result"
    }
   ],
   "source": [
    "number_of_users"
   ]
  },
  {
   "cell_type": "code",
   "execution_count": 17,
   "metadata": {},
   "outputs": [],
   "source": [
    "number_of_items = train_data['item'].unique().shape[0]"
   ]
  },
  {
   "cell_type": "code",
   "execution_count": 18,
   "metadata": {},
   "outputs": [
    {
     "data": {
      "text/plain": [
       "3673"
      ]
     },
     "execution_count": 18,
     "metadata": {},
     "output_type": "execute_result"
    }
   ],
   "source": [
    "number_of_items"
   ]
  },
  {
   "cell_type": "code",
   "execution_count": 19,
   "metadata": {},
   "outputs": [],
   "source": [
    "max_item = train_data['item'].max()"
   ]
  },
  {
   "cell_type": "code",
   "execution_count": 20,
   "metadata": {},
   "outputs": [
    {
     "data": {
      "text/plain": [
       "3952"
      ]
     },
     "execution_count": 20,
     "metadata": {},
     "output_type": "execute_result"
    }
   ],
   "source": [
    "max_item"
   ]
  },
  {
   "cell_type": "code",
   "execution_count": 23,
   "metadata": {},
   "outputs": [
    {
     "data": {
      "text/plain": [
       "1"
      ]
     },
     "execution_count": 23,
     "metadata": {},
     "output_type": "execute_result"
    }
   ],
   "source": [
    "train_data['item'].min()"
   ]
  },
  {
   "cell_type": "code",
   "execution_count": 24,
   "metadata": {},
   "outputs": [
    {
     "data": {
      "text/plain": [
       "1"
      ]
     },
     "execution_count": 24,
     "metadata": {},
     "output_type": "execute_result"
    }
   ],
   "source": [
    "train_data['user'].min()"
   ]
  },
  {
   "cell_type": "code",
   "execution_count": 25,
   "metadata": {},
   "outputs": [
    {
     "data": {
      "text/plain": [
       "6040"
      ]
     },
     "execution_count": 25,
     "metadata": {},
     "output_type": "execute_result"
    }
   ],
   "source": [
    "train_data['user'].max()"
   ]
  },
  {
   "cell_type": "code",
   "execution_count": 135,
   "metadata": {},
   "outputs": [],
   "source": [
    "user_item_matrix = np.zeros((number_of_users, max_item))\n",
    "for row in data.itertuples(): # da li ovde treba train_data??\n",
    "    user_item_matrix[row[1]-1, row[2]-1] = row[3]"
   ]
  },
  {
   "cell_type": "code",
   "execution_count": 27,
   "metadata": {},
   "outputs": [
    {
     "data": {
      "text/plain": [
       "array([[5., 0., 0., ..., 0., 0., 0.],\n",
       "       [0., 0., 0., ..., 0., 0., 0.],\n",
       "       [0., 0., 0., ..., 0., 0., 0.],\n",
       "       ...,\n",
       "       [0., 0., 0., ..., 0., 0., 0.],\n",
       "       [0., 0., 0., ..., 0., 0., 0.],\n",
       "       [3., 0., 0., ..., 0., 0., 0.]])"
      ]
     },
     "execution_count": 27,
     "metadata": {},
     "output_type": "execute_result"
    }
   ],
   "source": [
    "user_item_matrix"
   ]
  },
  {
   "cell_type": "code",
   "execution_count": 28,
   "metadata": {},
   "outputs": [],
   "source": [
    "zero = np.sum(user_item_matrix == 0)"
   ]
  },
  {
   "cell_type": "code",
   "execution_count": 29,
   "metadata": {},
   "outputs": [
    {
     "data": {
      "text/plain": [
       "22869871"
      ]
     },
     "execution_count": 29,
     "metadata": {},
     "output_type": "execute_result"
    }
   ],
   "source": [
    "zero"
   ]
  },
  {
   "cell_type": "code",
   "execution_count": 30,
   "metadata": {},
   "outputs": [
    {
     "data": {
      "text/plain": [
       "(6040, 3952)"
      ]
     },
     "execution_count": 30,
     "metadata": {},
     "output_type": "execute_result"
    }
   ],
   "source": [
    "user_item_matrix.shape"
   ]
  },
  {
   "cell_type": "code",
   "execution_count": 31,
   "metadata": {},
   "outputs": [],
   "source": [
    "fields = user_item_matrix.shape[0]*user_item_matrix.shape[1]"
   ]
  },
  {
   "cell_type": "code",
   "execution_count": 32,
   "metadata": {},
   "outputs": [
    {
     "data": {
      "text/plain": [
       "23870080"
      ]
     },
     "execution_count": 32,
     "metadata": {},
     "output_type": "execute_result"
    }
   ],
   "source": [
    "fields"
   ]
  },
  {
   "cell_type": "code",
   "execution_count": 33,
   "metadata": {},
   "outputs": [
    {
     "data": {
      "text/plain": [
       "1000209"
      ]
     },
     "execution_count": 33,
     "metadata": {},
     "output_type": "execute_result"
    }
   ],
   "source": [
    "fields - zero"
   ]
  },
  {
   "cell_type": "code",
   "execution_count": 34,
   "metadata": {},
   "outputs": [],
   "source": [
    "common_items = (user_item_matrix[0,:] != 0) & (user_item_matrix[1,:] !=0)"
   ]
  },
  {
   "cell_type": "code",
   "execution_count": 35,
   "metadata": {},
   "outputs": [
    {
     "data": {
      "text/plain": [
       "7"
      ]
     },
     "execution_count": 35,
     "metadata": {},
     "output_type": "execute_result"
    }
   ],
   "source": [
    "np.sum(common_items==True)"
   ]
  },
  {
   "cell_type": "code",
   "execution_count": 36,
   "metadata": {},
   "outputs": [
    {
     "data": {
      "text/plain": [
       "array([5., 4., 4., 4., 5., 3., 5.])"
      ]
     },
     "execution_count": 36,
     "metadata": {},
     "output_type": "execute_result"
    }
   ],
   "source": [
    "user_item_matrix[0, common_items]"
   ]
  },
  {
   "cell_type": "code",
   "execution_count": 136,
   "metadata": {},
   "outputs": [],
   "source": [
    "def calculate_covariance_between_users(ui_matrix, i, j):\n",
    "    if (i != j):\n",
    "        ratings_i = ui_matrix[i,:]\n",
    "        ratings_j = ui_matrix[j,:]\n",
    "    \n",
    "        common_items = (ratings_i != 0) & (ratings_j != 0)\n",
    "    \n",
    "        part1 = np.sum(ratings_i[common_items]*ratings_j[common_items])*(1/number_of_items)\n",
    "        part2 = np.sum(ratings_i)*np.sum(ratings_j)*(1/(number_of_items**2)) # da li je number of items ili max items\n",
    "    \n",
    "        return part1 - part2\n",
    "    else:\n",
    "        return float('inf')\n",
    "    "
   ]
  },
  {
   "cell_type": "code",
   "execution_count": 38,
   "metadata": {},
   "outputs": [
    {
     "data": {
      "text/plain": [
       "0.04466326966808587"
      ]
     },
     "execution_count": 38,
     "metadata": {},
     "output_type": "execute_result"
    }
   ],
   "source": [
    "calculate_covariance_between_users(user_item_matrix, 1, 2)"
   ]
  },
  {
   "cell_type": "code",
   "execution_count": 39,
   "metadata": {},
   "outputs": [
    {
     "data": {
      "text/plain": [
       "0.04466326966808587"
      ]
     },
     "execution_count": 39,
     "metadata": {},
     "output_type": "execute_result"
    }
   ],
   "source": [
    "calculate_covariance_between_users(user_item_matrix, 2, 1)"
   ]
  },
  {
   "cell_type": "code",
   "execution_count": 40,
   "metadata": {},
   "outputs": [
    {
     "data": {
      "text/plain": [
       "0.012823282962944955"
      ]
     },
     "execution_count": 40,
     "metadata": {},
     "output_type": "execute_result"
    }
   ],
   "source": [
    "calculate_covariance_between_users(user_item_matrix, 344, 2413)"
   ]
  },
  {
   "cell_type": "code",
   "execution_count": 41,
   "metadata": {},
   "outputs": [
    {
     "data": {
      "text/plain": [
       "0.012823282962944955"
      ]
     },
     "execution_count": 41,
     "metadata": {},
     "output_type": "execute_result"
    }
   ],
   "source": [
    "calculate_covariance_between_users(user_item_matrix, 2413, 344)"
   ]
  },
  {
   "cell_type": "code",
   "execution_count": 42,
   "metadata": {},
   "outputs": [
    {
     "data": {
      "text/plain": [
       "inf"
      ]
     },
     "execution_count": 42,
     "metadata": {},
     "output_type": "execute_result"
    }
   ],
   "source": [
    "calculate_covariance_between_users(user_item_matrix, 1, 1)"
   ]
  },
  {
   "cell_type": "code",
   "execution_count": 43,
   "metadata": {},
   "outputs": [],
   "source": [
    "covariance_matrix = np.zeros((number_of_users, number_of_users))"
   ]
  },
  {
   "cell_type": "code",
   "execution_count": 44,
   "metadata": {},
   "outputs": [],
   "source": [
    "for i in range(number_of_users):\n",
    "    for j in range(i, number_of_users):\n",
    "        covariance_matrix[i, j] = calculate_covariance_between_users(user_item_matrix, i, j)\n",
    "        covariance_matrix[j, i] = covariance_matrix[i, j]"
   ]
  },
  {
   "cell_type": "code",
   "execution_count": 45,
   "metadata": {},
   "outputs": [
    {
     "data": {
      "text/plain": [
       "array([[        inf,  0.02751123,  0.02585686, ..., -0.00125062,\n",
       "         0.05640338,  0.05806205],\n",
       "       [ 0.02751123,         inf,  0.04466327, ...,  0.0111867 ,\n",
       "         0.01764059,  0.13718989],\n",
       "       [ 0.02585686,  0.04466327,         inf, ...,  0.01548663,\n",
       "         0.02536252,  0.05442457],\n",
       "       ...,\n",
       "       [-0.00125062,  0.0111867 ,  0.01548663, ...,         inf,\n",
       "         0.03134499,  0.02634259],\n",
       "       [ 0.05640338,  0.01764059,  0.02536252, ...,  0.03134499,\n",
       "                inf,  0.14608297],\n",
       "       [ 0.05806205,  0.13718989,  0.05442457, ...,  0.02634259,\n",
       "         0.14608297,         inf]])"
      ]
     },
     "execution_count": 45,
     "metadata": {},
     "output_type": "execute_result"
    }
   ],
   "source": [
    "covariance_matrix"
   ]
  },
  {
   "cell_type": "code",
   "execution_count": 46,
   "metadata": {},
   "outputs": [
    {
     "data": {
      "text/plain": [
       "0.04466326966808587"
      ]
     },
     "execution_count": 46,
     "metadata": {},
     "output_type": "execute_result"
    }
   ],
   "source": [
    "covariance_matrix[1,2]"
   ]
  },
  {
   "cell_type": "code",
   "execution_count": 47,
   "metadata": {},
   "outputs": [
    {
     "data": {
      "text/plain": [
       "0.04466326966808587"
      ]
     },
     "execution_count": 47,
     "metadata": {},
     "output_type": "execute_result"
    }
   ],
   "source": [
    "covariance_matrix[2, 1]"
   ]
  },
  {
   "cell_type": "code",
   "execution_count": 48,
   "metadata": {},
   "outputs": [
    {
     "data": {
      "text/plain": [
       "inf"
      ]
     },
     "execution_count": 48,
     "metadata": {},
     "output_type": "execute_result"
    }
   ],
   "source": [
    "covariance_matrix[0,0]"
   ]
  },
  {
   "cell_type": "code",
   "execution_count": 49,
   "metadata": {},
   "outputs": [
    {
     "data": {
      "text/plain": [
       "0.058062050434036075"
      ]
     },
     "execution_count": 49,
     "metadata": {},
     "output_type": "execute_result"
    }
   ],
   "source": [
    "covariance_matrix[6039, 0]"
   ]
  },
  {
   "cell_type": "code",
   "execution_count": 50,
   "metadata": {},
   "outputs": [
    {
     "data": {
      "text/plain": [
       "0.058062050434036075"
      ]
     },
     "execution_count": 50,
     "metadata": {},
     "output_type": "execute_result"
    }
   ],
   "source": [
    "covariance_matrix[0, 6039]"
   ]
  },
  {
   "cell_type": "code",
   "execution_count": 51,
   "metadata": {},
   "outputs": [
    {
     "data": {
      "text/plain": [
       "0"
      ]
     },
     "execution_count": 51,
     "metadata": {},
     "output_type": "execute_result"
    }
   ],
   "source": [
    "np.sum(covariance_matrix == 0)"
   ]
  },
  {
   "cell_type": "code",
   "execution_count": 52,
   "metadata": {},
   "outputs": [],
   "source": [
    "def GetKSimilarUser(user_i, K):\n",
    "    user_values = covariance_matrix[user_i,:]\n",
    "    values = user_values.argsort()[-K-1:]\n",
    "    \n",
    "    return values[0:K]"
   ]
  },
  {
   "cell_type": "code",
   "execution_count": 53,
   "metadata": {},
   "outputs": [
    {
     "name": "stdout",
     "output_type": "stream",
     "text": [
      "[1119 4578 1265 3589 5099 1050 1696 5761 1111 2072]\n",
      "0.17063969427161021\n",
      "0.17095842695488206\n",
      "0.1710781370208086\n",
      "0.17117108836611622\n",
      "0.1790000525538308\n",
      "0.1795268509677873\n",
      "0.18254473061121293\n",
      "0.188287700572733\n",
      "0.20221869079586735\n",
      "0.20607365141422063\n"
     ]
    }
   ],
   "source": [
    "print(GetKSimilarUser(0, 10))\n",
    "for i in GetKSimilarUser(0,10):\n",
    "    print(covariance_matrix[0, i])"
   ]
  },
  {
   "cell_type": "code",
   "execution_count": 54,
   "metadata": {},
   "outputs": [],
   "source": [
    "def GetKDSimilarUser(user_i, K):\n",
    "    user_values = covariance_matrix[user_i,:]\n",
    "    \n",
    "    return user_values.argsort()[:K]"
   ]
  },
  {
   "cell_type": "code",
   "execution_count": 137,
   "metadata": {},
   "outputs": [
    {
     "data": {
      "text/plain": [
       "array([2072, 1111, 5761, 1696, 1050, 5099, 3589, 1265, 4578, 1119])"
      ]
     },
     "execution_count": 137,
     "metadata": {},
     "output_type": "execute_result"
    }
   ],
   "source": [
    "np.flipud(covariance_matrix[0,:].argsort()[-10-1:][0:10]) # funkcija za obrtanje niza"
   ]
  },
  {
   "cell_type": "code",
   "execution_count": 68,
   "metadata": {},
   "outputs": [
    {
     "name": "stdout",
     "output_type": "stream",
     "text": [
      "[ 277 1068 3376  209 5928 2154  666 2351 6004 1409]\n",
      "-0.008561456368201183\n",
      "-0.007816881995302179\n",
      "-0.007741646257274056\n",
      "-0.007289787085826336\n",
      "-0.006088535489290619\n",
      "-0.005479681940361558\n",
      "-0.005437876072137065\n",
      "-0.0053151269271374865\n",
      "-0.0053151269271374865\n",
      "-0.005216393919203044\n"
     ]
    }
   ],
   "source": [
    "a = covariance_matrix[0,:].argsort()[:10]\n",
    "print(a)\n",
    "for i in a:\n",
    "    print(covariance_matrix[0, i])"
   ]
  },
  {
   "cell_type": "code",
   "execution_count": 74,
   "metadata": {},
   "outputs": [
    {
     "data": {
      "text/plain": [
       "array([0., 0., 0., 0., 0., 0., 0., 0., 0., 0.])"
      ]
     },
     "execution_count": 74,
     "metadata": {},
     "output_type": "execute_result"
    }
   ],
   "source": [
    "ru_average = user_item_matrix[0, :].mean()\n",
    "ru_average\n",
    "\n",
    "s = np.zeros(10)\n",
    "s"
   ]
  },
  {
   "cell_type": "code",
   "execution_count": 138,
   "metadata": {},
   "outputs": [],
   "source": [
    "def predict_rating(user_u, item_i, Nus, Nud, COV, UI, K, alpha): # ovo nam ne treba vise ceo kod je u algoritmu\n",
    "    ru_average = UI[user_u-1, UI[user_u-1, :] != 0].mean()\n",
    "    similar = np.zeros(K)\n",
    "    divide_s = np.zeros(K)\n",
    "    disimilar = np.zeros(K)\n",
    "    divide_ds = np.zeros(K)\n",
    "    \n",
    "    for i in range(K):\n",
    "        similar[i] = COV[user_u-1, Nus[i]]*(UI[Nus[i],item_i-1] - UI[Nus[i], :].mean())\n",
    "        divide_s[i] = np.abs(COV[user_u-1, Nus[i]])\n",
    "        disimilar[i] = np.abs(COV[user_u-1, Nud[i]])*(UI[Nud[i],item_i-1] - UI[Nud[i], :].mean())\n",
    "        divide_ds = np.abs(COV[user_u-1, Nud[i]])\n",
    "        \n",
    "    rui = ru_average + alpha * (np.sum(similar)/np.sum(divide_s)) + (1-alpha) * (np.sum(disimilar)/np.sum(divide_ds))\n",
    "    \n",
    "    return rui"
   ]
  },
  {
   "cell_type": "code",
   "execution_count": 105,
   "metadata": {},
   "outputs": [],
   "source": [
    "Nus = GetKSimilarUser(200, 10)\n",
    "Nud = GetKDSimilarUser(200, 10)"
   ]
  },
  {
   "cell_type": "code",
   "execution_count": 106,
   "metadata": {},
   "outputs": [
    {
     "data": {
      "text/plain": [
       "2.5696688900933564"
      ]
     },
     "execution_count": 106,
     "metadata": {},
     "output_type": "execute_result"
    }
   ],
   "source": [
    "predict_rating(200, 100, Nus, Nud, covariance_matrix, user_item_matrix, 10, 0.8)"
   ]
  },
  {
   "cell_type": "code",
   "execution_count": null,
   "metadata": {},
   "outputs": [],
   "source": []
  },
  {
   "cell_type": "code",
   "execution_count": 103,
   "metadata": {},
   "outputs": [
    {
     "data": {
      "text/plain": [
       "3.954022988505747"
      ]
     },
     "execution_count": 103,
     "metadata": {},
     "output_type": "execute_result"
    }
   ],
   "source": [
    "user_item_matrix[200, user_item_matrix[200,:] != 0].mean()"
   ]
  },
  {
   "cell_type": "code",
   "execution_count": 98,
   "metadata": {},
   "outputs": [
    {
     "data": {
      "text/plain": [
       "array([0., 2., 0., 0., 0., 0., 0., 0., 0., 0.])"
      ]
     },
     "execution_count": 98,
     "metadata": {},
     "output_type": "execute_result"
    }
   ],
   "source": [
    "similar"
   ]
  },
  {
   "cell_type": "code",
   "execution_count": null,
   "metadata": {},
   "outputs": [],
   "source": []
  },
  {
   "cell_type": "code",
   "execution_count": 140,
   "metadata": {},
   "outputs": [],
   "source": [
    "def CFCM(UI, user_u, alpha, K, N):\n",
    "    Nus = GetKSimilarUser(user_u, K)\n",
    "    Nud = GetKDSimilarUser(user_u, K)\n",
    "    \n",
    "    # prosecna ocena koju je dao user, izracunata samo nad itemima koji nisu 0\n",
    "    ru_average = UI[user_u-1, UI[user_u-1, :] != 0].mean()\n",
    "    # niz predvidjenih ocena za sve iteme\n",
    "    all_predicted_ratings = np.zeros(max_item)\n",
    "    # drugo, krace ime za matricu kovarijansi\n",
    "    COV = covariance_matrix\n",
    "    \n",
    "    \n",
    "    for item_i in range(max_item):\n",
    "        \n",
    "        # za racunanje dela iznad razlomacke crte u prvom delu gde se posmatraju slicni\n",
    "        similar = np.zeros(K)\n",
    "        # za racunanje dela ispod razlomacke crte u prvom delu gde se posmatraju slicni\n",
    "        divide_s = np.zeros(K)\n",
    "        # za racunanje dela iznad razlomacke crte u drugom delu gde se posmatraju razliciti\n",
    "        disimilar = np.zeros(K)\n",
    "        # za racunanje dela ispod razlomacke crte u drugom delu gde se posmatraju razliciti\n",
    "        divide_ds = np.zeros(K)\n",
    "    \n",
    "        for i in range(K):\n",
    "            similar[i] = COV[user_u-1, Nus[i]]*(UI[Nus[i],item_i-1] - UI[Nus[i], :].mean())\n",
    "            divide_s[i] = np.abs(COV[user_u-1, Nus[i]])\n",
    "            disimilar[i] = np.abs(COV[user_u-1, Nud[i]])*(UI[Nud[i],item_i-1] - UI[Nud[i], :].mean())\n",
    "            divide_ds = np.abs(COV[user_u-1, Nud[i]])\n",
    "        \n",
    "        # formula iz algoritma\n",
    "        rui = ru_average + alpha * (np.sum(similar)/np.sum(divide_s)) + (1-alpha) * (np.sum(disimilar)/np.sum(divide_ds))\n",
    "        # za svaki element stavljamo u niz\n",
    "        all_predicted_ratings[item_i] = rui\n",
    "        \n",
    "    # uzimamo prvih N najboljih predloga za usera u     \n",
    "    Result = np.flipud(all_predicted_ratings.argsort())[:N]\n",
    "    return Result"
   ]
  },
  {
   "cell_type": "code",
   "execution_count": 141,
   "metadata": {},
   "outputs": [
    {
     "data": {
      "text/plain": [
       "array([ 260, 1196, 1097, 3471, 2657])"
      ]
     },
     "execution_count": 141,
     "metadata": {},
     "output_type": "execute_result"
    }
   ],
   "source": [
    "CFCM(user_item_matrix, 200, 0.8, 10, 5)"
   ]
  },
  {
   "cell_type": "code",
   "execution_count": null,
   "metadata": {},
   "outputs": [],
   "source": [
    "# U narednom delu sledi proba da li matrica kovarijansi dobro radi\n",
    "# proba se sastoji u tome da se primeni na podatke iz naucnog rada i da se utvrdi da li se dobija ista matrica\n",
    "# Dobija se ista matrica jeeeeeeej"
   ]
  },
  {
   "cell_type": "code",
   "execution_count": 142,
   "metadata": {},
   "outputs": [],
   "source": [
    "# Aaaaaaliiiii postoji caka, ovde je koriscen broj itema koji je ocigledno 6, a u nasem radu je koriscen broj itema \n",
    "# number of items koji je 3673 dok je max item 3952.... to se mora razmisliti "
   ]
  },
  {
   "cell_type": "code",
   "execution_count": 143,
   "metadata": {},
   "outputs": [],
   "source": [
    "ui_proba = np.array([0, 5, 2, 0, 3, 0, 4, 0, 0, 3, 0, 4, 0, 0, 2, 0, 0, 2, 5, 0, 0, 3, 0, 0, 0, 5, 5, 0, 0, 3])"
   ]
  },
  {
   "cell_type": "code",
   "execution_count": 144,
   "metadata": {},
   "outputs": [
    {
     "data": {
      "text/plain": [
       "array([0, 5, 2, 0, 3, 0, 4, 0, 0, 3, 0, 4, 0, 0, 2, 0, 0, 2, 5, 0, 0, 3,\n",
       "       0, 0, 0, 5, 5, 0, 0, 3])"
      ]
     },
     "execution_count": 144,
     "metadata": {},
     "output_type": "execute_result"
    }
   ],
   "source": [
    "ui_proba"
   ]
  },
  {
   "cell_type": "code",
   "execution_count": 145,
   "metadata": {},
   "outputs": [],
   "source": [
    "ui_proba = ui_proba.reshape(5, 6)"
   ]
  },
  {
   "cell_type": "code",
   "execution_count": 146,
   "metadata": {},
   "outputs": [],
   "source": [
    "def calculate_covariance_proba(ui_matrix, i, j):\n",
    "    if (i != j):\n",
    "        ratings_i = ui_matrix[i,:]\n",
    "        ratings_j = ui_matrix[j,:]\n",
    "    \n",
    "        common_items = (ratings_i != 0) & (ratings_j != 0)\n",
    "    \n",
    "        part1 = np.sum(ratings_i[common_items]*ratings_j[common_items])*(1/6)\n",
    "        part2 = np.sum(ratings_i)*np.sum(ratings_j)*(1/(6**2))\n",
    "    \n",
    "        return part1 - part2\n",
    "    else:\n",
    "        return float('inf')\n",
    "    "
   ]
  },
  {
   "cell_type": "code",
   "execution_count": 147,
   "metadata": {},
   "outputs": [],
   "source": [
    "cov_proba = np.zeros((5, 5))\n",
    "for i in range(5):\n",
    "    for j in range(i, 5):\n",
    "        cov_proba[i, j] = calculate_covariance_proba(ui_proba, i, j)\n",
    "        cov_proba[j, i] = cov_proba[i, j]"
   ]
  },
  {
   "cell_type": "code",
   "execution_count": 148,
   "metadata": {},
   "outputs": [
    {
     "data": {
      "text/plain": [
       "array([[        inf, -3.05555556, -0.44444444, -2.22222222,  2.22222222],\n",
       "       [-3.05555556,         inf,  0.11111111,  2.38888889, -1.97222222],\n",
       "       [-0.44444444,  0.11111111,         inf, -0.88888889,  1.22222222],\n",
       "       [-2.22222222,  2.38888889, -0.88888889,         inf, -2.88888889],\n",
       "       [ 2.22222222, -1.97222222,  1.22222222, -2.88888889,         inf]])"
      ]
     },
     "execution_count": 148,
     "metadata": {},
     "output_type": "execute_result"
    }
   ],
   "source": [
    "cov_proba"
   ]
  },
  {
   "cell_type": "code",
   "execution_count": null,
   "metadata": {},
   "outputs": [],
   "source": []
  }
 ],
 "metadata": {
  "kernelspec": {
   "display_name": "Python 3",
   "language": "python",
   "name": "python3"
  },
  "language_info": {
   "codemirror_mode": {
    "name": "ipython",
    "version": 3
   },
   "file_extension": ".py",
   "mimetype": "text/x-python",
   "name": "python",
   "nbconvert_exporter": "python",
   "pygments_lexer": "ipython3",
   "version": "3.7.6"
  }
 },
 "nbformat": 4,
 "nbformat_minor": 4
}
