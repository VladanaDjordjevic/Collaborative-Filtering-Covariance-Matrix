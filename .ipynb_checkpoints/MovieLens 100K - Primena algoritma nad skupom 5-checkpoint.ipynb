{
 "cells": [
  {
   "cell_type": "markdown",
   "metadata": {},
   "source": [
    "# MovieLens 100K: Sistem preporuka zasnovan na uzajamnom filtriranju koristeći matricu kovarijansi"
   ]
  },
  {
   "cell_type": "markdown",
   "metadata": {},
   "source": [
    "Sistem preporuka je sistem koji preporučuje proizvode korisniku za koje smatra da su mu od značaja. Ovi sistemi su široko rasprostranjeni i korišćeni u različitim sferama života. Postoji više različitih vrsta takvih sistema, ovde će biti korišćen sistem zasnovan na **uzajamnom filtriranju**. Osnovna ideja uzajamnog filtriranja je da ako su korisnici imali slična interesovanja u prošlosti imaće slična interesovanja i u budućnosti, tj. da prethodno ponašanje korisnika ima ogroman uticaj na njegovo buduće ponašanje. "
   ]
  },
  {
   "cell_type": "markdown",
   "metadata": {},
   "source": [
    "Kako se ocenjuje sličnost među korisnicima? Konstruiše se matrica sličnosti, gde se sličnost može izračunati korišćenjem različitih metrika. Među korišćenim metrikama najpopularnije su kosinusna funkcija sličnosti, Pirsonov koeficijent korelacije, Žakardov indeks, razlika srednjih kvadrata, kombinacija razlike srednjih kvadrata i Žakardovog indeksa, itd. Međutim, ovakav pristup uzajamnom filtriranju može imati nekoliko problema:\n",
    "\n",
    "**1) Kvalitet sistema preporuka zasnovanom na uzajamnom filtriranju može umnogome zavisiti od retkosti podataka.**\n",
    "\n",
    "**2) Sistem se teško prilagođava situaciji kada se interesovanja korisnika menjaju tokom vremena.**\n",
    "\n",
    "**3) Sistem preporučuje slične proizvode korisniku ignorišiću korisnikovu potrebu za raznolikošću.**"
   ]
  },
  {
   "cell_type": "markdown",
   "metadata": {},
   "source": [
    "Zbog navedenih problema preporučen je novi pristup uzajamnom filtriranju koji se ne zasniva na matrici sličnosti među korisnicima, nego na matrici kovarijansi. Ovaj rad je zasnovan na naučnom radu koji se može pronaći na sledećoj adresi: https://www.hindawi.com/journals/mpe/2018/9740402/.\n",
    "\n",
    "U njemu je predložen algoritam CFCM (Collaborative Filtering Covariance Matrix) kojim se rešavaju prethodno navedeni problemi i poboljšava se kvalitet preporuka. Naš zadatak je da implementiramo navedeni algoritam i da evaluiramo njegove performanse."
   ]
  },
  {
   "cell_type": "code",
   "execution_count": 1,
   "metadata": {},
   "outputs": [],
   "source": [
    "import pandas as pd\n",
    "import numpy as np\n",
    "from matplotlib import pyplot as plt"
   ]
  },
  {
   "cell_type": "markdown",
   "metadata": {},
   "source": [
    "Koristićemo dostupan skup podataka pod imenom MovieLens u veličini od 100 000. Skup podataka se može naći na: https://grouplens.org/datasets/movielens/100k/."
   ]
  },
  {
   "cell_type": "markdown",
   "metadata": {},
   "source": [
    "U naučnom radu na kome se zasniva ovaj rad korišćen je skup podataka MovieLens 1M, koji se sastoji od jednog miliona podataka. Mi smo istraživanje odradile na ovom skupu od 100 000 zbog hardverskih ograničenja, ali i zbog već dostupnih trening i test podataka."
   ]
  },
  {
   "cell_type": "code",
   "execution_count": 2,
   "metadata": {},
   "outputs": [],
   "source": [
    "header = ['user', 'item', 'rating', 'timestamp']"
   ]
  },
  {
   "cell_type": "markdown",
   "metadata": {},
   "source": [
    "Učitavamo ceo skup podataka."
   ]
  },
  {
   "cell_type": "code",
   "execution_count": 3,
   "metadata": {},
   "outputs": [],
   "source": [
    "data = pd.read_csv('ml-100k/u.data', sep = '\\\\t', names = header, engine = 'python')"
   ]
  },
  {
   "cell_type": "code",
   "execution_count": 4,
   "metadata": {},
   "outputs": [
    {
     "data": {
      "text/html": [
       "<div>\n",
       "<style scoped>\n",
       "    .dataframe tbody tr th:only-of-type {\n",
       "        vertical-align: middle;\n",
       "    }\n",
       "\n",
       "    .dataframe tbody tr th {\n",
       "        vertical-align: top;\n",
       "    }\n",
       "\n",
       "    .dataframe thead th {\n",
       "        text-align: right;\n",
       "    }\n",
       "</style>\n",
       "<table border=\"1\" class=\"dataframe\">\n",
       "  <thead>\n",
       "    <tr style=\"text-align: right;\">\n",
       "      <th></th>\n",
       "      <th>user</th>\n",
       "      <th>item</th>\n",
       "      <th>rating</th>\n",
       "      <th>timestamp</th>\n",
       "    </tr>\n",
       "  </thead>\n",
       "  <tbody>\n",
       "    <tr>\n",
       "      <th>0</th>\n",
       "      <td>196</td>\n",
       "      <td>242</td>\n",
       "      <td>3</td>\n",
       "      <td>881250949</td>\n",
       "    </tr>\n",
       "    <tr>\n",
       "      <th>1</th>\n",
       "      <td>186</td>\n",
       "      <td>302</td>\n",
       "      <td>3</td>\n",
       "      <td>891717742</td>\n",
       "    </tr>\n",
       "    <tr>\n",
       "      <th>2</th>\n",
       "      <td>22</td>\n",
       "      <td>377</td>\n",
       "      <td>1</td>\n",
       "      <td>878887116</td>\n",
       "    </tr>\n",
       "    <tr>\n",
       "      <th>3</th>\n",
       "      <td>244</td>\n",
       "      <td>51</td>\n",
       "      <td>2</td>\n",
       "      <td>880606923</td>\n",
       "    </tr>\n",
       "    <tr>\n",
       "      <th>4</th>\n",
       "      <td>166</td>\n",
       "      <td>346</td>\n",
       "      <td>1</td>\n",
       "      <td>886397596</td>\n",
       "    </tr>\n",
       "  </tbody>\n",
       "</table>\n",
       "</div>"
      ],
      "text/plain": [
       "   user  item  rating  timestamp\n",
       "0   196   242       3  881250949\n",
       "1   186   302       3  891717742\n",
       "2    22   377       1  878887116\n",
       "3   244    51       2  880606923\n",
       "4   166   346       1  886397596"
      ]
     },
     "execution_count": 4,
     "metadata": {},
     "output_type": "execute_result"
    }
   ],
   "source": [
    "data.head()"
   ]
  },
  {
   "cell_type": "code",
   "execution_count": 6,
   "metadata": {},
   "outputs": [
    {
     "name": "stdout",
     "output_type": "stream",
     "text": [
      "<class 'pandas.core.frame.DataFrame'>\n",
      "RangeIndex: 100000 entries, 0 to 99999\n",
      "Data columns (total 4 columns):\n",
      " #   Column     Non-Null Count   Dtype\n",
      "---  ------     --------------   -----\n",
      " 0   user       100000 non-null  int64\n",
      " 1   item       100000 non-null  int64\n",
      " 2   rating     100000 non-null  int64\n",
      " 3   timestamp  100000 non-null  int64\n",
      "dtypes: int64(4)\n",
      "memory usage: 3.1 MB\n"
     ]
    }
   ],
   "source": [
    "data.info()"
   ]
  },
  {
   "cell_type": "markdown",
   "metadata": {},
   "source": [
    "Proveravamo koliko različitih korisnika i filmova imamo."
   ]
  },
  {
   "cell_type": "code",
   "execution_count": 5,
   "metadata": {},
   "outputs": [
    {
     "data": {
      "text/plain": [
       "943"
      ]
     },
     "execution_count": 5,
     "metadata": {},
     "output_type": "execute_result"
    }
   ],
   "source": [
    "number_of_users = data['user'].unique().shape[0]\n",
    "number_of_users"
   ]
  },
  {
   "cell_type": "code",
   "execution_count": 7,
   "metadata": {},
   "outputs": [
    {
     "data": {
      "text/plain": [
       "1682"
      ]
     },
     "execution_count": 7,
     "metadata": {},
     "output_type": "execute_result"
    }
   ],
   "source": [
    "number_of_items = data['item'].unique().shape[0]\n",
    "number_of_items"
   ]
  },
  {
   "cell_type": "markdown",
   "metadata": {},
   "source": [
    "Formiramo USER-ITEM matricu podataka. Redovi predstavljaju korisnike, a kolone filmove, dok polja matrice odgovaraju ocenama koje je odgovarajući korisnik dao odgovarajućem filmu."
   ]
  },
  {
   "cell_type": "code",
   "execution_count": 8,
   "metadata": {},
   "outputs": [],
   "source": [
    "ui_matrix = pd.pivot_table(data, index = 'user', columns = 'item', values = 'rating')"
   ]
  },
  {
   "cell_type": "code",
   "execution_count": 9,
   "metadata": {},
   "outputs": [
    {
     "data": {
      "text/html": [
       "<div>\n",
       "<style scoped>\n",
       "    .dataframe tbody tr th:only-of-type {\n",
       "        vertical-align: middle;\n",
       "    }\n",
       "\n",
       "    .dataframe tbody tr th {\n",
       "        vertical-align: top;\n",
       "    }\n",
       "\n",
       "    .dataframe thead th {\n",
       "        text-align: right;\n",
       "    }\n",
       "</style>\n",
       "<table border=\"1\" class=\"dataframe\">\n",
       "  <thead>\n",
       "    <tr style=\"text-align: right;\">\n",
       "      <th>item</th>\n",
       "      <th>1</th>\n",
       "      <th>2</th>\n",
       "      <th>3</th>\n",
       "      <th>4</th>\n",
       "      <th>5</th>\n",
       "      <th>6</th>\n",
       "      <th>7</th>\n",
       "      <th>8</th>\n",
       "      <th>9</th>\n",
       "      <th>10</th>\n",
       "      <th>...</th>\n",
       "      <th>1673</th>\n",
       "      <th>1674</th>\n",
       "      <th>1675</th>\n",
       "      <th>1676</th>\n",
       "      <th>1677</th>\n",
       "      <th>1678</th>\n",
       "      <th>1679</th>\n",
       "      <th>1680</th>\n",
       "      <th>1681</th>\n",
       "      <th>1682</th>\n",
       "    </tr>\n",
       "    <tr>\n",
       "      <th>user</th>\n",
       "      <th></th>\n",
       "      <th></th>\n",
       "      <th></th>\n",
       "      <th></th>\n",
       "      <th></th>\n",
       "      <th></th>\n",
       "      <th></th>\n",
       "      <th></th>\n",
       "      <th></th>\n",
       "      <th></th>\n",
       "      <th></th>\n",
       "      <th></th>\n",
       "      <th></th>\n",
       "      <th></th>\n",
       "      <th></th>\n",
       "      <th></th>\n",
       "      <th></th>\n",
       "      <th></th>\n",
       "      <th></th>\n",
       "      <th></th>\n",
       "      <th></th>\n",
       "    </tr>\n",
       "  </thead>\n",
       "  <tbody>\n",
       "    <tr>\n",
       "      <th>1</th>\n",
       "      <td>5.0</td>\n",
       "      <td>3.0</td>\n",
       "      <td>4.0</td>\n",
       "      <td>3.0</td>\n",
       "      <td>3.0</td>\n",
       "      <td>5.0</td>\n",
       "      <td>4.0</td>\n",
       "      <td>1.0</td>\n",
       "      <td>5.0</td>\n",
       "      <td>3.0</td>\n",
       "      <td>...</td>\n",
       "      <td>NaN</td>\n",
       "      <td>NaN</td>\n",
       "      <td>NaN</td>\n",
       "      <td>NaN</td>\n",
       "      <td>NaN</td>\n",
       "      <td>NaN</td>\n",
       "      <td>NaN</td>\n",
       "      <td>NaN</td>\n",
       "      <td>NaN</td>\n",
       "      <td>NaN</td>\n",
       "    </tr>\n",
       "    <tr>\n",
       "      <th>2</th>\n",
       "      <td>4.0</td>\n",
       "      <td>NaN</td>\n",
       "      <td>NaN</td>\n",
       "      <td>NaN</td>\n",
       "      <td>NaN</td>\n",
       "      <td>NaN</td>\n",
       "      <td>NaN</td>\n",
       "      <td>NaN</td>\n",
       "      <td>NaN</td>\n",
       "      <td>2.0</td>\n",
       "      <td>...</td>\n",
       "      <td>NaN</td>\n",
       "      <td>NaN</td>\n",
       "      <td>NaN</td>\n",
       "      <td>NaN</td>\n",
       "      <td>NaN</td>\n",
       "      <td>NaN</td>\n",
       "      <td>NaN</td>\n",
       "      <td>NaN</td>\n",
       "      <td>NaN</td>\n",
       "      <td>NaN</td>\n",
       "    </tr>\n",
       "    <tr>\n",
       "      <th>3</th>\n",
       "      <td>NaN</td>\n",
       "      <td>NaN</td>\n",
       "      <td>NaN</td>\n",
       "      <td>NaN</td>\n",
       "      <td>NaN</td>\n",
       "      <td>NaN</td>\n",
       "      <td>NaN</td>\n",
       "      <td>NaN</td>\n",
       "      <td>NaN</td>\n",
       "      <td>NaN</td>\n",
       "      <td>...</td>\n",
       "      <td>NaN</td>\n",
       "      <td>NaN</td>\n",
       "      <td>NaN</td>\n",
       "      <td>NaN</td>\n",
       "      <td>NaN</td>\n",
       "      <td>NaN</td>\n",
       "      <td>NaN</td>\n",
       "      <td>NaN</td>\n",
       "      <td>NaN</td>\n",
       "      <td>NaN</td>\n",
       "    </tr>\n",
       "    <tr>\n",
       "      <th>4</th>\n",
       "      <td>NaN</td>\n",
       "      <td>NaN</td>\n",
       "      <td>NaN</td>\n",
       "      <td>NaN</td>\n",
       "      <td>NaN</td>\n",
       "      <td>NaN</td>\n",
       "      <td>NaN</td>\n",
       "      <td>NaN</td>\n",
       "      <td>NaN</td>\n",
       "      <td>NaN</td>\n",
       "      <td>...</td>\n",
       "      <td>NaN</td>\n",
       "      <td>NaN</td>\n",
       "      <td>NaN</td>\n",
       "      <td>NaN</td>\n",
       "      <td>NaN</td>\n",
       "      <td>NaN</td>\n",
       "      <td>NaN</td>\n",
       "      <td>NaN</td>\n",
       "      <td>NaN</td>\n",
       "      <td>NaN</td>\n",
       "    </tr>\n",
       "    <tr>\n",
       "      <th>5</th>\n",
       "      <td>4.0</td>\n",
       "      <td>3.0</td>\n",
       "      <td>NaN</td>\n",
       "      <td>NaN</td>\n",
       "      <td>NaN</td>\n",
       "      <td>NaN</td>\n",
       "      <td>NaN</td>\n",
       "      <td>NaN</td>\n",
       "      <td>NaN</td>\n",
       "      <td>NaN</td>\n",
       "      <td>...</td>\n",
       "      <td>NaN</td>\n",
       "      <td>NaN</td>\n",
       "      <td>NaN</td>\n",
       "      <td>NaN</td>\n",
       "      <td>NaN</td>\n",
       "      <td>NaN</td>\n",
       "      <td>NaN</td>\n",
       "      <td>NaN</td>\n",
       "      <td>NaN</td>\n",
       "      <td>NaN</td>\n",
       "    </tr>\n",
       "    <tr>\n",
       "      <th>...</th>\n",
       "      <td>...</td>\n",
       "      <td>...</td>\n",
       "      <td>...</td>\n",
       "      <td>...</td>\n",
       "      <td>...</td>\n",
       "      <td>...</td>\n",
       "      <td>...</td>\n",
       "      <td>...</td>\n",
       "      <td>...</td>\n",
       "      <td>...</td>\n",
       "      <td>...</td>\n",
       "      <td>...</td>\n",
       "      <td>...</td>\n",
       "      <td>...</td>\n",
       "      <td>...</td>\n",
       "      <td>...</td>\n",
       "      <td>...</td>\n",
       "      <td>...</td>\n",
       "      <td>...</td>\n",
       "      <td>...</td>\n",
       "      <td>...</td>\n",
       "    </tr>\n",
       "    <tr>\n",
       "      <th>939</th>\n",
       "      <td>NaN</td>\n",
       "      <td>NaN</td>\n",
       "      <td>NaN</td>\n",
       "      <td>NaN</td>\n",
       "      <td>NaN</td>\n",
       "      <td>NaN</td>\n",
       "      <td>NaN</td>\n",
       "      <td>NaN</td>\n",
       "      <td>5.0</td>\n",
       "      <td>NaN</td>\n",
       "      <td>...</td>\n",
       "      <td>NaN</td>\n",
       "      <td>NaN</td>\n",
       "      <td>NaN</td>\n",
       "      <td>NaN</td>\n",
       "      <td>NaN</td>\n",
       "      <td>NaN</td>\n",
       "      <td>NaN</td>\n",
       "      <td>NaN</td>\n",
       "      <td>NaN</td>\n",
       "      <td>NaN</td>\n",
       "    </tr>\n",
       "    <tr>\n",
       "      <th>940</th>\n",
       "      <td>NaN</td>\n",
       "      <td>NaN</td>\n",
       "      <td>NaN</td>\n",
       "      <td>2.0</td>\n",
       "      <td>NaN</td>\n",
       "      <td>NaN</td>\n",
       "      <td>4.0</td>\n",
       "      <td>5.0</td>\n",
       "      <td>3.0</td>\n",
       "      <td>NaN</td>\n",
       "      <td>...</td>\n",
       "      <td>NaN</td>\n",
       "      <td>NaN</td>\n",
       "      <td>NaN</td>\n",
       "      <td>NaN</td>\n",
       "      <td>NaN</td>\n",
       "      <td>NaN</td>\n",
       "      <td>NaN</td>\n",
       "      <td>NaN</td>\n",
       "      <td>NaN</td>\n",
       "      <td>NaN</td>\n",
       "    </tr>\n",
       "    <tr>\n",
       "      <th>941</th>\n",
       "      <td>5.0</td>\n",
       "      <td>NaN</td>\n",
       "      <td>NaN</td>\n",
       "      <td>NaN</td>\n",
       "      <td>NaN</td>\n",
       "      <td>NaN</td>\n",
       "      <td>4.0</td>\n",
       "      <td>NaN</td>\n",
       "      <td>NaN</td>\n",
       "      <td>NaN</td>\n",
       "      <td>...</td>\n",
       "      <td>NaN</td>\n",
       "      <td>NaN</td>\n",
       "      <td>NaN</td>\n",
       "      <td>NaN</td>\n",
       "      <td>NaN</td>\n",
       "      <td>NaN</td>\n",
       "      <td>NaN</td>\n",
       "      <td>NaN</td>\n",
       "      <td>NaN</td>\n",
       "      <td>NaN</td>\n",
       "    </tr>\n",
       "    <tr>\n",
       "      <th>942</th>\n",
       "      <td>NaN</td>\n",
       "      <td>NaN</td>\n",
       "      <td>NaN</td>\n",
       "      <td>NaN</td>\n",
       "      <td>NaN</td>\n",
       "      <td>NaN</td>\n",
       "      <td>NaN</td>\n",
       "      <td>NaN</td>\n",
       "      <td>NaN</td>\n",
       "      <td>NaN</td>\n",
       "      <td>...</td>\n",
       "      <td>NaN</td>\n",
       "      <td>NaN</td>\n",
       "      <td>NaN</td>\n",
       "      <td>NaN</td>\n",
       "      <td>NaN</td>\n",
       "      <td>NaN</td>\n",
       "      <td>NaN</td>\n",
       "      <td>NaN</td>\n",
       "      <td>NaN</td>\n",
       "      <td>NaN</td>\n",
       "    </tr>\n",
       "    <tr>\n",
       "      <th>943</th>\n",
       "      <td>NaN</td>\n",
       "      <td>5.0</td>\n",
       "      <td>NaN</td>\n",
       "      <td>NaN</td>\n",
       "      <td>NaN</td>\n",
       "      <td>NaN</td>\n",
       "      <td>NaN</td>\n",
       "      <td>NaN</td>\n",
       "      <td>3.0</td>\n",
       "      <td>NaN</td>\n",
       "      <td>...</td>\n",
       "      <td>NaN</td>\n",
       "      <td>NaN</td>\n",
       "      <td>NaN</td>\n",
       "      <td>NaN</td>\n",
       "      <td>NaN</td>\n",
       "      <td>NaN</td>\n",
       "      <td>NaN</td>\n",
       "      <td>NaN</td>\n",
       "      <td>NaN</td>\n",
       "      <td>NaN</td>\n",
       "    </tr>\n",
       "  </tbody>\n",
       "</table>\n",
       "<p>943 rows × 1682 columns</p>\n",
       "</div>"
      ],
      "text/plain": [
       "item  1     2     3     4     5     6     7     8     9     10    ...  1673  \\\n",
       "user                                                              ...         \n",
       "1      5.0   3.0   4.0   3.0   3.0   5.0   4.0   1.0   5.0   3.0  ...   NaN   \n",
       "2      4.0   NaN   NaN   NaN   NaN   NaN   NaN   NaN   NaN   2.0  ...   NaN   \n",
       "3      NaN   NaN   NaN   NaN   NaN   NaN   NaN   NaN   NaN   NaN  ...   NaN   \n",
       "4      NaN   NaN   NaN   NaN   NaN   NaN   NaN   NaN   NaN   NaN  ...   NaN   \n",
       "5      4.0   3.0   NaN   NaN   NaN   NaN   NaN   NaN   NaN   NaN  ...   NaN   \n",
       "...    ...   ...   ...   ...   ...   ...   ...   ...   ...   ...  ...   ...   \n",
       "939    NaN   NaN   NaN   NaN   NaN   NaN   NaN   NaN   5.0   NaN  ...   NaN   \n",
       "940    NaN   NaN   NaN   2.0   NaN   NaN   4.0   5.0   3.0   NaN  ...   NaN   \n",
       "941    5.0   NaN   NaN   NaN   NaN   NaN   4.0   NaN   NaN   NaN  ...   NaN   \n",
       "942    NaN   NaN   NaN   NaN   NaN   NaN   NaN   NaN   NaN   NaN  ...   NaN   \n",
       "943    NaN   5.0   NaN   NaN   NaN   NaN   NaN   NaN   3.0   NaN  ...   NaN   \n",
       "\n",
       "item  1674  1675  1676  1677  1678  1679  1680  1681  1682  \n",
       "user                                                        \n",
       "1      NaN   NaN   NaN   NaN   NaN   NaN   NaN   NaN   NaN  \n",
       "2      NaN   NaN   NaN   NaN   NaN   NaN   NaN   NaN   NaN  \n",
       "3      NaN   NaN   NaN   NaN   NaN   NaN   NaN   NaN   NaN  \n",
       "4      NaN   NaN   NaN   NaN   NaN   NaN   NaN   NaN   NaN  \n",
       "5      NaN   NaN   NaN   NaN   NaN   NaN   NaN   NaN   NaN  \n",
       "...    ...   ...   ...   ...   ...   ...   ...   ...   ...  \n",
       "939    NaN   NaN   NaN   NaN   NaN   NaN   NaN   NaN   NaN  \n",
       "940    NaN   NaN   NaN   NaN   NaN   NaN   NaN   NaN   NaN  \n",
       "941    NaN   NaN   NaN   NaN   NaN   NaN   NaN   NaN   NaN  \n",
       "942    NaN   NaN   NaN   NaN   NaN   NaN   NaN   NaN   NaN  \n",
       "943    NaN   NaN   NaN   NaN   NaN   NaN   NaN   NaN   NaN  \n",
       "\n",
       "[943 rows x 1682 columns]"
      ]
     },
     "execution_count": 9,
     "metadata": {},
     "output_type": "execute_result"
    }
   ],
   "source": [
    "ui_matrix"
   ]
  },
  {
   "cell_type": "code",
   "execution_count": 10,
   "metadata": {
    "scrolled": true
   },
   "outputs": [
    {
     "data": {
      "text/html": [
       "<div>\n",
       "<style scoped>\n",
       "    .dataframe tbody tr th:only-of-type {\n",
       "        vertical-align: middle;\n",
       "    }\n",
       "\n",
       "    .dataframe tbody tr th {\n",
       "        vertical-align: top;\n",
       "    }\n",
       "\n",
       "    .dataframe thead th {\n",
       "        text-align: right;\n",
       "    }\n",
       "</style>\n",
       "<table border=\"1\" class=\"dataframe\">\n",
       "  <thead>\n",
       "    <tr style=\"text-align: right;\">\n",
       "      <th>item</th>\n",
       "      <th>1</th>\n",
       "      <th>2</th>\n",
       "      <th>3</th>\n",
       "      <th>4</th>\n",
       "      <th>5</th>\n",
       "      <th>6</th>\n",
       "      <th>7</th>\n",
       "      <th>8</th>\n",
       "      <th>9</th>\n",
       "      <th>10</th>\n",
       "      <th>...</th>\n",
       "      <th>1673</th>\n",
       "      <th>1674</th>\n",
       "      <th>1675</th>\n",
       "      <th>1676</th>\n",
       "      <th>1677</th>\n",
       "      <th>1678</th>\n",
       "      <th>1679</th>\n",
       "      <th>1680</th>\n",
       "      <th>1681</th>\n",
       "      <th>1682</th>\n",
       "    </tr>\n",
       "  </thead>\n",
       "  <tbody>\n",
       "    <tr>\n",
       "      <th>count</th>\n",
       "      <td>452.000000</td>\n",
       "      <td>131.000000</td>\n",
       "      <td>90.000000</td>\n",
       "      <td>209.000000</td>\n",
       "      <td>86.000000</td>\n",
       "      <td>26.000000</td>\n",
       "      <td>392.000000</td>\n",
       "      <td>219.000000</td>\n",
       "      <td>299.000000</td>\n",
       "      <td>89.000000</td>\n",
       "      <td>...</td>\n",
       "      <td>1.0</td>\n",
       "      <td>1.0</td>\n",
       "      <td>1.0</td>\n",
       "      <td>1.0</td>\n",
       "      <td>1.0</td>\n",
       "      <td>1.0</td>\n",
       "      <td>1.0</td>\n",
       "      <td>1.0</td>\n",
       "      <td>1.0</td>\n",
       "      <td>1.0</td>\n",
       "    </tr>\n",
       "    <tr>\n",
       "      <th>mean</th>\n",
       "      <td>3.878319</td>\n",
       "      <td>3.206107</td>\n",
       "      <td>3.033333</td>\n",
       "      <td>3.550239</td>\n",
       "      <td>3.302326</td>\n",
       "      <td>3.576923</td>\n",
       "      <td>3.798469</td>\n",
       "      <td>3.995434</td>\n",
       "      <td>3.896321</td>\n",
       "      <td>3.831461</td>\n",
       "      <td>...</td>\n",
       "      <td>3.0</td>\n",
       "      <td>4.0</td>\n",
       "      <td>3.0</td>\n",
       "      <td>2.0</td>\n",
       "      <td>3.0</td>\n",
       "      <td>1.0</td>\n",
       "      <td>3.0</td>\n",
       "      <td>2.0</td>\n",
       "      <td>3.0</td>\n",
       "      <td>3.0</td>\n",
       "    </tr>\n",
       "    <tr>\n",
       "      <th>std</th>\n",
       "      <td>0.927897</td>\n",
       "      <td>0.966497</td>\n",
       "      <td>1.212760</td>\n",
       "      <td>0.965069</td>\n",
       "      <td>0.946446</td>\n",
       "      <td>1.301478</td>\n",
       "      <td>0.982037</td>\n",
       "      <td>1.002281</td>\n",
       "      <td>1.042368</td>\n",
       "      <td>1.013948</td>\n",
       "      <td>...</td>\n",
       "      <td>NaN</td>\n",
       "      <td>NaN</td>\n",
       "      <td>NaN</td>\n",
       "      <td>NaN</td>\n",
       "      <td>NaN</td>\n",
       "      <td>NaN</td>\n",
       "      <td>NaN</td>\n",
       "      <td>NaN</td>\n",
       "      <td>NaN</td>\n",
       "      <td>NaN</td>\n",
       "    </tr>\n",
       "    <tr>\n",
       "      <th>min</th>\n",
       "      <td>1.000000</td>\n",
       "      <td>1.000000</td>\n",
       "      <td>1.000000</td>\n",
       "      <td>1.000000</td>\n",
       "      <td>1.000000</td>\n",
       "      <td>1.000000</td>\n",
       "      <td>1.000000</td>\n",
       "      <td>1.000000</td>\n",
       "      <td>1.000000</td>\n",
       "      <td>1.000000</td>\n",
       "      <td>...</td>\n",
       "      <td>3.0</td>\n",
       "      <td>4.0</td>\n",
       "      <td>3.0</td>\n",
       "      <td>2.0</td>\n",
       "      <td>3.0</td>\n",
       "      <td>1.0</td>\n",
       "      <td>3.0</td>\n",
       "      <td>2.0</td>\n",
       "      <td>3.0</td>\n",
       "      <td>3.0</td>\n",
       "    </tr>\n",
       "    <tr>\n",
       "      <th>25%</th>\n",
       "      <td>3.000000</td>\n",
       "      <td>3.000000</td>\n",
       "      <td>2.000000</td>\n",
       "      <td>3.000000</td>\n",
       "      <td>3.000000</td>\n",
       "      <td>3.000000</td>\n",
       "      <td>3.000000</td>\n",
       "      <td>3.000000</td>\n",
       "      <td>3.000000</td>\n",
       "      <td>3.000000</td>\n",
       "      <td>...</td>\n",
       "      <td>3.0</td>\n",
       "      <td>4.0</td>\n",
       "      <td>3.0</td>\n",
       "      <td>2.0</td>\n",
       "      <td>3.0</td>\n",
       "      <td>1.0</td>\n",
       "      <td>3.0</td>\n",
       "      <td>2.0</td>\n",
       "      <td>3.0</td>\n",
       "      <td>3.0</td>\n",
       "    </tr>\n",
       "    <tr>\n",
       "      <th>50%</th>\n",
       "      <td>4.000000</td>\n",
       "      <td>3.000000</td>\n",
       "      <td>3.000000</td>\n",
       "      <td>4.000000</td>\n",
       "      <td>3.000000</td>\n",
       "      <td>4.000000</td>\n",
       "      <td>4.000000</td>\n",
       "      <td>4.000000</td>\n",
       "      <td>4.000000</td>\n",
       "      <td>4.000000</td>\n",
       "      <td>...</td>\n",
       "      <td>3.0</td>\n",
       "      <td>4.0</td>\n",
       "      <td>3.0</td>\n",
       "      <td>2.0</td>\n",
       "      <td>3.0</td>\n",
       "      <td>1.0</td>\n",
       "      <td>3.0</td>\n",
       "      <td>2.0</td>\n",
       "      <td>3.0</td>\n",
       "      <td>3.0</td>\n",
       "    </tr>\n",
       "    <tr>\n",
       "      <th>75%</th>\n",
       "      <td>5.000000</td>\n",
       "      <td>4.000000</td>\n",
       "      <td>4.000000</td>\n",
       "      <td>4.000000</td>\n",
       "      <td>4.000000</td>\n",
       "      <td>5.000000</td>\n",
       "      <td>5.000000</td>\n",
       "      <td>5.000000</td>\n",
       "      <td>5.000000</td>\n",
       "      <td>5.000000</td>\n",
       "      <td>...</td>\n",
       "      <td>3.0</td>\n",
       "      <td>4.0</td>\n",
       "      <td>3.0</td>\n",
       "      <td>2.0</td>\n",
       "      <td>3.0</td>\n",
       "      <td>1.0</td>\n",
       "      <td>3.0</td>\n",
       "      <td>2.0</td>\n",
       "      <td>3.0</td>\n",
       "      <td>3.0</td>\n",
       "    </tr>\n",
       "    <tr>\n",
       "      <th>max</th>\n",
       "      <td>5.000000</td>\n",
       "      <td>5.000000</td>\n",
       "      <td>5.000000</td>\n",
       "      <td>5.000000</td>\n",
       "      <td>5.000000</td>\n",
       "      <td>5.000000</td>\n",
       "      <td>5.000000</td>\n",
       "      <td>5.000000</td>\n",
       "      <td>5.000000</td>\n",
       "      <td>5.000000</td>\n",
       "      <td>...</td>\n",
       "      <td>3.0</td>\n",
       "      <td>4.0</td>\n",
       "      <td>3.0</td>\n",
       "      <td>2.0</td>\n",
       "      <td>3.0</td>\n",
       "      <td>1.0</td>\n",
       "      <td>3.0</td>\n",
       "      <td>2.0</td>\n",
       "      <td>3.0</td>\n",
       "      <td>3.0</td>\n",
       "    </tr>\n",
       "  </tbody>\n",
       "</table>\n",
       "<p>8 rows × 1682 columns</p>\n",
       "</div>"
      ],
      "text/plain": [
       "item         1           2          3           4          5          6     \\\n",
       "count  452.000000  131.000000  90.000000  209.000000  86.000000  26.000000   \n",
       "mean     3.878319    3.206107   3.033333    3.550239   3.302326   3.576923   \n",
       "std      0.927897    0.966497   1.212760    0.965069   0.946446   1.301478   \n",
       "min      1.000000    1.000000   1.000000    1.000000   1.000000   1.000000   \n",
       "25%      3.000000    3.000000   2.000000    3.000000   3.000000   3.000000   \n",
       "50%      4.000000    3.000000   3.000000    4.000000   3.000000   4.000000   \n",
       "75%      5.000000    4.000000   4.000000    4.000000   4.000000   5.000000   \n",
       "max      5.000000    5.000000   5.000000    5.000000   5.000000   5.000000   \n",
       "\n",
       "item         7           8           9          10    ...  1673  1674  1675  \\\n",
       "count  392.000000  219.000000  299.000000  89.000000  ...   1.0   1.0   1.0   \n",
       "mean     3.798469    3.995434    3.896321   3.831461  ...   3.0   4.0   3.0   \n",
       "std      0.982037    1.002281    1.042368   1.013948  ...   NaN   NaN   NaN   \n",
       "min      1.000000    1.000000    1.000000   1.000000  ...   3.0   4.0   3.0   \n",
       "25%      3.000000    3.000000    3.000000   3.000000  ...   3.0   4.0   3.0   \n",
       "50%      4.000000    4.000000    4.000000   4.000000  ...   3.0   4.0   3.0   \n",
       "75%      5.000000    5.000000    5.000000   5.000000  ...   3.0   4.0   3.0   \n",
       "max      5.000000    5.000000    5.000000   5.000000  ...   3.0   4.0   3.0   \n",
       "\n",
       "item   1676  1677  1678  1679  1680  1681  1682  \n",
       "count   1.0   1.0   1.0   1.0   1.0   1.0   1.0  \n",
       "mean    2.0   3.0   1.0   3.0   2.0   3.0   3.0  \n",
       "std     NaN   NaN   NaN   NaN   NaN   NaN   NaN  \n",
       "min     2.0   3.0   1.0   3.0   2.0   3.0   3.0  \n",
       "25%     2.0   3.0   1.0   3.0   2.0   3.0   3.0  \n",
       "50%     2.0   3.0   1.0   3.0   2.0   3.0   3.0  \n",
       "75%     2.0   3.0   1.0   3.0   2.0   3.0   3.0  \n",
       "max     2.0   3.0   1.0   3.0   2.0   3.0   3.0  \n",
       "\n",
       "[8 rows x 1682 columns]"
      ]
     },
     "execution_count": 10,
     "metadata": {},
     "output_type": "execute_result"
    }
   ],
   "source": [
    "ui_matrix.describe()"
   ]
  },
  {
   "cell_type": "markdown",
   "metadata": {},
   "source": [
    "Možemo videti da je USER-ITEM matrica veoma retka što potpada pod jedan od navedenih problema."
   ]
  },
  {
   "cell_type": "markdown",
   "metadata": {},
   "source": [
    "Učitavamo dostupne trening podatke."
   ]
  },
  {
   "cell_type": "code",
   "execution_count": 11,
   "metadata": {},
   "outputs": [],
   "source": [
    "train_data = pd.read_csv('ml-100k/u5.base', sep = '\\\\t', names = header, engine = 'python')"
   ]
  },
  {
   "cell_type": "code",
   "execution_count": 12,
   "metadata": {},
   "outputs": [
    {
     "data": {
      "text/html": [
       "<div>\n",
       "<style scoped>\n",
       "    .dataframe tbody tr th:only-of-type {\n",
       "        vertical-align: middle;\n",
       "    }\n",
       "\n",
       "    .dataframe tbody tr th {\n",
       "        vertical-align: top;\n",
       "    }\n",
       "\n",
       "    .dataframe thead th {\n",
       "        text-align: right;\n",
       "    }\n",
       "</style>\n",
       "<table border=\"1\" class=\"dataframe\">\n",
       "  <thead>\n",
       "    <tr style=\"text-align: right;\">\n",
       "      <th></th>\n",
       "      <th>user</th>\n",
       "      <th>item</th>\n",
       "      <th>rating</th>\n",
       "      <th>timestamp</th>\n",
       "    </tr>\n",
       "  </thead>\n",
       "  <tbody>\n",
       "    <tr>\n",
       "      <th>0</th>\n",
       "      <td>1</td>\n",
       "      <td>1</td>\n",
       "      <td>5</td>\n",
       "      <td>874965758</td>\n",
       "    </tr>\n",
       "    <tr>\n",
       "      <th>1</th>\n",
       "      <td>1</td>\n",
       "      <td>2</td>\n",
       "      <td>3</td>\n",
       "      <td>876893171</td>\n",
       "    </tr>\n",
       "    <tr>\n",
       "      <th>2</th>\n",
       "      <td>1</td>\n",
       "      <td>4</td>\n",
       "      <td>3</td>\n",
       "      <td>876893119</td>\n",
       "    </tr>\n",
       "    <tr>\n",
       "      <th>3</th>\n",
       "      <td>1</td>\n",
       "      <td>5</td>\n",
       "      <td>3</td>\n",
       "      <td>889751712</td>\n",
       "    </tr>\n",
       "    <tr>\n",
       "      <th>4</th>\n",
       "      <td>1</td>\n",
       "      <td>6</td>\n",
       "      <td>5</td>\n",
       "      <td>887431973</td>\n",
       "    </tr>\n",
       "  </tbody>\n",
       "</table>\n",
       "</div>"
      ],
      "text/plain": [
       "   user  item  rating  timestamp\n",
       "0     1     1       5  874965758\n",
       "1     1     2       3  876893171\n",
       "2     1     4       3  876893119\n",
       "3     1     5       3  889751712\n",
       "4     1     6       5  887431973"
      ]
     },
     "execution_count": 12,
     "metadata": {},
     "output_type": "execute_result"
    }
   ],
   "source": [
    "train_data.head()"
   ]
  },
  {
   "cell_type": "code",
   "execution_count": 13,
   "metadata": {
    "scrolled": true
   },
   "outputs": [
    {
     "data": {
      "text/plain": [
       "(80000, 4)"
      ]
     },
     "execution_count": 13,
     "metadata": {},
     "output_type": "execute_result"
    }
   ],
   "source": [
    "train_data.shape"
   ]
  },
  {
   "cell_type": "markdown",
   "metadata": {},
   "source": [
    "Učitavamo dostupne test podatke koji odgovaraju učitanim trening podacima."
   ]
  },
  {
   "cell_type": "code",
   "execution_count": 14,
   "metadata": {},
   "outputs": [],
   "source": [
    "test_data = pd.read_csv('ml-100k/u5.test', sep = '\\\\t', names = header, engine = 'python')"
   ]
  },
  {
   "cell_type": "code",
   "execution_count": 15,
   "metadata": {},
   "outputs": [
    {
     "data": {
      "text/html": [
       "<div>\n",
       "<style scoped>\n",
       "    .dataframe tbody tr th:only-of-type {\n",
       "        vertical-align: middle;\n",
       "    }\n",
       "\n",
       "    .dataframe tbody tr th {\n",
       "        vertical-align: top;\n",
       "    }\n",
       "\n",
       "    .dataframe thead th {\n",
       "        text-align: right;\n",
       "    }\n",
       "</style>\n",
       "<table border=\"1\" class=\"dataframe\">\n",
       "  <thead>\n",
       "    <tr style=\"text-align: right;\">\n",
       "      <th></th>\n",
       "      <th>user</th>\n",
       "      <th>item</th>\n",
       "      <th>rating</th>\n",
       "      <th>timestamp</th>\n",
       "    </tr>\n",
       "  </thead>\n",
       "  <tbody>\n",
       "    <tr>\n",
       "      <th>0</th>\n",
       "      <td>1</td>\n",
       "      <td>3</td>\n",
       "      <td>4</td>\n",
       "      <td>878542960</td>\n",
       "    </tr>\n",
       "    <tr>\n",
       "      <th>1</th>\n",
       "      <td>1</td>\n",
       "      <td>13</td>\n",
       "      <td>5</td>\n",
       "      <td>875071805</td>\n",
       "    </tr>\n",
       "    <tr>\n",
       "      <th>2</th>\n",
       "      <td>1</td>\n",
       "      <td>15</td>\n",
       "      <td>5</td>\n",
       "      <td>875071608</td>\n",
       "    </tr>\n",
       "    <tr>\n",
       "      <th>3</th>\n",
       "      <td>1</td>\n",
       "      <td>18</td>\n",
       "      <td>4</td>\n",
       "      <td>887432020</td>\n",
       "    </tr>\n",
       "    <tr>\n",
       "      <th>4</th>\n",
       "      <td>1</td>\n",
       "      <td>19</td>\n",
       "      <td>5</td>\n",
       "      <td>875071515</td>\n",
       "    </tr>\n",
       "  </tbody>\n",
       "</table>\n",
       "</div>"
      ],
      "text/plain": [
       "   user  item  rating  timestamp\n",
       "0     1     3       4  878542960\n",
       "1     1    13       5  875071805\n",
       "2     1    15       5  875071608\n",
       "3     1    18       4  887432020\n",
       "4     1    19       5  875071515"
      ]
     },
     "execution_count": 15,
     "metadata": {},
     "output_type": "execute_result"
    }
   ],
   "source": [
    "test_data.head()"
   ]
  },
  {
   "cell_type": "markdown",
   "metadata": {},
   "source": [
    "### Vizualiazacija podataka"
   ]
  },
  {
   "cell_type": "code",
   "execution_count": 16,
   "metadata": {},
   "outputs": [],
   "source": [
    "genres = pd.read_csv('ml-100k/u.genre', sep = '|', names=['genre', 'id'], engine = 'python')"
   ]
  },
  {
   "cell_type": "code",
   "execution_count": 17,
   "metadata": {},
   "outputs": [],
   "source": [
    "movies_header = ['item', 'title', 'date1', 'date2', 'url'] + [g for g in genres['genre']]"
   ]
  },
  {
   "cell_type": "code",
   "execution_count": 18,
   "metadata": {},
   "outputs": [
    {
     "data": {
      "text/plain": [
       "['item',\n",
       " 'title',\n",
       " 'date1',\n",
       " 'date2',\n",
       " 'url',\n",
       " 'unknown',\n",
       " 'Action',\n",
       " 'Adventure',\n",
       " 'Animation',\n",
       " \"Children's\",\n",
       " 'Comedy',\n",
       " 'Crime',\n",
       " 'Documentary',\n",
       " 'Drama',\n",
       " 'Fantasy',\n",
       " 'Film-Noir',\n",
       " 'Horror',\n",
       " 'Musical',\n",
       " 'Mystery',\n",
       " 'Romance',\n",
       " 'Sci-Fi',\n",
       " 'Thriller',\n",
       " 'War',\n",
       " 'Western']"
      ]
     },
     "execution_count": 18,
     "metadata": {},
     "output_type": "execute_result"
    }
   ],
   "source": [
    "movies_header"
   ]
  },
  {
   "cell_type": "code",
   "execution_count": 19,
   "metadata": {},
   "outputs": [],
   "source": [
    "movies = pd.read_csv('ml-100k/u.item', sep = '|', names = movies_header, engine = 'python')"
   ]
  },
  {
   "cell_type": "code",
   "execution_count": 20,
   "metadata": {},
   "outputs": [
    {
     "data": {
      "text/html": [
       "<div>\n",
       "<style scoped>\n",
       "    .dataframe tbody tr th:only-of-type {\n",
       "        vertical-align: middle;\n",
       "    }\n",
       "\n",
       "    .dataframe tbody tr th {\n",
       "        vertical-align: top;\n",
       "    }\n",
       "\n",
       "    .dataframe thead th {\n",
       "        text-align: right;\n",
       "    }\n",
       "</style>\n",
       "<table border=\"1\" class=\"dataframe\">\n",
       "  <thead>\n",
       "    <tr style=\"text-align: right;\">\n",
       "      <th></th>\n",
       "      <th>item</th>\n",
       "      <th>title</th>\n",
       "      <th>date1</th>\n",
       "      <th>date2</th>\n",
       "      <th>url</th>\n",
       "      <th>unknown</th>\n",
       "      <th>Action</th>\n",
       "      <th>Adventure</th>\n",
       "      <th>Animation</th>\n",
       "      <th>Children's</th>\n",
       "      <th>...</th>\n",
       "      <th>Fantasy</th>\n",
       "      <th>Film-Noir</th>\n",
       "      <th>Horror</th>\n",
       "      <th>Musical</th>\n",
       "      <th>Mystery</th>\n",
       "      <th>Romance</th>\n",
       "      <th>Sci-Fi</th>\n",
       "      <th>Thriller</th>\n",
       "      <th>War</th>\n",
       "      <th>Western</th>\n",
       "    </tr>\n",
       "  </thead>\n",
       "  <tbody>\n",
       "    <tr>\n",
       "      <th>0</th>\n",
       "      <td>1</td>\n",
       "      <td>Toy Story (1995)</td>\n",
       "      <td>01-Jan-1995</td>\n",
       "      <td>NaN</td>\n",
       "      <td>http://us.imdb.com/M/title-exact?Toy%20Story%2...</td>\n",
       "      <td>0</td>\n",
       "      <td>0</td>\n",
       "      <td>0</td>\n",
       "      <td>1</td>\n",
       "      <td>1</td>\n",
       "      <td>...</td>\n",
       "      <td>0</td>\n",
       "      <td>0</td>\n",
       "      <td>0</td>\n",
       "      <td>0</td>\n",
       "      <td>0</td>\n",
       "      <td>0</td>\n",
       "      <td>0</td>\n",
       "      <td>0</td>\n",
       "      <td>0</td>\n",
       "      <td>0</td>\n",
       "    </tr>\n",
       "    <tr>\n",
       "      <th>1</th>\n",
       "      <td>2</td>\n",
       "      <td>GoldenEye (1995)</td>\n",
       "      <td>01-Jan-1995</td>\n",
       "      <td>NaN</td>\n",
       "      <td>http://us.imdb.com/M/title-exact?GoldenEye%20(...</td>\n",
       "      <td>0</td>\n",
       "      <td>1</td>\n",
       "      <td>1</td>\n",
       "      <td>0</td>\n",
       "      <td>0</td>\n",
       "      <td>...</td>\n",
       "      <td>0</td>\n",
       "      <td>0</td>\n",
       "      <td>0</td>\n",
       "      <td>0</td>\n",
       "      <td>0</td>\n",
       "      <td>0</td>\n",
       "      <td>0</td>\n",
       "      <td>1</td>\n",
       "      <td>0</td>\n",
       "      <td>0</td>\n",
       "    </tr>\n",
       "    <tr>\n",
       "      <th>2</th>\n",
       "      <td>3</td>\n",
       "      <td>Four Rooms (1995)</td>\n",
       "      <td>01-Jan-1995</td>\n",
       "      <td>NaN</td>\n",
       "      <td>http://us.imdb.com/M/title-exact?Four%20Rooms%...</td>\n",
       "      <td>0</td>\n",
       "      <td>0</td>\n",
       "      <td>0</td>\n",
       "      <td>0</td>\n",
       "      <td>0</td>\n",
       "      <td>...</td>\n",
       "      <td>0</td>\n",
       "      <td>0</td>\n",
       "      <td>0</td>\n",
       "      <td>0</td>\n",
       "      <td>0</td>\n",
       "      <td>0</td>\n",
       "      <td>0</td>\n",
       "      <td>1</td>\n",
       "      <td>0</td>\n",
       "      <td>0</td>\n",
       "    </tr>\n",
       "    <tr>\n",
       "      <th>3</th>\n",
       "      <td>4</td>\n",
       "      <td>Get Shorty (1995)</td>\n",
       "      <td>01-Jan-1995</td>\n",
       "      <td>NaN</td>\n",
       "      <td>http://us.imdb.com/M/title-exact?Get%20Shorty%...</td>\n",
       "      <td>0</td>\n",
       "      <td>1</td>\n",
       "      <td>0</td>\n",
       "      <td>0</td>\n",
       "      <td>0</td>\n",
       "      <td>...</td>\n",
       "      <td>0</td>\n",
       "      <td>0</td>\n",
       "      <td>0</td>\n",
       "      <td>0</td>\n",
       "      <td>0</td>\n",
       "      <td>0</td>\n",
       "      <td>0</td>\n",
       "      <td>0</td>\n",
       "      <td>0</td>\n",
       "      <td>0</td>\n",
       "    </tr>\n",
       "    <tr>\n",
       "      <th>4</th>\n",
       "      <td>5</td>\n",
       "      <td>Copycat (1995)</td>\n",
       "      <td>01-Jan-1995</td>\n",
       "      <td>NaN</td>\n",
       "      <td>http://us.imdb.com/M/title-exact?Copycat%20(1995)</td>\n",
       "      <td>0</td>\n",
       "      <td>0</td>\n",
       "      <td>0</td>\n",
       "      <td>0</td>\n",
       "      <td>0</td>\n",
       "      <td>...</td>\n",
       "      <td>0</td>\n",
       "      <td>0</td>\n",
       "      <td>0</td>\n",
       "      <td>0</td>\n",
       "      <td>0</td>\n",
       "      <td>0</td>\n",
       "      <td>0</td>\n",
       "      <td>1</td>\n",
       "      <td>0</td>\n",
       "      <td>0</td>\n",
       "    </tr>\n",
       "  </tbody>\n",
       "</table>\n",
       "<p>5 rows × 24 columns</p>\n",
       "</div>"
      ],
      "text/plain": [
       "   item              title        date1  date2  \\\n",
       "0     1   Toy Story (1995)  01-Jan-1995    NaN   \n",
       "1     2   GoldenEye (1995)  01-Jan-1995    NaN   \n",
       "2     3  Four Rooms (1995)  01-Jan-1995    NaN   \n",
       "3     4  Get Shorty (1995)  01-Jan-1995    NaN   \n",
       "4     5     Copycat (1995)  01-Jan-1995    NaN   \n",
       "\n",
       "                                                 url  unknown  Action  \\\n",
       "0  http://us.imdb.com/M/title-exact?Toy%20Story%2...        0       0   \n",
       "1  http://us.imdb.com/M/title-exact?GoldenEye%20(...        0       1   \n",
       "2  http://us.imdb.com/M/title-exact?Four%20Rooms%...        0       0   \n",
       "3  http://us.imdb.com/M/title-exact?Get%20Shorty%...        0       1   \n",
       "4  http://us.imdb.com/M/title-exact?Copycat%20(1995)        0       0   \n",
       "\n",
       "   Adventure  Animation  Children's  ...  Fantasy  Film-Noir  Horror  Musical  \\\n",
       "0          0          1           1  ...        0          0       0        0   \n",
       "1          1          0           0  ...        0          0       0        0   \n",
       "2          0          0           0  ...        0          0       0        0   \n",
       "3          0          0           0  ...        0          0       0        0   \n",
       "4          0          0           0  ...        0          0       0        0   \n",
       "\n",
       "   Mystery  Romance  Sci-Fi  Thriller  War  Western  \n",
       "0        0        0       0         0    0        0  \n",
       "1        0        0       0         1    0        0  \n",
       "2        0        0       0         1    0        0  \n",
       "3        0        0       0         0    0        0  \n",
       "4        0        0       0         1    0        0  \n",
       "\n",
       "[5 rows x 24 columns]"
      ]
     },
     "execution_count": 20,
     "metadata": {},
     "output_type": "execute_result"
    }
   ],
   "source": [
    "movies.head()"
   ]
  },
  {
   "cell_type": "code",
   "execution_count": 21,
   "metadata": {},
   "outputs": [
    {
     "data": {
      "text/html": [
       "<div>\n",
       "<style scoped>\n",
       "    .dataframe tbody tr th:only-of-type {\n",
       "        vertical-align: middle;\n",
       "    }\n",
       "\n",
       "    .dataframe tbody tr th {\n",
       "        vertical-align: top;\n",
       "    }\n",
       "\n",
       "    .dataframe thead th {\n",
       "        text-align: right;\n",
       "    }\n",
       "</style>\n",
       "<table border=\"1\" class=\"dataframe\">\n",
       "  <thead>\n",
       "    <tr style=\"text-align: right;\">\n",
       "      <th></th>\n",
       "      <th>item</th>\n",
       "      <th>title</th>\n",
       "      <th>unknown</th>\n",
       "      <th>Action</th>\n",
       "      <th>Adventure</th>\n",
       "      <th>Animation</th>\n",
       "      <th>Children's</th>\n",
       "      <th>Comedy</th>\n",
       "      <th>Crime</th>\n",
       "      <th>Documentary</th>\n",
       "      <th>...</th>\n",
       "      <th>Fantasy</th>\n",
       "      <th>Film-Noir</th>\n",
       "      <th>Horror</th>\n",
       "      <th>Musical</th>\n",
       "      <th>Mystery</th>\n",
       "      <th>Romance</th>\n",
       "      <th>Sci-Fi</th>\n",
       "      <th>Thriller</th>\n",
       "      <th>War</th>\n",
       "      <th>Western</th>\n",
       "    </tr>\n",
       "  </thead>\n",
       "  <tbody>\n",
       "    <tr>\n",
       "      <th>0</th>\n",
       "      <td>1</td>\n",
       "      <td>Toy Story (1995)</td>\n",
       "      <td>0</td>\n",
       "      <td>0</td>\n",
       "      <td>0</td>\n",
       "      <td>1</td>\n",
       "      <td>1</td>\n",
       "      <td>1</td>\n",
       "      <td>0</td>\n",
       "      <td>0</td>\n",
       "      <td>...</td>\n",
       "      <td>0</td>\n",
       "      <td>0</td>\n",
       "      <td>0</td>\n",
       "      <td>0</td>\n",
       "      <td>0</td>\n",
       "      <td>0</td>\n",
       "      <td>0</td>\n",
       "      <td>0</td>\n",
       "      <td>0</td>\n",
       "      <td>0</td>\n",
       "    </tr>\n",
       "    <tr>\n",
       "      <th>1</th>\n",
       "      <td>2</td>\n",
       "      <td>GoldenEye (1995)</td>\n",
       "      <td>0</td>\n",
       "      <td>1</td>\n",
       "      <td>1</td>\n",
       "      <td>0</td>\n",
       "      <td>0</td>\n",
       "      <td>0</td>\n",
       "      <td>0</td>\n",
       "      <td>0</td>\n",
       "      <td>...</td>\n",
       "      <td>0</td>\n",
       "      <td>0</td>\n",
       "      <td>0</td>\n",
       "      <td>0</td>\n",
       "      <td>0</td>\n",
       "      <td>0</td>\n",
       "      <td>0</td>\n",
       "      <td>1</td>\n",
       "      <td>0</td>\n",
       "      <td>0</td>\n",
       "    </tr>\n",
       "    <tr>\n",
       "      <th>2</th>\n",
       "      <td>3</td>\n",
       "      <td>Four Rooms (1995)</td>\n",
       "      <td>0</td>\n",
       "      <td>0</td>\n",
       "      <td>0</td>\n",
       "      <td>0</td>\n",
       "      <td>0</td>\n",
       "      <td>0</td>\n",
       "      <td>0</td>\n",
       "      <td>0</td>\n",
       "      <td>...</td>\n",
       "      <td>0</td>\n",
       "      <td>0</td>\n",
       "      <td>0</td>\n",
       "      <td>0</td>\n",
       "      <td>0</td>\n",
       "      <td>0</td>\n",
       "      <td>0</td>\n",
       "      <td>1</td>\n",
       "      <td>0</td>\n",
       "      <td>0</td>\n",
       "    </tr>\n",
       "    <tr>\n",
       "      <th>3</th>\n",
       "      <td>4</td>\n",
       "      <td>Get Shorty (1995)</td>\n",
       "      <td>0</td>\n",
       "      <td>1</td>\n",
       "      <td>0</td>\n",
       "      <td>0</td>\n",
       "      <td>0</td>\n",
       "      <td>1</td>\n",
       "      <td>0</td>\n",
       "      <td>0</td>\n",
       "      <td>...</td>\n",
       "      <td>0</td>\n",
       "      <td>0</td>\n",
       "      <td>0</td>\n",
       "      <td>0</td>\n",
       "      <td>0</td>\n",
       "      <td>0</td>\n",
       "      <td>0</td>\n",
       "      <td>0</td>\n",
       "      <td>0</td>\n",
       "      <td>0</td>\n",
       "    </tr>\n",
       "    <tr>\n",
       "      <th>4</th>\n",
       "      <td>5</td>\n",
       "      <td>Copycat (1995)</td>\n",
       "      <td>0</td>\n",
       "      <td>0</td>\n",
       "      <td>0</td>\n",
       "      <td>0</td>\n",
       "      <td>0</td>\n",
       "      <td>0</td>\n",
       "      <td>1</td>\n",
       "      <td>0</td>\n",
       "      <td>...</td>\n",
       "      <td>0</td>\n",
       "      <td>0</td>\n",
       "      <td>0</td>\n",
       "      <td>0</td>\n",
       "      <td>0</td>\n",
       "      <td>0</td>\n",
       "      <td>0</td>\n",
       "      <td>1</td>\n",
       "      <td>0</td>\n",
       "      <td>0</td>\n",
       "    </tr>\n",
       "  </tbody>\n",
       "</table>\n",
       "<p>5 rows × 21 columns</p>\n",
       "</div>"
      ],
      "text/plain": [
       "   item              title  unknown  Action  Adventure  Animation  Children's  \\\n",
       "0     1   Toy Story (1995)        0       0          0          1           1   \n",
       "1     2   GoldenEye (1995)        0       1          1          0           0   \n",
       "2     3  Four Rooms (1995)        0       0          0          0           0   \n",
       "3     4  Get Shorty (1995)        0       1          0          0           0   \n",
       "4     5     Copycat (1995)        0       0          0          0           0   \n",
       "\n",
       "   Comedy  Crime  Documentary  ...  Fantasy  Film-Noir  Horror  Musical  \\\n",
       "0       1      0            0  ...        0          0       0        0   \n",
       "1       0      0            0  ...        0          0       0        0   \n",
       "2       0      0            0  ...        0          0       0        0   \n",
       "3       1      0            0  ...        0          0       0        0   \n",
       "4       0      1            0  ...        0          0       0        0   \n",
       "\n",
       "   Mystery  Romance  Sci-Fi  Thriller  War  Western  \n",
       "0        0        0       0         0    0        0  \n",
       "1        0        0       0         1    0        0  \n",
       "2        0        0       0         1    0        0  \n",
       "3        0        0       0         0    0        0  \n",
       "4        0        0       0         1    0        0  \n",
       "\n",
       "[5 rows x 21 columns]"
      ]
     },
     "execution_count": 21,
     "metadata": {},
     "output_type": "execute_result"
    }
   ],
   "source": [
    "del movies['date1']\n",
    "del movies['date2']\n",
    "del movies['url']\n",
    "movies.head()"
   ]
  },
  {
   "cell_type": "code",
   "execution_count": 22,
   "metadata": {},
   "outputs": [],
   "source": [
    "train_data_movies = pd.merge(train_data, movies, on = 'item')"
   ]
  },
  {
   "cell_type": "code",
   "execution_count": 23,
   "metadata": {},
   "outputs": [
    {
     "data": {
      "text/html": [
       "<div>\n",
       "<style scoped>\n",
       "    .dataframe tbody tr th:only-of-type {\n",
       "        vertical-align: middle;\n",
       "    }\n",
       "\n",
       "    .dataframe tbody tr th {\n",
       "        vertical-align: top;\n",
       "    }\n",
       "\n",
       "    .dataframe thead th {\n",
       "        text-align: right;\n",
       "    }\n",
       "</style>\n",
       "<table border=\"1\" class=\"dataframe\">\n",
       "  <thead>\n",
       "    <tr style=\"text-align: right;\">\n",
       "      <th></th>\n",
       "      <th>user</th>\n",
       "      <th>item</th>\n",
       "      <th>rating</th>\n",
       "      <th>timestamp</th>\n",
       "      <th>title</th>\n",
       "      <th>unknown</th>\n",
       "      <th>Action</th>\n",
       "      <th>Adventure</th>\n",
       "      <th>Animation</th>\n",
       "      <th>Children's</th>\n",
       "      <th>...</th>\n",
       "      <th>Fantasy</th>\n",
       "      <th>Film-Noir</th>\n",
       "      <th>Horror</th>\n",
       "      <th>Musical</th>\n",
       "      <th>Mystery</th>\n",
       "      <th>Romance</th>\n",
       "      <th>Sci-Fi</th>\n",
       "      <th>Thriller</th>\n",
       "      <th>War</th>\n",
       "      <th>Western</th>\n",
       "    </tr>\n",
       "  </thead>\n",
       "  <tbody>\n",
       "    <tr>\n",
       "      <th>0</th>\n",
       "      <td>1</td>\n",
       "      <td>1</td>\n",
       "      <td>5</td>\n",
       "      <td>874965758</td>\n",
       "      <td>Toy Story (1995)</td>\n",
       "      <td>0</td>\n",
       "      <td>0</td>\n",
       "      <td>0</td>\n",
       "      <td>1</td>\n",
       "      <td>1</td>\n",
       "      <td>...</td>\n",
       "      <td>0</td>\n",
       "      <td>0</td>\n",
       "      <td>0</td>\n",
       "      <td>0</td>\n",
       "      <td>0</td>\n",
       "      <td>0</td>\n",
       "      <td>0</td>\n",
       "      <td>0</td>\n",
       "      <td>0</td>\n",
       "      <td>0</td>\n",
       "    </tr>\n",
       "    <tr>\n",
       "      <th>1</th>\n",
       "      <td>2</td>\n",
       "      <td>1</td>\n",
       "      <td>4</td>\n",
       "      <td>888550871</td>\n",
       "      <td>Toy Story (1995)</td>\n",
       "      <td>0</td>\n",
       "      <td>0</td>\n",
       "      <td>0</td>\n",
       "      <td>1</td>\n",
       "      <td>1</td>\n",
       "      <td>...</td>\n",
       "      <td>0</td>\n",
       "      <td>0</td>\n",
       "      <td>0</td>\n",
       "      <td>0</td>\n",
       "      <td>0</td>\n",
       "      <td>0</td>\n",
       "      <td>0</td>\n",
       "      <td>0</td>\n",
       "      <td>0</td>\n",
       "      <td>0</td>\n",
       "    </tr>\n",
       "    <tr>\n",
       "      <th>2</th>\n",
       "      <td>5</td>\n",
       "      <td>1</td>\n",
       "      <td>4</td>\n",
       "      <td>875635748</td>\n",
       "      <td>Toy Story (1995)</td>\n",
       "      <td>0</td>\n",
       "      <td>0</td>\n",
       "      <td>0</td>\n",
       "      <td>1</td>\n",
       "      <td>1</td>\n",
       "      <td>...</td>\n",
       "      <td>0</td>\n",
       "      <td>0</td>\n",
       "      <td>0</td>\n",
       "      <td>0</td>\n",
       "      <td>0</td>\n",
       "      <td>0</td>\n",
       "      <td>0</td>\n",
       "      <td>0</td>\n",
       "      <td>0</td>\n",
       "      <td>0</td>\n",
       "    </tr>\n",
       "    <tr>\n",
       "      <th>3</th>\n",
       "      <td>6</td>\n",
       "      <td>1</td>\n",
       "      <td>4</td>\n",
       "      <td>883599478</td>\n",
       "      <td>Toy Story (1995)</td>\n",
       "      <td>0</td>\n",
       "      <td>0</td>\n",
       "      <td>0</td>\n",
       "      <td>1</td>\n",
       "      <td>1</td>\n",
       "      <td>...</td>\n",
       "      <td>0</td>\n",
       "      <td>0</td>\n",
       "      <td>0</td>\n",
       "      <td>0</td>\n",
       "      <td>0</td>\n",
       "      <td>0</td>\n",
       "      <td>0</td>\n",
       "      <td>0</td>\n",
       "      <td>0</td>\n",
       "      <td>0</td>\n",
       "    </tr>\n",
       "    <tr>\n",
       "      <th>4</th>\n",
       "      <td>10</td>\n",
       "      <td>1</td>\n",
       "      <td>4</td>\n",
       "      <td>877888877</td>\n",
       "      <td>Toy Story (1995)</td>\n",
       "      <td>0</td>\n",
       "      <td>0</td>\n",
       "      <td>0</td>\n",
       "      <td>1</td>\n",
       "      <td>1</td>\n",
       "      <td>...</td>\n",
       "      <td>0</td>\n",
       "      <td>0</td>\n",
       "      <td>0</td>\n",
       "      <td>0</td>\n",
       "      <td>0</td>\n",
       "      <td>0</td>\n",
       "      <td>0</td>\n",
       "      <td>0</td>\n",
       "      <td>0</td>\n",
       "      <td>0</td>\n",
       "    </tr>\n",
       "  </tbody>\n",
       "</table>\n",
       "<p>5 rows × 24 columns</p>\n",
       "</div>"
      ],
      "text/plain": [
       "   user  item  rating  timestamp             title  unknown  Action  \\\n",
       "0     1     1       5  874965758  Toy Story (1995)        0       0   \n",
       "1     2     1       4  888550871  Toy Story (1995)        0       0   \n",
       "2     5     1       4  875635748  Toy Story (1995)        0       0   \n",
       "3     6     1       4  883599478  Toy Story (1995)        0       0   \n",
       "4    10     1       4  877888877  Toy Story (1995)        0       0   \n",
       "\n",
       "   Adventure  Animation  Children's  ...  Fantasy  Film-Noir  Horror  Musical  \\\n",
       "0          0          1           1  ...        0          0       0        0   \n",
       "1          0          1           1  ...        0          0       0        0   \n",
       "2          0          1           1  ...        0          0       0        0   \n",
       "3          0          1           1  ...        0          0       0        0   \n",
       "4          0          1           1  ...        0          0       0        0   \n",
       "\n",
       "   Mystery  Romance  Sci-Fi  Thriller  War  Western  \n",
       "0        0        0       0         0    0        0  \n",
       "1        0        0       0         0    0        0  \n",
       "2        0        0       0         0    0        0  \n",
       "3        0        0       0         0    0        0  \n",
       "4        0        0       0         0    0        0  \n",
       "\n",
       "[5 rows x 24 columns]"
      ]
     },
     "execution_count": 23,
     "metadata": {},
     "output_type": "execute_result"
    }
   ],
   "source": [
    "train_data_movies.head()"
   ]
  },
  {
   "cell_type": "code",
   "execution_count": 24,
   "metadata": {},
   "outputs": [
    {
     "data": {
      "text/plain": [
       "title\n",
       "Prefontaine (1997)                                   5.0\n",
       "Santa with Muscles (1996)                            5.0\n",
       "Star Kid (1997)                                      5.0\n",
       "Someone Else's America (1995)                        5.0\n",
       "The Deadly Cure (1996)                               5.0\n",
       "Marlene Dietrich: Shadow and Light (1996)            5.0\n",
       "Entertaining Angels: The Dorothy Day Story (1996)    5.0\n",
       "They Made Me a Criminal (1939)                       5.0\n",
       "Aiqing wansui (1994)                                 5.0\n",
       "Delta of Venus (1994)                                5.0\n",
       "Name: rating, dtype: float64"
      ]
     },
     "execution_count": 24,
     "metadata": {},
     "output_type": "execute_result"
    }
   ],
   "source": [
    "train_data_movies.groupby('title')['rating'].mean().sort_values(ascending=False).head(10)"
   ]
  },
  {
   "cell_type": "code",
   "execution_count": 25,
   "metadata": {},
   "outputs": [
    {
     "data": {
      "text/plain": [
       "title\n",
       "Star Wars (1977)                 475\n",
       "Contact (1997)                   418\n",
       "Return of the Jedi (1983)        416\n",
       "Fargo (1996)                     397\n",
       "Scream (1996)                    390\n",
       "English Patient, The (1996)      377\n",
       "Liar Liar (1997)                 373\n",
       "Toy Story (1995)                 355\n",
       "Independence Day (ID4) (1996)    339\n",
       "Air Force One (1997)             332\n",
       "Name: rating, dtype: int64"
      ]
     },
     "execution_count": 25,
     "metadata": {},
     "output_type": "execute_result"
    }
   ],
   "source": [
    "train_data_movies.groupby('title')['rating'].count().sort_values(ascending=False).head(10)"
   ]
  },
  {
   "cell_type": "code",
   "execution_count": 26,
   "metadata": {},
   "outputs": [
    {
     "data": {
      "text/html": [
       "<div>\n",
       "<style scoped>\n",
       "    .dataframe tbody tr th:only-of-type {\n",
       "        vertical-align: middle;\n",
       "    }\n",
       "\n",
       "    .dataframe tbody tr th {\n",
       "        vertical-align: top;\n",
       "    }\n",
       "\n",
       "    .dataframe thead th {\n",
       "        text-align: right;\n",
       "    }\n",
       "</style>\n",
       "<table border=\"1\" class=\"dataframe\">\n",
       "  <thead>\n",
       "    <tr style=\"text-align: right;\">\n",
       "      <th></th>\n",
       "      <th>title</th>\n",
       "      <th>rating</th>\n",
       "      <th>count</th>\n",
       "      <th>item</th>\n",
       "      <th>unknown</th>\n",
       "      <th>Action</th>\n",
       "      <th>Adventure</th>\n",
       "      <th>Animation</th>\n",
       "      <th>Children's</th>\n",
       "      <th>Comedy</th>\n",
       "      <th>...</th>\n",
       "      <th>Fantasy</th>\n",
       "      <th>Film-Noir</th>\n",
       "      <th>Horror</th>\n",
       "      <th>Musical</th>\n",
       "      <th>Mystery</th>\n",
       "      <th>Romance</th>\n",
       "      <th>Sci-Fi</th>\n",
       "      <th>Thriller</th>\n",
       "      <th>War</th>\n",
       "      <th>Western</th>\n",
       "    </tr>\n",
       "  </thead>\n",
       "  <tbody>\n",
       "    <tr>\n",
       "      <th>1390</th>\n",
       "      <td>Star Wars (1977)</td>\n",
       "      <td>4.366316</td>\n",
       "      <td>475</td>\n",
       "      <td>50</td>\n",
       "      <td>0</td>\n",
       "      <td>1</td>\n",
       "      <td>1</td>\n",
       "      <td>0</td>\n",
       "      <td>0</td>\n",
       "      <td>0</td>\n",
       "      <td>...</td>\n",
       "      <td>0</td>\n",
       "      <td>0</td>\n",
       "      <td>0</td>\n",
       "      <td>0</td>\n",
       "      <td>0</td>\n",
       "      <td>1</td>\n",
       "      <td>1</td>\n",
       "      <td>0</td>\n",
       "      <td>1</td>\n",
       "      <td>0</td>\n",
       "    </tr>\n",
       "    <tr>\n",
       "      <th>334</th>\n",
       "      <td>Contact (1997)</td>\n",
       "      <td>3.806220</td>\n",
       "      <td>418</td>\n",
       "      <td>258</td>\n",
       "      <td>0</td>\n",
       "      <td>0</td>\n",
       "      <td>0</td>\n",
       "      <td>0</td>\n",
       "      <td>0</td>\n",
       "      <td>0</td>\n",
       "      <td>...</td>\n",
       "      <td>0</td>\n",
       "      <td>0</td>\n",
       "      <td>0</td>\n",
       "      <td>0</td>\n",
       "      <td>0</td>\n",
       "      <td>0</td>\n",
       "      <td>1</td>\n",
       "      <td>0</td>\n",
       "      <td>0</td>\n",
       "      <td>0</td>\n",
       "    </tr>\n",
       "    <tr>\n",
       "      <th>1229</th>\n",
       "      <td>Return of the Jedi (1983)</td>\n",
       "      <td>4.040865</td>\n",
       "      <td>416</td>\n",
       "      <td>181</td>\n",
       "      <td>0</td>\n",
       "      <td>1</td>\n",
       "      <td>1</td>\n",
       "      <td>0</td>\n",
       "      <td>0</td>\n",
       "      <td>0</td>\n",
       "      <td>...</td>\n",
       "      <td>0</td>\n",
       "      <td>0</td>\n",
       "      <td>0</td>\n",
       "      <td>0</td>\n",
       "      <td>0</td>\n",
       "      <td>1</td>\n",
       "      <td>1</td>\n",
       "      <td>0</td>\n",
       "      <td>1</td>\n",
       "      <td>0</td>\n",
       "    </tr>\n",
       "    <tr>\n",
       "      <th>499</th>\n",
       "      <td>Fargo (1996)</td>\n",
       "      <td>4.181360</td>\n",
       "      <td>397</td>\n",
       "      <td>100</td>\n",
       "      <td>0</td>\n",
       "      <td>0</td>\n",
       "      <td>0</td>\n",
       "      <td>0</td>\n",
       "      <td>0</td>\n",
       "      <td>0</td>\n",
       "      <td>...</td>\n",
       "      <td>0</td>\n",
       "      <td>0</td>\n",
       "      <td>0</td>\n",
       "      <td>0</td>\n",
       "      <td>0</td>\n",
       "      <td>0</td>\n",
       "      <td>0</td>\n",
       "      <td>1</td>\n",
       "      <td>0</td>\n",
       "      <td>0</td>\n",
       "    </tr>\n",
       "    <tr>\n",
       "      <th>1279</th>\n",
       "      <td>Scream (1996)</td>\n",
       "      <td>3.464103</td>\n",
       "      <td>390</td>\n",
       "      <td>288</td>\n",
       "      <td>0</td>\n",
       "      <td>0</td>\n",
       "      <td>0</td>\n",
       "      <td>0</td>\n",
       "      <td>0</td>\n",
       "      <td>0</td>\n",
       "      <td>...</td>\n",
       "      <td>0</td>\n",
       "      <td>0</td>\n",
       "      <td>1</td>\n",
       "      <td>0</td>\n",
       "      <td>0</td>\n",
       "      <td>0</td>\n",
       "      <td>0</td>\n",
       "      <td>1</td>\n",
       "      <td>0</td>\n",
       "      <td>0</td>\n",
       "    </tr>\n",
       "    <tr>\n",
       "      <th>462</th>\n",
       "      <td>English Patient, The (1996)</td>\n",
       "      <td>3.649867</td>\n",
       "      <td>377</td>\n",
       "      <td>286</td>\n",
       "      <td>0</td>\n",
       "      <td>0</td>\n",
       "      <td>0</td>\n",
       "      <td>0</td>\n",
       "      <td>0</td>\n",
       "      <td>0</td>\n",
       "      <td>...</td>\n",
       "      <td>0</td>\n",
       "      <td>0</td>\n",
       "      <td>0</td>\n",
       "      <td>0</td>\n",
       "      <td>0</td>\n",
       "      <td>1</td>\n",
       "      <td>0</td>\n",
       "      <td>0</td>\n",
       "      <td>1</td>\n",
       "      <td>0</td>\n",
       "    </tr>\n",
       "    <tr>\n",
       "      <th>859</th>\n",
       "      <td>Liar Liar (1997)</td>\n",
       "      <td>3.147453</td>\n",
       "      <td>373</td>\n",
       "      <td>294</td>\n",
       "      <td>0</td>\n",
       "      <td>0</td>\n",
       "      <td>0</td>\n",
       "      <td>0</td>\n",
       "      <td>0</td>\n",
       "      <td>1</td>\n",
       "      <td>...</td>\n",
       "      <td>0</td>\n",
       "      <td>0</td>\n",
       "      <td>0</td>\n",
       "      <td>0</td>\n",
       "      <td>0</td>\n",
       "      <td>0</td>\n",
       "      <td>0</td>\n",
       "      <td>0</td>\n",
       "      <td>0</td>\n",
       "      <td>0</td>\n",
       "    </tr>\n",
       "    <tr>\n",
       "      <th>1514</th>\n",
       "      <td>Toy Story (1995)</td>\n",
       "      <td>3.870423</td>\n",
       "      <td>355</td>\n",
       "      <td>1</td>\n",
       "      <td>0</td>\n",
       "      <td>0</td>\n",
       "      <td>0</td>\n",
       "      <td>1</td>\n",
       "      <td>1</td>\n",
       "      <td>1</td>\n",
       "      <td>...</td>\n",
       "      <td>0</td>\n",
       "      <td>0</td>\n",
       "      <td>0</td>\n",
       "      <td>0</td>\n",
       "      <td>0</td>\n",
       "      <td>0</td>\n",
       "      <td>0</td>\n",
       "      <td>0</td>\n",
       "      <td>0</td>\n",
       "      <td>0</td>\n",
       "    </tr>\n",
       "    <tr>\n",
       "      <th>744</th>\n",
       "      <td>Independence Day (ID4) (1996)</td>\n",
       "      <td>3.466077</td>\n",
       "      <td>339</td>\n",
       "      <td>121</td>\n",
       "      <td>0</td>\n",
       "      <td>1</td>\n",
       "      <td>0</td>\n",
       "      <td>0</td>\n",
       "      <td>0</td>\n",
       "      <td>0</td>\n",
       "      <td>...</td>\n",
       "      <td>0</td>\n",
       "      <td>0</td>\n",
       "      <td>0</td>\n",
       "      <td>0</td>\n",
       "      <td>0</td>\n",
       "      <td>0</td>\n",
       "      <td>1</td>\n",
       "      <td>0</td>\n",
       "      <td>1</td>\n",
       "      <td>0</td>\n",
       "    </tr>\n",
       "    <tr>\n",
       "      <th>32</th>\n",
       "      <td>Air Force One (1997)</td>\n",
       "      <td>3.650602</td>\n",
       "      <td>332</td>\n",
       "      <td>300</td>\n",
       "      <td>0</td>\n",
       "      <td>1</td>\n",
       "      <td>0</td>\n",
       "      <td>0</td>\n",
       "      <td>0</td>\n",
       "      <td>0</td>\n",
       "      <td>...</td>\n",
       "      <td>0</td>\n",
       "      <td>0</td>\n",
       "      <td>0</td>\n",
       "      <td>0</td>\n",
       "      <td>0</td>\n",
       "      <td>0</td>\n",
       "      <td>0</td>\n",
       "      <td>1</td>\n",
       "      <td>0</td>\n",
       "      <td>0</td>\n",
       "    </tr>\n",
       "  </tbody>\n",
       "</table>\n",
       "<p>10 rows × 23 columns</p>\n",
       "</div>"
      ],
      "text/plain": [
       "                              title    rating  count  item  unknown  Action  \\\n",
       "1390               Star Wars (1977)  4.366316    475    50        0       1   \n",
       "334                  Contact (1997)  3.806220    418   258        0       0   \n",
       "1229      Return of the Jedi (1983)  4.040865    416   181        0       1   \n",
       "499                    Fargo (1996)  4.181360    397   100        0       0   \n",
       "1279                  Scream (1996)  3.464103    390   288        0       0   \n",
       "462     English Patient, The (1996)  3.649867    377   286        0       0   \n",
       "859                Liar Liar (1997)  3.147453    373   294        0       0   \n",
       "1514               Toy Story (1995)  3.870423    355     1        0       0   \n",
       "744   Independence Day (ID4) (1996)  3.466077    339   121        0       1   \n",
       "32             Air Force One (1997)  3.650602    332   300        0       1   \n",
       "\n",
       "      Adventure  Animation  Children's  Comedy  ...  Fantasy  Film-Noir  \\\n",
       "1390          1          0           0       0  ...        0          0   \n",
       "334           0          0           0       0  ...        0          0   \n",
       "1229          1          0           0       0  ...        0          0   \n",
       "499           0          0           0       0  ...        0          0   \n",
       "1279          0          0           0       0  ...        0          0   \n",
       "462           0          0           0       0  ...        0          0   \n",
       "859           0          0           0       1  ...        0          0   \n",
       "1514          0          1           1       1  ...        0          0   \n",
       "744           0          0           0       0  ...        0          0   \n",
       "32            0          0           0       0  ...        0          0   \n",
       "\n",
       "      Horror  Musical  Mystery  Romance  Sci-Fi  Thriller  War  Western  \n",
       "1390       0        0        0        1       1         0    1        0  \n",
       "334        0        0        0        0       1         0    0        0  \n",
       "1229       0        0        0        1       1         0    1        0  \n",
       "499        0        0        0        0       0         1    0        0  \n",
       "1279       1        0        0        0       0         1    0        0  \n",
       "462        0        0        0        1       0         0    1        0  \n",
       "859        0        0        0        0       0         0    0        0  \n",
       "1514       0        0        0        0       0         0    0        0  \n",
       "744        0        0        0        0       1         0    1        0  \n",
       "32         0        0        0        0       0         1    0        0  \n",
       "\n",
       "[10 rows x 23 columns]"
      ]
     },
     "execution_count": 26,
     "metadata": {},
     "output_type": "execute_result"
    }
   ],
   "source": [
    "ratings = pd.DataFrame(train_data_movies.groupby('title')['rating'].mean())\n",
    "ratings['count'] = pd.DataFrame(train_data_movies.groupby('title')['rating'].count())\n",
    "ratings = pd.merge(ratings, movies, on='title')\n",
    "ratings.sort_values(by='count', ascending=False).head(10)"
   ]
  },
  {
   "cell_type": "code",
   "execution_count": 27,
   "metadata": {},
   "outputs": [
    {
     "data": {
      "image/png": "[encoded data removed]",
      "text/plain": [
       "<Figure size 1080x432 with 1 Axes>"
      ]
     },
     "metadata": {
      "needs_background": "light"
     },
     "output_type": "display_data"
    }
   ],
   "source": [
    "plt.figure(figsize=(15, 6))\n",
    "ratings['rating'].hist(bins=80, rwidth=0.8, color='orange')\n",
    "plt.xlabel('Ocena')\n",
    "plt.ylabel('Broj ocena')\n",
    "plt.title('Prosečne ocene filmova')\n",
    "plt.show()"
   ]
  },
  {
   "cell_type": "code",
   "execution_count": 28,
   "metadata": {},
   "outputs": [
    {
     "data": {
      "image/png": "[encoded data removed]",
      "text/plain": [
       "<Figure size 1080x720 with 1 Axes>"
      ]
     },
     "metadata": {
      "needs_background": "light"
     },
     "output_type": "display_data"
    }
   ],
   "source": [
    "plt.figure(figsize=(15, 10))\n",
    "plt.scatter(x = ratings['rating'], y = ratings['count'])\n",
    "plt.xlabel('Ocena')\n",
    "plt.ylabel('Broj ocena')\n",
    "plt.show()"
   ]
  },
  {
   "cell_type": "code",
   "execution_count": 29,
   "metadata": {},
   "outputs": [],
   "source": [
    "number_of_ratings_for_genre = {}\n",
    "for x in genres['genre']:\n",
    "    number_of_ratings_for_genre[x] = len(np.where(np.array(train_data_movies[x]) == 1)[0])"
   ]
  },
  {
   "cell_type": "code",
   "execution_count": 30,
   "metadata": {},
   "outputs": [
    {
     "data": {
      "text/plain": [
       "{'unknown': 8,\n",
       " 'Action': 20349,\n",
       " 'Adventure': 10920,\n",
       " 'Animation': 2861,\n",
       " \"Children's\": 5740,\n",
       " 'Comedy': 23782,\n",
       " 'Crime': 6448,\n",
       " 'Documentary': 624,\n",
       " 'Drama': 32008,\n",
       " 'Fantasy': 1082,\n",
       " 'Film-Noir': 1391,\n",
       " 'Horror': 4292,\n",
       " 'Musical': 3967,\n",
       " 'Mystery': 4160,\n",
       " 'Romance': 15529,\n",
       " 'Sci-Fi': 10217,\n",
       " 'Thriller': 17483,\n",
       " 'War': 7467,\n",
       " 'Western': 1494}"
      ]
     },
     "execution_count": 30,
     "metadata": {},
     "output_type": "execute_result"
    }
   ],
   "source": [
    "number_of_ratings_for_genre"
   ]
  },
  {
   "cell_type": "code",
   "execution_count": 31,
   "metadata": {},
   "outputs": [],
   "source": [
    "average_ratings_for_genres = []\n",
    "\n",
    "for x in genres['genre']:\n",
    "    average_ratings_for_genres.append(ratings[ratings[x].apply(lambda y: y == 1)].mean().rating)"
   ]
  },
  {
   "cell_type": "code",
   "execution_count": 32,
   "metadata": {},
   "outputs": [
    {
     "data": {
      "image/png": "[encoded data removed]",
      "text/plain": [
       "<Figure size 720x432 with 1 Axes>"
      ]
     },
     "metadata": {
      "needs_background": "light"
     },
     "output_type": "display_data"
    }
   ],
   "source": [
    "plt.figure(figsize=(10, 6))\n",
    "plt.scatter(x = average_ratings_for_genres, y = [g for g in genres['genre']], color='green', marker='x')\n",
    "plt.ylabel('Žanr')\n",
    "plt.xlabel('Prosečna ocena')\n",
    "plt.title('Prosečna ocena za svaki žanr')\n",
    "plt.show()"
   ]
  },
  {
   "cell_type": "code",
   "execution_count": 33,
   "metadata": {},
   "outputs": [
    {
     "data": {
      "image/png": "[encoded data removed]",
      "text/plain": [
       "<Figure size 720x432 with 1 Axes>"
      ]
     },
     "metadata": {
      "needs_background": "light"
     },
     "output_type": "display_data"
    }
   ],
   "source": [
    "plt.figure(figsize=(10, 6))\n",
    "plt.barh([g for g in genres['genre']], list(number_of_ratings_for_genre.values()), color='red')\n",
    "plt.title('Broj filmova za svaki žanr')\n",
    "plt.show()"
   ]
  },
  {
   "cell_type": "markdown",
   "metadata": {},
   "source": [
    "### Rad sa podacima"
   ]
  },
  {
   "cell_type": "markdown",
   "metadata": {},
   "source": [
    "Formiramo USER-ITEM matricu nad trening podacima (na drugačiji način nego nad svim podacima, zbog toga što u trening podacima se ne nalaze svi filmovi, a nama je potrebno da ih imamo u toj matrici pa ih dodajemo ovde sa svim vrednostima 0 u matrici)."
   ]
  },
  {
   "cell_type": "code",
   "execution_count": 34,
   "metadata": {},
   "outputs": [
    {
     "data": {
      "text/plain": [
       "(943, 1682)"
      ]
     },
     "execution_count": 34,
     "metadata": {},
     "output_type": "execute_result"
    }
   ],
   "source": [
    "ui_matrix_train = np.zeros((number_of_users, number_of_items))\n",
    "for row in train_data.itertuples():\n",
    "    ui_matrix_train[row[1]-1, row[2]-2] = row[3]\n",
    "    \n",
    "ui_matrix_train.shape"
   ]
  },
  {
   "cell_type": "code",
   "execution_count": 35,
   "metadata": {},
   "outputs": [
    {
     "data": {
      "text/plain": [
       "array([[3., 0., 3., ..., 0., 0., 5.],\n",
       "       [0., 0., 0., ..., 0., 0., 4.],\n",
       "       [0., 0., 0., ..., 0., 0., 0.],\n",
       "       ...,\n",
       "       [0., 0., 0., ..., 0., 0., 0.],\n",
       "       [0., 0., 0., ..., 0., 0., 0.],\n",
       "       [0., 0., 0., ..., 0., 0., 0.]])"
      ]
     },
     "execution_count": 35,
     "metadata": {},
     "output_type": "execute_result"
    }
   ],
   "source": [
    "ui_matrix_train"
   ]
  },
  {
   "cell_type": "markdown",
   "metadata": {},
   "source": [
    "Ukupno svih filmova imamo 1682, a u trening skupu ih imamo 1650."
   ]
  },
  {
   "cell_type": "code",
   "execution_count": 36,
   "metadata": {},
   "outputs": [
    {
     "data": {
      "text/plain": [
       "1682"
      ]
     },
     "execution_count": 36,
     "metadata": {},
     "output_type": "execute_result"
    }
   ],
   "source": [
    "number_of_items"
   ]
  },
  {
   "cell_type": "code",
   "execution_count": 37,
   "metadata": {},
   "outputs": [
    {
     "data": {
      "text/plain": [
       "1650"
      ]
     },
     "execution_count": 37,
     "metadata": {},
     "output_type": "execute_result"
    }
   ],
   "source": [
    "train_data['item'].unique().shape[0]"
   ]
  },
  {
   "cell_type": "markdown",
   "metadata": {},
   "source": [
    "Broj različitih korisnika u trening skupu."
   ]
  },
  {
   "cell_type": "code",
   "execution_count": 38,
   "metadata": {},
   "outputs": [
    {
     "data": {
      "text/plain": [
       "943"
      ]
     },
     "execution_count": 38,
     "metadata": {},
     "output_type": "execute_result"
    }
   ],
   "source": [
    "train_data['user'].unique().shape[0]"
   ]
  },
  {
   "cell_type": "markdown",
   "metadata": {},
   "source": [
    "Broj različitih korisnika u test skupu."
   ]
  },
  {
   "cell_type": "code",
   "execution_count": 39,
   "metadata": {},
   "outputs": [
    {
     "data": {
      "text/plain": [
       "927"
      ]
     },
     "execution_count": 39,
     "metadata": {},
     "output_type": "execute_result"
    }
   ],
   "source": [
    "test_data['user'].unique().shape[0]"
   ]
  },
  {
   "cell_type": "markdown",
   "metadata": {},
   "source": [
    "Računamo vrednost kovarijanse između dva korisnika na osnovu sledeće formule:\n",
    "\n",
    "\\begin{align}\n",
    " cov(u_{i}, u_{j}) = \\frac{1}{|I|}\\sum_{k \\in (I_{i} \\cap I_{j})} r_{ik} \\bullet r_{jk} - \\frac{1}{|I|^2} \\sum_{k \\in I} r_{ik} \\bullet \\sum_{k \\in I} r_{jk}\n",
    "\\end{align}"
   ]
  },
  {
   "cell_type": "code",
   "execution_count": 40,
   "metadata": {},
   "outputs": [],
   "source": [
    "def calculate_covariance_between_users(ui_matrix, i, j):\n",
    "    if (i != j):\n",
    "        ratings_i = ui_matrix[i,:]\n",
    "        ratings_j = ui_matrix[j,:]\n",
    "    \n",
    "        common_items = (ratings_i != 0) & (ratings_j != 0)\n",
    "    \n",
    "        part1 = np.sum(ratings_i[common_items]*ratings_j[common_items])*(1/number_of_items)\n",
    "        part2 = np.sum(ratings_i)*np.sum(ratings_j)*(1/(number_of_items**2))\n",
    "    \n",
    "        return part1 - part2\n",
    "    else:\n",
    "        return float('inf')"
   ]
  },
  {
   "cell_type": "code",
   "execution_count": 41,
   "metadata": {},
   "outputs": [
    {
     "data": {
      "text/plain": [
       "0.02810410572318498"
      ]
     },
     "execution_count": 41,
     "metadata": {},
     "output_type": "execute_result"
    }
   ],
   "source": [
    "calculate_covariance_between_users(ui_matrix_train, 1, 2)"
   ]
  },
  {
   "cell_type": "code",
   "execution_count": 42,
   "metadata": {},
   "outputs": [
    {
     "data": {
      "text/plain": [
       "0.02810410572318498"
      ]
     },
     "execution_count": 42,
     "metadata": {},
     "output_type": "execute_result"
    }
   ],
   "source": [
    "calculate_covariance_between_users(ui_matrix_train, 2, 1)"
   ]
  },
  {
   "cell_type": "code",
   "execution_count": 43,
   "metadata": {},
   "outputs": [
    {
     "data": {
      "text/plain": [
       "-0.005423586947761922"
      ]
     },
     "execution_count": 43,
     "metadata": {},
     "output_type": "execute_result"
    }
   ],
   "source": [
    "calculate_covariance_between_users(ui_matrix_train, 100, 99)"
   ]
  },
  {
   "cell_type": "markdown",
   "metadata": {},
   "source": [
    "Formiramo matricu kovarijanse za svaka dva korisnika koristeći prethodno definisanu funkciju koja računa kovarijansu između dva korisnika. S obzirom na to da je matrica simetrična, dovoljno je računati samo pola matrice."
   ]
  },
  {
   "cell_type": "code",
   "execution_count": 44,
   "metadata": {},
   "outputs": [],
   "source": [
    "covariance_matrix = np.zeros((number_of_users, number_of_users))\n",
    "for i in range(number_of_users):\n",
    "    for j in range(i, number_of_users):\n",
    "        covariance_matrix[i, j] = calculate_covariance_between_users(ui_matrix_train, i, j)\n",
    "        covariance_matrix[j, i] = covariance_matrix[i, j]"
   ]
  },
  {
   "cell_type": "code",
   "execution_count": 45,
   "metadata": {},
   "outputs": [
    {
     "data": {
      "text/plain": [
       "array([[        inf,  0.08897065, -0.00485168, ...,  0.05728734,\n",
       "         0.04224771,  0.15679765],\n",
       "       [ 0.08897065,         inf,  0.02810411, ...,  0.00480043,\n",
       "         0.03985191,  0.02822358],\n",
       "       [-0.00485168,  0.02810411,         inf, ...,  0.01511281,\n",
       "         0.01893378,  0.00109999],\n",
       "       ...,\n",
       "       [ 0.05728734,  0.00480043,  0.01511281, ...,         inf,\n",
       "         0.01042231,  0.0308364 ],\n",
       "       [ 0.04224771,  0.03985191,  0.01893378, ...,  0.01042231,\n",
       "                inf,  0.01989096],\n",
       "       [ 0.15679765,  0.02822358,  0.00109999, ...,  0.0308364 ,\n",
       "         0.01989096,         inf]])"
      ]
     },
     "execution_count": 45,
     "metadata": {},
     "output_type": "execute_result"
    }
   ],
   "source": [
    "covariance_matrix"
   ]
  },
  {
   "cell_type": "code",
   "execution_count": 46,
   "metadata": {},
   "outputs": [
    {
     "data": {
      "text/plain": [
       "0.03911952957876713"
      ]
     },
     "execution_count": 46,
     "metadata": {},
     "output_type": "execute_result"
    }
   ],
   "source": [
    "covariance_matrix[10, 20]"
   ]
  },
  {
   "cell_type": "code",
   "execution_count": 47,
   "metadata": {},
   "outputs": [
    {
     "data": {
      "text/plain": [
       "0.03911952957876713"
      ]
     },
     "execution_count": 47,
     "metadata": {},
     "output_type": "execute_result"
    }
   ],
   "source": [
    "covariance_matrix[20, 10]"
   ]
  },
  {
   "cell_type": "code",
   "execution_count": 48,
   "metadata": {},
   "outputs": [
    {
     "data": {
      "text/plain": [
       "0.15679765185265826"
      ]
     },
     "execution_count": 48,
     "metadata": {},
     "output_type": "execute_result"
    }
   ],
   "source": [
    "covariance_matrix[942, 0]"
   ]
  },
  {
   "cell_type": "code",
   "execution_count": 49,
   "metadata": {},
   "outputs": [
    {
     "data": {
      "text/plain": [
       "0.15679765185265826"
      ]
     },
     "execution_count": 49,
     "metadata": {},
     "output_type": "execute_result"
    }
   ],
   "source": [
    "covariance_matrix[0, 942]"
   ]
  },
  {
   "cell_type": "markdown",
   "metadata": {},
   "source": [
    "Definišemo funkciju koja vraća K najličnijih korisnika korisniku koji se prosleđuje kao argument."
   ]
  },
  {
   "cell_type": "code",
   "execution_count": 50,
   "metadata": {},
   "outputs": [],
   "source": [
    "def GetKSimilarUser(user_i, K):\n",
    "    user_values = covariance_matrix[user_i,:]\n",
    "    values = user_values.argsort()[-K-1:]\n",
    "    \n",
    "    return values[0:K]"
   ]
  },
  {
   "cell_type": "code",
   "execution_count": 51,
   "metadata": {},
   "outputs": [
    {
     "name": "stdout",
     "output_type": "stream",
     "text": [
      "[386 267  93 434 307  58  91 456 302 275]\n",
      "0.7520578808139904\n",
      "0.7568017520617689\n",
      "0.7627799276383784\n",
      "0.7700984474346122\n",
      "0.7717349964158516\n",
      "0.8008478949667812\n",
      "0.8035416616592275\n",
      "0.8105590281656088\n",
      "0.8373885344014611\n",
      "0.887652856502578\n"
     ]
    }
   ],
   "source": [
    "print(GetKSimilarUser(0, 10))\n",
    "for i in GetKSimilarUser(0,10):\n",
    "    print(covariance_matrix[0, i])"
   ]
  },
  {
   "cell_type": "markdown",
   "metadata": {},
   "source": [
    "Definišemo funkciju koja vraća K najrazličitijih korisnika korisniku koji se prosleđuje kao argument."
   ]
  },
  {
   "cell_type": "code",
   "execution_count": 52,
   "metadata": {},
   "outputs": [],
   "source": [
    "def GetKDSimilarUser(user_i, K):\n",
    "    user_values = covariance_matrix[user_i,:]\n",
    "    \n",
    "    return user_values.argsort()[:K]"
   ]
  },
  {
   "cell_type": "markdown",
   "metadata": {},
   "source": [
    "Formiramo niz koji za svakog korisnika iz trening skupa sadrži prosek ocena koje je dao filmovima koje je gledao."
   ]
  },
  {
   "cell_type": "code",
   "execution_count": 54,
   "metadata": {},
   "outputs": [
    {
     "data": {
      "text/plain": [
       "array([3.59760956, 3.67241379, 2.74509804, 4.27272727, 2.87116564,\n",
       "       3.64141414, 3.95263158, 3.89090909, 4.25      , 4.19277108,\n",
       "       3.48795181, 4.42553191, 3.1042735 , 4.06666667, 2.88      ,\n",
       "       4.35114504, 2.96      , 3.85490196, 3.57894737, 2.97560976,\n",
       "       2.6       , 3.33898305, 3.65714286, 4.32758621, 4.05882353,\n",
       "       3.        , 3.13043478, 3.73972603, 3.64705882, 3.71052632,\n",
       "       3.91176471, 3.27027027, 3.68181818, 4.26666667, 3.        ,\n",
       "       3.8       , 3.66666667, 3.69811321, 3.63157895, 2.90909091,\n",
       "       3.70454545, 3.73684211, 3.72857143, 3.62222222, 3.61363636,\n",
       "       4.04      , 3.54545455, 3.82258065, 2.65425532, 3.54166667,\n",
       "       3.56521739, 4.25      , 3.77777778, 3.703125  , 3.26315789,\n",
       "       3.66091954, 3.47      , 3.8028169 , 3.98305085, 4.08629442,\n",
       "       3.05      , 3.28504673, 3.15662651, 3.56756757, 3.88888889,\n",
       "       3.44117647, 3.74074074, 3.09090909, 3.87301587, 3.50833333,\n",
       "       3.8       , 3.84251969, 3.72881356, 3.69444444, 3.27027027,\n",
       "       3.56      , 3.59375   , 3.35      , 3.94230769, 3.7037037 ,\n",
       "       3.27272727, 3.00645161, 3.42465753, 3.84375   , 3.54044118,\n",
       "       3.45      , 3.82474227, 3.9       , 4.02857143, 4.22614841,\n",
       "       3.86666667, 3.26330532, 3.35294118, 3.64945652, 3.4296875 ,\n",
       "       4.26923077, 4.13114754, 3.48      , 3.5       , 3.01886792,\n",
       "       2.90322581, 2.5990099 , 3.59259259, 2.69230769, 3.5       ,\n",
       "       3.77586207, 3.        , 3.57575758, 3.47685185, 3.04132231,\n",
       "       3.52173913, 3.64285714, 3.69565217, 3.56097561, 3.8875    ,\n",
       "       3.01526718, 3.93670886, 4.68181818, 3.93333333, 3.56521739,\n",
       "       3.63235294, 3.94642857, 3.93877551, 3.52173913, 3.39181287,\n",
       "       3.56097561, 4.13043478, 3.63276836, 2.62068966, 3.9695122 ,\n",
       "       4.10344828, 3.77777778, 3.16666667, 3.625     , 3.40384615,\n",
       "       4.36363636, 4.35555556, 4.27083333, 3.90909091, 3.35294118,\n",
       "       3.4       , 3.60714286, 4.        , 3.65803109, 3.33916084,\n",
       "       3.84      , 4.16666667, 4.01639344, 2.94117647, 3.83333333,\n",
       "       3.9754386 , 4.37755102, 3.        , 3.91304348, 2.72222222,\n",
       "       3.75      , 3.73913043, 3.80379747, 3.41304348, 3.92592593,\n",
       "       2.6       , 3.6       , 3.33333333, 4.11666667, 4.        ,\n",
       "       3.55      , 3.32786885, 3.34375   , 4.        , 3.71428571,\n",
       "       3.46153846, 3.18518519, 4.25      , 3.54878049, 3.71875   ,\n",
       "       3.72413793, 3.58095238, 3.67857143, 3.07692308, 3.96491228,\n",
       "       1.4950495 , 3.85185185, 3.24489796, 3.65966387, 4.06666667,\n",
       "       3.45238095, 4.09615385, 3.78095238, 3.96470588, 3.33962264,\n",
       "       3.62962963, 3.5483871 , 3.14159292, 2.95862069, 3.26966292,\n",
       "       3.68421053, 3.33035714, 3.23952096, 3.        , 4.0625    ,\n",
       "       3.05      , 2.83333333, 3.48717949, 3.44736842, 2.85714286,\n",
       "       2.25      , 3.25909091, 3.80645161, 3.23333333, 4.06299213,\n",
       "       3.14705882, 3.92      , 4.23478261, 3.90833333, 3.77419355,\n",
       "       3.81512605, 2.92957746, 3.60416667, 3.66666667, 3.77272727,\n",
       "       3.65413534, 3.05524862, 2.96907216, 2.96124031, 4.5       ,\n",
       "       3.86363636, 3.42592593, 3.21052632, 2.68965517, 3.83471074,\n",
       "       3.65      , 3.89156627, 4.32      , 3.13605442, 3.97777778,\n",
       "       3.49137931, 4.15217391, 3.34615385, 4.22297297, 3.63636364,\n",
       "       3.36363636, 4.38888889, 3.62337662, 3.66968326, 3.23809524,\n",
       "       2.93820225, 3.91304348, 3.62264151, 4.09150327, 3.82727273,\n",
       "       3.77464789, 4.4       , 3.95604396, 3.03355705, 2.5308642 ,\n",
       "       4.00512821, 4.        , 3.61904762, 3.85      , 4.08695652,\n",
       "       4.16      , 3.14666667, 4.03333333, 4.18421053, 3.48780488,\n",
       "       3.35294118, 3.91515152, 2.97106109, 3.        , 4.3515625 ,\n",
       "       3.56420233, 4.3125    , 3.70588235, 4.10447761, 3.11363636,\n",
       "       3.45302714, 3.5       , 4.31818182, 3.32133676, 3.56034483,\n",
       "       3.08695652, 3.52380952, 4.12244898, 3.56818182, 3.96774194,\n",
       "       3.69548872, 4.16666667, 3.875     , 2.875     , 3.35460993,\n",
       "       3.69285714, 4.23684211, 3.03116147, 3.42424242, 4.24064171,\n",
       "       4.17692308, 3.40782123, 4.05785124, 3.44015444, 3.73684211,\n",
       "       3.54940711, 2.33333333, 3.38426966, 3.39130435, 3.39512195,\n",
       "       3.89285714, 3.82075472, 3.75543478, 3.5       , 3.8       ,\n",
       "       3.81090909, 4.36138614, 3.59016393, 3.68584071, 4.06493506,\n",
       "       3.36619718, 3.61904762, 3.67088608, 3.5       , 3.69230769,\n",
       "       3.72321429, 4.16      , 3.58227848, 4.3220339 , 3.41353383,\n",
       "       3.28915663, 3.35294118, 3.42168675, 3.42372881, 4.48484848,\n",
       "       3.66153846, 4.17682927, 3.84615385, 3.53074434, 3.47619048,\n",
       "       2.90265487, 3.90625   , 3.97142857, 3.995671  , 4.15      ,\n",
       "       3.75      , 3.43575419, 3.97685185, 3.67977528, 3.6509434 ,\n",
       "       3.33707865, 3.6011236 , 3.90909091, 3.14705882, 4.29545455,\n",
       "       4.14634146, 3.79487179, 3.34782609, 3.73271889, 4.04166667,\n",
       "       3.56521739, 4.17391304, 3.64864865, 3.88461538, 3.97916667,\n",
       "       3.81981982, 3.45      , 3.02181818, 3.42105263, 3.39285714,\n",
       "       4.4375    , 4.2037037 , 3.36585366, 3.95238095, 3.67142857,\n",
       "       4.06521739, 4.31666667, 3.71361502, 3.33057851, 3.69230769,\n",
       "       3.77777778, 3.93548387, 3.43620178, 3.98924731, 3.18      ,\n",
       "       3.79310345, 3.46666667, 4.32786885, 4.15      , 3.28735632,\n",
       "       3.68181818, 3.35842294, 4.12765957, 3.74369748, 3.86666667,\n",
       "       3.76190476, 4.00990099, 3.31632653, 3.83606557, 4.0212766 ,\n",
       "       3.40425532, 3.66304348, 3.73154362, 2.93771626, 3.5       ,\n",
       "       3.1119403 , 3.90163934, 3.64285714, 3.39473684, 1.86314152,\n",
       "       3.51020408, 3.45408163, 3.70833333, 3.58469945, 3.        ,\n",
       "       3.74509804, 3.93478261, 3.65909091, 3.7       , 4.18181818,\n",
       "       3.85321101, 3.24556213, 2.9       , 4.26923077, 4.13333333,\n",
       "       3.98148148, 3.48863636, 3.5       , 3.54285714, 2.92134831,\n",
       "       3.82222222, 4.59259259, 3.85106383, 3.39495798, 3.54545455,\n",
       "       3.33333333, 3.64285714, 3.53846154, 3.7       , 3.30538922,\n",
       "       3.7704918 , 3.5907173 , 4.03571429, 3.65517241, 4.15217391,\n",
       "       3.52941176, 3.14516129, 3.65      , 3.79166667, 2.        ,\n",
       "       2.75862069, 3.59677419, 3.34375   , 3.74603175, 3.873706  ,\n",
       "       2.74698795, 3.42458101, 3.31343284, 3.01913876, 3.50299401,\n",
       "       3.45833333, 4.0242915 , 3.69426752, 3.35294118, 3.49122807,\n",
       "       3.04545455, 4.03571429, 2.83760684, 4.04347826, 3.41428571,\n",
       "       3.45348837, 3.7       , 3.98290598, 4.55263158, 3.65306122,\n",
       "       3.6       , 4.2034632 , 3.80645161, 4.10652921, 3.71428571,\n",
       "       3.38666667, 4.37931034, 3.36956522, 3.44508671, 3.72727273,\n",
       "       3.94117647, 3.5       , 3.02083333, 3.97413793, 2.86956522,\n",
       "       3.20134228, 3.64622642, 3.37984496, 3.73404255, 2.76595745,\n",
       "       3.88888889, 3.59090909, 3.82786885, 3.78378378, 3.94413408,\n",
       "       3.08849558, 3.15450644, 3.3030303 , 3.89130435, 3.32642487,\n",
       "       3.76271186, 3.        , 3.94160584, 3.62980769, 3.3814433 ,\n",
       "       3.62980769, 4.68085106, 3.83333333, 2.44      , 2.76923077,\n",
       "       3.85      , 4.3       , 4.33333333, 3.80722892, 2.96969697,\n",
       "       4.05882353, 3.30769231, 3.62903226, 4.15384615, 3.47619048,\n",
       "       3.12396694, 4.37037037, 4.32098765, 3.45454545, 3.28888889,\n",
       "       3.13207547, 3.85      , 3.69767442, 3.65625   , 3.84210526,\n",
       "       3.24      , 4.1416309 , 3.3952381 , 4.04411765, 3.96089385,\n",
       "       3.8358209 , 2.84090909, 3.68656716, 3.9787234 , 3.69387755,\n",
       "       3.58095238, 3.48648649, 3.53012048, 2.61904762, 3.55474453,\n",
       "       3.84782609, 3.78947368, 3.70588235, 3.84210526, 3.625     ,\n",
       "       3.80514706, 3.06849315, 4.11111111, 3.58947368, 4.02564103,\n",
       "       4.32352941, 3.76595745, 4.13333333, 3.73770492, 3.37974684,\n",
       "       3.07142857, 3.5       , 3.80952381, 3.43333333, 4.5625    ,\n",
       "       3.48275862, 3.92063492, 3.3125    , 3.51724138, 2.75      ,\n",
       "       3.6875    , 3.28571429, 3.7804878 , 3.57142857, 2.9047619 ,\n",
       "       3.4137931 , 3.79333333, 2.47058824, 3.49180328, 3.5       ,\n",
       "       3.90909091, 3.34090909, 4.36842105, 3.47368421, 3.73529412,\n",
       "       3.29850746, 3.01176471, 3.73255814, 3.53125   , 3.48571429,\n",
       "       3.73134328, 3.83571429, 3.65      , 3.29411765, 3.20481928,\n",
       "       3.46666667, 3.6       , 3.6875    , 3.91891892, 3.63157895,\n",
       "       3.00806452, 3.92      , 3.77142857, 3.36363636, 3.72      ,\n",
       "       4.        , 3.82758621, 3.65467626, 2.14285714, 3.71666667,\n",
       "       3.8       , 3.64705882, 4.31818182, 3.20689655, 4.        ,\n",
       "       3.67647059, 2.57142857, 3.30994152, 3.56521739, 3.83333333,\n",
       "       3.56617647, 3.38690476, 3.78378378, 3.51376147, 3.4047619 ,\n",
       "       2.5       , 3.24113475, 4.72      , 4.13684211, 3.34065934,\n",
       "       3.25      , 3.70588235, 3.24390244, 3.35514019, 3.16666667,\n",
       "       4.35714286, 2.51136364, 3.53846154, 2.99152542, 4.28888889,\n",
       "       4.10344828, 3.6446281 , 3.7615894 , 4.        , 3.95505618,\n",
       "       2.95238095, 3.76744186, 3.25531915, 3.73684211, 3.12605042,\n",
       "       3.2       , 3.05555556, 2.72195122, 3.75652174, 2.9082218 ,\n",
       "       2.61904762, 3.42105263, 3.76785714, 3.73880597, 2.50898204,\n",
       "       3.92473118, 3.66666667, 3.56637168, 3.76      , 3.53043478,\n",
       "       3.65306122, 3.82857143, 3.54285714, 3.25373134, 3.80645161,\n",
       "       3.38888889, 3.375     , 3.86956522, 3.62162162, 3.91666667,\n",
       "       3.51612903, 3.45454545, 3.41176471, 3.60465116, 3.85185185,\n",
       "       3.25      , 3.12582781, 3.24074074, 3.46478873, 2.07692308,\n",
       "       4.57407407, 3.64285714, 4.78947368, 3.82758621, 3.20689655,\n",
       "       4.11764706, 3.19354839, 3.12711864, 4.10833333, 3.45833333,\n",
       "       3.91666667, 3.82191781, 2.88888889, 3.13913043, 3.75      ,\n",
       "       4.23809524, 2.60869565, 3.47222222, 3.74603175, 3.74418605,\n",
       "       3.26086957, 3.4619883 , 3.30136986, 3.55670103, 3.70689655,\n",
       "       3.85889571, 3.77165354, 3.07692308, 3.66666667, 3.43362832,\n",
       "       3.91935484, 3.64285714, 3.6       , 3.13636364, 3.86363636,\n",
       "       3.53982301, 3.58333333, 3.18181818, 2.08196721, 3.8125    ,\n",
       "       2.8125    , 3.05627706, 3.73684211, 3.17647059, 3.13793103,\n",
       "       3.39655172, 3.5       , 3.03947368, 3.64285714, 3.34210526,\n",
       "       3.04761905, 4.        , 3.71962617, 3.68965517, 3.57142857,\n",
       "       3.36      , 3.33333333, 3.68      , 3.875     , 3.27272727,\n",
       "       3.63636364, 4.06403941, 3.72857143, 3.71717172, 3.23076923,\n",
       "       3.58333333, 3.28571429, 3.65789474, 3.4       , 2.92307692,\n",
       "       3.16901408, 3.37931034, 3.93775934, 4.2       , 3.03703704,\n",
       "       2.97727273, 3.28571429, 3.89411765, 3.77777778, 3.9375    ,\n",
       "       3.4017094 , 4.30769231, 3.45      , 3.05882353, 4.26829268,\n",
       "       3.7173913 , 3.88888889, 3.33980583, 2.08219178, 3.76190476,\n",
       "       3.4137931 , 3.77272727, 3.08695652, 3.84210526, 3.725     ,\n",
       "       3.7037037 , 2.70344828, 4.        , 3.82608696, 3.61538462,\n",
       "       3.87012987, 3.15      , 3.31012658, 3.52380952, 3.08666667,\n",
       "       3.82352941, 3.3030303 , 3.63333333, 4.23809524, 3.18478261,\n",
       "       3.58951965, 2.5625    , 3.23448276, 4.06666667, 3.68421053,\n",
       "       4.33333333, 3.38297872, 3.10526316, 3.64563107, 3.43209877,\n",
       "       3.65333333, 3.83870968, 3.92857143, 3.7       , 4.5625    ,\n",
       "       4.2       , 3.21428571, 2.2       , 3.22222222, 3.69      ,\n",
       "       3.76923077, 3.27272727, 3.28571429, 4.29411765, 3.        ,\n",
       "       4.37837838, 2.9375    , 3.99090909, 2.8       , 3.62337662,\n",
       "       3.8115942 , 3.33333333, 3.16129032, 3.61290323, 3.74285714,\n",
       "       3.55319149, 2.93333333, 3.08053691, 4.15384615, 4.30909091,\n",
       "       3.93103448, 3.32      , 4.04      , 3.08823529, 4.11538462,\n",
       "       3.61111111, 3.4       , 2.73684211, 3.47727273, 3.23809524,\n",
       "       3.74208145, 3.02564103, 4.23611111, 4.84615385, 4.625     ,\n",
       "       3.37623762, 3.62962963, 2.93333333, 3.30172414, 3.2       ,\n",
       "       3.46153846, 3.38888889, 3.2       , 4.        , 3.27777778,\n",
       "       4.15789474, 4.22222222, 3.21311475, 3.77536232, 2.46428571,\n",
       "       2.75      , 4.2       , 3.01886792, 2.65      , 3.44347826,\n",
       "       3.47457627, 3.60714286, 3.8       , 3.61538462, 4.27272727,\n",
       "       4.25      , 3.68292683, 3.36363636, 3.83333333, 3.38650307,\n",
       "       3.46666667, 4.07017544, 3.97297297, 3.66666667, 3.63636364,\n",
       "       3.19811321, 3.85135135, 4.5       , 3.47770701, 3.54716981,\n",
       "       4.18181818, 4.07594937, 3.53846154, 3.59813084, 4.        ,\n",
       "       2.95031056, 4.        , 3.5       , 3.48387097, 2.625     ,\n",
       "       3.87755102, 3.57894737, 3.73469388, 3.86666667, 3.29411765,\n",
       "       3.94117647, 4.43478261, 3.51612903, 4.25      , 3.22727273,\n",
       "       3.5       , 4.04166667, 3.44444444, 2.91666667, 3.        ,\n",
       "       3.42857143, 4.        , 3.47619048, 3.31034483, 3.36363636,\n",
       "       3.18181818, 3.6875    , 4.11111111, 3.71428571, 3.45454545,\n",
       "       2.875     , 3.62857143, 4.77777778, 3.72222222, 2.69230769,\n",
       "       3.39130435, 3.98648649, 2.67924528, 3.77966102, 4.        ,\n",
       "       3.85      , 3.58333333, 3.        , 3.9375    , 3.41463415,\n",
       "       4.42857143, 4.1875    , 3.61702128])"
      ]
     },
     "execution_count": 54,
     "metadata": {},
     "output_type": "execute_result"
    }
   ],
   "source": [
    "train_users = train_data['user'].unique()\n",
    "average_ratings = np.zeros(number_of_users)\n",
    "\n",
    "for user in train_users:\n",
    "    average_ratings[user-1] = ui_matrix_train[user-1, ui_matrix_train[user-1, :] != 0].mean()\n",
    "    \n",
    "average_ratings\n",
    "    "
   ]
  },
  {
   "cell_type": "markdown",
   "metadata": {},
   "source": [
    "Predloženi algoritam"
   ]
  },
  {
   "cell_type": "code",
   "execution_count": 55,
   "metadata": {},
   "outputs": [],
   "source": [
    "def CFCM(UI, user_u, alpha, K, N):\n",
    "    Nus = GetKSimilarUser(user_u-1, K)\n",
    "    Nud = GetKDSimilarUser(user_u-1, K)\n",
    "    \n",
    "    # pronalazimo iteme koje korisnik nije ocenio i nad njima primenjujemo algoritam\n",
    "    unrated_items = np.where(UI[user_u-1, :] == 0)[0]\n",
    "    number_of_unrated_items = unrated_items.shape[0]\n",
    "    # rečnik predvidjenih ocena za sve iteme\n",
    "    all_predicted_ratings = {}\n",
    "    # drugo, krace ime za matricu kovarijansi\n",
    "    COV = covariance_matrix\n",
    "    \n",
    "    \n",
    "    for item_i in unrated_items:\n",
    "        \n",
    "        # za racunanje dela iznad razlomacke crte u prvom delu gde se posmatraju slicni\n",
    "        similar = np.zeros(K)\n",
    "        # za racunanje dela ispod razlomacke crte u prvom delu gde se posmatraju slicni\n",
    "        divide_s = np.zeros(K)\n",
    "        # za racunanje dela iznad razlomacke crte u drugom delu gde se posmatraju razliciti\n",
    "        disimilar = np.zeros(K)\n",
    "        # za racunanje dela ispod razlomacke crte u drugom delu gde se posmatraju razliciti\n",
    "        divide_ds = np.zeros(K)\n",
    "    \n",
    "        for i in range(K):\n",
    "            if alpha != 0:\n",
    "                similar[i] = COV[user_u-1, Nus[i]]*(UI[Nus[i],item_i] - average_ratings[Nus[i]])\n",
    "                divide_s[i] = np.abs(COV[user_u-1, Nus[i]])\n",
    "            if alpha != 1:\n",
    "                disimilar[i] = np.abs(COV[user_u-1, Nud[i]])*(UI[Nud[i],item_i] - average_ratings[Nud[i]])\n",
    "                divide_ds[i] = np.abs(COV[user_u-1, Nud[i]])\n",
    "        \n",
    "        # formula iz algoritma\n",
    "        if (alpha != 0 and alpha != 1):\n",
    "            rui = average_ratings[user_u-1] + alpha * (np.sum(similar)/np.sum(divide_s)) + (1-alpha) * (np.sum(disimilar)/np.sum(divide_ds))\n",
    "        elif (alpha == 0):\n",
    "            rui = average_ratings[user_u-1] + (1-alpha) * (np.sum(disimilar)/np.sum(divide_ds))\n",
    "        elif (alpha == 1):\n",
    "            rui = average_ratings[user_u-1] + alpha * (np.sum(similar)/np.sum(divide_s))\n",
    "        \n",
    "        # za svaki element stavljamo u niz\n",
    "        all_predicted_ratings[item_i+1] = rui\n",
    "        #print(rui) \n",
    "        \n",
    "    # uzimamo prvih N najboljih predloga za usera u     \n",
    "    sorted_ratings = sorted(all_predicted_ratings.items(), key=lambda x: x[1], reverse=True)\n",
    "    sorted_i = [rating[0] for rating in sorted_ratings[:N]]\n",
    "    sorted_r = [rating[1] for rating in sorted_ratings[:N]]\n",
    "    \n",
    "    # rezultat je lista parova itema i njihovih ocena\n",
    "    Result = list(zip(sorted_i, sorted_r))\n",
    "    return Result"
   ]
  },
  {
   "cell_type": "code",
   "execution_count": 56,
   "metadata": {},
   "outputs": [
    {
     "data": {
      "text/plain": [
       "[(180, 3.9657762716568192),\n",
       " (402, 3.8009302928252917),\n",
       " (167, 3.7850443038042685),\n",
       " (63, 3.7219008114385272),\n",
       " (11, 3.653603819583163)]"
      ]
     },
     "execution_count": 56,
     "metadata": {},
     "output_type": "execute_result"
    }
   ],
   "source": [
    "CFCM(ui_matrix_train, 200, 0.8, 10, 5)"
   ]
  },
  {
   "cell_type": "code",
   "execution_count": 57,
   "metadata": {},
   "outputs": [
    {
     "data": {
      "text/plain": [
       "[(287, 3.4484021216302247),\n",
       " (356, 3.3964381806427495),\n",
       " (435, 3.312923021785272),\n",
       " (402, 3.24418039218195),\n",
       " (317, 3.1797636574045036)]"
      ]
     },
     "execution_count": 57,
     "metadata": {},
     "output_type": "execute_result"
    }
   ],
   "source": [
    "CFCM(ui_matrix_train, 1, 0.8, 10, 5)"
   ]
  },
  {
   "cell_type": "markdown",
   "metadata": {},
   "source": [
    "Definišemo funkciju koja primenjuje naš algoritam za dato alfa, K i N."
   ]
  },
  {
   "cell_type": "code",
   "execution_count": 58,
   "metadata": {},
   "outputs": [],
   "source": [
    "def recommendToTestUsers(alpha, K, N):\n",
    "    users = test_data['user'].unique()\n",
    "    \n",
    "    R = {}\n",
    "    \n",
    "    for user in users:\n",
    "        R[user] = CFCM(ui_matrix_train, user, alpha = alpha, K = K, N = N)\n",
    "        \n",
    "    return R"
   ]
  },
  {
   "cell_type": "markdown",
   "metadata": {},
   "source": [
    "Za svakog test korisnika vraćamo filmove koje je gledao i ocene koje im je dao."
   ]
  },
  {
   "cell_type": "code",
   "execution_count": 59,
   "metadata": {},
   "outputs": [],
   "source": [
    "def getTestItems():\n",
    "    test_users = test_data['user'].unique()\n",
    "    T = {}\n",
    "    for test_user in test_users:\n",
    "        T[test_user] = list(zip(np.array(test_data[test_data['user'] == test_user]['item']), np.array(test_data[test_data['user'] == test_user]['rating'])))\n",
    "\n",
    "    return T"
   ]
  },
  {
   "cell_type": "code",
   "execution_count": 60,
   "metadata": {
    "scrolled": true
   },
   "outputs": [
    {
     "data": {
      "text/html": [
       "<div>\n",
       "<style scoped>\n",
       "    .dataframe tbody tr th:only-of-type {\n",
       "        vertical-align: middle;\n",
       "    }\n",
       "\n",
       "    .dataframe tbody tr th {\n",
       "        vertical-align: top;\n",
       "    }\n",
       "\n",
       "    .dataframe thead th {\n",
       "        text-align: right;\n",
       "    }\n",
       "</style>\n",
       "<table border=\"1\" class=\"dataframe\">\n",
       "  <thead>\n",
       "    <tr style=\"text-align: right;\">\n",
       "      <th></th>\n",
       "      <th>user</th>\n",
       "      <th>item</th>\n",
       "      <th>rating</th>\n",
       "      <th>timestamp</th>\n",
       "    </tr>\n",
       "  </thead>\n",
       "  <tbody>\n",
       "    <tr>\n",
       "      <th>0</th>\n",
       "      <td>1</td>\n",
       "      <td>3</td>\n",
       "      <td>4</td>\n",
       "      <td>878542960</td>\n",
       "    </tr>\n",
       "    <tr>\n",
       "      <th>1</th>\n",
       "      <td>1</td>\n",
       "      <td>13</td>\n",
       "      <td>5</td>\n",
       "      <td>875071805</td>\n",
       "    </tr>\n",
       "    <tr>\n",
       "      <th>2</th>\n",
       "      <td>1</td>\n",
       "      <td>15</td>\n",
       "      <td>5</td>\n",
       "      <td>875071608</td>\n",
       "    </tr>\n",
       "    <tr>\n",
       "      <th>3</th>\n",
       "      <td>1</td>\n",
       "      <td>18</td>\n",
       "      <td>4</td>\n",
       "      <td>887432020</td>\n",
       "    </tr>\n",
       "    <tr>\n",
       "      <th>4</th>\n",
       "      <td>1</td>\n",
       "      <td>19</td>\n",
       "      <td>5</td>\n",
       "      <td>875071515</td>\n",
       "    </tr>\n",
       "    <tr>\n",
       "      <th>...</th>\n",
       "      <td>...</td>\n",
       "      <td>...</td>\n",
       "      <td>...</td>\n",
       "      <td>...</td>\n",
       "    </tr>\n",
       "    <tr>\n",
       "      <th>19995</th>\n",
       "      <td>943</td>\n",
       "      <td>1028</td>\n",
       "      <td>2</td>\n",
       "      <td>875502096</td>\n",
       "    </tr>\n",
       "    <tr>\n",
       "      <th>19996</th>\n",
       "      <td>943</td>\n",
       "      <td>1044</td>\n",
       "      <td>3</td>\n",
       "      <td>888639903</td>\n",
       "    </tr>\n",
       "    <tr>\n",
       "      <th>19997</th>\n",
       "      <td>943</td>\n",
       "      <td>1047</td>\n",
       "      <td>2</td>\n",
       "      <td>875502146</td>\n",
       "    </tr>\n",
       "    <tr>\n",
       "      <th>19998</th>\n",
       "      <td>943</td>\n",
       "      <td>1228</td>\n",
       "      <td>3</td>\n",
       "      <td>888640275</td>\n",
       "    </tr>\n",
       "    <tr>\n",
       "      <th>19999</th>\n",
       "      <td>943</td>\n",
       "      <td>1330</td>\n",
       "      <td>3</td>\n",
       "      <td>888692465</td>\n",
       "    </tr>\n",
       "  </tbody>\n",
       "</table>\n",
       "<p>20000 rows × 4 columns</p>\n",
       "</div>"
      ],
      "text/plain": [
       "       user  item  rating  timestamp\n",
       "0         1     3       4  878542960\n",
       "1         1    13       5  875071805\n",
       "2         1    15       5  875071608\n",
       "3         1    18       4  887432020\n",
       "4         1    19       5  875071515\n",
       "...     ...   ...     ...        ...\n",
       "19995   943  1028       2  875502096\n",
       "19996   943  1044       3  888639903\n",
       "19997   943  1047       2  875502146\n",
       "19998   943  1228       3  888640275\n",
       "19999   943  1330       3  888692465\n",
       "\n",
       "[20000 rows x 4 columns]"
      ]
     },
     "execution_count": 60,
     "metadata": {},
     "output_type": "execute_result"
    }
   ],
   "source": [
    "test_data"
   ]
  },
  {
   "cell_type": "markdown",
   "metadata": {},
   "source": [
    "Definišemo funkciju za računanje metrike F1."
   ]
  },
  {
   "cell_type": "code",
   "execution_count": 61,
   "metadata": {},
   "outputs": [],
   "source": [
    "def getF1(R, T):\n",
    "    test_users = test_data['user'].unique()\n",
    "    number_of_test_users = test_data['user'].unique().shape[0]\n",
    "    \n",
    "    A = np.zeros(number_of_test_users)\n",
    "    B = np.zeros(number_of_test_users)\n",
    "    C = np.zeros(number_of_test_users)\n",
    "    i = 0\n",
    "    for test_user in test_users:\n",
    "        A[i] = len(set([t[0] for t in T[test_user]]) & set([r[0] for r in R[test_user]]))\n",
    "        B[i] = len(T[test_user])\n",
    "        C[i] = len(R[test_user])\n",
    "        i = i + 1\n",
    "        \n",
    "    Recall = np.sum(A)/np.sum(B)\n",
    "    Precision = np.sum(A)/np.sum(C)\n",
    "    \n",
    "    return 2 / (1/Precision + 1/Recall)"
   ]
  },
  {
   "cell_type": "markdown",
   "metadata": {},
   "source": [
    "Definišemo funkcije za računanje metrike MAE. Prilikom primene algoritma će se računati metrika NMAE (u funkciji applyAlgorithm), normalizacijom rezultata funkcije getMAE."
   ]
  },
  {
   "cell_type": "code",
   "execution_count": 62,
   "metadata": {},
   "outputs": [],
   "source": [
    "def getRating(X, item):\n",
    "    for x in X:        \n",
    "        if (x[0] == item):\n",
    "            return x[1]\n",
    "    return inf"
   ]
  },
  {
   "cell_type": "code",
   "execution_count": 63,
   "metadata": {},
   "outputs": [],
   "source": [
    "def getMAE(R, T):\n",
    "    S = 0\n",
    "    Num = 0\n",
    "    for test_user in T:\n",
    "        test_items = [x[0] for x in T[test_user]]\n",
    "        \n",
    "        recommended_items = [y[0] for y in R[test_user]]\n",
    "        \n",
    "        A = set(test_items) & set(recommended_items)\n",
    "        Num += len(A)\n",
    "        if (len(A)):\n",
    "            for item in A:\n",
    "                S += abs(getRating(T[test_user], item) - getRating(R[test_user], item))\n",
    "\n",
    "    return S/Num          "
   ]
  },
  {
   "cell_type": "markdown",
   "metadata": {},
   "source": [
    "Definišemo funkcije za računanje diverziteta."
   ]
  },
  {
   "cell_type": "code",
   "execution_count": 64,
   "metadata": {},
   "outputs": [],
   "source": [
    "def findUsersForItem(item):\n",
    "    x = np.array([u != 0 for u in ui_matrix_train[:, item - 1]])\n",
    "    return set(np.where(x == True)[0])"
   ]
  },
  {
   "cell_type": "code",
   "execution_count": 65,
   "metadata": {},
   "outputs": [],
   "source": [
    "def jaccard_similarity(items_of_user):\n",
    "    S = 0\n",
    "    \n",
    "    for i in range(len(items_of_user)):\n",
    "        for j in range(len(items_of_user)):\n",
    "            if (i < j):\n",
    "                users_i = findUsersForItem(items_of_user[i])\n",
    "                users_j = findUsersForItem(items_of_user[j])\n",
    "                \n",
    "                S += len(users_i & users_j)/len(users_i | users_j)\n",
    "                \n",
    "    return S"
   ]
  },
  {
   "cell_type": "code",
   "execution_count": 66,
   "metadata": {},
   "outputs": [],
   "source": [
    "def getDiversity(R):\n",
    "    number_of_test_users = test_data['user'].unique().shape[0]    \n",
    "    result = np.zeros(number_of_test_users)\n",
    "    i = 0\n",
    "\n",
    "    for r in R:\n",
    "        items_of_user = [x[0] for x in R[r]]\n",
    "        result[i] = 1 - (jaccard_similarity(items_of_user))/((1/2) * len(R[r]) * (len(R[r]) - 1))\n",
    "        i = i + 1\n",
    "        \n",
    "    Diversity = np.sum(result) / number_of_test_users\n",
    "        \n",
    "    return Diversity"
   ]
  },
  {
   "cell_type": "markdown",
   "metadata": {},
   "source": [
    "Primenjujemo algoritam za različite vrednosti parametara i pamtimo evaluacije za svaku od tih kombinacija parametara."
   ]
  },
  {
   "cell_type": "code",
   "execution_count": 67,
   "metadata": {},
   "outputs": [],
   "source": [
    "def applyAlgorithm(k):\n",
    "    T = getTestItems()\n",
    "    alphas = [0, 0.1, 0.2, 0.3, 0.4, 0.5, 0.6, 0.7, 0.8, 0.9, 1]\n",
    "\n",
    "    F1s = []\n",
    "    MAEs = []\n",
    "    NMAEs = []\n",
    "    Ds = []\n",
    "\n",
    "    print(k)\n",
    "    for alpha in alphas:\n",
    "        print(alpha)\n",
    "\n",
    "        R = recommendToTestUsers(alpha = alpha, K = k, N = 20)\n",
    "\n",
    "        F1 = getF1(R, T)\n",
    "        F1s.append(F1)\n",
    "\n",
    "        MAE = getMAE(R, T)\n",
    "        MAEs.append(MAE)\n",
    "        NMAEs.append(MAE * (1/(5-1)))\n",
    "\n",
    "        diversity = getDiversity(R)\n",
    "        Ds.append(diversity)\n",
    "\n",
    "    evaluations = list(zip(alphas, F1s, MAEs, NMAEs, Ds))\n",
    "    \n",
    "    return evaluations   "
   ]
  },
  {
   "cell_type": "code",
   "execution_count": 68,
   "metadata": {},
   "outputs": [
    {
     "name": "stdout",
     "output_type": "stream",
     "text": [
      "5\n",
      "0\n",
      "0.1\n",
      "0.2\n",
      "0.3\n",
      "0.4\n",
      "0.5\n",
      "0.6\n",
      "0.7\n",
      "0.8\n",
      "0.9\n",
      "1\n",
      "[(0, 0.012039439543331604, 1.4894835518380125, 0.3723708879595031, 0.7947409654125529), (0.1, 0.01240269849507006, 1.5015744259466148, 0.3753936064866537, 0.7871727010890643), (0.2, 0.013077322262584326, 1.5081536857182491, 0.3770384214295623, 0.7784562049401024), (0.3, 0.015308770108977687, 1.5496934930145128, 0.3874233732536282, 0.7689150232156087), (0.4, 0.02039439543331604, 1.566930621410202, 0.3917326553525505, 0.7570657279276787), (0.5, 0.026881162428645564, 1.4366763792065558, 0.35916909480163894, 0.7492274425293296), (0.6, 0.03243383497664764, 1.2733134368924168, 0.3183283592231042, 0.754971257093043), (0.7, 0.036637259989621175, 1.1154582796216765, 0.27886456990541914, 0.7634302099874959), (0.8, 0.04026984950700571, 1.007946267463534, 0.2519865668658835, 0.7682735657140636), (0.9, 0.041307732226258435, 0.9327414830752138, 0.23318537076880344, 0.7719969731907785), (1, 0.042293720809548525, 0.942950875859647, 0.23573771896491175, 0.7748733510831429)]\n",
      "CPU times: user 53min 52s, sys: 593 ms, total: 53min 53s\n",
      "Wall time: 53min 51s\n"
     ]
    }
   ],
   "source": [
    "%%time\n",
    "evaluations = {}\n",
    "evaluations[5] = applyAlgorithm(5)\n",
    "print(evaluations[5])"
   ]
  },
  {
   "cell_type": "code",
   "execution_count": 69,
   "metadata": {},
   "outputs": [
    {
     "name": "stdout",
     "output_type": "stream",
     "text": [
      "15\n",
      "0\n",
      "0.1\n",
      "0.2\n",
      "0.3\n",
      "0.4\n",
      "0.5\n",
      "0.6\n",
      "0.7\n",
      "0.8\n",
      "0.9\n",
      "1\n",
      "[(0, 0.013803840166061235, 1.8350877729268675, 0.4587719432317169, 0.7645306539534595), (0.1, 0.014063310845874416, 1.867081127818085, 0.46677028195452125, 0.7562588237343), (0.2, 0.014478463933575506, 1.907284146510923, 0.47682103662773073, 0.7468788379920253), (0.3, 0.016813700051894136, 1.989186808240027, 0.49729670206000676, 0.7357877993122975), (0.4, 0.020653866113129218, 1.905836667727944, 0.476459166931986, 0.7240213885866027), (0.5, 0.0269330565646082, 1.7530233939125364, 0.4382558484781341, 0.7138979725973618), (0.6, 0.03341982355993773, 1.5767876212138756, 0.3941969053034689, 0.7175488205660466), (0.7, 0.03819408406850026, 1.3961055890715732, 0.3490263972678933, 0.7266939902461582), (0.8, 0.04156720290607162, 1.243575495524633, 0.31089387388115824, 0.7325878930933987), (0.9, 0.043175921120913334, 1.1202133463158341, 0.28005333657895853, 0.7361042354690778), (1, 0.044161909704203424, 1.0416650713708346, 0.26041626784270866, 0.7390053198205295)]\n",
      "CPU times: user 1h 18min 55s, sys: 464 ms, total: 1h 18min 55s\n",
      "Wall time: 1h 18min 53s\n"
     ]
    }
   ],
   "source": [
    "%%time\n",
    "evaluations[15] = applyAlgorithm(15)\n",
    "print(evaluations[15])"
   ]
  },
  {
   "cell_type": "code",
   "execution_count": 70,
   "metadata": {},
   "outputs": [
    {
     "name": "stdout",
     "output_type": "stream",
     "text": [
      "25\n",
      "0\n",
      "0.1\n",
      "0.2\n",
      "0.3\n",
      "0.4\n",
      "0.5\n",
      "0.6\n",
      "0.7\n",
      "0.8\n",
      "0.9\n",
      "1\n",
      "[(0, 0.013129216398546964, 2.0627186022764206, 0.5156796505691051, 0.754810637550838), (0.1, 0.013907628437986506, 2.063555355982617, 0.5158888389956543, 0.7467657795205951), (0.2, 0.014634146341463412, 2.1035692376607904, 0.5258923094151976, 0.7377534425963957), (0.3, 0.016709911779968865, 2.1214050995201275, 0.5303512748800319, 0.7261808804021469), (0.4, 0.022210690192008303, 2.0524790010286242, 0.5131197502571561, 0.7133100298325719), (0.5, 0.027140633108458743, 1.8569050804527563, 0.46422627011318907, 0.7045463384349563), (0.6, 0.03227815256875973, 1.6621384807476551, 0.4155346201869138, 0.7054558010209757), (0.7, 0.03668915412558381, 1.4684239704783677, 0.3671059926195919, 0.7147103700828413), (0.8, 0.03980280228334198, 1.3263523222832663, 0.33158808057081657, 0.7212262251434476), (0.9, 0.041619097042034245, 1.1718964666997065, 0.2929741166749266, 0.7247880753718535), (1, 0.04270887389724961, 1.0714104158507547, 0.2678526039626887, 0.7270817083911402)]\n",
      "CPU times: user 1h 43min 46s, sys: 848 ms, total: 1h 43min 46s\n",
      "Wall time: 1h 43min 43s\n"
     ]
    }
   ],
   "source": [
    "%%time\n",
    "evaluations[25] = applyAlgorithm(25)\n",
    "print(evaluations[25])"
   ]
  },
  {
   "cell_type": "code",
   "execution_count": 71,
   "metadata": {
    "scrolled": true
   },
   "outputs": [
    {
     "data": {
      "image/png": "[encoded data removed]",
      "text/plain": [
       "<Figure size 720x360 with 1 Axes>"
      ]
     },
     "metadata": {
      "needs_background": "light"
     },
     "output_type": "display_data"
    }
   ],
   "source": [
    "plt.figure(figsize = (10, 5))\n",
    "plt.title('Evaluacija rada algoritma kroz F1 meru, N = 20')\n",
    "plt.plot([element[0] for element in evaluations[5]], [element[1] for element in evaluations[5]], label = 'K = 5')\n",
    "plt.scatter([element[0] for element in evaluations[5]], [element[1] for element in evaluations[5]])\n",
    "plt.plot([element[0] for element in evaluations[15]], [element[1] for element in evaluations[15]], label = 'K = 15')\n",
    "plt.scatter([element[0] for element in evaluations[15]], [element[1] for element in evaluations[15]])\n",
    "plt.plot([element[0] for element in evaluations[25]], [element[1] for element in evaluations[25]], label = 'K = 25')\n",
    "plt.scatter([element[0] for element in evaluations[25]], [element[1] for element in evaluations[25]])\n",
    "plt.legend(loc = 'best')\n",
    "plt.xlabel('alpha')\n",
    "plt.ylabel('F1')\n",
    "plt.show()"
   ]
  },
  {
   "cell_type": "code",
   "execution_count": 72,
   "metadata": {},
   "outputs": [
    {
     "data": {
      "image/png": "[encoded data removed]",
      "text/plain": [
       "<Figure size 720x360 with 1 Axes>"
      ]
     },
     "metadata": {
      "needs_background": "light"
     },
     "output_type": "display_data"
    }
   ],
   "source": [
    "plt.figure(figsize = (10, 5))\n",
    "plt.title('Evaluacija rada algoritma kroz MAE meru, N = 20')\n",
    "plt.plot([element[0] for element in evaluations[5]], [element[2] for element in evaluations[5]], label = 'K = 5')\n",
    "plt.scatter([element[0] for element in evaluations[5]], [element[2] for element in evaluations[5]])\n",
    "plt.plot([element[0] for element in evaluations[15]], [element[2] for element in evaluations[15]], label = 'K = 15')\n",
    "plt.scatter([element[0] for element in evaluations[15]], [element[2] for element in evaluations[15]])\n",
    "plt.plot([element[0] for element in evaluations[25]], [element[2] for element in evaluations[25]], label = 'K = 25')\n",
    "plt.scatter([element[0] for element in evaluations[25]], [element[2] for element in evaluations[25]])\n",
    "plt.legend(loc = 'best')\n",
    "plt.xlabel('alpha')\n",
    "plt.ylabel('MAE')\n",
    "plt.show()"
   ]
  },
  {
   "cell_type": "code",
   "execution_count": 73,
   "metadata": {},
   "outputs": [
    {
     "data": {
      "image/png": "[encoded data removed]",
      "text/plain": [
       "<Figure size 720x360 with 1 Axes>"
      ]
     },
     "metadata": {
      "needs_background": "light"
     },
     "output_type": "display_data"
    }
   ],
   "source": [
    "plt.figure(figsize = (10, 5))\n",
    "plt.title('Evaluacija rada algoritma kroz NMAE meru, N = 20')\n",
    "plt.plot([element[0] for element in evaluations[5]], [element[3] for element in evaluations[5]], label = 'K = 5')\n",
    "plt.scatter([element[0] for element in evaluations[5]], [element[3] for element in evaluations[5]])\n",
    "plt.plot([element[0] for element in evaluations[15]], [element[3] for element in evaluations[15]], label = 'K = 15')\n",
    "plt.scatter([element[0] for element in evaluations[15]], [element[3] for element in evaluations[15]])\n",
    "plt.plot([element[0] for element in evaluations[25]], [element[3] for element in evaluations[25]], label = 'K = 25')\n",
    "plt.scatter([element[0] for element in evaluations[25]], [element[3] for element in evaluations[25]])\n",
    "plt.legend(loc = 'best')\n",
    "plt.xlabel('alpha')\n",
    "plt.ylabel('NMAE')\n",
    "plt.show()"
   ]
  },
  {
   "cell_type": "code",
   "execution_count": 74,
   "metadata": {},
   "outputs": [
    {
     "data": {
      "image/png": "[encoded data removed]",
      "text/plain": [
       "<Figure size 720x360 with 1 Axes>"
      ]
     },
     "metadata": {
      "needs_background": "light"
     },
     "output_type": "display_data"
    }
   ],
   "source": [
    "plt.figure(figsize = (10, 5))\n",
    "plt.title('Evaluacija rada algoritma kroz Diversity meru, N = 20')\n",
    "plt.plot([element[0] for element in evaluations[5]], [element[4] for element in evaluations[5]], label = 'K = 5')\n",
    "plt.scatter([element[0] for element in evaluations[5]], [element[4] for element in evaluations[5]])\n",
    "plt.plot([element[0] for element in evaluations[15]], [element[4] for element in evaluations[15]], label = 'K = 15')\n",
    "plt.scatter([element[0] for element in evaluations[15]], [element[4] for element in evaluations[15]])\n",
    "plt.plot([element[0] for element in evaluations[25]], [element[4] for element in evaluations[25]], label = 'K = 25')\n",
    "plt.scatter([element[0] for element in evaluations[25]], [element[4] for element in evaluations[25]])\n",
    "plt.legend(loc = 'best')\n",
    "plt.xlabel('alpha')\n",
    "plt.ylabel('Diversity')\n",
    "plt.show()"
   ]
  },
  {
   "cell_type": "markdown",
   "metadata": {},
   "source": [
    "Nakon izvršavanja algoritma nad ovim test i trening podacima, primećujemo da smo dobili veoma slične rezultate kao i za prvu i drugu podelu, samo u drugim opsezima."
   ]
  }
 ],
 "metadata": {
  "kernelspec": {
   "display_name": "Python 3",
   "language": "python",
   "name": "python3"
  },
  "language_info": {
   "codemirror_mode": {
    "name": "ipython",
    "version": 3
   },
   "file_extension": ".py",
   "mimetype": "text/x-python",
   "name": "python",
   "nbconvert_exporter": "python",
   "pygments_lexer": "ipython3",
   "version": "3.8.5"
  }
 },
 "nbformat": 4,
 "nbformat_minor": 4
}
